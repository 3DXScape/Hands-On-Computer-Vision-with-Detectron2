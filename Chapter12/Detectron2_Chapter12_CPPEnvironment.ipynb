{
  "nbformat": 4,
  "nbformat_minor": 0,
  "metadata": {
    "colab": {
      "provenance": [],
      "authorship_tag": "ABX9TyORj3iAEbjyIPQImu0caRhn",
      "include_colab_link": true
    },
    "kernelspec": {
      "name": "python3",
      "display_name": "Python 3"
    },
    "language_info": {
      "name": "python"
    },
    "gpuClass": "standard"
  },
  "cells": [
    {
      "cell_type": "markdown",
      "metadata": {
        "id": "view-in-github",
        "colab_type": "text"
      },
      "source": [
        "<a href=\"https://colab.research.google.com/github/PacktPublishing/Hands-On-Computer-Vision-with-Detectron2/blob/main/Chapter12/Detectron2_Chapter12_CPPEnvironment.ipynb\" target=\"_blank\"><img src=\"https://colab.research.google.com/assets/colab-badge.svg\" alt=\"Open In Colab\"/></a>"
      ]
    },
    {
      "cell_type": "markdown",
      "source": [
        "# Chapter 12 - Deploying into C++ environemnt"
      ],
      "metadata": {
        "id": "74Ku7Ax7VeXg"
      }
    },
    {
      "cell_type": "markdown",
      "source": [
        "## Installing LibTorch"
      ],
      "metadata": {
        "id": "C0768JheXQc4"
      }
    },
    {
      "cell_type": "code",
      "execution_count": null,
      "metadata": {
        "id": "3v0khdziVZ7F"
      },
      "outputs": [],
      "source": [
        "!wget --quiet https://download.pytorch.org/libtorch/nightly/cpu/libtorch-shared-with-deps-latest.zip\n",
        "!unzip -qq libtorch-shared-with-deps-latest.zip"
      ]
    },
    {
      "cell_type": "markdown",
      "source": [
        "## Make a folder for the application"
      ],
      "metadata": {
        "id": "Ciz1FYD5Z7Os"
      }
    },
    {
      "cell_type": "code",
      "source": [
        "import os\n",
        "os.makedirs('cppapp', exist_ok=True)"
      ],
      "metadata": {
        "id": "lrrTE58nWh8s"
      },
      "execution_count": null,
      "outputs": []
    },
    {
      "cell_type": "markdown",
      "source": [
        "## Write a CMake.txt file"
      ],
      "metadata": {
        "id": "H-vg2ZG3aFCr"
      }
    },
    {
      "cell_type": "code",
      "source": [
        "%%writefile cppapp/CMakeLists.txt\n",
        "cmake_minimum_required(VERSION 3.0 FATAL_ERROR)\n",
        "project(cppapp)\n",
        "\n",
        "find_package(Torch REQUIRED)\n",
        "set(CMAKE_CXX_FLAGS \"${CMAKE_CXX_FLAGS} ${TORCH_CXX_FLAGS}\")\n",
        "\n",
        "add_executable(cppapp cppapp.cpp)\n",
        "target_link_libraries(cppapp \"${TORCH_LIBRARIES}\")\n",
        "set_property(TARGET cppapp PROPERTY CXX_STANDARD 14)\n",
        "\n",
        "# On Windows, add the following too\n",
        "if (MSVC)\n",
        "  file(GLOB TORCH_DLLS \"${TORCH_INSTALL_PREFIX}/lib/*.dll\")\n",
        "  add_custom_command(TARGET cppapp\n",
        "                     POST_BUILD\n",
        "                     COMMAND ${CMAKE_COMMAND} -E copy_if_different\n",
        "                     ${TORCH_DLLS}\n",
        "                     $<TARGET_FILE_DIR:cppapp>)\n",
        "endif (MSVC)"
      ],
      "metadata": {
        "colab": {
          "base_uri": "https://localhost:8080/"
        },
        "id": "aZ5MXMLvZ_CX",
        "outputId": "ee81e08b-0f61-4fba-c2ec-866aef60bc2a"
      },
      "execution_count": null,
      "outputs": [
        {
          "output_type": "stream",
          "name": "stdout",
          "text": [
            "Writing cppapp/CMakeLists.txt\n"
          ]
        }
      ]
    },
    {
      "cell_type": "code",
      "source": [
        "%%writefile cppapp/cppapp.cpp\n",
        "#include <torch/script.h>\n",
        "#include <iostream>\n",
        "#include <memory>\n",
        "\n",
        "int main(int argc, const char* argv[]) {\n",
        "  torch::jit::script::Module module = torch::jit::load(argv[1]);\n",
        "  std::cout << \"Loaded the module\\n\";\n",
        "  // Create a vector of inputs.\n",
        "  float data[] = {1, 2, 3, 4};\n",
        "  torch::Tensor tensor = torch::from_blob(data, {4});\n",
        "  std::vector<torch::jit::IValue> inputs;\n",
        "  inputs.push_back(tensor);\n",
        "  at::Tensor output = module.forward(inputs).toTensor();\n",
        "  std::cout << \"pred result\" << output << '\\n';\n",
        "}"
      ],
      "metadata": {
        "colab": {
          "base_uri": "https://localhost:8080/"
        },
        "id": "pAiGK_ayaoQv",
        "outputId": "57c94065-6828-460e-90f3-ae57b18374c8"
      },
      "execution_count": null,
      "outputs": [
        {
          "output_type": "stream",
          "name": "stdout",
          "text": [
            "Overwriting cppapp/cppapp.cpp\n"
          ]
        }
      ]
    },
    {
      "cell_type": "code",
      "source": [
        "os.makedirs('cppapp/build', exist_ok=True)"
      ],
      "metadata": {
        "id": "pSV0I4H3btT3"
      },
      "execution_count": null,
      "outputs": []
    },
    {
      "cell_type": "code",
      "source": [
        "cd cppapp/build"
      ],
      "metadata": {
        "colab": {
          "base_uri": "https://localhost:8080/"
        },
        "id": "UgdBeQ3zb7IC",
        "outputId": "271bffba-5e7e-472e-df34-b0b7f45ab6eb"
      },
      "execution_count": null,
      "outputs": [
        {
          "output_type": "stream",
          "name": "stdout",
          "text": [
            "/content/cppapp/build\n"
          ]
        }
      ]
    },
    {
      "cell_type": "code",
      "source": [
        "!cmake -DCMAKE_PREFIX_PATH=/content/libtorch ..\n",
        "!cmake --build . --config Release"
      ],
      "metadata": {
        "colab": {
          "base_uri": "https://localhost:8080/"
        },
        "id": "wtTQ-C3ncEVg",
        "outputId": "78987b6c-0827-48d1-e2ea-0b636db4f902"
      },
      "execution_count": null,
      "outputs": [
        {
          "output_type": "stream",
          "name": "stdout",
          "text": [
            "-- Configuring done\n",
            "-- Generating done\n",
            "-- Build files have been written to: /content/cppapp/build\n",
            "\u001b[35m\u001b[1mConsolidate compiler generated dependencies of target cppapp\u001b[0m\n",
            "[ 50%] \u001b[32mBuilding CXX object CMakeFiles/cppapp.dir/cppapp.cpp.o\u001b[0m\n",
            "[100%] \u001b[32m\u001b[1mLinking CXX executable cppapp\u001b[0m\n",
            "[100%] Built target cppapp\n"
          ]
        }
      ]
    },
    {
      "cell_type": "markdown",
      "source": [
        "## Test the application"
      ],
      "metadata": {
        "id": "vGeACsn-joPP"
      }
    },
    {
      "cell_type": "code",
      "source": [
        "## Load a model\n",
        "!wget https://github.com/PacktPublishing/Hands-On-Computer-Vision-with-Detectron2/raw/main/Chapter12/scripted_model.pt"
      ],
      "metadata": {
        "id": "UvK3XF_FcdJq",
        "colab": {
          "base_uri": "https://localhost:8080/"
        },
        "outputId": "c69911c0-c4f2-4456-aa63-f19bcb24a88c"
      },
      "execution_count": null,
      "outputs": [
        {
          "output_type": "stream",
          "name": "stdout",
          "text": [
            "--2023-02-12 23:05:51--  https://github.com/PacktPublishing/Hands-On-Computer-Vision-with-Detectron2/raw/main/Chapter12/scripted_model.pt\n",
            "Resolving github.com (github.com)... 140.82.112.4\n",
            "Connecting to github.com (github.com)|140.82.112.4|:443... connected.\n",
            "HTTP request sent, awaiting response... 302 Found\n",
            "Location: https://raw.githubusercontent.com/PacktPublishing/Hands-On-Computer-Vision-with-Detectron2/main/Chapter12/scripted_model.pt [following]\n",
            "--2023-02-12 23:05:52--  https://raw.githubusercontent.com/PacktPublishing/Hands-On-Computer-Vision-with-Detectron2/main/Chapter12/scripted_model.pt\n",
            "Resolving raw.githubusercontent.com (raw.githubusercontent.com)... 185.199.108.133, 185.199.109.133, 185.199.110.133, ...\n",
            "Connecting to raw.githubusercontent.com (raw.githubusercontent.com)|185.199.108.133|:443... connected.\n",
            "HTTP request sent, awaiting response... 200 OK\n",
            "Length: 3537 (3.5K) [application/octet-stream]\n",
            "Saving to: ‘scripted_model.pt.1’\n",
            "\n",
            "scripted_model.pt.1 100%[===================>]   3.45K  --.-KB/s    in 0s      \n",
            "\n",
            "2023-02-12 23:05:52 (64.3 MB/s) - ‘scripted_model.pt.1’ saved [3537/3537]\n",
            "\n"
          ]
        }
      ]
    },
    {
      "cell_type": "code",
      "source": [
        "## run it\n",
        "!./cppapp \"scripted_model.pt\""
      ],
      "metadata": {
        "colab": {
          "base_uri": "https://localhost:8080/"
        },
        "id": "sHkgcrVsj1lT",
        "outputId": "0a626cbf-9ecc-4039-b6bb-02e73a8b3c64"
      },
      "execution_count": null,
      "outputs": [
        {
          "output_type": "stream",
          "name": "stdout",
          "text": [
            "Loaded the module\n",
            "pred result 0.1100\n",
            "[ CPUFloatType{1} ]\n"
          ]
        }
      ]
    },
    {
      "cell_type": "code",
      "source": [],
      "metadata": {
        "id": "D_BHZQaxggcR"
      },
      "execution_count": null,
      "outputs": []
    }
  ]
}