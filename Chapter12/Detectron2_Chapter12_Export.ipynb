{
  "nbformat": 4,
  "nbformat_minor": 0,
  "metadata": {
    "colab": {
      "provenance": [],
      "authorship_tag": "ABX9TyORj3iAEbjyIPQImu0caRhn",
      "include_colab_link": true
    },
    "kernelspec": {
      "name": "python3",
      "display_name": "Python 3"
    },
    "language_info": {
      "name": "python"
    },
    "accelerator": "GPU",
    "gpuClass": "standard"
  },
  "cells": [
    {
      "cell_type": "markdown",
      "metadata": {
        "id": "view-in-github",
        "colab_type": "text"
      },
      "source": [
        "<a href=\"https://colab.research.google.com/github/PacktPublishing/Hands-On-Computer-Vision-with-Detectron2/blob/main/Chapter12/Detectron2_Chapter12_Export.ipynb\" target=\"_blank\"><img src=\"https://colab.research.google.com/assets/colab-badge.svg\" alt=\"Open In Colab\"/></a>"
      ]
    },
    {
      "cell_type": "markdown",
      "source": [
        "# Installation"
      ],
      "metadata": {
        "id": "SaA2X5ec8n8A"
      }
    },
    {
      "cell_type": "code",
      "source": [
        "import torch\n",
        "print(torch.__version__)"
      ],
      "metadata": {
        "colab": {
          "base_uri": "https://localhost:8080/"
        },
        "id": "WOH4CMlj9P_P",
        "outputId": "03a29636-c274-41f7-f726-68110cbad4f9"
      },
      "execution_count": null,
      "outputs": [
        {
          "output_type": "stream",
          "name": "stdout",
          "text": [
            "1.13.1+cu116\n"
          ]
        }
      ]
    },
    {
      "cell_type": "code",
      "execution_count": null,
      "metadata": {
        "id": "WgBtpegxhW4c",
        "colab": {
          "base_uri": "https://localhost:8080/"
        },
        "outputId": "3714f7e0-ebbc-44a2-cc37-19403e08c14b"
      },
      "outputs": [
        {
          "output_type": "stream",
          "name": "stdout",
          "text": [
            "Looking in indexes: https://pypi.org/simple, https://us-python.pkg.dev/colab-wheels/public/simple/\n",
            "Collecting git+https://github.com/facebookresearch/detectron2.git\n",
            "  Cloning https://github.com/facebookresearch/detectron2.git to /tmp/pip-req-build-zml6kvfz\n",
            "  Running command git clone --filter=blob:none --quiet https://github.com/facebookresearch/detectron2.git /tmp/pip-req-build-zml6kvfz\n",
            "  Resolved https://github.com/facebookresearch/detectron2.git to commit 1523b3e9929a06d798871eb9afc4c9f770743baf\n",
            "  Preparing metadata (setup.py) ... \u001b[?25l\u001b[?25hdone\n",
            "Requirement already satisfied: Pillow>=7.1 in /usr/local/lib/python3.8/dist-packages (from detectron2==0.6) (7.1.2)\n",
            "Requirement already satisfied: matplotlib in /usr/local/lib/python3.8/dist-packages (from detectron2==0.6) (3.2.2)\n",
            "Requirement already satisfied: pycocotools>=2.0.2 in /usr/local/lib/python3.8/dist-packages (from detectron2==0.6) (2.0.6)\n",
            "Requirement already satisfied: termcolor>=1.1 in /usr/local/lib/python3.8/dist-packages (from detectron2==0.6) (2.2.0)\n",
            "Collecting yacs>=0.1.8\n",
            "  Downloading yacs-0.1.8-py3-none-any.whl (14 kB)\n",
            "Requirement already satisfied: tabulate in /usr/local/lib/python3.8/dist-packages (from detectron2==0.6) (0.8.10)\n",
            "Requirement already satisfied: cloudpickle in /usr/local/lib/python3.8/dist-packages (from detectron2==0.6) (2.2.1)\n",
            "Requirement already satisfied: tqdm>4.29.0 in /usr/local/lib/python3.8/dist-packages (from detectron2==0.6) (4.64.1)\n",
            "Requirement already satisfied: tensorboard in /usr/local/lib/python3.8/dist-packages (from detectron2==0.6) (2.11.2)\n",
            "Collecting fvcore<0.1.6,>=0.1.5\n",
            "  Downloading fvcore-0.1.5.post20221221.tar.gz (50 kB)\n",
            "\u001b[2K     \u001b[90m━━━━━━━━━━━━━━━━━━━━━━━━━━━━━━━━━━━━━━━━\u001b[0m \u001b[32m50.2/50.2 KB\u001b[0m \u001b[31m2.7 MB/s\u001b[0m eta \u001b[36m0:00:00\u001b[0m\n",
            "\u001b[?25h  Preparing metadata (setup.py) ... \u001b[?25l\u001b[?25hdone\n",
            "Collecting iopath<0.1.10,>=0.1.7\n",
            "  Downloading iopath-0.1.9-py3-none-any.whl (27 kB)\n",
            "Collecting omegaconf>=2.1\n",
            "  Downloading omegaconf-2.3.0-py3-none-any.whl (79 kB)\n",
            "\u001b[2K     \u001b[90m━━━━━━━━━━━━━━━━━━━━━━━━━━━━━━━━━━━━━━━━\u001b[0m \u001b[32m79.5/79.5 KB\u001b[0m \u001b[31m7.9 MB/s\u001b[0m eta \u001b[36m0:00:00\u001b[0m\n",
            "\u001b[?25hCollecting hydra-core>=1.1\n",
            "  Downloading hydra_core-1.3.1-py3-none-any.whl (154 kB)\n",
            "\u001b[2K     \u001b[90m━━━━━━━━━━━━━━━━━━━━━━━━━━━━━━━━━━━━━━\u001b[0m \u001b[32m154.1/154.1 KB\u001b[0m \u001b[31m12.4 MB/s\u001b[0m eta \u001b[36m0:00:00\u001b[0m\n",
            "\u001b[?25hCollecting black\n",
            "  Downloading black-23.1.0-cp38-cp38-manylinux_2_17_x86_64.manylinux2014_x86_64.whl (1.6 MB)\n",
            "\u001b[2K     \u001b[90m━━━━━━━━━━━━━━━━━━━━━━━━━━━━━━━━━━━━━━━━\u001b[0m \u001b[32m1.6/1.6 MB\u001b[0m \u001b[31m53.9 MB/s\u001b[0m eta \u001b[36m0:00:00\u001b[0m\n",
            "\u001b[?25hRequirement already satisfied: packaging in /usr/local/lib/python3.8/dist-packages (from detectron2==0.6) (23.0)\n",
            "Requirement already satisfied: numpy in /usr/local/lib/python3.8/dist-packages (from fvcore<0.1.6,>=0.1.5->detectron2==0.6) (1.21.6)\n",
            "Requirement already satisfied: pyyaml>=5.1 in /usr/local/lib/python3.8/dist-packages (from fvcore<0.1.6,>=0.1.5->detectron2==0.6) (6.0)\n",
            "Requirement already satisfied: importlib-resources in /usr/local/lib/python3.8/dist-packages (from hydra-core>=1.1->detectron2==0.6) (5.10.2)\n",
            "Collecting antlr4-python3-runtime==4.9.*\n",
            "  Downloading antlr4-python3-runtime-4.9.3.tar.gz (117 kB)\n",
            "\u001b[2K     \u001b[90m━━━━━━━━━━━━━━━━━━━━━━━━━━━━━━━━━━━━━━━\u001b[0m \u001b[32m117.0/117.0 KB\u001b[0m \u001b[31m6.4 MB/s\u001b[0m eta \u001b[36m0:00:00\u001b[0m\n",
            "\u001b[?25h  Preparing metadata (setup.py) ... \u001b[?25l\u001b[?25hdone\n",
            "Collecting portalocker\n",
            "  Downloading portalocker-2.7.0-py2.py3-none-any.whl (15 kB)\n",
            "Requirement already satisfied: python-dateutil>=2.1 in /usr/local/lib/python3.8/dist-packages (from matplotlib->detectron2==0.6) (2.8.2)\n",
            "Requirement already satisfied: cycler>=0.10 in /usr/local/lib/python3.8/dist-packages (from matplotlib->detectron2==0.6) (0.11.0)\n",
            "Requirement already satisfied: kiwisolver>=1.0.1 in /usr/local/lib/python3.8/dist-packages (from matplotlib->detectron2==0.6) (1.4.4)\n",
            "Requirement already satisfied: pyparsing!=2.0.4,!=2.1.2,!=2.1.6,>=2.0.1 in /usr/local/lib/python3.8/dist-packages (from matplotlib->detectron2==0.6) (3.0.9)\n",
            "Requirement already satisfied: platformdirs>=2 in /usr/local/lib/python3.8/dist-packages (from black->detectron2==0.6) (3.0.0)\n",
            "Collecting click>=8.0.0\n",
            "  Downloading click-8.1.3-py3-none-any.whl (96 kB)\n",
            "\u001b[2K     \u001b[90m━━━━━━━━━━━━━━━━━━━━━━━━━━━━━━━━━━━━━━━━\u001b[0m \u001b[32m96.6/96.6 KB\u001b[0m \u001b[31m7.7 MB/s\u001b[0m eta \u001b[36m0:00:00\u001b[0m\n",
            "\u001b[?25hCollecting pathspec>=0.9.0\n",
            "  Downloading pathspec-0.11.0-py3-none-any.whl (29 kB)\n",
            "Requirement already satisfied: tomli>=1.1.0 in /usr/local/lib/python3.8/dist-packages (from black->detectron2==0.6) (2.0.1)\n",
            "Requirement already satisfied: typing-extensions>=3.10.0.0 in /usr/local/lib/python3.8/dist-packages (from black->detectron2==0.6) (4.4.0)\n",
            "Collecting mypy-extensions>=0.4.3\n",
            "  Downloading mypy_extensions-1.0.0-py3-none-any.whl (4.7 kB)\n",
            "Requirement already satisfied: markdown>=2.6.8 in /usr/local/lib/python3.8/dist-packages (from tensorboard->detectron2==0.6) (3.4.1)\n",
            "Requirement already satisfied: tensorboard-plugin-wit>=1.6.0 in /usr/local/lib/python3.8/dist-packages (from tensorboard->detectron2==0.6) (1.8.1)\n",
            "Requirement already satisfied: wheel>=0.26 in /usr/local/lib/python3.8/dist-packages (from tensorboard->detectron2==0.6) (0.38.4)\n",
            "Requirement already satisfied: werkzeug>=1.0.1 in /usr/local/lib/python3.8/dist-packages (from tensorboard->detectron2==0.6) (1.0.1)\n",
            "Requirement already satisfied: protobuf<4,>=3.9.2 in /usr/local/lib/python3.8/dist-packages (from tensorboard->detectron2==0.6) (3.19.6)\n",
            "Requirement already satisfied: requests<3,>=2.21.0 in /usr/local/lib/python3.8/dist-packages (from tensorboard->detectron2==0.6) (2.25.1)\n",
            "Requirement already satisfied: setuptools>=41.0.0 in /usr/local/lib/python3.8/dist-packages (from tensorboard->detectron2==0.6) (57.4.0)\n",
            "Requirement already satisfied: absl-py>=0.4 in /usr/local/lib/python3.8/dist-packages (from tensorboard->detectron2==0.6) (1.4.0)\n",
            "Requirement already satisfied: tensorboard-data-server<0.7.0,>=0.6.0 in /usr/local/lib/python3.8/dist-packages (from tensorboard->detectron2==0.6) (0.6.1)\n",
            "Requirement already satisfied: google-auth<3,>=1.6.3 in /usr/local/lib/python3.8/dist-packages (from tensorboard->detectron2==0.6) (2.16.0)\n",
            "Requirement already satisfied: grpcio>=1.24.3 in /usr/local/lib/python3.8/dist-packages (from tensorboard->detectron2==0.6) (1.51.1)\n",
            "Requirement already satisfied: google-auth-oauthlib<0.5,>=0.4.1 in /usr/local/lib/python3.8/dist-packages (from tensorboard->detectron2==0.6) (0.4.6)\n",
            "Requirement already satisfied: six>=1.9.0 in /usr/local/lib/python3.8/dist-packages (from google-auth<3,>=1.6.3->tensorboard->detectron2==0.6) (1.15.0)\n",
            "Requirement already satisfied: cachetools<6.0,>=2.0.0 in /usr/local/lib/python3.8/dist-packages (from google-auth<3,>=1.6.3->tensorboard->detectron2==0.6) (5.3.0)\n",
            "Requirement already satisfied: pyasn1-modules>=0.2.1 in /usr/local/lib/python3.8/dist-packages (from google-auth<3,>=1.6.3->tensorboard->detectron2==0.6) (0.2.8)\n",
            "Requirement already satisfied: rsa<5,>=3.1.4 in /usr/local/lib/python3.8/dist-packages (from google-auth<3,>=1.6.3->tensorboard->detectron2==0.6) (4.9)\n",
            "Requirement already satisfied: requests-oauthlib>=0.7.0 in /usr/local/lib/python3.8/dist-packages (from google-auth-oauthlib<0.5,>=0.4.1->tensorboard->detectron2==0.6) (1.3.1)\n",
            "Requirement already satisfied: importlib-metadata>=4.4 in /usr/local/lib/python3.8/dist-packages (from markdown>=2.6.8->tensorboard->detectron2==0.6) (6.0.0)\n",
            "Requirement already satisfied: idna<3,>=2.5 in /usr/local/lib/python3.8/dist-packages (from requests<3,>=2.21.0->tensorboard->detectron2==0.6) (2.10)\n",
            "Requirement already satisfied: urllib3<1.27,>=1.21.1 in /usr/local/lib/python3.8/dist-packages (from requests<3,>=2.21.0->tensorboard->detectron2==0.6) (1.24.3)\n",
            "Requirement already satisfied: chardet<5,>=3.0.2 in /usr/local/lib/python3.8/dist-packages (from requests<3,>=2.21.0->tensorboard->detectron2==0.6) (4.0.0)\n",
            "Requirement already satisfied: certifi>=2017.4.17 in /usr/local/lib/python3.8/dist-packages (from requests<3,>=2.21.0->tensorboard->detectron2==0.6) (2022.12.7)\n",
            "Requirement already satisfied: zipp>=3.1.0 in /usr/local/lib/python3.8/dist-packages (from importlib-resources->hydra-core>=1.1->detectron2==0.6) (3.12.1)\n",
            "Requirement already satisfied: pyasn1<0.5.0,>=0.4.6 in /usr/local/lib/python3.8/dist-packages (from pyasn1-modules>=0.2.1->google-auth<3,>=1.6.3->tensorboard->detectron2==0.6) (0.4.8)\n",
            "Requirement already satisfied: oauthlib>=3.0.0 in /usr/local/lib/python3.8/dist-packages (from requests-oauthlib>=0.7.0->google-auth-oauthlib<0.5,>=0.4.1->tensorboard->detectron2==0.6) (3.2.2)\n",
            "Building wheels for collected packages: detectron2, fvcore, antlr4-python3-runtime\n",
            "  Building wheel for detectron2 (setup.py) ... \u001b[?25l\u001b[?25hdone\n",
            "  Created wheel for detectron2: filename=detectron2-0.6-cp38-cp38-linux_x86_64.whl size=6407119 sha256=27f4269f87df3087c97555fd6b6ed9b31cee05ab8a89018f381aa7109993daee\n",
            "  Stored in directory: /tmp/pip-ephem-wheel-cache-594xtl2j/wheels/19/ac/65/e48e5e4ec2702274d927c5a6efb75709b24014371d3bb778f2\n",
            "  Building wheel for fvcore (setup.py) ... \u001b[?25l\u001b[?25hdone\n",
            "  Created wheel for fvcore: filename=fvcore-0.1.5.post20221221-py3-none-any.whl size=61431 sha256=d7c8c03671302b50b54963d179d161c584633a20b1ed7125cfedaadb3b1eb868\n",
            "  Stored in directory: /root/.cache/pip/wheels/b8/79/07/c0e9367f5b5ea325e246bd73651e8af175fabbef943043b1cc\n",
            "  Building wheel for antlr4-python3-runtime (setup.py) ... \u001b[?25l\u001b[?25hdone\n",
            "  Created wheel for antlr4-python3-runtime: filename=antlr4_python3_runtime-4.9.3-py3-none-any.whl size=144575 sha256=7fcba75c1c9fc07b71b3e9bbb72a267b8f5341cbcbe4c1a41eb73d8ff907c7b3\n",
            "  Stored in directory: /root/.cache/pip/wheels/b1/a3/c2/6df046c09459b73cc9bb6c4401b0be6c47048baf9a1617c485\n",
            "Successfully built detectron2 fvcore antlr4-python3-runtime\n",
            "Installing collected packages: antlr4-python3-runtime, yacs, portalocker, pathspec, omegaconf, mypy-extensions, click, iopath, hydra-core, black, fvcore, detectron2\n",
            "  Attempting uninstall: click\n",
            "    Found existing installation: click 7.1.2\n",
            "    Uninstalling click-7.1.2:\n",
            "      Successfully uninstalled click-7.1.2\n",
            "\u001b[31mERROR: pip's dependency resolver does not currently take into account all the packages that are installed. This behaviour is the source of the following dependency conflicts.\n",
            "flask 1.1.4 requires click<8.0,>=5.1, but you have click 8.1.3 which is incompatible.\u001b[0m\u001b[31m\n",
            "\u001b[0mSuccessfully installed antlr4-python3-runtime-4.9.3 black-23.1.0 click-8.1.3 detectron2-0.6 fvcore-0.1.5.post20221221 hydra-core-1.3.1 iopath-0.1.9 mypy-extensions-1.0.0 omegaconf-2.3.0 pathspec-0.11.0 portalocker-2.7.0 yacs-0.1.8\n"
          ]
        }
      ],
      "source": [
        "!python -m pip install \\\n",
        "'git+https://github.com/facebookresearch/detectron2.git'"
      ]
    },
    {
      "cell_type": "markdown",
      "source": [
        "## Dataset"
      ],
      "metadata": {
        "id": "d31gTV2y0Ij7"
      }
    },
    {
      "cell_type": "code",
      "source": [
        "!wget -q https://github.com/PacktPublishing/Hands-On-Computer-Vision-with-Detectron2/raw/main/datasets/braintumors_coco.zip\n",
        "!unzip -q braintumors_coco.zip"
      ],
      "metadata": {
        "id": "WgeTvjwg0KiK"
      },
      "execution_count": null,
      "outputs": []
    },
    {
      "cell_type": "markdown",
      "source": [
        "# Get a predictor"
      ],
      "metadata": {
        "id": "1uuzLKdc-PTk"
      }
    },
    {
      "cell_type": "code",
      "source": [
        "!wget https://github.com/PacktPublishing/Hands-On-Computer-Vision-with-Detectron2/raw/main/Chapter08/object_detector_hook.zip\n",
        "!unzip object_detector_hook.zip"
      ],
      "metadata": {
        "id": "o5COPf_G_8VV",
        "colab": {
          "base_uri": "https://localhost:8080/"
        },
        "outputId": "0ab004c6-dd47-483a-c514-27ebf87aae66"
      },
      "execution_count": null,
      "outputs": [
        {
          "output_type": "stream",
          "name": "stdout",
          "text": [
            "--2023-02-13 17:23:46--  https://github.com/PacktPublishing/Hands-On-Computer-Vision-with-Detectron2/raw/main/Chapter08/object_detector_hook.zip\n",
            "Resolving github.com (github.com)... 192.30.255.112\n",
            "Connecting to github.com (github.com)|192.30.255.112|:443... connected.\n",
            "HTTP request sent, awaiting response... 302 Found\n",
            "Location: https://media.githubusercontent.com/media/PacktPublishing/Hands-On-Computer-Vision-with-Detectron2/main/Chapter08/object_detector_hook.zip [following]\n",
            "--2023-02-13 17:23:46--  https://media.githubusercontent.com/media/PacktPublishing/Hands-On-Computer-Vision-with-Detectron2/main/Chapter08/object_detector_hook.zip\n",
            "Resolving media.githubusercontent.com (media.githubusercontent.com)... 185.199.111.133, 185.199.109.133, 185.199.108.133, ...\n",
            "Connecting to media.githubusercontent.com (media.githubusercontent.com)|185.199.111.133|:443... connected.\n",
            "HTTP request sent, awaiting response... 200 OK\n",
            "Length: 307074938 (293M) [application/zip]\n",
            "Saving to: ‘object_detector_hook.zip’\n",
            "\n",
            "object_detector_hoo 100%[===================>] 292.85M   265MB/s    in 1.1s    \n",
            "\n",
            "2023-02-13 17:23:54 (265 MB/s) - ‘object_detector_hook.zip’ saved [307074938/307074938]\n",
            "\n",
            "Archive:  object_detector_hook.zip\n",
            "   creating: output/object_detector_hook/\n",
            "  inflating: output/object_detector_hook/events.out.tfevents.1672290421.5479d195d169.4549.0  \n",
            " extracting: output/object_detector_hook/last_checkpoint  \n",
            "  inflating: output/object_detector_hook/coco_instances_results.json  \n",
            "  inflating: output/object_detector_hook/cfg.pickle  \n",
            "  inflating: output/object_detector_hook/metrics.json  \n",
            " extracting: output/object_detector_hook/model_best.pth.zip  \n"
          ]
        }
      ]
    },
    {
      "cell_type": "code",
      "source": [
        "output_dir = \"output/object_detector_hook/\""
      ],
      "metadata": {
        "id": "D3RrND2xccPC"
      },
      "execution_count": null,
      "outputs": []
    },
    {
      "cell_type": "code",
      "source": [
        "!unzip {output_dir}model_best.pth.zip"
      ],
      "metadata": {
        "colab": {
          "base_uri": "https://localhost:8080/"
        },
        "id": "jH1yWVnTZWKg",
        "outputId": "4e159b0f-8fa2-45e8-f11d-17337112db54"
      },
      "execution_count": null,
      "outputs": [
        {
          "output_type": "stream",
          "name": "stdout",
          "text": [
            "Archive:  output/object_detector_hook/model_best.pth.zip\n",
            "  inflating: output/object_detector_hook/model_best.pth  \n"
          ]
        }
      ]
    },
    {
      "cell_type": "code",
      "source": [
        "import torch\n",
        "import detectron2\n",
        "import pickle\n",
        "with open(output_dir+\"cfg.pickle\", \"rb\") as f:\n",
        "  cfg = pickle.load(f)\n",
        "cfg.MODEL.WEIGHTS = output_dir+\"model_best.pth\"\n",
        "device = \"cuda\" if torch.cuda.is_available() else \"cpu\"\n",
        "cfg.MODEL.DEVICE = device"
      ],
      "metadata": {
        "id": "uZpeMZM-Z_4J"
      },
      "execution_count": null,
      "outputs": []
    },
    {
      "cell_type": "code",
      "source": [
        "from detectron2.utils.logger import setup_logger\n",
        "logger = setup_logger()\n",
        "from detectron2.engine import DefaultPredictor\n",
        "predictor = DefaultPredictor(cfg)\n",
        "model = predictor.model"
      ],
      "metadata": {
        "id": "xkDfZqulxL-j",
        "colab": {
          "base_uri": "https://localhost:8080/"
        },
        "outputId": "d9084a66-3813-4e6e-c3d9-e0339f765172"
      },
      "execution_count": null,
      "outputs": [
        {
          "output_type": "stream",
          "name": "stdout",
          "text": [
            "[02/13 17:24:07 d2.checkpoint.detection_checkpoint]: [DetectionCheckpointer] Loading from output/object_detector_hook/model_best.pth ...\n"
          ]
        }
      ]
    },
    {
      "cell_type": "markdown",
      "source": [
        "## Register the test dataset"
      ],
      "metadata": {
        "id": "rYdryUqJq4ec"
      }
    },
    {
      "cell_type": "code",
      "source": [
        "name_ds = \"braintumors_coco\"\n",
        "name_ds_test = name_ds + \"_test\"\n",
        "image_root_test = name_ds + \"/test\"\n",
        "af = \"_annotations.coco.json\"\n",
        "json_file_test = name_ds + \"/test/\" + af\n",
        "\n",
        "from detectron2.data.datasets import register_coco_instances\n",
        "register_coco_instances(\n",
        "    name = name_ds_test,\n",
        "    metadata = {},\n",
        "    json_file = json_file_test,\n",
        "    image_root = image_root_test\n",
        "    )\n"
      ],
      "metadata": {
        "id": "Ztn6kdxS4BV2"
      },
      "execution_count": null,
      "outputs": []
    },
    {
      "cell_type": "code",
      "source": [
        "from detectron2.data import (\n",
        "    build_detection_test_loader,\n",
        ")\n",
        "tld = build_detection_test_loader(cfg, cfg.DATASETS.TEST[0])\n",
        "tli = iter(tld)"
      ],
      "metadata": {
        "colab": {
          "base_uri": "https://localhost:8080/"
        },
        "id": "kApCUqaRwzP7",
        "outputId": "f1f3d319-abde-4fd1-8310-cef77f728ca1"
      },
      "execution_count": null,
      "outputs": [
        {
          "output_type": "stream",
          "name": "stdout",
          "text": [
            "[02/13 17:24:07 d2.data.datasets.coco]: Loaded 223 images in COCO format from braintumors_coco/test/_annotations.coco.json\n",
            "[02/13 17:24:07 d2.data.build]: Distribution of instances among all 2 categories:\n",
            "|  category  | #instances   |  category  | #instances   |\n",
            "|:----------:|:-------------|:----------:|:-------------|\n",
            "|  negative  | 154          |  positive  | 87           |\n",
            "|            |              |            |              |\n",
            "|   total    | 241          |            |              |\n",
            "[02/13 17:24:07 d2.data.dataset_mapper]: [DatasetMapper] Augmentations used in inference: [ResizeShortestEdge(short_edge_length=(800, 800), max_size=1333, sample_style='choice')]\n",
            "[02/13 17:24:07 d2.data.common]: Serializing the dataset using: <class 'detectron2.data.common._TorchSerializedList'>\n",
            "[02/13 17:24:07 d2.data.common]: Serializing 223 elements to byte tensors and concatenating them all ...\n",
            "[02/13 17:24:07 d2.data.common]: Serialized dataset takes 0.06 MiB\n"
          ]
        }
      ]
    },
    {
      "cell_type": "code",
      "source": [
        "def get_model_inputs(tli):\n",
        "  inputs = next(tli)\n",
        "  inputs = [{\"image\": input[\"image\"] for input in inputs}]  \n",
        "  return inputs"
      ],
      "metadata": {
        "id": "9gsJX-81ADiE"
      },
      "execution_count": null,
      "outputs": []
    },
    {
      "cell_type": "code",
      "source": [
        "inputs = get_model_inputs(tli)\n",
        "test_inputs = get_model_inputs(tli)"
      ],
      "metadata": {
        "id": "Hy9R49KR5Vvv"
      },
      "execution_count": null,
      "outputs": []
    },
    {
      "cell_type": "code",
      "source": [
        "from detectron2.export import TracingAdapter\n",
        "wrapper= TracingAdapter(model, inputs=inputs)\n",
        "wrapper.eval()\n",
        "traced_script_module  = torch.jit.trace(\n",
        "    func              = wrapper, \n",
        "    example_inputs    = wrapper.flattened_inputs)\n",
        "traced_script_module.save(\"traced_model.pt\")"
      ],
      "metadata": {
        "id": "7_88zKfPpWIH",
        "colab": {
          "base_uri": "https://localhost:8080/"
        },
        "outputId": "6ca78001-30a4-44f9-d6bd-3c7de59d159e"
      },
      "execution_count": null,
      "outputs": [
        {
          "output_type": "stream",
          "name": "stderr",
          "text": [
            "/usr/local/lib/python3.8/dist-packages/detectron2/structures/image_list.py:85: TracerWarning: Converting a tensor to a Python boolean might cause the trace to be incorrect. We can't record the data flow of Python values, so this value will be treated as a constant in the future. This means that the trace might not generalize to other inputs!\n",
            "  assert t.shape[:-2] == tensors[0].shape[:-2], t.shape\n",
            "/usr/local/lib/python3.8/dist-packages/torch/functional.py:504: UserWarning: torch.meshgrid: in an upcoming release, it will be required to pass the indexing argument. (Triggered internally at ../aten/src/ATen/native/TensorShape.cpp:3190.)\n",
            "  return _VF.meshgrid(tensors, **kwargs)  # type: ignore[attr-defined]\n",
            "/usr/local/lib/python3.8/dist-packages/detectron2/structures/boxes.py:151: TracerWarning: Converting a tensor to a Python boolean might cause the trace to be incorrect. We can't record the data flow of Python values, so this value will be treated as a constant in the future. This means that the trace might not generalize to other inputs!\n",
            "  if tensor.numel() == 0:\n",
            "/usr/local/lib/python3.8/dist-packages/detectron2/structures/boxes.py:155: TracerWarning: Converting a tensor to a Python boolean might cause the trace to be incorrect. We can't record the data flow of Python values, so this value will be treated as a constant in the future. This means that the trace might not generalize to other inputs!\n",
            "  assert tensor.dim() == 2 and tensor.size(-1) == 4, tensor.size()\n",
            "/usr/local/lib/python3.8/dist-packages/detectron2/structures/boxes.py:151: TracerWarning: Converting a tensor to a Python boolean might cause the trace to be incorrect. We can't record the data flow of Python values, so this value will be treated as a constant in the future. This means that the trace might not generalize to other inputs!\n",
            "  if tensor.numel() == 0:\n",
            "/usr/local/lib/python3.8/dist-packages/detectron2/structures/boxes.py:155: TracerWarning: Converting a tensor to a Python boolean might cause the trace to be incorrect. We can't record the data flow of Python values, so this value will be treated as a constant in the future. This means that the trace might not generalize to other inputs!\n",
            "  assert tensor.dim() == 2 and tensor.size(-1) == 4, tensor.size()\n",
            "/usr/local/lib/python3.8/dist-packages/detectron2/modeling/proposal_generator/proposal_utils.py:106: TracerWarning: Converting a tensor to a Python boolean might cause the trace to be incorrect. We can't record the data flow of Python values, so this value will be treated as a constant in the future. This means that the trace might not generalize to other inputs!\n",
            "  if not valid_mask.all():\n",
            "/usr/local/lib/python3.8/dist-packages/detectron2/structures/boxes.py:191: TracerWarning: Converting a tensor to a Python boolean might cause the trace to be incorrect. We can't record the data flow of Python values, so this value will be treated as a constant in the future. This means that the trace might not generalize to other inputs!\n",
            "  assert torch.isfinite(self.tensor).all(), \"Box tensor contains infinite or NaN!\"\n",
            "/usr/local/lib/python3.8/dist-packages/detectron2/structures/boxes.py:192: TracerWarning: Iterating over a tensor might cause the trace to be incorrect. Passing a tensor of different shape won't change the number of iterations executed (and might lead to errors or silently give incorrect results).\n",
            "  h, w = box_size\n",
            "/usr/local/lib/python3.8/dist-packages/detectron2/layers/nms.py:15: TracerWarning: Converting a tensor to a Python boolean might cause the trace to be incorrect. We can't record the data flow of Python values, so this value will be treated as a constant in the future. This means that the trace might not generalize to other inputs!\n",
            "  assert boxes.shape[-1] == 4\n",
            "/usr/local/lib/python3.8/dist-packages/torch/__init__.py:853: TracerWarning: Converting a tensor to a Python boolean might cause the trace to be incorrect. We can't record the data flow of Python values, so this value will be treated as a constant in the future. This means that the trace might not generalize to other inputs!\n",
            "  assert condition, message\n",
            "/usr/local/lib/python3.8/dist-packages/detectron2/layers/roi_align.py:55: TracerWarning: Converting a tensor to a Python boolean might cause the trace to be incorrect. We can't record the data flow of Python values, so this value will be treated as a constant in the future. This means that the trace might not generalize to other inputs!\n",
            "  assert rois.dim() == 2 and rois.size(1) == 5\n",
            "/usr/local/lib/python3.8/dist-packages/detectron2/modeling/roi_heads/fast_rcnn.py:138: TracerWarning: Converting a tensor to a Python boolean might cause the trace to be incorrect. We can't record the data flow of Python values, so this value will be treated as a constant in the future. This means that the trace might not generalize to other inputs!\n",
            "  if not valid_mask.all():\n",
            "/usr/local/lib/python3.8/dist-packages/detectron2/structures/boxes.py:151: TracerWarning: Converting a tensor to a Python boolean might cause the trace to be incorrect. We can't record the data flow of Python values, so this value will be treated as a constant in the future. This means that the trace might not generalize to other inputs!\n",
            "  if tensor.numel() == 0:\n",
            "/usr/local/lib/python3.8/dist-packages/detectron2/structures/boxes.py:155: TracerWarning: Converting a tensor to a Python boolean might cause the trace to be incorrect. We can't record the data flow of Python values, so this value will be treated as a constant in the future. This means that the trace might not generalize to other inputs!\n",
            "  assert tensor.dim() == 2 and tensor.size(-1) == 4, tensor.size()\n",
            "/usr/local/lib/python3.8/dist-packages/detectron2/structures/boxes.py:191: TracerWarning: Converting a tensor to a Python boolean might cause the trace to be incorrect. We can't record the data flow of Python values, so this value will be treated as a constant in the future. This means that the trace might not generalize to other inputs!\n",
            "  assert torch.isfinite(self.tensor).all(), \"Box tensor contains infinite or NaN!\"\n",
            "/usr/local/lib/python3.8/dist-packages/detectron2/structures/boxes.py:192: TracerWarning: Iterating over a tensor might cause the trace to be incorrect. Passing a tensor of different shape won't change the number of iterations executed (and might lead to errors or silently give incorrect results).\n",
            "  h, w = box_size\n",
            "/usr/local/lib/python3.8/dist-packages/detectron2/modeling/roi_heads/fast_rcnn.py:155: TracerWarning: Converting a tensor to a Python boolean might cause the trace to be incorrect. We can't record the data flow of Python values, so this value will be treated as a constant in the future. This means that the trace might not generalize to other inputs!\n",
            "  if num_bbox_reg_classes == 1:\n",
            "/usr/local/lib/python3.8/dist-packages/detectron2/layers/nms.py:15: TracerWarning: Converting a tensor to a Python boolean might cause the trace to be incorrect. We can't record the data flow of Python values, so this value will be treated as a constant in the future. This means that the trace might not generalize to other inputs!\n",
            "  assert boxes.shape[-1] == 4\n",
            "/usr/local/lib/python3.8/dist-packages/detectron2/structures/boxes.py:191: TracerWarning: Converting a tensor to a Python boolean might cause the trace to be incorrect. We can't record the data flow of Python values, so this value will be treated as a constant in the future. This means that the trace might not generalize to other inputs!\n",
            "  assert torch.isfinite(self.tensor).all(), \"Box tensor contains infinite or NaN!\"\n",
            "/usr/local/lib/python3.8/dist-packages/detectron2/structures/boxes.py:192: TracerWarning: Iterating over a tensor might cause the trace to be incorrect. Passing a tensor of different shape won't change the number of iterations executed (and might lead to errors or silently give incorrect results).\n",
            "  h, w = box_size\n",
            "/usr/local/lib/python3.8/dist-packages/detectron2/structures/boxes.py:151: TracerWarning: Converting a tensor to a Python boolean might cause the trace to be incorrect. We can't record the data flow of Python values, so this value will be treated as a constant in the future. This means that the trace might not generalize to other inputs!\n",
            "  if tensor.numel() == 0:\n",
            "/usr/local/lib/python3.8/dist-packages/detectron2/structures/boxes.py:155: TracerWarning: Converting a tensor to a Python boolean might cause the trace to be incorrect. We can't record the data flow of Python values, so this value will be treated as a constant in the future. This means that the trace might not generalize to other inputs!\n",
            "  assert tensor.dim() == 2 and tensor.size(-1) == 4, tensor.size()\n",
            "/usr/local/lib/python3.8/dist-packages/detectron2/structures/image_list.py:85: TracerWarning: Converting a tensor to a Python boolean might cause the trace to be incorrect. We can't record the data flow of Python values, so this value will be treated as a constant in the future. This means that the trace might not generalize to other inputs!\n",
            "  assert t.shape[:-2] == tensors[0].shape[:-2], t.shape\n",
            "/usr/local/lib/python3.8/dist-packages/detectron2/structures/boxes.py:151: TracerWarning: Converting a tensor to a Python boolean might cause the trace to be incorrect. We can't record the data flow of Python values, so this value will be treated as a constant in the future. This means that the trace might not generalize to other inputs!\n",
            "  if tensor.numel() == 0:\n",
            "/usr/local/lib/python3.8/dist-packages/detectron2/structures/boxes.py:155: TracerWarning: Converting a tensor to a Python boolean might cause the trace to be incorrect. We can't record the data flow of Python values, so this value will be treated as a constant in the future. This means that the trace might not generalize to other inputs!\n",
            "  assert tensor.dim() == 2 and tensor.size(-1) == 4, tensor.size()\n",
            "/usr/local/lib/python3.8/dist-packages/detectron2/structures/boxes.py:151: TracerWarning: Converting a tensor to a Python boolean might cause the trace to be incorrect. We can't record the data flow of Python values, so this value will be treated as a constant in the future. This means that the trace might not generalize to other inputs!\n",
            "  if tensor.numel() == 0:\n",
            "/usr/local/lib/python3.8/dist-packages/detectron2/structures/boxes.py:155: TracerWarning: Converting a tensor to a Python boolean might cause the trace to be incorrect. We can't record the data flow of Python values, so this value will be treated as a constant in the future. This means that the trace might not generalize to other inputs!\n",
            "  assert tensor.dim() == 2 and tensor.size(-1) == 4, tensor.size()\n",
            "/usr/local/lib/python3.8/dist-packages/detectron2/modeling/proposal_generator/proposal_utils.py:106: TracerWarning: Converting a tensor to a Python boolean might cause the trace to be incorrect. We can't record the data flow of Python values, so this value will be treated as a constant in the future. This means that the trace might not generalize to other inputs!\n",
            "  if not valid_mask.all():\n",
            "/usr/local/lib/python3.8/dist-packages/detectron2/structures/boxes.py:191: TracerWarning: Converting a tensor to a Python boolean might cause the trace to be incorrect. We can't record the data flow of Python values, so this value will be treated as a constant in the future. This means that the trace might not generalize to other inputs!\n",
            "  assert torch.isfinite(self.tensor).all(), \"Box tensor contains infinite or NaN!\"\n",
            "/usr/local/lib/python3.8/dist-packages/detectron2/structures/boxes.py:192: TracerWarning: Iterating over a tensor might cause the trace to be incorrect. Passing a tensor of different shape won't change the number of iterations executed (and might lead to errors or silently give incorrect results).\n",
            "  h, w = box_size\n",
            "/usr/local/lib/python3.8/dist-packages/detectron2/layers/nms.py:15: TracerWarning: Converting a tensor to a Python boolean might cause the trace to be incorrect. We can't record the data flow of Python values, so this value will be treated as a constant in the future. This means that the trace might not generalize to other inputs!\n",
            "  assert boxes.shape[-1] == 4\n",
            "/usr/local/lib/python3.8/dist-packages/torch/__init__.py:853: TracerWarning: Converting a tensor to a Python boolean might cause the trace to be incorrect. We can't record the data flow of Python values, so this value will be treated as a constant in the future. This means that the trace might not generalize to other inputs!\n",
            "  assert condition, message\n",
            "/usr/local/lib/python3.8/dist-packages/detectron2/layers/roi_align.py:55: TracerWarning: Converting a tensor to a Python boolean might cause the trace to be incorrect. We can't record the data flow of Python values, so this value will be treated as a constant in the future. This means that the trace might not generalize to other inputs!\n",
            "  assert rois.dim() == 2 and rois.size(1) == 5\n",
            "/usr/local/lib/python3.8/dist-packages/detectron2/modeling/roi_heads/fast_rcnn.py:138: TracerWarning: Converting a tensor to a Python boolean might cause the trace to be incorrect. We can't record the data flow of Python values, so this value will be treated as a constant in the future. This means that the trace might not generalize to other inputs!\n",
            "  if not valid_mask.all():\n",
            "/usr/local/lib/python3.8/dist-packages/detectron2/structures/boxes.py:151: TracerWarning: Converting a tensor to a Python boolean might cause the trace to be incorrect. We can't record the data flow of Python values, so this value will be treated as a constant in the future. This means that the trace might not generalize to other inputs!\n",
            "  if tensor.numel() == 0:\n",
            "/usr/local/lib/python3.8/dist-packages/detectron2/structures/boxes.py:155: TracerWarning: Converting a tensor to a Python boolean might cause the trace to be incorrect. We can't record the data flow of Python values, so this value will be treated as a constant in the future. This means that the trace might not generalize to other inputs!\n",
            "  assert tensor.dim() == 2 and tensor.size(-1) == 4, tensor.size()\n",
            "/usr/local/lib/python3.8/dist-packages/detectron2/structures/boxes.py:191: TracerWarning: Converting a tensor to a Python boolean might cause the trace to be incorrect. We can't record the data flow of Python values, so this value will be treated as a constant in the future. This means that the trace might not generalize to other inputs!\n",
            "  assert torch.isfinite(self.tensor).all(), \"Box tensor contains infinite or NaN!\"\n",
            "/usr/local/lib/python3.8/dist-packages/detectron2/structures/boxes.py:192: TracerWarning: Iterating over a tensor might cause the trace to be incorrect. Passing a tensor of different shape won't change the number of iterations executed (and might lead to errors or silently give incorrect results).\n",
            "  h, w = box_size\n",
            "/usr/local/lib/python3.8/dist-packages/detectron2/modeling/roi_heads/fast_rcnn.py:155: TracerWarning: Converting a tensor to a Python boolean might cause the trace to be incorrect. We can't record the data flow of Python values, so this value will be treated as a constant in the future. This means that the trace might not generalize to other inputs!\n",
            "  if num_bbox_reg_classes == 1:\n",
            "/usr/local/lib/python3.8/dist-packages/detectron2/layers/nms.py:15: TracerWarning: Converting a tensor to a Python boolean might cause the trace to be incorrect. We can't record the data flow of Python values, so this value will be treated as a constant in the future. This means that the trace might not generalize to other inputs!\n",
            "  assert boxes.shape[-1] == 4\n",
            "/usr/local/lib/python3.8/dist-packages/detectron2/structures/boxes.py:191: TracerWarning: Converting a tensor to a Python boolean might cause the trace to be incorrect. We can't record the data flow of Python values, so this value will be treated as a constant in the future. This means that the trace might not generalize to other inputs!\n",
            "  assert torch.isfinite(self.tensor).all(), \"Box tensor contains infinite or NaN!\"\n",
            "/usr/local/lib/python3.8/dist-packages/detectron2/structures/boxes.py:192: TracerWarning: Iterating over a tensor might cause the trace to be incorrect. Passing a tensor of different shape won't change the number of iterations executed (and might lead to errors or silently give incorrect results).\n",
            "  h, w = box_size\n",
            "/usr/local/lib/python3.8/dist-packages/detectron2/structures/boxes.py:151: TracerWarning: Converting a tensor to a Python boolean might cause the trace to be incorrect. We can't record the data flow of Python values, so this value will be treated as a constant in the future. This means that the trace might not generalize to other inputs!\n",
            "  if tensor.numel() == 0:\n",
            "/usr/local/lib/python3.8/dist-packages/detectron2/structures/boxes.py:155: TracerWarning: Converting a tensor to a Python boolean might cause the trace to be incorrect. We can't record the data flow of Python values, so this value will be treated as a constant in the future. This means that the trace might not generalize to other inputs!\n",
            "  assert tensor.dim() == 2 and tensor.size(-1) == 4, tensor.size()\n"
          ]
        }
      ]
    },
    {
      "cell_type": "markdown",
      "source": [
        "# Load back"
      ],
      "metadata": {
        "id": "zTlTlif_7I57"
      }
    },
    {
      "cell_type": "code",
      "source": [
        "loaded_model = torch.jit.load(\"traced_model.pt\")\n",
        "loaded_model(test_inputs[0][\"image\"])"
      ],
      "metadata": {
        "colab": {
          "base_uri": "https://localhost:8080/"
        },
        "id": "96AaE6tlATSE",
        "outputId": "906e4346-814f-44a3-8e6a-3b2ba6373dba"
      },
      "execution_count": null,
      "outputs": [
        {
          "output_type": "execute_result",
          "data": {
            "text/plain": [
              "(tensor([[456.4723, 163.2672, 580.1592, 317.8206],\n",
              "         [456.2765, 154.8416, 584.7808, 311.3090],\n",
              "         [492.0383, 161.2917, 578.7090, 254.3066],\n",
              "         [484.3123, 161.7378, 575.2621, 264.6025],\n",
              "         [451.0178, 200.9709, 546.3406, 313.3496],\n",
              "         [461.3992, 195.3202, 546.2075, 306.3005]], device='cuda:0',\n",
              "        grad_fn=<IndexBackward0>),\n",
              " tensor([0, 1, 1, 0, 1, 0], device='cuda:0'),\n",
              " tensor([0.7608, 0.3361, 0.1744, 0.1045, 0.0825, 0.0806], device='cuda:0',\n",
              "        grad_fn=<IndexBackward0>),\n",
              " tensor([800, 800]))"
            ]
          },
          "metadata": {},
          "execution_count": 14
        }
      ]
    },
    {
      "cell_type": "code",
      "source": [
        "predictor.model(test_inputs)"
      ],
      "metadata": {
        "colab": {
          "base_uri": "https://localhost:8080/"
        },
        "id": "_5HW30xoAYdF",
        "outputId": "d5ac5ae2-1a79-427f-9307-1ea9e22a0d59"
      },
      "execution_count": null,
      "outputs": [
        {
          "output_type": "execute_result",
          "data": {
            "text/plain": [
              "[{'instances': Instances(num_instances=6, image_height=800, image_width=800, fields=[pred_boxes: Boxes(tensor([[456.4723, 163.2672, 580.1592, 317.8206],\n",
              "          [456.2765, 154.8416, 584.7808, 311.3090],\n",
              "          [492.0383, 161.2917, 578.7090, 254.3066],\n",
              "          [484.3123, 161.7378, 575.2621, 264.6025],\n",
              "          [451.0178, 200.9709, 546.3406, 313.3496],\n",
              "          [461.3992, 195.3202, 546.2075, 306.3005]], device='cuda:0',\n",
              "         grad_fn=<IndexBackward0>)), scores: tensor([0.7608, 0.3361, 0.1744, 0.1045, 0.0825, 0.0806], device='cuda:0',\n",
              "         grad_fn=<IndexBackward0>), pred_classes: tensor([0, 1, 1, 0, 1, 0], device='cuda:0')])}]"
            ]
          },
          "metadata": {},
          "execution_count": 15
        }
      ]
    },
    {
      "cell_type": "markdown",
      "source": [
        "## Convert to rich output (instances)"
      ],
      "metadata": {
        "id": "htDGq4vNxJHh"
      }
    },
    {
      "cell_type": "code",
      "source": [
        "wrapper.outputs_schema(\n",
        "    loaded_model(test_inputs[0][\"image\"]))"
      ],
      "metadata": {
        "colab": {
          "base_uri": "https://localhost:8080/"
        },
        "id": "_aMarVXAx4IY",
        "outputId": "a1a9ac73-68d0-461d-8568-94359ca30a60"
      },
      "execution_count": null,
      "outputs": [
        {
          "output_type": "execute_result",
          "data": {
            "text/plain": [
              "[{'instances': Instances(num_instances=6, image_height=800, image_width=800, fields=[pred_boxes: Boxes(tensor([[456.4723, 163.2672, 580.1592, 317.8206],\n",
              "          [456.2765, 154.8416, 584.7808, 311.3090],\n",
              "          [492.0383, 161.2917, 578.7090, 254.3066],\n",
              "          [484.3123, 161.7378, 575.2621, 264.6025],\n",
              "          [451.0178, 200.9709, 546.3406, 313.3496],\n",
              "          [461.3992, 195.3202, 546.2075, 306.3005]], device='cuda:0',\n",
              "         grad_fn=<IndexBackward0>)), pred_classes: tensor([0, 1, 1, 0, 1, 0], device='cuda:0'), scores: tensor([0.7608, 0.3361, 0.1744, 0.1045, 0.0825, 0.0806], device='cuda:0',\n",
              "         grad_fn=<IndexBackward0>)])}]"
            ]
          },
          "metadata": {},
          "execution_count": 17
        }
      ]
    },
    {
      "cell_type": "markdown",
      "source": [
        "## Scripting"
      ],
      "metadata": {
        "id": "uCIEjBvYB2d2"
      }
    },
    {
      "cell_type": "code",
      "source": [
        "from detectron2.export import scripting_with_instances\n",
        "from torch import Tensor\n",
        "from detectron2.structures import Boxes\n",
        "fields = {\n",
        "    \"proposal_boxes\": Boxes,\n",
        "    \"objectness_logits\": Tensor,\n",
        "    \"pred_boxes\": Boxes,\n",
        "    \"scores\": Tensor,\n",
        "    \"pred_classes\": Tensor,\n",
        "    \"pred_masks\": Tensor,\n",
        "    \"pred_keypoints\": Tensor,\n",
        "    \"pred_keypoint_heatmaps\": Tensor,\n",
        "}\n",
        "model.eval()\n",
        "scripted_model = scripting_with_instances(model, fields)"
      ],
      "metadata": {
        "id": "Tzt2sRwGCDw2"
      },
      "execution_count": null,
      "outputs": []
    },
    {
      "cell_type": "code",
      "source": [
        "ret = scripted_model.inference(\n",
        "    test_inputs, \n",
        "    do_postprocess=False)[0]\n",
        "print(ret)"
      ],
      "metadata": {
        "colab": {
          "base_uri": "https://localhost:8080/"
        },
        "id": "rTjpDrXMIHD2",
        "outputId": "50669d9c-6776-48fe-faa5-40c01a890850"
      },
      "execution_count": null,
      "outputs": [
        {
          "output_type": "stream",
          "name": "stdout",
          "text": [
            "<detectron2.export.torchscript_patch1.ScriptedInstances1 object at 0x7f5cdd59adf0>\n"
          ]
        },
        {
          "output_type": "stream",
          "name": "stderr",
          "text": [
            "<ipython-input-21-cf9e23b390d6>:1: UserWarning: FALLBACK path has been taken inside: runCudaFusionGroup. This is an indication that codegen Failed for some reason.\n",
            "To debug try disable codegen fallback path via setting the env variable `export PYTORCH_NVFUSER_DISABLE=fallback`\n",
            " (Triggered internally at ../torch/csrc/jit/codegen/cuda/manager.cpp:331.)\n",
            "  ret = scripted_model.inference(test_inputs, do_postprocess=False)[0]\n"
          ]
        }
      ]
    },
    {
      "cell_type": "code",
      "source": [
        "print(ret.pred_boxes)\n",
        "print(ret.pred_classes)\n",
        "print(ret.scores)"
      ],
      "metadata": {
        "colab": {
          "base_uri": "https://localhost:8080/"
        },
        "id": "p89FnfcZ1Y-I",
        "outputId": "8fcf5953-892b-4d42-f184-849ae1cf965f"
      },
      "execution_count": null,
      "outputs": [
        {
          "output_type": "stream",
          "name": "stdout",
          "text": [
            "Boxes(tensor([[456.4723, 163.2672, 580.1592, 317.8206],\n",
            "        [456.2765, 154.8416, 584.7808, 311.3090],\n",
            "        [492.0383, 161.2917, 578.7090, 254.3066],\n",
            "        [484.3123, 161.7378, 575.2621, 264.6025],\n",
            "        [451.0178, 200.9709, 546.3406, 313.3496],\n",
            "        [461.3992, 195.3202, 546.2075, 306.3005]], device='cuda:0',\n",
            "       grad_fn=<IndexBackward0>))\n",
            "tensor([0, 1, 1, 0, 1, 0], device='cuda:0')\n",
            "tensor([0.7608, 0.3361, 0.1744, 0.1045, 0.0825, 0.0806], device='cuda:0',\n",
            "       grad_fn=<IndexBackward0>)\n"
          ]
        }
      ]
    },
    {
      "cell_type": "code",
      "source": [],
      "metadata": {
        "id": "hUpCVMVT2eH3"
      },
      "execution_count": null,
      "outputs": []
    }
  ]
}