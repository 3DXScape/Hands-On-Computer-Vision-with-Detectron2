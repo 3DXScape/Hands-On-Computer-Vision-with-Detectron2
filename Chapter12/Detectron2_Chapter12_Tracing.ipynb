{
  "nbformat": 4,
  "nbformat_minor": 0,
  "metadata": {
    "colab": {
      "provenance": [],
      "authorship_tag": "ABX9TyORj3iAEbjyIPQImu0caRhn",
      "include_colab_link": true
    },
    "kernelspec": {
      "name": "python3",
      "display_name": "Python 3"
    },
    "language_info": {
      "name": "python"
    },
    "accelerator": "GPU",
    "gpuClass": "standard"
  },
  "cells": [
    {
      "cell_type": "markdown",
      "metadata": {
        "id": "view-in-github",
        "colab_type": "text"
      },
      "source": [
        "<a href=\"https://colab.research.google.com/github/PacktPublishing/Hands-On-Computer-Vision-with-Detectron2/blob/main/Chapter12/Detectron2_Chapter12_Tracing.ipynb\" target=\"_blank\"><img src=\"https://colab.research.google.com/assets/colab-badge.svg\" alt=\"Open In Colab\"/></a>"
      ]
    },
    {
      "cell_type": "markdown",
      "source": [
        "# Chapter 12 - Tracing"
      ],
      "metadata": {
        "id": "t5s_pJa4XnZD"
      }
    },
    {
      "cell_type": "markdown",
      "source": [
        "## Creating a model"
      ],
      "metadata": {
        "id": "ammBoInhegKP"
      }
    },
    {
      "cell_type": "code",
      "execution_count": null,
      "metadata": {
        "colab": {
          "base_uri": "https://localhost:8080/"
        },
        "id": "FVeoI2c3ErWi",
        "outputId": "7313e0aa-c056-4c80-e3c7-183a2eae4cc7"
      },
      "outputs": [
        {
          "output_type": "stream",
          "name": "stdout",
          "text": [
            "SimplePyTorchModel(\n",
            "  (linear): Linear(in_features=4, out_features=1, bias=True)\n",
            ")\n"
          ]
        }
      ],
      "source": [
        "import torch\n",
        "import torch.nn as nn\n",
        "\n",
        "device = \"cuda\"\n",
        "if not torch.cuda.is_available():\n",
        "  device = \"cpu\"\n",
        "\n",
        "class SimplePyTorchModel(nn.Module):\n",
        "  def __init__(self):\n",
        "    super(SimplePyTorchModel, self).__init__()\n",
        "    self.linear = nn.Linear(4, 1)   \n",
        "    self.linear.weight.data.fill_(0.01)\n",
        "    self.linear.bias.data.fill_(0.01)\n",
        "\n",
        "  def forward(self, x):\n",
        "    return torch.relu(self.linear(x))\n",
        "\n",
        "pt_model = SimplePyTorchModel()\n",
        "pt_model.to(device)\n",
        "print(pt_model)"
      ]
    },
    {
      "cell_type": "markdown",
      "source": [
        "## Perform Predictions"
      ],
      "metadata": {
        "id": "AZBT-XMPeiVE"
      }
    },
    {
      "cell_type": "code",
      "source": [
        "X = torch.tensor(\n",
        "    data  = [[1, 2, 3, 4], \n",
        "           [-1, -2, -3, -4]], \n",
        "    dtype = torch.float32)\n",
        "X = X.to(device)\n",
        "with torch.no_grad():\n",
        "  y = pt_model(X)\n",
        "  print(y)"
      ],
      "metadata": {
        "colab": {
          "base_uri": "https://localhost:8080/"
        },
        "id": "u1AfpXoxcuO_",
        "outputId": "afa1a921-6f46-435c-951f-6900ce547f9e"
      },
      "execution_count": null,
      "outputs": [
        {
          "output_type": "stream",
          "name": "stdout",
          "text": [
            "tensor([[0.1100],\n",
            "        [0.0000]], device='cuda:0')\n"
          ]
        }
      ]
    },
    {
      "cell_type": "markdown",
      "source": [
        "## Exporting to TorchScript"
      ],
      "metadata": {
        "id": "Inwfpq8h5QQn"
      }
    },
    {
      "cell_type": "code",
      "source": [
        "dummy_X = torch.rand((1, 4))\n",
        "dummy_X.to(device)\n",
        "traced_model = torch.jit.trace(\n",
        "    func            = pt_model.to(\"cpu\"), \n",
        "    example_inputs  = dummy_X)\n",
        "traced_model.to(device)"
      ],
      "metadata": {
        "colab": {
          "base_uri": "https://localhost:8080/"
        },
        "id": "8vw0LnhkEsJo",
        "outputId": "ee5beb7e-7ab8-47bb-dc21-17baa23371c9"
      },
      "execution_count": null,
      "outputs": [
        {
          "output_type": "execute_result",
          "data": {
            "text/plain": [
              "SimplePyTorchModel(\n",
              "  original_name=SimplePyTorchModel\n",
              "  (linear): Linear(original_name=Linear)\n",
              ")"
            ]
          },
          "metadata": {},
          "execution_count": 7
        }
      ]
    },
    {
      "cell_type": "code",
      "source": [
        "for p in traced_model.parameters():\n",
        "  print(p.data)"
      ],
      "metadata": {
        "colab": {
          "base_uri": "https://localhost:8080/"
        },
        "id": "QGoE8US-7E6n",
        "outputId": "8539ec72-ae1c-48d4-80a7-0455e8855bb7"
      },
      "execution_count": null,
      "outputs": [
        {
          "output_type": "stream",
          "name": "stdout",
          "text": [
            "tensor([[0.0100, 0.0100, 0.0100, 0.0100]], device='cuda:0')\n",
            "tensor([0.0100], device='cuda:0')\n"
          ]
        }
      ]
    },
    {
      "cell_type": "code",
      "source": [
        "print(traced_model.code)"
      ],
      "metadata": {
        "colab": {
          "base_uri": "https://localhost:8080/"
        },
        "id": "_DwV33Sd7K43",
        "outputId": "6fd38f6a-502c-4665-cdc8-a8e9cfe2e572"
      },
      "execution_count": null,
      "outputs": [
        {
          "output_type": "stream",
          "name": "stdout",
          "text": [
            "def forward(self,\n",
            "    x: Tensor) -> Tensor:\n",
            "  linear = self.linear\n",
            "  return torch.relu((linear).forward(x, ))\n",
            "\n"
          ]
        }
      ]
    },
    {
      "cell_type": "markdown",
      "source": [
        "## Test the exported model"
      ],
      "metadata": {
        "id": "Z6dq52CK6zul"
      }
    },
    {
      "cell_type": "code",
      "source": [
        "with torch.no_grad():\n",
        "  y = traced_model(X)\n",
        "  print(y)"
      ],
      "metadata": {
        "colab": {
          "base_uri": "https://localhost:8080/"
        },
        "id": "IZ2pnFhl6yko",
        "outputId": "4c88b8b4-2a57-440b-fc8b-f65a3e0223db"
      },
      "execution_count": null,
      "outputs": [
        {
          "output_type": "stream",
          "name": "stdout",
          "text": [
            "tensor([[0.1100],\n",
            "        [0.0000]], device='cuda:0')\n"
          ]
        }
      ]
    },
    {
      "cell_type": "markdown",
      "source": [
        "## Save the model"
      ],
      "metadata": {
        "id": "7IlpWjbOMmFQ"
      }
    },
    {
      "cell_type": "code",
      "source": [
        "traced_model.save(\"traced_model.pt\")"
      ],
      "metadata": {
        "id": "FhhNxx--Mndb"
      },
      "execution_count": null,
      "outputs": []
    },
    {
      "cell_type": "markdown",
      "source": [
        "## Test loading"
      ],
      "metadata": {
        "id": "pXU4A8mzPAsd"
      }
    },
    {
      "cell_type": "code",
      "source": [
        "loaded_model = torch.jit.load(\"traced_model.pt\")"
      ],
      "metadata": {
        "id": "kukzbzwzMqmy"
      },
      "execution_count": null,
      "outputs": []
    },
    {
      "cell_type": "code",
      "source": [
        "for p in loaded_model.parameters():\n",
        "  print(p)"
      ],
      "metadata": {
        "colab": {
          "base_uri": "https://localhost:8080/"
        },
        "id": "w-ulaPO8PIC6",
        "outputId": "2df83858-0d52-4230-b52b-8615631539f0"
      },
      "execution_count": null,
      "outputs": [
        {
          "output_type": "stream",
          "name": "stdout",
          "text": [
            "tensor([[0.0100, 0.0100, 0.0100, 0.0100]], device='cuda:0', requires_grad=True)\n",
            "tensor([0.0100], device='cuda:0', requires_grad=True)\n"
          ]
        }
      ]
    },
    {
      "cell_type": "code",
      "source": [
        "loaded_model(X)"
      ],
      "metadata": {
        "colab": {
          "base_uri": "https://localhost:8080/"
        },
        "id": "8DCFxqryPKF5",
        "outputId": "6671128e-463d-4273-c7c6-d6a92ea72734"
      },
      "execution_count": null,
      "outputs": [
        {
          "output_type": "execute_result",
          "data": {
            "text/plain": [
              "tensor([[0.1100],\n",
              "        [0.0000]], device='cuda:0', grad_fn=<ReluBackward0>)"
            ]
          },
          "metadata": {},
          "execution_count": 14
        }
      ]
    },
    {
      "cell_type": "markdown",
      "source": [
        "## Download model"
      ],
      "metadata": {
        "id": "oslVah5nPO_w"
      }
    },
    {
      "cell_type": "code",
      "source": [
        "from google.colab import files\n",
        "files.download('traced_model.pt')"
      ],
      "metadata": {
        "colab": {
          "base_uri": "https://localhost:8080/",
          "height": 17
        },
        "id": "RIlRHL0aPMFx",
        "outputId": "22df5b7d-b752-464d-cb56-ffa0dadf53fc"
      },
      "execution_count": null,
      "outputs": [
        {
          "output_type": "display_data",
          "data": {
            "text/plain": [
              "<IPython.core.display.Javascript object>"
            ],
            "application/javascript": [
              "\n",
              "    async function download(id, filename, size) {\n",
              "      if (!google.colab.kernel.accessAllowed) {\n",
              "        return;\n",
              "      }\n",
              "      const div = document.createElement('div');\n",
              "      const label = document.createElement('label');\n",
              "      label.textContent = `Downloading \"${filename}\": `;\n",
              "      div.appendChild(label);\n",
              "      const progress = document.createElement('progress');\n",
              "      progress.max = size;\n",
              "      div.appendChild(progress);\n",
              "      document.body.appendChild(div);\n",
              "\n",
              "      const buffers = [];\n",
              "      let downloaded = 0;\n",
              "\n",
              "      const channel = await google.colab.kernel.comms.open(id);\n",
              "      // Send a message to notify the kernel that we're ready.\n",
              "      channel.send({})\n",
              "\n",
              "      for await (const message of channel.messages) {\n",
              "        // Send a message to notify the kernel that we're ready.\n",
              "        channel.send({})\n",
              "        if (message.buffers) {\n",
              "          for (const buffer of message.buffers) {\n",
              "            buffers.push(buffer);\n",
              "            downloaded += buffer.byteLength;\n",
              "            progress.value = downloaded;\n",
              "          }\n",
              "        }\n",
              "      }\n",
              "      const blob = new Blob(buffers, {type: 'application/binary'});\n",
              "      const a = document.createElement('a');\n",
              "      a.href = window.URL.createObjectURL(blob);\n",
              "      a.download = filename;\n",
              "      div.appendChild(a);\n",
              "      a.click();\n",
              "      div.remove();\n",
              "    }\n",
              "  "
            ]
          },
          "metadata": {}
        },
        {
          "output_type": "display_data",
          "data": {
            "text/plain": [
              "<IPython.core.display.Javascript object>"
            ],
            "application/javascript": [
              "download(\"download_2cca5fcb-e292-4d2e-9c22-c4b3842d37aa\", \"traced_model.pt\", 4663)"
            ]
          },
          "metadata": {}
        }
      ]
    },
    {
      "cell_type": "code",
      "source": [],
      "metadata": {
        "id": "Fy403EEhPRPQ"
      },
      "execution_count": null,
      "outputs": []
    }
  ]
}