{
  "nbformat": 4,
  "nbformat_minor": 0,
  "metadata": {
    "colab": {
      "provenance": [],
      "authorship_tag": "ABX9TyORj3iAEbjyIPQImu0caRhn",
      "include_colab_link": true
    },
    "kernelspec": {
      "name": "python3",
      "display_name": "Python 3"
    },
    "language_info": {
      "name": "python"
    }
  },
  "cells": [
    {
      "cell_type": "markdown",
      "metadata": {
        "id": "view-in-github",
        "colab_type": "text"
      },
      "source": [
        "<a href=\"https://colab.research.google.com/github/PacktPublishing/Hands-On-Computer-Vision-with-Detectron2/blob/main/Chapter13/Detectron2_Chapter13_DeployingToBrowser.ipynb\" target=\"_blank\"><img src=\"https://colab.research.google.com/assets/colab-badge.svg\" alt=\"Open In Colab\"/></a>"
      ]
    },
    {
      "cell_type": "markdown",
      "source": [
        "# Chapter 13 - Deploying ONNX model to Browser\n",
        "## Load a model"
      ],
      "metadata": {
        "id": "-tK5sIEYdYgc"
      }
    },
    {
      "cell_type": "code",
      "source": [
        "!wget https://github.com/PacktPublishing/Hands-On-Computer-Vision-with-Detectron2/raw/main/Chapter13/onnx_model.onnx"
      ],
      "metadata": {
        "colab": {
          "base_uri": "https://localhost:8080/"
        },
        "id": "ufHZIY5WZbQX",
        "outputId": "3cad2918-bf02-4c64-e5cc-2a203c5b01ad"
      },
      "execution_count": null,
      "outputs": [
        {
          "output_type": "stream",
          "name": "stdout",
          "text": [
            "--2023-02-17 22:20:38--  https://github.com/PacktPublishing/Hands-On-Computer-Vision-with-Detectron2/raw/main/Chapter13/onnx_model.onnx\n",
            "Resolving github.com (github.com)... 140.82.114.4\n",
            "Connecting to github.com (github.com)|140.82.114.4|:443... connected.\n",
            "HTTP request sent, awaiting response... 302 Found\n",
            "Location: https://raw.githubusercontent.com/PacktPublishing/Hands-On-Computer-Vision-with-Detectron2/main/Chapter13/onnx_model.onnx [following]\n",
            "--2023-02-17 22:20:38--  https://raw.githubusercontent.com/PacktPublishing/Hands-On-Computer-Vision-with-Detectron2/main/Chapter13/onnx_model.onnx\n",
            "Resolving raw.githubusercontent.com (raw.githubusercontent.com)... 185.199.108.133, 185.199.109.133, 185.199.110.133, ...\n",
            "Connecting to raw.githubusercontent.com (raw.githubusercontent.com)|185.199.108.133|:443... connected.\n",
            "HTTP request sent, awaiting response... 200 OK\n",
            "Length: 6587 (6.4K) [application/octet-stream]\n",
            "Saving to: ‘onnx_model.onnx’\n",
            "\n",
            "onnx_model.onnx     100%[===================>]   6.43K  --.-KB/s    in 0s      \n",
            "\n",
            "2023-02-17 22:20:38 (48.8 MB/s) - ‘onnx_model.onnx’ saved [6587/6587]\n",
            "\n"
          ]
        }
      ]
    },
    {
      "cell_type": "markdown",
      "source": [
        "## Download onnx.js"
      ],
      "metadata": {
        "id": "k3FI1Tgei_tT"
      }
    },
    {
      "cell_type": "code",
      "source": [
        "!wget https://cdn.jsdelivr.net/npm/onnxjs/dist/onnx.min.js"
      ],
      "metadata": {
        "colab": {
          "base_uri": "https://localhost:8080/"
        },
        "id": "bZe1WlqMi-3z",
        "outputId": "c6c09fb5-10fe-4337-8372-d190195c59f6"
      },
      "execution_count": null,
      "outputs": [
        {
          "output_type": "stream",
          "name": "stdout",
          "text": [
            "--2023-02-17 22:43:41--  https://cdn.jsdelivr.net/npm/onnxjs/dist/onnx.min.js\n",
            "Resolving cdn.jsdelivr.net (cdn.jsdelivr.net)... 104.16.86.20, 104.16.89.20, 104.16.87.20, ...\n",
            "Connecting to cdn.jsdelivr.net (cdn.jsdelivr.net)|104.16.86.20|:443... connected.\n",
            "HTTP request sent, awaiting response... 200 OK\n",
            "Length: unspecified [application/javascript]\n",
            "Saving to: ‘onnx.min.js’\n",
            "\n",
            "\ronnx.min.js             [<=>                 ]       0  --.-KB/s               \ronnx.min.js             [ <=>                ] 453.93K  --.-KB/s    in 0.04s   \n",
            "\n",
            "2023-02-17 22:43:41 (11.0 MB/s) - ‘onnx.min.js’ saved [464829]\n",
            "\n"
          ]
        }
      ]
    },
    {
      "cell_type": "markdown",
      "source": [
        "## Create an HTML file"
      ],
      "metadata": {
        "id": "andxK7oJdfGj"
      }
    },
    {
      "cell_type": "code",
      "source": [
        "%%writefile load_onnx.html\n",
        "<html>\n",
        "  <head> </head>\n",
        "  <body>\n",
        "    <div id=\"output\"></div>\n",
        "    <script src=\"https://cdn.jsdelivr.net/npm/onnxjs/dist/onnx.min.js\">\n",
        "    </script>\n",
        "    <script>\n",
        "      const myOnnxSession = new onnx.InferenceSession();\n",
        "      myOnnxSession.loadModel(\"./onnx_model.onnx\")\n",
        "      .then(() => {\n",
        "        // Step 1: create an input\n",
        "        const inferenceInputs = new onnx.Tensor(\n",
        "          [2, 3, 4, 5], \n",
        "          'float32', [1, 4]\n",
        "          );\n",
        "        // Step 2: run and update output\n",
        "        myOnnxSession.run([inferenceInputs]).then((output) => {\n",
        "          const outputTensor = output.values().next().value;\n",
        "          const msg = `model output tensor: ${outputTensor.data}`;\n",
        "          document.getElementById('output').innerText = msg;\n",
        "        });\n",
        "      });\n",
        "    </script>\n",
        "  </body>\n",
        "</html>\n"
      ],
      "metadata": {
        "colab": {
          "base_uri": "https://localhost:8080/"
        },
        "id": "32ZbHhNtZhTv",
        "outputId": "392b946d-fb00-49d0-883c-5695d9a2282e"
      },
      "execution_count": null,
      "outputs": [
        {
          "output_type": "stream",
          "name": "stdout",
          "text": [
            "Writing load_onnx.html\n"
          ]
        }
      ]
    },
    {
      "cell_type": "markdown",
      "source": [
        "## Run a web server"
      ],
      "metadata": {
        "id": "zn0dw4u3dh0r"
      }
    },
    {
      "cell_type": "code",
      "source": [
        "from IPython.display import Javascript\n",
        "\n",
        "def expose_content(port, height=200):\n",
        "  display(Javascript(\"\"\"\n",
        "  (async ()=>{\n",
        "    fm = document.createElement('iframe')\n",
        "    fm.src = await google.colab.kernel.proxyPort(%s)\n",
        "    fm.width = '95%%'\n",
        "    fm.height = '%d'\n",
        "    fm.frameBorder = 0\n",
        "    document.body.append(fm)\n",
        "  })();\n",
        "  \"\"\" % (port, height)))"
      ],
      "metadata": {
        "id": "xFrslWZFYfrH"
      },
      "execution_count": null,
      "outputs": []
    },
    {
      "cell_type": "code",
      "source": [
        "get_ipython().system_raw('python3 -m http.server 8888 &') \n",
        "expose_content(8888)"
      ],
      "metadata": {
        "colab": {
          "base_uri": "https://localhost:8080/",
          "height": 221
        },
        "id": "1ZxPlszjZNYI",
        "outputId": "f01cf032-6bdb-44f2-ffe5-6c08de91f57f"
      },
      "execution_count": null,
      "outputs": [
        {
          "output_type": "display_data",
          "data": {
            "text/plain": [
              "<IPython.core.display.Javascript object>"
            ],
            "application/javascript": [
              "\n",
              "  (async ()=>{\n",
              "    fm = document.createElement('iframe')\n",
              "    fm.src = await google.colab.kernel.proxyPort(8888)\n",
              "    fm.width = '95%'\n",
              "    fm.height = '200'\n",
              "    fm.frameBorder = 0\n",
              "    document.body.append(fm)\n",
              "  })();\n",
              "  "
            ]
          },
          "metadata": {}
        }
      ]
    },
    {
      "cell_type": "code",
      "source": [],
      "metadata": {
        "id": "w3P0NU-SZQam"
      },
      "execution_count": null,
      "outputs": []
    }
  ]
}