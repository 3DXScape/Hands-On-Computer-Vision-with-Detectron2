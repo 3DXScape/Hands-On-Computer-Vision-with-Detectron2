{
  "nbformat": 4,
  "nbformat_minor": 0,
  "metadata": {
    "colab": {
      "provenance": [],
      "authorship_tag": "ABX9TyORj3iAEbjyIPQImu0caRhn",
      "include_colab_link": true
    },
    "kernelspec": {
      "name": "python3",
      "display_name": "Python 3"
    },
    "language_info": {
      "name": "python"
    },
    "accelerator": "GPU",
    "gpuClass": "standard"
  },
  "cells": [
    {
      "cell_type": "markdown",
      "metadata": {
        "id": "view-in-github",
        "colab_type": "text"
      },
      "source": [
        "<a href=\"https://colab.research.google.com/github/PacktPublishing/Hands-On-Computer-Vision-with-Detectron2/blob/main/Chapter13/Detectron2_Chapter13_D2Go_Custom_Quantization.ipynb\" target=\"_blank\"><img src=\"https://colab.research.google.com/assets/colab-badge.svg\" alt=\"Open In Colab\"/></a>"
      ]
    },
    {
      "cell_type": "code",
      "source": [
        "!python --version"
      ],
      "metadata": {
        "id": "1WE03qOv3YlS",
        "outputId": "2dcd41e5-23bd-4809-820e-748df78c2282",
        "colab": {
          "base_uri": "https://localhost:8080/"
        }
      },
      "execution_count": 1,
      "outputs": [
        {
          "output_type": "stream",
          "name": "stdout",
          "text": [
            "Python 3.9.16\n"
          ]
        }
      ]
    },
    {
      "cell_type": "code",
      "source": [
        "import torch\n",
        "torch.__version__"
      ],
      "metadata": {
        "id": "LMXS9M4L3afB",
        "outputId": "28517226-fa5b-4ad0-96d7-2970549f0d4b",
        "colab": {
          "base_uri": "https://localhost:8080/",
          "height": 35
        }
      },
      "execution_count": 2,
      "outputs": [
        {
          "output_type": "execute_result",
          "data": {
            "text/plain": [
              "'1.13.1+cu116'"
            ],
            "application/vnd.google.colaboratory.intrinsic+json": {
              "type": "string"
            }
          },
          "metadata": {},
          "execution_count": 2
        }
      ]
    },
    {
      "cell_type": "markdown",
      "metadata": {
        "id": "fykgC3oazthg"
      },
      "source": [
        "# Installation"
      ]
    },
    {
      "cell_type": "markdown",
      "metadata": {
        "id": "m5FLJDwM3VXq"
      },
      "source": [
        "**In Python3.9**: NVIDIA's apex package (for d2go model zoo)"
      ]
    },
    {
      "cell_type": "code",
      "execution_count": 3,
      "metadata": {
        "id": "CA0QB7OP3VXs",
        "outputId": "9413ed5b-9aad-4502-d1f2-2209c9eeb936",
        "colab": {
          "base_uri": "https://localhost:8080/"
        }
      },
      "outputs": [
        {
          "output_type": "stream",
          "name": "stdout",
          "text": [
            "Cloning into 'apex'...\n",
            "remote: Enumerating objects: 10891, done.\u001b[K\n",
            "remote: Counting objects: 100% (17/17), done.\u001b[K\n",
            "remote: Compressing objects: 100% (17/17), done.\u001b[K\n",
            "remote: Total 10891 (delta 6), reused 1 (delta 0), pack-reused 10874\u001b[K\n",
            "Receiving objects: 100% (10891/10891), 15.23 MiB | 27.21 MiB/s, done.\n",
            "Resolving deltas: 100% (7551/7551), done.\n"
          ]
        }
      ],
      "source": [
        "!git clone https://github.com/NVIDIA/apex"
      ]
    },
    {
      "cell_type": "code",
      "execution_count": 4,
      "metadata": {
        "id": "DE2epQ7Z3VXw",
        "outputId": "191857ed-dad7-4f90-bca6-8af90428d4fc",
        "colab": {
          "base_uri": "https://localhost:8080/"
        }
      },
      "outputs": [
        {
          "output_type": "stream",
          "name": "stdout",
          "text": [
            "/content/apex\n"
          ]
        }
      ],
      "source": [
        "cd apex"
      ]
    },
    {
      "cell_type": "code",
      "execution_count": 5,
      "metadata": {
        "id": "5DAsywqd3VXx",
        "outputId": "b82c5199-4f2a-4845-8d5a-be52b0e71bd9",
        "colab": {
          "base_uri": "https://localhost:8080/"
        }
      },
      "outputs": [
        {
          "output_type": "stream",
          "name": "stdout",
          "text": [
            "\n",
            "\n",
            "torch.__version__  = 1.13.1+cu116\n",
            "\n",
            "\n",
            "running install\n",
            "/usr/local/lib/python3.9/dist-packages/setuptools/command/install.py:34: SetuptoolsDeprecationWarning: setup.py install is deprecated. Use build and pip and other standards-based tools.\n",
            "  warnings.warn(\n",
            "/usr/local/lib/python3.9/dist-packages/setuptools/command/easy_install.py:144: EasyInstallDeprecationWarning: easy_install command is deprecated. Use build and pip and other standards-based tools.\n",
            "  warnings.warn(\n",
            "running bdist_egg\n",
            "running egg_info\n",
            "creating apex.egg-info\n",
            "writing apex.egg-info/PKG-INFO\n",
            "writing dependency_links to apex.egg-info/dependency_links.txt\n",
            "writing requirements to apex.egg-info/requires.txt\n",
            "writing top-level names to apex.egg-info/top_level.txt\n",
            "writing manifest file 'apex.egg-info/SOURCES.txt'\n",
            "reading manifest file 'apex.egg-info/SOURCES.txt'\n",
            "adding license file 'LICENSE'\n",
            "writing manifest file 'apex.egg-info/SOURCES.txt'\n",
            "installing library code to build/bdist.linux-x86_64/egg\n",
            "running install_lib\n",
            "running build_py\n",
            "creating build\n",
            "creating build/lib\n",
            "creating build/lib/apex\n",
            "copying apex/__init__.py -> build/lib/apex\n",
            "copying apex/_autocast_utils.py -> build/lib/apex\n",
            "creating build/lib/apex/normalization\n",
            "copying apex/normalization/__init__.py -> build/lib/apex/normalization\n",
            "copying apex/normalization/fused_layer_norm.py -> build/lib/apex/normalization\n",
            "creating build/lib/apex/fp16_utils\n",
            "copying apex/fp16_utils/fp16util.py -> build/lib/apex/fp16_utils\n",
            "copying apex/fp16_utils/fp16_optimizer.py -> build/lib/apex/fp16_utils\n",
            "copying apex/fp16_utils/__init__.py -> build/lib/apex/fp16_utils\n",
            "copying apex/fp16_utils/loss_scaler.py -> build/lib/apex/fp16_utils\n",
            "creating build/lib/apex/parallel\n",
            "copying apex/parallel/sync_batchnorm.py -> build/lib/apex/parallel\n",
            "copying apex/parallel/__init__.py -> build/lib/apex/parallel\n",
            "copying apex/parallel/optimized_sync_batchnorm_kernel.py -> build/lib/apex/parallel\n",
            "copying apex/parallel/optimized_sync_batchnorm.py -> build/lib/apex/parallel\n",
            "copying apex/parallel/multiproc.py -> build/lib/apex/parallel\n",
            "copying apex/parallel/sync_batchnorm_kernel.py -> build/lib/apex/parallel\n",
            "copying apex/parallel/LARC.py -> build/lib/apex/parallel\n",
            "copying apex/parallel/distributed.py -> build/lib/apex/parallel\n",
            "creating build/lib/apex/RNN\n",
            "copying apex/RNN/__init__.py -> build/lib/apex/RNN\n",
            "copying apex/RNN/cells.py -> build/lib/apex/RNN\n",
            "copying apex/RNN/RNNBackend.py -> build/lib/apex/RNN\n",
            "copying apex/RNN/models.py -> build/lib/apex/RNN\n",
            "creating build/lib/apex/amp\n",
            "copying apex/amp/rnn_compat.py -> build/lib/apex/amp\n",
            "copying apex/amp/compat.py -> build/lib/apex/amp\n",
            "copying apex/amp/_amp_state.py -> build/lib/apex/amp\n",
            "copying apex/amp/wrap.py -> build/lib/apex/amp\n",
            "copying apex/amp/amp.py -> build/lib/apex/amp\n",
            "copying apex/amp/_initialize.py -> build/lib/apex/amp\n",
            "copying apex/amp/__init__.py -> build/lib/apex/amp\n",
            "copying apex/amp/__version__.py -> build/lib/apex/amp\n",
            "copying apex/amp/utils.py -> build/lib/apex/amp\n",
            "copying apex/amp/scaler.py -> build/lib/apex/amp\n",
            "copying apex/amp/handle.py -> build/lib/apex/amp\n",
            "copying apex/amp/frontend.py -> build/lib/apex/amp\n",
            "copying apex/amp/opt.py -> build/lib/apex/amp\n",
            "copying apex/amp/_process_optimizer.py -> build/lib/apex/amp\n",
            "creating build/lib/apex/fused_dense\n",
            "copying apex/fused_dense/__init__.py -> build/lib/apex/fused_dense\n",
            "copying apex/fused_dense/fused_dense.py -> build/lib/apex/fused_dense\n",
            "creating build/lib/apex/multi_tensor_apply\n",
            "copying apex/multi_tensor_apply/__init__.py -> build/lib/apex/multi_tensor_apply\n",
            "copying apex/multi_tensor_apply/multi_tensor_apply.py -> build/lib/apex/multi_tensor_apply\n",
            "creating build/lib/apex/contrib\n",
            "copying apex/contrib/__init__.py -> build/lib/apex/contrib\n",
            "creating build/lib/apex/mlp\n",
            "copying apex/mlp/__init__.py -> build/lib/apex/mlp\n",
            "copying apex/mlp/mlp.py -> build/lib/apex/mlp\n",
            "creating build/lib/apex/optimizers\n",
            "copying apex/optimizers/fused_adam.py -> build/lib/apex/optimizers\n",
            "copying apex/optimizers/fused_novograd.py -> build/lib/apex/optimizers\n",
            "copying apex/optimizers/fused_sgd.py -> build/lib/apex/optimizers\n",
            "copying apex/optimizers/fused_adagrad.py -> build/lib/apex/optimizers\n",
            "copying apex/optimizers/__init__.py -> build/lib/apex/optimizers\n",
            "copying apex/optimizers/fused_lamb.py -> build/lib/apex/optimizers\n",
            "copying apex/optimizers/fused_mixed_precision_lamb.py -> build/lib/apex/optimizers\n",
            "creating build/lib/apex/transformer\n",
            "copying apex/transformer/log_util.py -> build/lib/apex/transformer\n",
            "copying apex/transformer/__init__.py -> build/lib/apex/transformer\n",
            "copying apex/transformer/utils.py -> build/lib/apex/transformer\n",
            "copying apex/transformer/microbatches.py -> build/lib/apex/transformer\n",
            "copying apex/transformer/enums.py -> build/lib/apex/transformer\n",
            "copying apex/transformer/_ucc_util.py -> build/lib/apex/transformer\n",
            "copying apex/transformer/parallel_state.py -> build/lib/apex/transformer\n",
            "creating build/lib/apex/amp/lists\n",
            "copying apex/amp/lists/functional_overrides.py -> build/lib/apex/amp/lists\n",
            "copying apex/amp/lists/__init__.py -> build/lib/apex/amp/lists\n",
            "copying apex/amp/lists/torch_overrides.py -> build/lib/apex/amp/lists\n",
            "copying apex/amp/lists/tensor_overrides.py -> build/lib/apex/amp/lists\n",
            "creating build/lib/apex/contrib/index_mul_2d\n",
            "copying apex/contrib/index_mul_2d/__init__.py -> build/lib/apex/contrib/index_mul_2d\n",
            "copying apex/contrib/index_mul_2d/index_mul_2d.py -> build/lib/apex/contrib/index_mul_2d\n",
            "creating build/lib/apex/contrib/peer_memory\n",
            "copying apex/contrib/peer_memory/__init__.py -> build/lib/apex/contrib/peer_memory\n",
            "copying apex/contrib/peer_memory/peer_halo_exchanger_1d.py -> build/lib/apex/contrib/peer_memory\n",
            "copying apex/contrib/peer_memory/peer_memory.py -> build/lib/apex/contrib/peer_memory\n",
            "creating build/lib/apex/contrib/multihead_attn\n",
            "copying apex/contrib/multihead_attn/encdec_multihead_attn_func.py -> build/lib/apex/contrib/multihead_attn\n",
            "copying apex/contrib/multihead_attn/fast_encdec_multihead_attn_func.py -> build/lib/apex/contrib/multihead_attn\n",
            "copying apex/contrib/multihead_attn/encdec_multihead_attn.py -> build/lib/apex/contrib/multihead_attn\n",
            "copying apex/contrib/multihead_attn/__init__.py -> build/lib/apex/contrib/multihead_attn\n",
            "copying apex/contrib/multihead_attn/self_multihead_attn.py -> build/lib/apex/contrib/multihead_attn\n",
            "copying apex/contrib/multihead_attn/fast_encdec_multihead_attn_norm_add_func.py -> build/lib/apex/contrib/multihead_attn\n",
            "copying apex/contrib/multihead_attn/self_multihead_attn_func.py -> build/lib/apex/contrib/multihead_attn\n",
            "copying apex/contrib/multihead_attn/mask_softmax_dropout_func.py -> build/lib/apex/contrib/multihead_attn\n",
            "copying apex/contrib/multihead_attn/fast_self_multihead_attn_norm_add_func.py -> build/lib/apex/contrib/multihead_attn\n",
            "copying apex/contrib/multihead_attn/fast_self_multihead_attn_func.py -> build/lib/apex/contrib/multihead_attn\n",
            "creating build/lib/apex/contrib/bottleneck\n",
            "copying apex/contrib/bottleneck/__init__.py -> build/lib/apex/contrib/bottleneck\n",
            "copying apex/contrib/bottleneck/bottleneck.py -> build/lib/apex/contrib/bottleneck\n",
            "copying apex/contrib/bottleneck/halo_exchangers.py -> build/lib/apex/contrib/bottleneck\n",
            "copying apex/contrib/bottleneck/test.py -> build/lib/apex/contrib/bottleneck\n",
            "creating build/lib/apex/contrib/layer_norm\n",
            "copying apex/contrib/layer_norm/layer_norm.py -> build/lib/apex/contrib/layer_norm\n",
            "copying apex/contrib/layer_norm/__init__.py -> build/lib/apex/contrib/layer_norm\n",
            "creating build/lib/apex/contrib/fmha\n",
            "copying apex/contrib/fmha/__init__.py -> build/lib/apex/contrib/fmha\n",
            "copying apex/contrib/fmha/fmha.py -> build/lib/apex/contrib/fmha\n",
            "creating build/lib/apex/contrib/conv_bias_relu\n",
            "copying apex/contrib/conv_bias_relu/__init__.py -> build/lib/apex/contrib/conv_bias_relu\n",
            "copying apex/contrib/conv_bias_relu/conv_bias_relu.py -> build/lib/apex/contrib/conv_bias_relu\n",
            "creating build/lib/apex/contrib/clip_grad\n",
            "copying apex/contrib/clip_grad/__init__.py -> build/lib/apex/contrib/clip_grad\n",
            "copying apex/contrib/clip_grad/clip_grad.py -> build/lib/apex/contrib/clip_grad\n",
            "creating build/lib/apex/contrib/focal_loss\n",
            "copying apex/contrib/focal_loss/__init__.py -> build/lib/apex/contrib/focal_loss\n",
            "copying apex/contrib/focal_loss/focal_loss.py -> build/lib/apex/contrib/focal_loss\n",
            "creating build/lib/apex/contrib/cudnn_gbn\n",
            "copying apex/contrib/cudnn_gbn/__init__.py -> build/lib/apex/contrib/cudnn_gbn\n",
            "copying apex/contrib/cudnn_gbn/batch_norm.py -> build/lib/apex/contrib/cudnn_gbn\n",
            "creating build/lib/apex/contrib/transducer\n",
            "copying apex/contrib/transducer/__init__.py -> build/lib/apex/contrib/transducer\n",
            "copying apex/contrib/transducer/transducer.py -> build/lib/apex/contrib/transducer\n",
            "copying apex/contrib/transducer/_transducer_ref.py -> build/lib/apex/contrib/transducer\n",
            "creating build/lib/apex/contrib/xentropy\n",
            "copying apex/contrib/xentropy/__init__.py -> build/lib/apex/contrib/xentropy\n",
            "copying apex/contrib/xentropy/softmax_xentropy.py -> build/lib/apex/contrib/xentropy\n",
            "creating build/lib/apex/contrib/test\n",
            "copying apex/contrib/test/__init__.py -> build/lib/apex/contrib/test\n",
            "creating build/lib/apex/contrib/groupbn\n",
            "copying apex/contrib/groupbn/__init__.py -> build/lib/apex/contrib/groupbn\n",
            "copying apex/contrib/groupbn/batch_norm.py -> build/lib/apex/contrib/groupbn\n",
            "creating build/lib/apex/contrib/sparsity\n",
            "copying apex/contrib/sparsity/permutation_lib.py -> build/lib/apex/contrib/sparsity\n",
            "copying apex/contrib/sparsity/__init__.py -> build/lib/apex/contrib/sparsity\n",
            "copying apex/contrib/sparsity/sparse_masklib.py -> build/lib/apex/contrib/sparsity\n",
            "copying apex/contrib/sparsity/asp.py -> build/lib/apex/contrib/sparsity\n",
            "creating build/lib/apex/contrib/optimizers\n",
            "copying apex/contrib/optimizers/distributed_fused_adam.py -> build/lib/apex/contrib/optimizers\n",
            "copying apex/contrib/optimizers/fused_adam.py -> build/lib/apex/contrib/optimizers\n",
            "copying apex/contrib/optimizers/fused_sgd.py -> build/lib/apex/contrib/optimizers\n",
            "copying apex/contrib/optimizers/fp16_optimizer.py -> build/lib/apex/contrib/optimizers\n",
            "copying apex/contrib/optimizers/__init__.py -> build/lib/apex/contrib/optimizers\n",
            "copying apex/contrib/optimizers/fused_lamb.py -> build/lib/apex/contrib/optimizers\n",
            "copying apex/contrib/optimizers/distributed_fused_lamb.py -> build/lib/apex/contrib/optimizers\n",
            "creating build/lib/apex/contrib/test/index_mul_2d\n",
            "copying apex/contrib/test/index_mul_2d/__init__.py -> build/lib/apex/contrib/test/index_mul_2d\n",
            "copying apex/contrib/test/index_mul_2d/test_index_mul_2d.py -> build/lib/apex/contrib/test/index_mul_2d\n",
            "creating build/lib/apex/contrib/test/peer_memory\n",
            "copying apex/contrib/test/peer_memory/__init__.py -> build/lib/apex/contrib/test/peer_memory\n",
            "copying apex/contrib/test/peer_memory/test_peer_halo_exchange_module.py -> build/lib/apex/contrib/test/peer_memory\n",
            "creating build/lib/apex/contrib/test/multihead_attn\n",
            "copying apex/contrib/test/multihead_attn/test_self_multihead_attn.py -> build/lib/apex/contrib/test/multihead_attn\n",
            "copying apex/contrib/test/multihead_attn/test_self_multihead_attn_norm_add.py -> build/lib/apex/contrib/test/multihead_attn\n",
            "copying apex/contrib/test/multihead_attn/__init__.py -> build/lib/apex/contrib/test/multihead_attn\n",
            "copying apex/contrib/test/multihead_attn/test_encdec_multihead_attn_norm_add.py -> build/lib/apex/contrib/test/multihead_attn\n",
            "copying apex/contrib/test/multihead_attn/test_fast_self_multihead_attn_bias.py -> build/lib/apex/contrib/test/multihead_attn\n",
            "copying apex/contrib/test/multihead_attn/test_mha_fused_softmax.py -> build/lib/apex/contrib/test/multihead_attn\n",
            "copying apex/contrib/test/multihead_attn/test_encdec_multihead_attn.py -> build/lib/apex/contrib/test/multihead_attn\n",
            "creating build/lib/apex/contrib/test/bottleneck\n",
            "copying apex/contrib/test/bottleneck/test_bottleneck_module.py -> build/lib/apex/contrib/test/bottleneck\n",
            "copying apex/contrib/test/bottleneck/__init__.py -> build/lib/apex/contrib/test/bottleneck\n",
            "creating build/lib/apex/contrib/test/layer_norm\n",
            "copying apex/contrib/test/layer_norm/test_fast_layer_norm.py -> build/lib/apex/contrib/test/layer_norm\n",
            "copying apex/contrib/test/layer_norm/__init__.py -> build/lib/apex/contrib/test/layer_norm\n",
            "creating build/lib/apex/contrib/test/fmha\n",
            "copying apex/contrib/test/fmha/test_fmha.py -> build/lib/apex/contrib/test/fmha\n",
            "copying apex/contrib/test/fmha/__init__.py -> build/lib/apex/contrib/test/fmha\n",
            "creating build/lib/apex/contrib/test/conv_bias_relu\n",
            "copying apex/contrib/test/conv_bias_relu/__init__.py -> build/lib/apex/contrib/test/conv_bias_relu\n",
            "copying apex/contrib/test/conv_bias_relu/test_conv_bias_relu.py -> build/lib/apex/contrib/test/conv_bias_relu\n",
            "creating build/lib/apex/contrib/test/clip_grad\n",
            "copying apex/contrib/test/clip_grad/test_clip_grad.py -> build/lib/apex/contrib/test/clip_grad\n",
            "copying apex/contrib/test/clip_grad/__init__.py -> build/lib/apex/contrib/test/clip_grad\n",
            "creating build/lib/apex/contrib/test/focal_loss\n",
            "copying apex/contrib/test/focal_loss/test_focal_loss.py -> build/lib/apex/contrib/test/focal_loss\n",
            "copying apex/contrib/test/focal_loss/__init__.py -> build/lib/apex/contrib/test/focal_loss\n",
            "creating build/lib/apex/contrib/test/cudnn_gbn\n",
            "copying apex/contrib/test/cudnn_gbn/test_cudnn_gbn_with_two_gpus.py -> build/lib/apex/contrib/test/cudnn_gbn\n",
            "copying apex/contrib/test/cudnn_gbn/__init__.py -> build/lib/apex/contrib/test/cudnn_gbn\n",
            "creating build/lib/apex/contrib/test/transducer\n",
            "copying apex/contrib/test/transducer/test_transducer_loss.py -> build/lib/apex/contrib/test/transducer\n",
            "copying apex/contrib/test/transducer/__init__.py -> build/lib/apex/contrib/test/transducer\n",
            "copying apex/contrib/test/transducer/test_transducer_joint.py -> build/lib/apex/contrib/test/transducer\n",
            "creating build/lib/apex/contrib/test/xentropy\n",
            "copying apex/contrib/test/xentropy/test_label_smoothing.py -> build/lib/apex/contrib/test/xentropy\n",
            "copying apex/contrib/test/xentropy/__init__.py -> build/lib/apex/contrib/test/xentropy\n",
            "creating build/lib/apex/contrib/test/optimizers\n",
            "copying apex/contrib/test/optimizers/test_dist_adam.py -> build/lib/apex/contrib/test/optimizers\n",
            "copying apex/contrib/test/optimizers/test_distributed_fused_lamb.py -> build/lib/apex/contrib/test/optimizers\n",
            "copying apex/contrib/test/optimizers/__init__.py -> build/lib/apex/contrib/test/optimizers\n",
            "creating build/lib/apex/contrib/sparsity/permutation_search_kernels\n",
            "copying apex/contrib/sparsity/permutation_search_kernels/__init__.py -> build/lib/apex/contrib/sparsity/permutation_search_kernels\n",
            "copying apex/contrib/sparsity/permutation_search_kernels/channel_swap.py -> build/lib/apex/contrib/sparsity/permutation_search_kernels\n",
            "copying apex/contrib/sparsity/permutation_search_kernels/exhaustive_search.py -> build/lib/apex/contrib/sparsity/permutation_search_kernels\n",
            "copying apex/contrib/sparsity/permutation_search_kernels/call_permutation_search_kernels.py -> build/lib/apex/contrib/sparsity/permutation_search_kernels\n",
            "copying apex/contrib/sparsity/permutation_search_kernels/permutation_utilities.py -> build/lib/apex/contrib/sparsity/permutation_search_kernels\n",
            "creating build/lib/apex/transformer/_data\n",
            "copying apex/transformer/_data/__init__.py -> build/lib/apex/transformer/_data\n",
            "copying apex/transformer/_data/_batchsampler.py -> build/lib/apex/transformer/_data\n",
            "creating build/lib/apex/transformer/layers\n",
            "copying apex/transformer/layers/layer_norm.py -> build/lib/apex/transformer/layers\n",
            "copying apex/transformer/layers/__init__.py -> build/lib/apex/transformer/layers\n",
            "creating build/lib/apex/transformer/pipeline_parallel\n",
            "copying apex/transformer/pipeline_parallel/__init__.py -> build/lib/apex/transformer/pipeline_parallel\n",
            "copying apex/transformer/pipeline_parallel/utils.py -> build/lib/apex/transformer/pipeline_parallel\n",
            "copying apex/transformer/pipeline_parallel/_timers.py -> build/lib/apex/transformer/pipeline_parallel\n",
            "copying apex/transformer/pipeline_parallel/p2p_communication.py -> build/lib/apex/transformer/pipeline_parallel\n",
            "creating build/lib/apex/transformer/tensor_parallel\n",
            "copying apex/transformer/tensor_parallel/layers.py -> build/lib/apex/transformer/tensor_parallel\n",
            "copying apex/transformer/tensor_parallel/data.py -> build/lib/apex/transformer/tensor_parallel\n",
            "copying apex/transformer/tensor_parallel/__init__.py -> build/lib/apex/transformer/tensor_parallel\n",
            "copying apex/transformer/tensor_parallel/utils.py -> build/lib/apex/transformer/tensor_parallel\n",
            "copying apex/transformer/tensor_parallel/cross_entropy.py -> build/lib/apex/transformer/tensor_parallel\n",
            "copying apex/transformer/tensor_parallel/random.py -> build/lib/apex/transformer/tensor_parallel\n",
            "copying apex/transformer/tensor_parallel/memory.py -> build/lib/apex/transformer/tensor_parallel\n",
            "copying apex/transformer/tensor_parallel/mappings.py -> build/lib/apex/transformer/tensor_parallel\n",
            "creating build/lib/apex/transformer/testing\n",
            "copying apex/transformer/testing/standalone_bert.py -> build/lib/apex/transformer/testing\n",
            "copying apex/transformer/testing/standalone_transformer_lm.py -> build/lib/apex/transformer/testing\n",
            "copying apex/transformer/testing/__init__.py -> build/lib/apex/transformer/testing\n",
            "copying apex/transformer/testing/arguments.py -> build/lib/apex/transformer/testing\n",
            "copying apex/transformer/testing/commons.py -> build/lib/apex/transformer/testing\n",
            "copying apex/transformer/testing/standalone_gpt.py -> build/lib/apex/transformer/testing\n",
            "copying apex/transformer/testing/global_vars.py -> build/lib/apex/transformer/testing\n",
            "copying apex/transformer/testing/distributed_test_base.py -> build/lib/apex/transformer/testing\n",
            "creating build/lib/apex/transformer/functional\n",
            "copying apex/transformer/functional/fused_softmax.py -> build/lib/apex/transformer/functional\n",
            "copying apex/transformer/functional/__init__.py -> build/lib/apex/transformer/functional\n",
            "creating build/lib/apex/transformer/amp\n",
            "copying apex/transformer/amp/__init__.py -> build/lib/apex/transformer/amp\n",
            "copying apex/transformer/amp/grad_scaler.py -> build/lib/apex/transformer/amp\n",
            "creating build/lib/apex/transformer/pipeline_parallel/schedules\n",
            "copying apex/transformer/pipeline_parallel/schedules/fwd_bwd_no_pipelining.py -> build/lib/apex/transformer/pipeline_parallel/schedules\n",
            "copying apex/transformer/pipeline_parallel/schedules/__init__.py -> build/lib/apex/transformer/pipeline_parallel/schedules\n",
            "copying apex/transformer/pipeline_parallel/schedules/common.py -> build/lib/apex/transformer/pipeline_parallel/schedules\n",
            "copying apex/transformer/pipeline_parallel/schedules/fwd_bwd_pipelining_with_interleaving.py -> build/lib/apex/transformer/pipeline_parallel/schedules\n",
            "copying apex/transformer/pipeline_parallel/schedules/fwd_bwd_pipelining_without_interleaving.py -> build/lib/apex/transformer/pipeline_parallel/schedules\n",
            "creating build/bdist.linux-x86_64\n",
            "creating build/bdist.linux-x86_64/egg\n",
            "creating build/bdist.linux-x86_64/egg/apex\n",
            "creating build/bdist.linux-x86_64/egg/apex/normalization\n",
            "copying build/lib/apex/normalization/__init__.py -> build/bdist.linux-x86_64/egg/apex/normalization\n",
            "copying build/lib/apex/normalization/fused_layer_norm.py -> build/bdist.linux-x86_64/egg/apex/normalization\n",
            "creating build/bdist.linux-x86_64/egg/apex/fp16_utils\n",
            "copying build/lib/apex/fp16_utils/fp16util.py -> build/bdist.linux-x86_64/egg/apex/fp16_utils\n",
            "copying build/lib/apex/fp16_utils/fp16_optimizer.py -> build/bdist.linux-x86_64/egg/apex/fp16_utils\n",
            "copying build/lib/apex/fp16_utils/__init__.py -> build/bdist.linux-x86_64/egg/apex/fp16_utils\n",
            "copying build/lib/apex/fp16_utils/loss_scaler.py -> build/bdist.linux-x86_64/egg/apex/fp16_utils\n",
            "creating build/bdist.linux-x86_64/egg/apex/parallel\n",
            "copying build/lib/apex/parallel/sync_batchnorm.py -> build/bdist.linux-x86_64/egg/apex/parallel\n",
            "copying build/lib/apex/parallel/__init__.py -> build/bdist.linux-x86_64/egg/apex/parallel\n",
            "copying build/lib/apex/parallel/optimized_sync_batchnorm_kernel.py -> build/bdist.linux-x86_64/egg/apex/parallel\n",
            "copying build/lib/apex/parallel/optimized_sync_batchnorm.py -> build/bdist.linux-x86_64/egg/apex/parallel\n",
            "copying build/lib/apex/parallel/multiproc.py -> build/bdist.linux-x86_64/egg/apex/parallel\n",
            "copying build/lib/apex/parallel/sync_batchnorm_kernel.py -> build/bdist.linux-x86_64/egg/apex/parallel\n",
            "copying build/lib/apex/parallel/LARC.py -> build/bdist.linux-x86_64/egg/apex/parallel\n",
            "copying build/lib/apex/parallel/distributed.py -> build/bdist.linux-x86_64/egg/apex/parallel\n",
            "copying build/lib/apex/__init__.py -> build/bdist.linux-x86_64/egg/apex\n",
            "creating build/bdist.linux-x86_64/egg/apex/RNN\n",
            "copying build/lib/apex/RNN/__init__.py -> build/bdist.linux-x86_64/egg/apex/RNN\n",
            "copying build/lib/apex/RNN/cells.py -> build/bdist.linux-x86_64/egg/apex/RNN\n",
            "copying build/lib/apex/RNN/RNNBackend.py -> build/bdist.linux-x86_64/egg/apex/RNN\n",
            "copying build/lib/apex/RNN/models.py -> build/bdist.linux-x86_64/egg/apex/RNN\n",
            "creating build/bdist.linux-x86_64/egg/apex/amp\n",
            "copying build/lib/apex/amp/rnn_compat.py -> build/bdist.linux-x86_64/egg/apex/amp\n",
            "copying build/lib/apex/amp/compat.py -> build/bdist.linux-x86_64/egg/apex/amp\n",
            "copying build/lib/apex/amp/_amp_state.py -> build/bdist.linux-x86_64/egg/apex/amp\n",
            "copying build/lib/apex/amp/wrap.py -> build/bdist.linux-x86_64/egg/apex/amp\n",
            "copying build/lib/apex/amp/amp.py -> build/bdist.linux-x86_64/egg/apex/amp\n",
            "copying build/lib/apex/amp/_initialize.py -> build/bdist.linux-x86_64/egg/apex/amp\n",
            "copying build/lib/apex/amp/__init__.py -> build/bdist.linux-x86_64/egg/apex/amp\n",
            "copying build/lib/apex/amp/__version__.py -> build/bdist.linux-x86_64/egg/apex/amp\n",
            "copying build/lib/apex/amp/utils.py -> build/bdist.linux-x86_64/egg/apex/amp\n",
            "copying build/lib/apex/amp/scaler.py -> build/bdist.linux-x86_64/egg/apex/amp\n",
            "copying build/lib/apex/amp/handle.py -> build/bdist.linux-x86_64/egg/apex/amp\n",
            "copying build/lib/apex/amp/frontend.py -> build/bdist.linux-x86_64/egg/apex/amp\n",
            "copying build/lib/apex/amp/opt.py -> build/bdist.linux-x86_64/egg/apex/amp\n",
            "copying build/lib/apex/amp/_process_optimizer.py -> build/bdist.linux-x86_64/egg/apex/amp\n",
            "creating build/bdist.linux-x86_64/egg/apex/amp/lists\n",
            "copying build/lib/apex/amp/lists/functional_overrides.py -> build/bdist.linux-x86_64/egg/apex/amp/lists\n",
            "copying build/lib/apex/amp/lists/__init__.py -> build/bdist.linux-x86_64/egg/apex/amp/lists\n",
            "copying build/lib/apex/amp/lists/torch_overrides.py -> build/bdist.linux-x86_64/egg/apex/amp/lists\n",
            "copying build/lib/apex/amp/lists/tensor_overrides.py -> build/bdist.linux-x86_64/egg/apex/amp/lists\n",
            "copying build/lib/apex/_autocast_utils.py -> build/bdist.linux-x86_64/egg/apex\n",
            "creating build/bdist.linux-x86_64/egg/apex/fused_dense\n",
            "copying build/lib/apex/fused_dense/__init__.py -> build/bdist.linux-x86_64/egg/apex/fused_dense\n",
            "copying build/lib/apex/fused_dense/fused_dense.py -> build/bdist.linux-x86_64/egg/apex/fused_dense\n",
            "creating build/bdist.linux-x86_64/egg/apex/multi_tensor_apply\n",
            "copying build/lib/apex/multi_tensor_apply/__init__.py -> build/bdist.linux-x86_64/egg/apex/multi_tensor_apply\n",
            "copying build/lib/apex/multi_tensor_apply/multi_tensor_apply.py -> build/bdist.linux-x86_64/egg/apex/multi_tensor_apply\n",
            "creating build/bdist.linux-x86_64/egg/apex/contrib\n",
            "creating build/bdist.linux-x86_64/egg/apex/contrib/index_mul_2d\n",
            "copying build/lib/apex/contrib/index_mul_2d/__init__.py -> build/bdist.linux-x86_64/egg/apex/contrib/index_mul_2d\n",
            "copying build/lib/apex/contrib/index_mul_2d/index_mul_2d.py -> build/bdist.linux-x86_64/egg/apex/contrib/index_mul_2d\n",
            "creating build/bdist.linux-x86_64/egg/apex/contrib/peer_memory\n",
            "copying build/lib/apex/contrib/peer_memory/__init__.py -> build/bdist.linux-x86_64/egg/apex/contrib/peer_memory\n",
            "copying build/lib/apex/contrib/peer_memory/peer_halo_exchanger_1d.py -> build/bdist.linux-x86_64/egg/apex/contrib/peer_memory\n",
            "copying build/lib/apex/contrib/peer_memory/peer_memory.py -> build/bdist.linux-x86_64/egg/apex/contrib/peer_memory\n",
            "copying build/lib/apex/contrib/__init__.py -> build/bdist.linux-x86_64/egg/apex/contrib\n",
            "creating build/bdist.linux-x86_64/egg/apex/contrib/multihead_attn\n",
            "copying build/lib/apex/contrib/multihead_attn/encdec_multihead_attn_func.py -> build/bdist.linux-x86_64/egg/apex/contrib/multihead_attn\n",
            "copying build/lib/apex/contrib/multihead_attn/fast_encdec_multihead_attn_func.py -> build/bdist.linux-x86_64/egg/apex/contrib/multihead_attn\n",
            "copying build/lib/apex/contrib/multihead_attn/encdec_multihead_attn.py -> build/bdist.linux-x86_64/egg/apex/contrib/multihead_attn\n",
            "copying build/lib/apex/contrib/multihead_attn/__init__.py -> build/bdist.linux-x86_64/egg/apex/contrib/multihead_attn\n",
            "copying build/lib/apex/contrib/multihead_attn/self_multihead_attn.py -> build/bdist.linux-x86_64/egg/apex/contrib/multihead_attn\n",
            "copying build/lib/apex/contrib/multihead_attn/fast_encdec_multihead_attn_norm_add_func.py -> build/bdist.linux-x86_64/egg/apex/contrib/multihead_attn\n",
            "copying build/lib/apex/contrib/multihead_attn/self_multihead_attn_func.py -> build/bdist.linux-x86_64/egg/apex/contrib/multihead_attn\n",
            "copying build/lib/apex/contrib/multihead_attn/mask_softmax_dropout_func.py -> build/bdist.linux-x86_64/egg/apex/contrib/multihead_attn\n",
            "copying build/lib/apex/contrib/multihead_attn/fast_self_multihead_attn_norm_add_func.py -> build/bdist.linux-x86_64/egg/apex/contrib/multihead_attn\n",
            "copying build/lib/apex/contrib/multihead_attn/fast_self_multihead_attn_func.py -> build/bdist.linux-x86_64/egg/apex/contrib/multihead_attn\n",
            "creating build/bdist.linux-x86_64/egg/apex/contrib/bottleneck\n",
            "copying build/lib/apex/contrib/bottleneck/__init__.py -> build/bdist.linux-x86_64/egg/apex/contrib/bottleneck\n",
            "copying build/lib/apex/contrib/bottleneck/bottleneck.py -> build/bdist.linux-x86_64/egg/apex/contrib/bottleneck\n",
            "copying build/lib/apex/contrib/bottleneck/halo_exchangers.py -> build/bdist.linux-x86_64/egg/apex/contrib/bottleneck\n",
            "copying build/lib/apex/contrib/bottleneck/test.py -> build/bdist.linux-x86_64/egg/apex/contrib/bottleneck\n",
            "creating build/bdist.linux-x86_64/egg/apex/contrib/layer_norm\n",
            "copying build/lib/apex/contrib/layer_norm/layer_norm.py -> build/bdist.linux-x86_64/egg/apex/contrib/layer_norm\n",
            "copying build/lib/apex/contrib/layer_norm/__init__.py -> build/bdist.linux-x86_64/egg/apex/contrib/layer_norm\n",
            "creating build/bdist.linux-x86_64/egg/apex/contrib/fmha\n",
            "copying build/lib/apex/contrib/fmha/__init__.py -> build/bdist.linux-x86_64/egg/apex/contrib/fmha\n",
            "copying build/lib/apex/contrib/fmha/fmha.py -> build/bdist.linux-x86_64/egg/apex/contrib/fmha\n",
            "creating build/bdist.linux-x86_64/egg/apex/contrib/conv_bias_relu\n",
            "copying build/lib/apex/contrib/conv_bias_relu/__init__.py -> build/bdist.linux-x86_64/egg/apex/contrib/conv_bias_relu\n",
            "copying build/lib/apex/contrib/conv_bias_relu/conv_bias_relu.py -> build/bdist.linux-x86_64/egg/apex/contrib/conv_bias_relu\n",
            "creating build/bdist.linux-x86_64/egg/apex/contrib/clip_grad\n",
            "copying build/lib/apex/contrib/clip_grad/__init__.py -> build/bdist.linux-x86_64/egg/apex/contrib/clip_grad\n",
            "copying build/lib/apex/contrib/clip_grad/clip_grad.py -> build/bdist.linux-x86_64/egg/apex/contrib/clip_grad\n",
            "creating build/bdist.linux-x86_64/egg/apex/contrib/focal_loss\n",
            "copying build/lib/apex/contrib/focal_loss/__init__.py -> build/bdist.linux-x86_64/egg/apex/contrib/focal_loss\n",
            "copying build/lib/apex/contrib/focal_loss/focal_loss.py -> build/bdist.linux-x86_64/egg/apex/contrib/focal_loss\n",
            "creating build/bdist.linux-x86_64/egg/apex/contrib/cudnn_gbn\n",
            "copying build/lib/apex/contrib/cudnn_gbn/__init__.py -> build/bdist.linux-x86_64/egg/apex/contrib/cudnn_gbn\n",
            "copying build/lib/apex/contrib/cudnn_gbn/batch_norm.py -> build/bdist.linux-x86_64/egg/apex/contrib/cudnn_gbn\n",
            "creating build/bdist.linux-x86_64/egg/apex/contrib/transducer\n",
            "copying build/lib/apex/contrib/transducer/__init__.py -> build/bdist.linux-x86_64/egg/apex/contrib/transducer\n",
            "copying build/lib/apex/contrib/transducer/transducer.py -> build/bdist.linux-x86_64/egg/apex/contrib/transducer\n",
            "copying build/lib/apex/contrib/transducer/_transducer_ref.py -> build/bdist.linux-x86_64/egg/apex/contrib/transducer\n",
            "creating build/bdist.linux-x86_64/egg/apex/contrib/xentropy\n",
            "copying build/lib/apex/contrib/xentropy/__init__.py -> build/bdist.linux-x86_64/egg/apex/contrib/xentropy\n",
            "copying build/lib/apex/contrib/xentropy/softmax_xentropy.py -> build/bdist.linux-x86_64/egg/apex/contrib/xentropy\n",
            "creating build/bdist.linux-x86_64/egg/apex/contrib/test\n",
            "creating build/bdist.linux-x86_64/egg/apex/contrib/test/index_mul_2d\n",
            "copying build/lib/apex/contrib/test/index_mul_2d/__init__.py -> build/bdist.linux-x86_64/egg/apex/contrib/test/index_mul_2d\n",
            "copying build/lib/apex/contrib/test/index_mul_2d/test_index_mul_2d.py -> build/bdist.linux-x86_64/egg/apex/contrib/test/index_mul_2d\n",
            "creating build/bdist.linux-x86_64/egg/apex/contrib/test/peer_memory\n",
            "copying build/lib/apex/contrib/test/peer_memory/__init__.py -> build/bdist.linux-x86_64/egg/apex/contrib/test/peer_memory\n",
            "copying build/lib/apex/contrib/test/peer_memory/test_peer_halo_exchange_module.py -> build/bdist.linux-x86_64/egg/apex/contrib/test/peer_memory\n",
            "copying build/lib/apex/contrib/test/__init__.py -> build/bdist.linux-x86_64/egg/apex/contrib/test\n",
            "creating build/bdist.linux-x86_64/egg/apex/contrib/test/multihead_attn\n",
            "copying build/lib/apex/contrib/test/multihead_attn/test_self_multihead_attn.py -> build/bdist.linux-x86_64/egg/apex/contrib/test/multihead_attn\n",
            "copying build/lib/apex/contrib/test/multihead_attn/test_self_multihead_attn_norm_add.py -> build/bdist.linux-x86_64/egg/apex/contrib/test/multihead_attn\n",
            "copying build/lib/apex/contrib/test/multihead_attn/__init__.py -> build/bdist.linux-x86_64/egg/apex/contrib/test/multihead_attn\n",
            "copying build/lib/apex/contrib/test/multihead_attn/test_encdec_multihead_attn_norm_add.py -> build/bdist.linux-x86_64/egg/apex/contrib/test/multihead_attn\n",
            "copying build/lib/apex/contrib/test/multihead_attn/test_fast_self_multihead_attn_bias.py -> build/bdist.linux-x86_64/egg/apex/contrib/test/multihead_attn\n",
            "copying build/lib/apex/contrib/test/multihead_attn/test_mha_fused_softmax.py -> build/bdist.linux-x86_64/egg/apex/contrib/test/multihead_attn\n",
            "copying build/lib/apex/contrib/test/multihead_attn/test_encdec_multihead_attn.py -> build/bdist.linux-x86_64/egg/apex/contrib/test/multihead_attn\n",
            "creating build/bdist.linux-x86_64/egg/apex/contrib/test/bottleneck\n",
            "copying build/lib/apex/contrib/test/bottleneck/test_bottleneck_module.py -> build/bdist.linux-x86_64/egg/apex/contrib/test/bottleneck\n",
            "copying build/lib/apex/contrib/test/bottleneck/__init__.py -> build/bdist.linux-x86_64/egg/apex/contrib/test/bottleneck\n",
            "creating build/bdist.linux-x86_64/egg/apex/contrib/test/layer_norm\n",
            "copying build/lib/apex/contrib/test/layer_norm/test_fast_layer_norm.py -> build/bdist.linux-x86_64/egg/apex/contrib/test/layer_norm\n",
            "copying build/lib/apex/contrib/test/layer_norm/__init__.py -> build/bdist.linux-x86_64/egg/apex/contrib/test/layer_norm\n",
            "creating build/bdist.linux-x86_64/egg/apex/contrib/test/fmha\n",
            "copying build/lib/apex/contrib/test/fmha/test_fmha.py -> build/bdist.linux-x86_64/egg/apex/contrib/test/fmha\n",
            "copying build/lib/apex/contrib/test/fmha/__init__.py -> build/bdist.linux-x86_64/egg/apex/contrib/test/fmha\n",
            "creating build/bdist.linux-x86_64/egg/apex/contrib/test/conv_bias_relu\n",
            "copying build/lib/apex/contrib/test/conv_bias_relu/__init__.py -> build/bdist.linux-x86_64/egg/apex/contrib/test/conv_bias_relu\n",
            "copying build/lib/apex/contrib/test/conv_bias_relu/test_conv_bias_relu.py -> build/bdist.linux-x86_64/egg/apex/contrib/test/conv_bias_relu\n",
            "creating build/bdist.linux-x86_64/egg/apex/contrib/test/clip_grad\n",
            "copying build/lib/apex/contrib/test/clip_grad/test_clip_grad.py -> build/bdist.linux-x86_64/egg/apex/contrib/test/clip_grad\n",
            "copying build/lib/apex/contrib/test/clip_grad/__init__.py -> build/bdist.linux-x86_64/egg/apex/contrib/test/clip_grad\n",
            "creating build/bdist.linux-x86_64/egg/apex/contrib/test/focal_loss\n",
            "copying build/lib/apex/contrib/test/focal_loss/test_focal_loss.py -> build/bdist.linux-x86_64/egg/apex/contrib/test/focal_loss\n",
            "copying build/lib/apex/contrib/test/focal_loss/__init__.py -> build/bdist.linux-x86_64/egg/apex/contrib/test/focal_loss\n",
            "creating build/bdist.linux-x86_64/egg/apex/contrib/test/cudnn_gbn\n",
            "copying build/lib/apex/contrib/test/cudnn_gbn/test_cudnn_gbn_with_two_gpus.py -> build/bdist.linux-x86_64/egg/apex/contrib/test/cudnn_gbn\n",
            "copying build/lib/apex/contrib/test/cudnn_gbn/__init__.py -> build/bdist.linux-x86_64/egg/apex/contrib/test/cudnn_gbn\n",
            "creating build/bdist.linux-x86_64/egg/apex/contrib/test/transducer\n",
            "copying build/lib/apex/contrib/test/transducer/test_transducer_loss.py -> build/bdist.linux-x86_64/egg/apex/contrib/test/transducer\n",
            "copying build/lib/apex/contrib/test/transducer/__init__.py -> build/bdist.linux-x86_64/egg/apex/contrib/test/transducer\n",
            "copying build/lib/apex/contrib/test/transducer/test_transducer_joint.py -> build/bdist.linux-x86_64/egg/apex/contrib/test/transducer\n",
            "creating build/bdist.linux-x86_64/egg/apex/contrib/test/xentropy\n",
            "copying build/lib/apex/contrib/test/xentropy/test_label_smoothing.py -> build/bdist.linux-x86_64/egg/apex/contrib/test/xentropy\n",
            "copying build/lib/apex/contrib/test/xentropy/__init__.py -> build/bdist.linux-x86_64/egg/apex/contrib/test/xentropy\n",
            "creating build/bdist.linux-x86_64/egg/apex/contrib/test/optimizers\n",
            "copying build/lib/apex/contrib/test/optimizers/test_dist_adam.py -> build/bdist.linux-x86_64/egg/apex/contrib/test/optimizers\n",
            "copying build/lib/apex/contrib/test/optimizers/test_distributed_fused_lamb.py -> build/bdist.linux-x86_64/egg/apex/contrib/test/optimizers\n",
            "copying build/lib/apex/contrib/test/optimizers/__init__.py -> build/bdist.linux-x86_64/egg/apex/contrib/test/optimizers\n",
            "creating build/bdist.linux-x86_64/egg/apex/contrib/groupbn\n",
            "copying build/lib/apex/contrib/groupbn/__init__.py -> build/bdist.linux-x86_64/egg/apex/contrib/groupbn\n",
            "copying build/lib/apex/contrib/groupbn/batch_norm.py -> build/bdist.linux-x86_64/egg/apex/contrib/groupbn\n",
            "creating build/bdist.linux-x86_64/egg/apex/contrib/sparsity\n",
            "copying build/lib/apex/contrib/sparsity/permutation_lib.py -> build/bdist.linux-x86_64/egg/apex/contrib/sparsity\n",
            "creating build/bdist.linux-x86_64/egg/apex/contrib/sparsity/permutation_search_kernels\n",
            "copying build/lib/apex/contrib/sparsity/permutation_search_kernels/__init__.py -> build/bdist.linux-x86_64/egg/apex/contrib/sparsity/permutation_search_kernels\n",
            "copying build/lib/apex/contrib/sparsity/permutation_search_kernels/channel_swap.py -> build/bdist.linux-x86_64/egg/apex/contrib/sparsity/permutation_search_kernels\n",
            "copying build/lib/apex/contrib/sparsity/permutation_search_kernels/exhaustive_search.py -> build/bdist.linux-x86_64/egg/apex/contrib/sparsity/permutation_search_kernels\n",
            "copying build/lib/apex/contrib/sparsity/permutation_search_kernels/call_permutation_search_kernels.py -> build/bdist.linux-x86_64/egg/apex/contrib/sparsity/permutation_search_kernels\n",
            "copying build/lib/apex/contrib/sparsity/permutation_search_kernels/permutation_utilities.py -> build/bdist.linux-x86_64/egg/apex/contrib/sparsity/permutation_search_kernels\n",
            "copying build/lib/apex/contrib/sparsity/__init__.py -> build/bdist.linux-x86_64/egg/apex/contrib/sparsity\n",
            "copying build/lib/apex/contrib/sparsity/sparse_masklib.py -> build/bdist.linux-x86_64/egg/apex/contrib/sparsity\n",
            "copying build/lib/apex/contrib/sparsity/asp.py -> build/bdist.linux-x86_64/egg/apex/contrib/sparsity\n",
            "creating build/bdist.linux-x86_64/egg/apex/contrib/optimizers\n",
            "copying build/lib/apex/contrib/optimizers/distributed_fused_adam.py -> build/bdist.linux-x86_64/egg/apex/contrib/optimizers\n",
            "copying build/lib/apex/contrib/optimizers/fused_adam.py -> build/bdist.linux-x86_64/egg/apex/contrib/optimizers\n",
            "copying build/lib/apex/contrib/optimizers/fused_sgd.py -> build/bdist.linux-x86_64/egg/apex/contrib/optimizers\n",
            "copying build/lib/apex/contrib/optimizers/fp16_optimizer.py -> build/bdist.linux-x86_64/egg/apex/contrib/optimizers\n",
            "copying build/lib/apex/contrib/optimizers/__init__.py -> build/bdist.linux-x86_64/egg/apex/contrib/optimizers\n",
            "copying build/lib/apex/contrib/optimizers/fused_lamb.py -> build/bdist.linux-x86_64/egg/apex/contrib/optimizers\n",
            "copying build/lib/apex/contrib/optimizers/distributed_fused_lamb.py -> build/bdist.linux-x86_64/egg/apex/contrib/optimizers\n",
            "creating build/bdist.linux-x86_64/egg/apex/mlp\n",
            "copying build/lib/apex/mlp/__init__.py -> build/bdist.linux-x86_64/egg/apex/mlp\n",
            "copying build/lib/apex/mlp/mlp.py -> build/bdist.linux-x86_64/egg/apex/mlp\n",
            "creating build/bdist.linux-x86_64/egg/apex/optimizers\n",
            "copying build/lib/apex/optimizers/fused_adam.py -> build/bdist.linux-x86_64/egg/apex/optimizers\n",
            "copying build/lib/apex/optimizers/fused_novograd.py -> build/bdist.linux-x86_64/egg/apex/optimizers\n",
            "copying build/lib/apex/optimizers/fused_sgd.py -> build/bdist.linux-x86_64/egg/apex/optimizers\n",
            "copying build/lib/apex/optimizers/fused_adagrad.py -> build/bdist.linux-x86_64/egg/apex/optimizers\n",
            "copying build/lib/apex/optimizers/__init__.py -> build/bdist.linux-x86_64/egg/apex/optimizers\n",
            "copying build/lib/apex/optimizers/fused_lamb.py -> build/bdist.linux-x86_64/egg/apex/optimizers\n",
            "copying build/lib/apex/optimizers/fused_mixed_precision_lamb.py -> build/bdist.linux-x86_64/egg/apex/optimizers\n",
            "creating build/bdist.linux-x86_64/egg/apex/transformer\n",
            "creating build/bdist.linux-x86_64/egg/apex/transformer/_data\n",
            "copying build/lib/apex/transformer/_data/__init__.py -> build/bdist.linux-x86_64/egg/apex/transformer/_data\n",
            "copying build/lib/apex/transformer/_data/_batchsampler.py -> build/bdist.linux-x86_64/egg/apex/transformer/_data\n",
            "copying build/lib/apex/transformer/log_util.py -> build/bdist.linux-x86_64/egg/apex/transformer\n",
            "creating build/bdist.linux-x86_64/egg/apex/transformer/layers\n",
            "copying build/lib/apex/transformer/layers/layer_norm.py -> build/bdist.linux-x86_64/egg/apex/transformer/layers\n",
            "copying build/lib/apex/transformer/layers/__init__.py -> build/bdist.linux-x86_64/egg/apex/transformer/layers\n",
            "creating build/bdist.linux-x86_64/egg/apex/transformer/pipeline_parallel\n",
            "copying build/lib/apex/transformer/pipeline_parallel/__init__.py -> build/bdist.linux-x86_64/egg/apex/transformer/pipeline_parallel\n",
            "copying build/lib/apex/transformer/pipeline_parallel/utils.py -> build/bdist.linux-x86_64/egg/apex/transformer/pipeline_parallel\n",
            "copying build/lib/apex/transformer/pipeline_parallel/_timers.py -> build/bdist.linux-x86_64/egg/apex/transformer/pipeline_parallel\n",
            "copying build/lib/apex/transformer/pipeline_parallel/p2p_communication.py -> build/bdist.linux-x86_64/egg/apex/transformer/pipeline_parallel\n",
            "creating build/bdist.linux-x86_64/egg/apex/transformer/pipeline_parallel/schedules\n",
            "copying build/lib/apex/transformer/pipeline_parallel/schedules/fwd_bwd_no_pipelining.py -> build/bdist.linux-x86_64/egg/apex/transformer/pipeline_parallel/schedules\n",
            "copying build/lib/apex/transformer/pipeline_parallel/schedules/__init__.py -> build/bdist.linux-x86_64/egg/apex/transformer/pipeline_parallel/schedules\n",
            "copying build/lib/apex/transformer/pipeline_parallel/schedules/common.py -> build/bdist.linux-x86_64/egg/apex/transformer/pipeline_parallel/schedules\n",
            "copying build/lib/apex/transformer/pipeline_parallel/schedules/fwd_bwd_pipelining_with_interleaving.py -> build/bdist.linux-x86_64/egg/apex/transformer/pipeline_parallel/schedules\n",
            "copying build/lib/apex/transformer/pipeline_parallel/schedules/fwd_bwd_pipelining_without_interleaving.py -> build/bdist.linux-x86_64/egg/apex/transformer/pipeline_parallel/schedules\n",
            "copying build/lib/apex/transformer/__init__.py -> build/bdist.linux-x86_64/egg/apex/transformer\n",
            "copying build/lib/apex/transformer/utils.py -> build/bdist.linux-x86_64/egg/apex/transformer\n",
            "creating build/bdist.linux-x86_64/egg/apex/transformer/tensor_parallel\n",
            "copying build/lib/apex/transformer/tensor_parallel/layers.py -> build/bdist.linux-x86_64/egg/apex/transformer/tensor_parallel\n",
            "copying build/lib/apex/transformer/tensor_parallel/data.py -> build/bdist.linux-x86_64/egg/apex/transformer/tensor_parallel\n",
            "copying build/lib/apex/transformer/tensor_parallel/__init__.py -> build/bdist.linux-x86_64/egg/apex/transformer/tensor_parallel\n",
            "copying build/lib/apex/transformer/tensor_parallel/utils.py -> build/bdist.linux-x86_64/egg/apex/transformer/tensor_parallel\n",
            "copying build/lib/apex/transformer/tensor_parallel/cross_entropy.py -> build/bdist.linux-x86_64/egg/apex/transformer/tensor_parallel\n",
            "copying build/lib/apex/transformer/tensor_parallel/random.py -> build/bdist.linux-x86_64/egg/apex/transformer/tensor_parallel\n",
            "copying build/lib/apex/transformer/tensor_parallel/memory.py -> build/bdist.linux-x86_64/egg/apex/transformer/tensor_parallel\n",
            "copying build/lib/apex/transformer/tensor_parallel/mappings.py -> build/bdist.linux-x86_64/egg/apex/transformer/tensor_parallel\n",
            "creating build/bdist.linux-x86_64/egg/apex/transformer/testing\n",
            "copying build/lib/apex/transformer/testing/standalone_bert.py -> build/bdist.linux-x86_64/egg/apex/transformer/testing\n",
            "copying build/lib/apex/transformer/testing/standalone_transformer_lm.py -> build/bdist.linux-x86_64/egg/apex/transformer/testing\n",
            "copying build/lib/apex/transformer/testing/__init__.py -> build/bdist.linux-x86_64/egg/apex/transformer/testing\n",
            "copying build/lib/apex/transformer/testing/arguments.py -> build/bdist.linux-x86_64/egg/apex/transformer/testing\n",
            "copying build/lib/apex/transformer/testing/commons.py -> build/bdist.linux-x86_64/egg/apex/transformer/testing\n",
            "copying build/lib/apex/transformer/testing/standalone_gpt.py -> build/bdist.linux-x86_64/egg/apex/transformer/testing\n",
            "copying build/lib/apex/transformer/testing/global_vars.py -> build/bdist.linux-x86_64/egg/apex/transformer/testing\n",
            "copying build/lib/apex/transformer/testing/distributed_test_base.py -> build/bdist.linux-x86_64/egg/apex/transformer/testing\n",
            "copying build/lib/apex/transformer/microbatches.py -> build/bdist.linux-x86_64/egg/apex/transformer\n",
            "creating build/bdist.linux-x86_64/egg/apex/transformer/functional\n",
            "copying build/lib/apex/transformer/functional/fused_softmax.py -> build/bdist.linux-x86_64/egg/apex/transformer/functional\n",
            "copying build/lib/apex/transformer/functional/__init__.py -> build/bdist.linux-x86_64/egg/apex/transformer/functional\n",
            "creating build/bdist.linux-x86_64/egg/apex/transformer/amp\n",
            "copying build/lib/apex/transformer/amp/__init__.py -> build/bdist.linux-x86_64/egg/apex/transformer/amp\n",
            "copying build/lib/apex/transformer/amp/grad_scaler.py -> build/bdist.linux-x86_64/egg/apex/transformer/amp\n",
            "copying build/lib/apex/transformer/enums.py -> build/bdist.linux-x86_64/egg/apex/transformer\n",
            "copying build/lib/apex/transformer/_ucc_util.py -> build/bdist.linux-x86_64/egg/apex/transformer\n",
            "copying build/lib/apex/transformer/parallel_state.py -> build/bdist.linux-x86_64/egg/apex/transformer\n",
            "byte-compiling build/bdist.linux-x86_64/egg/apex/normalization/__init__.py to __init__.cpython-39.pyc\n",
            "byte-compiling build/bdist.linux-x86_64/egg/apex/normalization/fused_layer_norm.py to fused_layer_norm.cpython-39.pyc\n",
            "byte-compiling build/bdist.linux-x86_64/egg/apex/fp16_utils/fp16util.py to fp16util.cpython-39.pyc\n",
            "byte-compiling build/bdist.linux-x86_64/egg/apex/fp16_utils/fp16_optimizer.py to fp16_optimizer.cpython-39.pyc\n",
            "byte-compiling build/bdist.linux-x86_64/egg/apex/fp16_utils/__init__.py to __init__.cpython-39.pyc\n",
            "byte-compiling build/bdist.linux-x86_64/egg/apex/fp16_utils/loss_scaler.py to loss_scaler.cpython-39.pyc\n",
            "byte-compiling build/bdist.linux-x86_64/egg/apex/parallel/sync_batchnorm.py to sync_batchnorm.cpython-39.pyc\n",
            "byte-compiling build/bdist.linux-x86_64/egg/apex/parallel/__init__.py to __init__.cpython-39.pyc\n",
            "byte-compiling build/bdist.linux-x86_64/egg/apex/parallel/optimized_sync_batchnorm_kernel.py to optimized_sync_batchnorm_kernel.cpython-39.pyc\n",
            "byte-compiling build/bdist.linux-x86_64/egg/apex/parallel/optimized_sync_batchnorm.py to optimized_sync_batchnorm.cpython-39.pyc\n",
            "byte-compiling build/bdist.linux-x86_64/egg/apex/parallel/multiproc.py to multiproc.cpython-39.pyc\n",
            "byte-compiling build/bdist.linux-x86_64/egg/apex/parallel/sync_batchnorm_kernel.py to sync_batchnorm_kernel.cpython-39.pyc\n",
            "byte-compiling build/bdist.linux-x86_64/egg/apex/parallel/LARC.py to LARC.cpython-39.pyc\n",
            "byte-compiling build/bdist.linux-x86_64/egg/apex/parallel/distributed.py to distributed.cpython-39.pyc\n",
            "byte-compiling build/bdist.linux-x86_64/egg/apex/__init__.py to __init__.cpython-39.pyc\n",
            "byte-compiling build/bdist.linux-x86_64/egg/apex/RNN/__init__.py to __init__.cpython-39.pyc\n",
            "byte-compiling build/bdist.linux-x86_64/egg/apex/RNN/cells.py to cells.cpython-39.pyc\n",
            "byte-compiling build/bdist.linux-x86_64/egg/apex/RNN/RNNBackend.py to RNNBackend.cpython-39.pyc\n",
            "byte-compiling build/bdist.linux-x86_64/egg/apex/RNN/models.py to models.cpython-39.pyc\n",
            "byte-compiling build/bdist.linux-x86_64/egg/apex/amp/rnn_compat.py to rnn_compat.cpython-39.pyc\n",
            "byte-compiling build/bdist.linux-x86_64/egg/apex/amp/compat.py to compat.cpython-39.pyc\n",
            "byte-compiling build/bdist.linux-x86_64/egg/apex/amp/_amp_state.py to _amp_state.cpython-39.pyc\n",
            "byte-compiling build/bdist.linux-x86_64/egg/apex/amp/wrap.py to wrap.cpython-39.pyc\n",
            "byte-compiling build/bdist.linux-x86_64/egg/apex/amp/amp.py to amp.cpython-39.pyc\n",
            "byte-compiling build/bdist.linux-x86_64/egg/apex/amp/_initialize.py to _initialize.cpython-39.pyc\n",
            "byte-compiling build/bdist.linux-x86_64/egg/apex/amp/__init__.py to __init__.cpython-39.pyc\n",
            "byte-compiling build/bdist.linux-x86_64/egg/apex/amp/__version__.py to __version__.cpython-39.pyc\n",
            "byte-compiling build/bdist.linux-x86_64/egg/apex/amp/utils.py to utils.cpython-39.pyc\n",
            "byte-compiling build/bdist.linux-x86_64/egg/apex/amp/scaler.py to scaler.cpython-39.pyc\n",
            "byte-compiling build/bdist.linux-x86_64/egg/apex/amp/handle.py to handle.cpython-39.pyc\n",
            "byte-compiling build/bdist.linux-x86_64/egg/apex/amp/frontend.py to frontend.cpython-39.pyc\n",
            "byte-compiling build/bdist.linux-x86_64/egg/apex/amp/opt.py to opt.cpython-39.pyc\n",
            "byte-compiling build/bdist.linux-x86_64/egg/apex/amp/_process_optimizer.py to _process_optimizer.cpython-39.pyc\n",
            "byte-compiling build/bdist.linux-x86_64/egg/apex/amp/lists/functional_overrides.py to functional_overrides.cpython-39.pyc\n",
            "byte-compiling build/bdist.linux-x86_64/egg/apex/amp/lists/__init__.py to __init__.cpython-39.pyc\n",
            "byte-compiling build/bdist.linux-x86_64/egg/apex/amp/lists/torch_overrides.py to torch_overrides.cpython-39.pyc\n",
            "byte-compiling build/bdist.linux-x86_64/egg/apex/amp/lists/tensor_overrides.py to tensor_overrides.cpython-39.pyc\n",
            "byte-compiling build/bdist.linux-x86_64/egg/apex/_autocast_utils.py to _autocast_utils.cpython-39.pyc\n",
            "byte-compiling build/bdist.linux-x86_64/egg/apex/fused_dense/__init__.py to __init__.cpython-39.pyc\n",
            "byte-compiling build/bdist.linux-x86_64/egg/apex/fused_dense/fused_dense.py to fused_dense.cpython-39.pyc\n",
            "byte-compiling build/bdist.linux-x86_64/egg/apex/multi_tensor_apply/__init__.py to __init__.cpython-39.pyc\n",
            "byte-compiling build/bdist.linux-x86_64/egg/apex/multi_tensor_apply/multi_tensor_apply.py to multi_tensor_apply.cpython-39.pyc\n",
            "byte-compiling build/bdist.linux-x86_64/egg/apex/contrib/index_mul_2d/__init__.py to __init__.cpython-39.pyc\n",
            "byte-compiling build/bdist.linux-x86_64/egg/apex/contrib/index_mul_2d/index_mul_2d.py to index_mul_2d.cpython-39.pyc\n",
            "byte-compiling build/bdist.linux-x86_64/egg/apex/contrib/peer_memory/__init__.py to __init__.cpython-39.pyc\n",
            "byte-compiling build/bdist.linux-x86_64/egg/apex/contrib/peer_memory/peer_halo_exchanger_1d.py to peer_halo_exchanger_1d.cpython-39.pyc\n",
            "byte-compiling build/bdist.linux-x86_64/egg/apex/contrib/peer_memory/peer_memory.py to peer_memory.cpython-39.pyc\n",
            "byte-compiling build/bdist.linux-x86_64/egg/apex/contrib/__init__.py to __init__.cpython-39.pyc\n",
            "byte-compiling build/bdist.linux-x86_64/egg/apex/contrib/multihead_attn/encdec_multihead_attn_func.py to encdec_multihead_attn_func.cpython-39.pyc\n",
            "byte-compiling build/bdist.linux-x86_64/egg/apex/contrib/multihead_attn/fast_encdec_multihead_attn_func.py to fast_encdec_multihead_attn_func.cpython-39.pyc\n",
            "byte-compiling build/bdist.linux-x86_64/egg/apex/contrib/multihead_attn/encdec_multihead_attn.py to encdec_multihead_attn.cpython-39.pyc\n",
            "byte-compiling build/bdist.linux-x86_64/egg/apex/contrib/multihead_attn/__init__.py to __init__.cpython-39.pyc\n",
            "byte-compiling build/bdist.linux-x86_64/egg/apex/contrib/multihead_attn/self_multihead_attn.py to self_multihead_attn.cpython-39.pyc\n",
            "byte-compiling build/bdist.linux-x86_64/egg/apex/contrib/multihead_attn/fast_encdec_multihead_attn_norm_add_func.py to fast_encdec_multihead_attn_norm_add_func.cpython-39.pyc\n",
            "byte-compiling build/bdist.linux-x86_64/egg/apex/contrib/multihead_attn/self_multihead_attn_func.py to self_multihead_attn_func.cpython-39.pyc\n",
            "byte-compiling build/bdist.linux-x86_64/egg/apex/contrib/multihead_attn/mask_softmax_dropout_func.py to mask_softmax_dropout_func.cpython-39.pyc\n",
            "byte-compiling build/bdist.linux-x86_64/egg/apex/contrib/multihead_attn/fast_self_multihead_attn_norm_add_func.py to fast_self_multihead_attn_norm_add_func.cpython-39.pyc\n",
            "byte-compiling build/bdist.linux-x86_64/egg/apex/contrib/multihead_attn/fast_self_multihead_attn_func.py to fast_self_multihead_attn_func.cpython-39.pyc\n",
            "byte-compiling build/bdist.linux-x86_64/egg/apex/contrib/bottleneck/__init__.py to __init__.cpython-39.pyc\n",
            "byte-compiling build/bdist.linux-x86_64/egg/apex/contrib/bottleneck/bottleneck.py to bottleneck.cpython-39.pyc\n",
            "byte-compiling build/bdist.linux-x86_64/egg/apex/contrib/bottleneck/halo_exchangers.py to halo_exchangers.cpython-39.pyc\n",
            "byte-compiling build/bdist.linux-x86_64/egg/apex/contrib/bottleneck/test.py to test.cpython-39.pyc\n",
            "byte-compiling build/bdist.linux-x86_64/egg/apex/contrib/layer_norm/layer_norm.py to layer_norm.cpython-39.pyc\n",
            "byte-compiling build/bdist.linux-x86_64/egg/apex/contrib/layer_norm/__init__.py to __init__.cpython-39.pyc\n",
            "byte-compiling build/bdist.linux-x86_64/egg/apex/contrib/fmha/__init__.py to __init__.cpython-39.pyc\n",
            "byte-compiling build/bdist.linux-x86_64/egg/apex/contrib/fmha/fmha.py to fmha.cpython-39.pyc\n",
            "byte-compiling build/bdist.linux-x86_64/egg/apex/contrib/conv_bias_relu/__init__.py to __init__.cpython-39.pyc\n",
            "byte-compiling build/bdist.linux-x86_64/egg/apex/contrib/conv_bias_relu/conv_bias_relu.py to conv_bias_relu.cpython-39.pyc\n",
            "byte-compiling build/bdist.linux-x86_64/egg/apex/contrib/clip_grad/__init__.py to __init__.cpython-39.pyc\n",
            "byte-compiling build/bdist.linux-x86_64/egg/apex/contrib/clip_grad/clip_grad.py to clip_grad.cpython-39.pyc\n",
            "byte-compiling build/bdist.linux-x86_64/egg/apex/contrib/focal_loss/__init__.py to __init__.cpython-39.pyc\n",
            "byte-compiling build/bdist.linux-x86_64/egg/apex/contrib/focal_loss/focal_loss.py to focal_loss.cpython-39.pyc\n",
            "byte-compiling build/bdist.linux-x86_64/egg/apex/contrib/cudnn_gbn/__init__.py to __init__.cpython-39.pyc\n",
            "byte-compiling build/bdist.linux-x86_64/egg/apex/contrib/cudnn_gbn/batch_norm.py to batch_norm.cpython-39.pyc\n",
            "byte-compiling build/bdist.linux-x86_64/egg/apex/contrib/transducer/__init__.py to __init__.cpython-39.pyc\n",
            "byte-compiling build/bdist.linux-x86_64/egg/apex/contrib/transducer/transducer.py to transducer.cpython-39.pyc\n",
            "byte-compiling build/bdist.linux-x86_64/egg/apex/contrib/transducer/_transducer_ref.py to _transducer_ref.cpython-39.pyc\n",
            "byte-compiling build/bdist.linux-x86_64/egg/apex/contrib/xentropy/__init__.py to __init__.cpython-39.pyc\n",
            "byte-compiling build/bdist.linux-x86_64/egg/apex/contrib/xentropy/softmax_xentropy.py to softmax_xentropy.cpython-39.pyc\n",
            "byte-compiling build/bdist.linux-x86_64/egg/apex/contrib/test/index_mul_2d/__init__.py to __init__.cpython-39.pyc\n",
            "byte-compiling build/bdist.linux-x86_64/egg/apex/contrib/test/index_mul_2d/test_index_mul_2d.py to test_index_mul_2d.cpython-39.pyc\n",
            "byte-compiling build/bdist.linux-x86_64/egg/apex/contrib/test/peer_memory/__init__.py to __init__.cpython-39.pyc\n",
            "byte-compiling build/bdist.linux-x86_64/egg/apex/contrib/test/peer_memory/test_peer_halo_exchange_module.py to test_peer_halo_exchange_module.cpython-39.pyc\n",
            "byte-compiling build/bdist.linux-x86_64/egg/apex/contrib/test/__init__.py to __init__.cpython-39.pyc\n",
            "byte-compiling build/bdist.linux-x86_64/egg/apex/contrib/test/multihead_attn/test_self_multihead_attn.py to test_self_multihead_attn.cpython-39.pyc\n",
            "byte-compiling build/bdist.linux-x86_64/egg/apex/contrib/test/multihead_attn/test_self_multihead_attn_norm_add.py to test_self_multihead_attn_norm_add.cpython-39.pyc\n",
            "byte-compiling build/bdist.linux-x86_64/egg/apex/contrib/test/multihead_attn/__init__.py to __init__.cpython-39.pyc\n",
            "byte-compiling build/bdist.linux-x86_64/egg/apex/contrib/test/multihead_attn/test_encdec_multihead_attn_norm_add.py to test_encdec_multihead_attn_norm_add.cpython-39.pyc\n",
            "byte-compiling build/bdist.linux-x86_64/egg/apex/contrib/test/multihead_attn/test_fast_self_multihead_attn_bias.py to test_fast_self_multihead_attn_bias.cpython-39.pyc\n",
            "byte-compiling build/bdist.linux-x86_64/egg/apex/contrib/test/multihead_attn/test_mha_fused_softmax.py to test_mha_fused_softmax.cpython-39.pyc\n",
            "byte-compiling build/bdist.linux-x86_64/egg/apex/contrib/test/multihead_attn/test_encdec_multihead_attn.py to test_encdec_multihead_attn.cpython-39.pyc\n",
            "byte-compiling build/bdist.linux-x86_64/egg/apex/contrib/test/bottleneck/test_bottleneck_module.py to test_bottleneck_module.cpython-39.pyc\n",
            "byte-compiling build/bdist.linux-x86_64/egg/apex/contrib/test/bottleneck/__init__.py to __init__.cpython-39.pyc\n",
            "byte-compiling build/bdist.linux-x86_64/egg/apex/contrib/test/layer_norm/test_fast_layer_norm.py to test_fast_layer_norm.cpython-39.pyc\n",
            "byte-compiling build/bdist.linux-x86_64/egg/apex/contrib/test/layer_norm/__init__.py to __init__.cpython-39.pyc\n",
            "byte-compiling build/bdist.linux-x86_64/egg/apex/contrib/test/fmha/test_fmha.py to test_fmha.cpython-39.pyc\n",
            "byte-compiling build/bdist.linux-x86_64/egg/apex/contrib/test/fmha/__init__.py to __init__.cpython-39.pyc\n",
            "byte-compiling build/bdist.linux-x86_64/egg/apex/contrib/test/conv_bias_relu/__init__.py to __init__.cpython-39.pyc\n",
            "byte-compiling build/bdist.linux-x86_64/egg/apex/contrib/test/conv_bias_relu/test_conv_bias_relu.py to test_conv_bias_relu.cpython-39.pyc\n",
            "byte-compiling build/bdist.linux-x86_64/egg/apex/contrib/test/clip_grad/test_clip_grad.py to test_clip_grad.cpython-39.pyc\n",
            "byte-compiling build/bdist.linux-x86_64/egg/apex/contrib/test/clip_grad/__init__.py to __init__.cpython-39.pyc\n",
            "byte-compiling build/bdist.linux-x86_64/egg/apex/contrib/test/focal_loss/test_focal_loss.py to test_focal_loss.cpython-39.pyc\n",
            "byte-compiling build/bdist.linux-x86_64/egg/apex/contrib/test/focal_loss/__init__.py to __init__.cpython-39.pyc\n",
            "byte-compiling build/bdist.linux-x86_64/egg/apex/contrib/test/cudnn_gbn/test_cudnn_gbn_with_two_gpus.py to test_cudnn_gbn_with_two_gpus.cpython-39.pyc\n",
            "byte-compiling build/bdist.linux-x86_64/egg/apex/contrib/test/cudnn_gbn/__init__.py to __init__.cpython-39.pyc\n",
            "byte-compiling build/bdist.linux-x86_64/egg/apex/contrib/test/transducer/test_transducer_loss.py to test_transducer_loss.cpython-39.pyc\n",
            "byte-compiling build/bdist.linux-x86_64/egg/apex/contrib/test/transducer/__init__.py to __init__.cpython-39.pyc\n",
            "byte-compiling build/bdist.linux-x86_64/egg/apex/contrib/test/transducer/test_transducer_joint.py to test_transducer_joint.cpython-39.pyc\n",
            "byte-compiling build/bdist.linux-x86_64/egg/apex/contrib/test/xentropy/test_label_smoothing.py to test_label_smoothing.cpython-39.pyc\n",
            "byte-compiling build/bdist.linux-x86_64/egg/apex/contrib/test/xentropy/__init__.py to __init__.cpython-39.pyc\n",
            "byte-compiling build/bdist.linux-x86_64/egg/apex/contrib/test/optimizers/test_dist_adam.py to test_dist_adam.cpython-39.pyc\n",
            "byte-compiling build/bdist.linux-x86_64/egg/apex/contrib/test/optimizers/test_distributed_fused_lamb.py to test_distributed_fused_lamb.cpython-39.pyc\n",
            "byte-compiling build/bdist.linux-x86_64/egg/apex/contrib/test/optimizers/__init__.py to __init__.cpython-39.pyc\n",
            "byte-compiling build/bdist.linux-x86_64/egg/apex/contrib/groupbn/__init__.py to __init__.cpython-39.pyc\n",
            "byte-compiling build/bdist.linux-x86_64/egg/apex/contrib/groupbn/batch_norm.py to batch_norm.cpython-39.pyc\n",
            "byte-compiling build/bdist.linux-x86_64/egg/apex/contrib/sparsity/permutation_lib.py to permutation_lib.cpython-39.pyc\n",
            "byte-compiling build/bdist.linux-x86_64/egg/apex/contrib/sparsity/permutation_search_kernels/__init__.py to __init__.cpython-39.pyc\n",
            "byte-compiling build/bdist.linux-x86_64/egg/apex/contrib/sparsity/permutation_search_kernels/channel_swap.py to channel_swap.cpython-39.pyc\n",
            "byte-compiling build/bdist.linux-x86_64/egg/apex/contrib/sparsity/permutation_search_kernels/exhaustive_search.py to exhaustive_search.cpython-39.pyc\n",
            "byte-compiling build/bdist.linux-x86_64/egg/apex/contrib/sparsity/permutation_search_kernels/call_permutation_search_kernels.py to call_permutation_search_kernels.cpython-39.pyc\n",
            "byte-compiling build/bdist.linux-x86_64/egg/apex/contrib/sparsity/permutation_search_kernels/permutation_utilities.py to permutation_utilities.cpython-39.pyc\n",
            "byte-compiling build/bdist.linux-x86_64/egg/apex/contrib/sparsity/__init__.py to __init__.cpython-39.pyc\n",
            "byte-compiling build/bdist.linux-x86_64/egg/apex/contrib/sparsity/sparse_masklib.py to sparse_masklib.cpython-39.pyc\n",
            "byte-compiling build/bdist.linux-x86_64/egg/apex/contrib/sparsity/asp.py to asp.cpython-39.pyc\n",
            "byte-compiling build/bdist.linux-x86_64/egg/apex/contrib/optimizers/distributed_fused_adam.py to distributed_fused_adam.cpython-39.pyc\n",
            "byte-compiling build/bdist.linux-x86_64/egg/apex/contrib/optimizers/fused_adam.py to fused_adam.cpython-39.pyc\n",
            "byte-compiling build/bdist.linux-x86_64/egg/apex/contrib/optimizers/fused_sgd.py to fused_sgd.cpython-39.pyc\n",
            "byte-compiling build/bdist.linux-x86_64/egg/apex/contrib/optimizers/fp16_optimizer.py to fp16_optimizer.cpython-39.pyc\n",
            "byte-compiling build/bdist.linux-x86_64/egg/apex/contrib/optimizers/__init__.py to __init__.cpython-39.pyc\n",
            "byte-compiling build/bdist.linux-x86_64/egg/apex/contrib/optimizers/fused_lamb.py to fused_lamb.cpython-39.pyc\n",
            "byte-compiling build/bdist.linux-x86_64/egg/apex/contrib/optimizers/distributed_fused_lamb.py to distributed_fused_lamb.cpython-39.pyc\n",
            "byte-compiling build/bdist.linux-x86_64/egg/apex/mlp/__init__.py to __init__.cpython-39.pyc\n",
            "byte-compiling build/bdist.linux-x86_64/egg/apex/mlp/mlp.py to mlp.cpython-39.pyc\n",
            "byte-compiling build/bdist.linux-x86_64/egg/apex/optimizers/fused_adam.py to fused_adam.cpython-39.pyc\n",
            "byte-compiling build/bdist.linux-x86_64/egg/apex/optimizers/fused_novograd.py to fused_novograd.cpython-39.pyc\n",
            "byte-compiling build/bdist.linux-x86_64/egg/apex/optimizers/fused_sgd.py to fused_sgd.cpython-39.pyc\n",
            "byte-compiling build/bdist.linux-x86_64/egg/apex/optimizers/fused_adagrad.py to fused_adagrad.cpython-39.pyc\n",
            "byte-compiling build/bdist.linux-x86_64/egg/apex/optimizers/__init__.py to __init__.cpython-39.pyc\n",
            "byte-compiling build/bdist.linux-x86_64/egg/apex/optimizers/fused_lamb.py to fused_lamb.cpython-39.pyc\n",
            "byte-compiling build/bdist.linux-x86_64/egg/apex/optimizers/fused_mixed_precision_lamb.py to fused_mixed_precision_lamb.cpython-39.pyc\n",
            "byte-compiling build/bdist.linux-x86_64/egg/apex/transformer/_data/__init__.py to __init__.cpython-39.pyc\n",
            "byte-compiling build/bdist.linux-x86_64/egg/apex/transformer/_data/_batchsampler.py to _batchsampler.cpython-39.pyc\n",
            "byte-compiling build/bdist.linux-x86_64/egg/apex/transformer/log_util.py to log_util.cpython-39.pyc\n",
            "byte-compiling build/bdist.linux-x86_64/egg/apex/transformer/layers/layer_norm.py to layer_norm.cpython-39.pyc\n",
            "byte-compiling build/bdist.linux-x86_64/egg/apex/transformer/layers/__init__.py to __init__.cpython-39.pyc\n",
            "byte-compiling build/bdist.linux-x86_64/egg/apex/transformer/pipeline_parallel/__init__.py to __init__.cpython-39.pyc\n",
            "byte-compiling build/bdist.linux-x86_64/egg/apex/transformer/pipeline_parallel/utils.py to utils.cpython-39.pyc\n",
            "byte-compiling build/bdist.linux-x86_64/egg/apex/transformer/pipeline_parallel/_timers.py to _timers.cpython-39.pyc\n",
            "byte-compiling build/bdist.linux-x86_64/egg/apex/transformer/pipeline_parallel/p2p_communication.py to p2p_communication.cpython-39.pyc\n",
            "byte-compiling build/bdist.linux-x86_64/egg/apex/transformer/pipeline_parallel/schedules/fwd_bwd_no_pipelining.py to fwd_bwd_no_pipelining.cpython-39.pyc\n",
            "byte-compiling build/bdist.linux-x86_64/egg/apex/transformer/pipeline_parallel/schedules/__init__.py to __init__.cpython-39.pyc\n",
            "byte-compiling build/bdist.linux-x86_64/egg/apex/transformer/pipeline_parallel/schedules/common.py to common.cpython-39.pyc\n",
            "byte-compiling build/bdist.linux-x86_64/egg/apex/transformer/pipeline_parallel/schedules/fwd_bwd_pipelining_with_interleaving.py to fwd_bwd_pipelining_with_interleaving.cpython-39.pyc\n",
            "byte-compiling build/bdist.linux-x86_64/egg/apex/transformer/pipeline_parallel/schedules/fwd_bwd_pipelining_without_interleaving.py to fwd_bwd_pipelining_without_interleaving.cpython-39.pyc\n",
            "byte-compiling build/bdist.linux-x86_64/egg/apex/transformer/__init__.py to __init__.cpython-39.pyc\n",
            "byte-compiling build/bdist.linux-x86_64/egg/apex/transformer/utils.py to utils.cpython-39.pyc\n",
            "byte-compiling build/bdist.linux-x86_64/egg/apex/transformer/tensor_parallel/layers.py to layers.cpython-39.pyc\n",
            "byte-compiling build/bdist.linux-x86_64/egg/apex/transformer/tensor_parallel/data.py to data.cpython-39.pyc\n",
            "byte-compiling build/bdist.linux-x86_64/egg/apex/transformer/tensor_parallel/__init__.py to __init__.cpython-39.pyc\n",
            "byte-compiling build/bdist.linux-x86_64/egg/apex/transformer/tensor_parallel/utils.py to utils.cpython-39.pyc\n",
            "byte-compiling build/bdist.linux-x86_64/egg/apex/transformer/tensor_parallel/cross_entropy.py to cross_entropy.cpython-39.pyc\n",
            "byte-compiling build/bdist.linux-x86_64/egg/apex/transformer/tensor_parallel/random.py to random.cpython-39.pyc\n",
            "byte-compiling build/bdist.linux-x86_64/egg/apex/transformer/tensor_parallel/memory.py to memory.cpython-39.pyc\n",
            "byte-compiling build/bdist.linux-x86_64/egg/apex/transformer/tensor_parallel/mappings.py to mappings.cpython-39.pyc\n",
            "byte-compiling build/bdist.linux-x86_64/egg/apex/transformer/testing/standalone_bert.py to standalone_bert.cpython-39.pyc\n",
            "byte-compiling build/bdist.linux-x86_64/egg/apex/transformer/testing/standalone_transformer_lm.py to standalone_transformer_lm.cpython-39.pyc\n",
            "byte-compiling build/bdist.linux-x86_64/egg/apex/transformer/testing/__init__.py to __init__.cpython-39.pyc\n",
            "byte-compiling build/bdist.linux-x86_64/egg/apex/transformer/testing/arguments.py to arguments.cpython-39.pyc\n",
            "byte-compiling build/bdist.linux-x86_64/egg/apex/transformer/testing/commons.py to commons.cpython-39.pyc\n",
            "byte-compiling build/bdist.linux-x86_64/egg/apex/transformer/testing/standalone_gpt.py to standalone_gpt.cpython-39.pyc\n",
            "byte-compiling build/bdist.linux-x86_64/egg/apex/transformer/testing/global_vars.py to global_vars.cpython-39.pyc\n",
            "byte-compiling build/bdist.linux-x86_64/egg/apex/transformer/testing/distributed_test_base.py to distributed_test_base.cpython-39.pyc\n",
            "byte-compiling build/bdist.linux-x86_64/egg/apex/transformer/microbatches.py to microbatches.cpython-39.pyc\n",
            "byte-compiling build/bdist.linux-x86_64/egg/apex/transformer/functional/fused_softmax.py to fused_softmax.cpython-39.pyc\n",
            "byte-compiling build/bdist.linux-x86_64/egg/apex/transformer/functional/__init__.py to __init__.cpython-39.pyc\n",
            "byte-compiling build/bdist.linux-x86_64/egg/apex/transformer/amp/__init__.py to __init__.cpython-39.pyc\n",
            "byte-compiling build/bdist.linux-x86_64/egg/apex/transformer/amp/grad_scaler.py to grad_scaler.cpython-39.pyc\n",
            "byte-compiling build/bdist.linux-x86_64/egg/apex/transformer/enums.py to enums.cpython-39.pyc\n",
            "byte-compiling build/bdist.linux-x86_64/egg/apex/transformer/_ucc_util.py to _ucc_util.cpython-39.pyc\n",
            "byte-compiling build/bdist.linux-x86_64/egg/apex/transformer/parallel_state.py to parallel_state.cpython-39.pyc\n",
            "creating build/bdist.linux-x86_64/egg/EGG-INFO\n",
            "copying apex.egg-info/PKG-INFO -> build/bdist.linux-x86_64/egg/EGG-INFO\n",
            "copying apex.egg-info/SOURCES.txt -> build/bdist.linux-x86_64/egg/EGG-INFO\n",
            "copying apex.egg-info/dependency_links.txt -> build/bdist.linux-x86_64/egg/EGG-INFO\n",
            "copying apex.egg-info/requires.txt -> build/bdist.linux-x86_64/egg/EGG-INFO\n",
            "copying apex.egg-info/top_level.txt -> build/bdist.linux-x86_64/egg/EGG-INFO\n",
            "zip_safe flag not set; analyzing archive contents...\n",
            "creating dist\n",
            "creating 'dist/apex-0.1-py3.9.egg' and adding 'build/bdist.linux-x86_64/egg' to it\n",
            "removing 'build/bdist.linux-x86_64/egg' (and everything under it)\n",
            "Processing apex-0.1-py3.9.egg\n",
            "Copying apex-0.1-py3.9.egg to /usr/local/lib/python3.9/dist-packages\n",
            "Adding apex 0.1 to easy-install.pth file\n",
            "\n",
            "Installed /usr/local/lib/python3.9/dist-packages/apex-0.1-py3.9.egg\n",
            "Processing dependencies for apex==0.1\n",
            "Searching for packaging==23.0\n",
            "Best match: packaging 23.0\n",
            "Adding packaging 23.0 to easy-install.pth file\n",
            "\n",
            "Using /usr/local/lib/python3.9/dist-packages\n",
            "Finished processing dependencies for apex==0.1\n"
          ]
        }
      ],
      "source": [
        "!python setup.py install"
      ]
    },
    {
      "cell_type": "code",
      "execution_count": 6,
      "metadata": {
        "id": "hlV0PvGO3VXx",
        "outputId": "c9f071fb-a272-4d76-c011-579a9edca779",
        "colab": {
          "base_uri": "https://localhost:8080/"
        }
      },
      "outputs": [
        {
          "output_type": "stream",
          "name": "stdout",
          "text": [
            "/content\n"
          ]
        }
      ],
      "source": [
        "cd .."
      ]
    },
    {
      "cell_type": "markdown",
      "metadata": {
        "id": "4D7w9yfw08-W"
      },
      "source": [
        "detectron2"
      ]
    },
    {
      "cell_type": "code",
      "execution_count": 8,
      "metadata": {
        "colab": {
          "base_uri": "https://localhost:8080/"
        },
        "id": "nb5S1Iafzvrv",
        "outputId": "6d134e71-3f82-4dda-d557-4fbb28763a75"
      },
      "outputs": [
        {
          "output_type": "stream",
          "name": "stdout",
          "text": [
            "Looking in indexes: https://pypi.org/simple, https://us-python.pkg.dev/colab-wheels/public/simple/\n",
            "Collecting git+https://github.com/facebookresearch/detectron2.git\n",
            "  Cloning https://github.com/facebookresearch/detectron2.git to /tmp/pip-req-build-swxba1zg\n",
            "  Running command git clone --filter=blob:none --quiet https://github.com/facebookresearch/detectron2.git /tmp/pip-req-build-swxba1zg\n",
            "  Resolved https://github.com/facebookresearch/detectron2.git to commit 072713649a9b0069c10aad1aaab819112e8f1e2e\n",
            "  Preparing metadata (setup.py) ... \u001b[?25l\u001b[?25hdone\n",
            "Requirement already satisfied: Pillow>=7.1 in /usr/local/lib/python3.9/dist-packages (from detectron2==0.6) (8.4.0)\n",
            "Requirement already satisfied: matplotlib in /usr/local/lib/python3.9/dist-packages (from detectron2==0.6) (3.7.1)\n",
            "Requirement already satisfied: pycocotools>=2.0.2 in /usr/local/lib/python3.9/dist-packages (from detectron2==0.6) (2.0.6)\n",
            "Requirement already satisfied: termcolor>=1.1 in /usr/local/lib/python3.9/dist-packages (from detectron2==0.6) (2.2.0)\n",
            "Collecting yacs>=0.1.8\n",
            "  Using cached yacs-0.1.8-py3-none-any.whl (14 kB)\n",
            "Requirement already satisfied: tabulate in /usr/local/lib/python3.9/dist-packages (from detectron2==0.6) (0.8.10)\n",
            "Requirement already satisfied: cloudpickle in /usr/local/lib/python3.9/dist-packages (from detectron2==0.6) (2.2.1)\n",
            "Requirement already satisfied: tqdm>4.29.0 in /usr/local/lib/python3.9/dist-packages (from detectron2==0.6) (4.65.0)\n",
            "Requirement already satisfied: tensorboard in /usr/local/lib/python3.9/dist-packages (from detectron2==0.6) (2.11.2)\n",
            "Collecting fvcore<0.1.6,>=0.1.5\n",
            "  Using cached fvcore-0.1.5.post20221221.tar.gz (50 kB)\n",
            "  Preparing metadata (setup.py) ... \u001b[?25l\u001b[?25hdone\n",
            "Collecting iopath<0.1.10,>=0.1.7\n",
            "  Using cached iopath-0.1.9-py3-none-any.whl (27 kB)\n",
            "Collecting omegaconf>=2.1\n",
            "  Using cached omegaconf-2.3.0-py3-none-any.whl (79 kB)\n",
            "Collecting hydra-core>=1.1\n",
            "  Using cached hydra_core-1.3.2-py3-none-any.whl (154 kB)\n",
            "Collecting black\n",
            "  Using cached black-23.1.0-cp39-cp39-manylinux_2_17_x86_64.manylinux2014_x86_64.whl (1.6 MB)\n",
            "Requirement already satisfied: packaging in /usr/local/lib/python3.9/dist-packages (from detectron2==0.6) (23.0)\n",
            "Requirement already satisfied: numpy in /usr/local/lib/python3.9/dist-packages (from fvcore<0.1.6,>=0.1.5->detectron2==0.6) (1.22.4)\n",
            "Requirement already satisfied: pyyaml>=5.1 in /usr/local/lib/python3.9/dist-packages (from fvcore<0.1.6,>=0.1.5->detectron2==0.6) (6.0)\n",
            "Collecting antlr4-python3-runtime==4.9.*\n",
            "  Using cached antlr4-python3-runtime-4.9.3.tar.gz (117 kB)\n",
            "  Preparing metadata (setup.py) ... \u001b[?25l\u001b[?25hdone\n",
            "Collecting portalocker\n",
            "  Using cached portalocker-2.7.0-py2.py3-none-any.whl (15 kB)\n",
            "Requirement already satisfied: cycler>=0.10 in /usr/local/lib/python3.9/dist-packages (from matplotlib->detectron2==0.6) (0.11.0)\n",
            "Requirement already satisfied: contourpy>=1.0.1 in /usr/local/lib/python3.9/dist-packages (from matplotlib->detectron2==0.6) (1.0.7)\n",
            "Requirement already satisfied: pyparsing>=2.3.1 in /usr/local/lib/python3.9/dist-packages (from matplotlib->detectron2==0.6) (3.0.9)\n",
            "Requirement already satisfied: fonttools>=4.22.0 in /usr/local/lib/python3.9/dist-packages (from matplotlib->detectron2==0.6) (4.39.0)\n",
            "Requirement already satisfied: importlib-resources>=3.2.0 in /usr/local/lib/python3.9/dist-packages (from matplotlib->detectron2==0.6) (5.12.0)\n",
            "Requirement already satisfied: kiwisolver>=1.0.1 in /usr/local/lib/python3.9/dist-packages (from matplotlib->detectron2==0.6) (1.4.4)\n",
            "Requirement already satisfied: python-dateutil>=2.7 in /usr/local/lib/python3.9/dist-packages (from matplotlib->detectron2==0.6) (2.8.2)\n",
            "Collecting pathspec>=0.9.0\n",
            "  Using cached pathspec-0.11.1-py3-none-any.whl (29 kB)\n",
            "Requirement already satisfied: typing-extensions>=3.10.0.0 in /usr/local/lib/python3.9/dist-packages (from black->detectron2==0.6) (4.5.0)\n",
            "Collecting mypy-extensions>=0.4.3\n",
            "  Using cached mypy_extensions-1.0.0-py3-none-any.whl (4.7 kB)\n",
            "Requirement already satisfied: click>=8.0.0 in /usr/local/lib/python3.9/dist-packages (from black->detectron2==0.6) (8.1.3)\n",
            "Requirement already satisfied: tomli>=1.1.0 in /usr/local/lib/python3.9/dist-packages (from black->detectron2==0.6) (2.0.1)\n",
            "Requirement already satisfied: platformdirs>=2 in /usr/local/lib/python3.9/dist-packages (from black->detectron2==0.6) (3.1.1)\n",
            "Requirement already satisfied: wheel>=0.26 in /usr/local/lib/python3.9/dist-packages (from tensorboard->detectron2==0.6) (0.40.0)\n",
            "Requirement already satisfied: setuptools>=41.0.0 in /usr/local/lib/python3.9/dist-packages (from tensorboard->detectron2==0.6) (63.4.3)\n",
            "Requirement already satisfied: google-auth-oauthlib<0.5,>=0.4.1 in /usr/local/lib/python3.9/dist-packages (from tensorboard->detectron2==0.6) (0.4.6)\n",
            "Requirement already satisfied: requests<3,>=2.21.0 in /usr/local/lib/python3.9/dist-packages (from tensorboard->detectron2==0.6) (2.27.1)\n",
            "Requirement already satisfied: absl-py>=0.4 in /usr/local/lib/python3.9/dist-packages (from tensorboard->detectron2==0.6) (1.4.0)\n",
            "Requirement already satisfied: grpcio>=1.24.3 in /usr/local/lib/python3.9/dist-packages (from tensorboard->detectron2==0.6) (1.51.3)\n",
            "Requirement already satisfied: google-auth<3,>=1.6.3 in /usr/local/lib/python3.9/dist-packages (from tensorboard->detectron2==0.6) (2.16.2)\n",
            "Requirement already satisfied: werkzeug>=1.0.1 in /usr/local/lib/python3.9/dist-packages (from tensorboard->detectron2==0.6) (2.2.3)\n",
            "Requirement already satisfied: markdown>=2.6.8 in /usr/local/lib/python3.9/dist-packages (from tensorboard->detectron2==0.6) (3.4.1)\n",
            "Requirement already satisfied: protobuf<4,>=3.9.2 in /usr/local/lib/python3.9/dist-packages (from tensorboard->detectron2==0.6) (3.19.6)\n",
            "Requirement already satisfied: tensorboard-data-server<0.7.0,>=0.6.0 in /usr/local/lib/python3.9/dist-packages (from tensorboard->detectron2==0.6) (0.6.1)\n",
            "Requirement already satisfied: tensorboard-plugin-wit>=1.6.0 in /usr/local/lib/python3.9/dist-packages (from tensorboard->detectron2==0.6) (1.8.1)\n",
            "Requirement already satisfied: cachetools<6.0,>=2.0.0 in /usr/local/lib/python3.9/dist-packages (from google-auth<3,>=1.6.3->tensorboard->detectron2==0.6) (5.3.0)\n",
            "Requirement already satisfied: rsa<5,>=3.1.4 in /usr/local/lib/python3.9/dist-packages (from google-auth<3,>=1.6.3->tensorboard->detectron2==0.6) (4.9)\n",
            "Requirement already satisfied: pyasn1-modules>=0.2.1 in /usr/local/lib/python3.9/dist-packages (from google-auth<3,>=1.6.3->tensorboard->detectron2==0.6) (0.2.8)\n",
            "Requirement already satisfied: six>=1.9.0 in /usr/local/lib/python3.9/dist-packages (from google-auth<3,>=1.6.3->tensorboard->detectron2==0.6) (1.15.0)\n",
            "Requirement already satisfied: requests-oauthlib>=0.7.0 in /usr/local/lib/python3.9/dist-packages (from google-auth-oauthlib<0.5,>=0.4.1->tensorboard->detectron2==0.6) (1.3.1)\n",
            "Requirement already satisfied: zipp>=3.1.0 in /usr/local/lib/python3.9/dist-packages (from importlib-resources>=3.2.0->matplotlib->detectron2==0.6) (3.15.0)\n",
            "Requirement already satisfied: importlib-metadata>=4.4 in /usr/local/lib/python3.9/dist-packages (from markdown>=2.6.8->tensorboard->detectron2==0.6) (6.0.0)\n",
            "Requirement already satisfied: idna<4,>=2.5 in /usr/local/lib/python3.9/dist-packages (from requests<3,>=2.21.0->tensorboard->detectron2==0.6) (3.4)\n",
            "Requirement already satisfied: charset-normalizer~=2.0.0 in /usr/local/lib/python3.9/dist-packages (from requests<3,>=2.21.0->tensorboard->detectron2==0.6) (2.0.12)\n",
            "Requirement already satisfied: urllib3<1.27,>=1.21.1 in /usr/local/lib/python3.9/dist-packages (from requests<3,>=2.21.0->tensorboard->detectron2==0.6) (1.26.15)\n",
            "Requirement already satisfied: certifi>=2017.4.17 in /usr/local/lib/python3.9/dist-packages (from requests<3,>=2.21.0->tensorboard->detectron2==0.6) (2022.12.7)\n",
            "Requirement already satisfied: MarkupSafe>=2.1.1 in /usr/local/lib/python3.9/dist-packages (from werkzeug>=1.0.1->tensorboard->detectron2==0.6) (2.1.2)\n",
            "Requirement already satisfied: pyasn1<0.5.0,>=0.4.6 in /usr/local/lib/python3.9/dist-packages (from pyasn1-modules>=0.2.1->google-auth<3,>=1.6.3->tensorboard->detectron2==0.6) (0.4.8)\n",
            "Requirement already satisfied: oauthlib>=3.0.0 in /usr/local/lib/python3.9/dist-packages (from requests-oauthlib>=0.7.0->google-auth-oauthlib<0.5,>=0.4.1->tensorboard->detectron2==0.6) (3.2.2)\n",
            "Building wheels for collected packages: detectron2, fvcore, antlr4-python3-runtime\n",
            "  Building wheel for detectron2 (setup.py) ... \u001b[?25l\u001b[?25hdone\n",
            "  Created wheel for detectron2: filename=detectron2-0.6-cp39-cp39-linux_x86_64.whl size=6229112 sha256=386f53cf21e77663e19d074921463d52586cd16a4db773cc89efe346b0422771\n",
            "  Stored in directory: /tmp/pip-ephem-wheel-cache-utpthwpu/wheels/59/b4/83/84bfca751fa4dcc59998468be8688eb50e97408a83af171d42\n",
            "  Building wheel for fvcore (setup.py) ... \u001b[?25l\u001b[?25hdone\n",
            "  Created wheel for fvcore: filename=fvcore-0.1.5.post20221221-py3-none-any.whl size=61429 sha256=dfa108c66c3333bc08fb8c58f4cb41be0e38f5c529a5f4d43a57845e3b46111f\n",
            "  Stored in directory: /root/.cache/pip/wheels/83/42/02/66178d16e5c44dc26d309931834956baeda371956e86fbd876\n",
            "  Building wheel for antlr4-python3-runtime (setup.py) ... \u001b[?25l\u001b[?25hdone\n",
            "  Created wheel for antlr4-python3-runtime: filename=antlr4_python3_runtime-4.9.3-py3-none-any.whl size=144573 sha256=e5a188eca48b200aad88c5b62639361a28eada0fd9c395753bbf1941a94c3703\n",
            "  Stored in directory: /root/.cache/pip/wheels/23/cf/80/f3efa822e6ab23277902ee9165fe772eeb1dfb8014f359020a\n",
            "Successfully built detectron2 fvcore antlr4-python3-runtime\n",
            "Installing collected packages: antlr4-python3-runtime, yacs, portalocker, pathspec, omegaconf, mypy-extensions, iopath, hydra-core, black, fvcore, detectron2\n",
            "Successfully installed antlr4-python3-runtime-4.9.3 black-23.1.0 detectron2-0.6 fvcore-0.1.5.post20221221 hydra-core-1.3.2 iopath-0.1.9 mypy-extensions-1.0.0 omegaconf-2.3.0 pathspec-0.11.1 portalocker-2.7.0 yacs-0.1.8\n"
          ]
        }
      ],
      "source": [
        "!python -m pip install 'git+https://github.com/facebookresearch/detectron2.git' # remove -qq to view commit id for reproducibility"
      ]
    },
    {
      "cell_type": "markdown",
      "metadata": {
        "id": "TGS19l371BOf"
      },
      "source": [
        "mobile-vision"
      ]
    },
    {
      "cell_type": "code",
      "execution_count": 9,
      "metadata": {
        "colab": {
          "base_uri": "https://localhost:8080/"
        },
        "id": "_sQHAovK0q-X",
        "outputId": "f6b2db61-83a0-4332-c1a4-16d060137b0a"
      },
      "outputs": [
        {
          "output_type": "stream",
          "name": "stdout",
          "text": [
            "Looking in indexes: https://pypi.org/simple, https://us-python.pkg.dev/colab-wheels/public/simple/\n",
            "Collecting git+https://github.com/facebookresearch/mobile-vision.git\n",
            "  Cloning https://github.com/facebookresearch/mobile-vision.git to /tmp/pip-req-build-ojxsztv8\n",
            "  Running command git clone --filter=blob:none --quiet https://github.com/facebookresearch/mobile-vision.git /tmp/pip-req-build-ojxsztv8\n",
            "  Resolved https://github.com/facebookresearch/mobile-vision.git to commit 17bc45f5d982615c714161d386c9a2682504bacd\n",
            "  Preparing metadata (setup.py) ... \u001b[?25l\u001b[?25hdone\n",
            "Requirement already satisfied: iopath in /usr/local/lib/python3.9/dist-packages (from mobile-cv==0.1) (0.1.9)\n",
            "Collecting diskcache\n",
            "  Downloading diskcache-5.4.0-py3-none-any.whl (44 kB)\n",
            "\u001b[2K     \u001b[90m━━━━━━━━━━━━━━━━━━━━━━━━━━━━━━━━━━━━━━━━\u001b[0m \u001b[32m45.0/45.0 KB\u001b[0m \u001b[31m2.6 MB/s\u001b[0m eta \u001b[36m0:00:00\u001b[0m\n",
            "\u001b[?25hRequirement already satisfied: termcolor in /usr/local/lib/python3.9/dist-packages (from mobile-cv==0.1) (2.2.0)\n",
            "Requirement already satisfied: cloudpickle in /usr/local/lib/python3.9/dist-packages (from mobile-cv==0.1) (2.2.1)\n",
            "Requirement already satisfied: tabulate in /usr/local/lib/python3.9/dist-packages (from mobile-cv==0.1) (0.8.10)\n",
            "Requirement already satisfied: portalocker in /usr/local/lib/python3.9/dist-packages (from iopath->mobile-cv==0.1) (2.7.0)\n",
            "Requirement already satisfied: tqdm in /usr/local/lib/python3.9/dist-packages (from iopath->mobile-cv==0.1) (4.65.0)\n",
            "Building wheels for collected packages: mobile-cv\n",
            "  Building wheel for mobile-cv (setup.py) ... \u001b[?25l\u001b[?25hdone\n",
            "  Created wheel for mobile-cv: filename=mobile_cv-0.1-py3-none-any.whl size=261961 sha256=f6504bcb1facece8beec6c830c4f15c05678388b17198dbff6aff1a48a039e34\n",
            "  Stored in directory: /tmp/pip-ephem-wheel-cache-fvqt5wki/wheels/cd/f0/8b/e8195d74647d1a6b86f3718e727ad1dfc16d2d3f0d60f72c06\n",
            "Successfully built mobile-cv\n",
            "Installing collected packages: diskcache, mobile-cv\n",
            "Successfully installed diskcache-5.4.0 mobile-cv-0.1\n"
          ]
        }
      ],
      "source": [
        "!python -m pip install 'git+https://github.com/facebookresearch/mobile-vision.git'"
      ]
    },
    {
      "cell_type": "markdown",
      "metadata": {
        "id": "5BZRIOrn1CQt"
      },
      "source": [
        "d2go"
      ]
    },
    {
      "cell_type": "code",
      "execution_count": 10,
      "metadata": {
        "colab": {
          "base_uri": "https://localhost:8080/"
        },
        "id": "b5LajS3-0vvm",
        "outputId": "1d37b532-738a-405d-9754-f8afc47e895f"
      },
      "outputs": [
        {
          "output_type": "stream",
          "name": "stdout",
          "text": [
            "Looking in indexes: https://pypi.org/simple, https://us-python.pkg.dev/colab-wheels/public/simple/\n",
            "Collecting git+https://github.com/facebookresearch/d2go.git\n",
            "  Cloning https://github.com/facebookresearch/d2go.git to /tmp/pip-req-build-836q4jvj\n",
            "  Running command git clone --filter=blob:none --quiet https://github.com/facebookresearch/d2go.git /tmp/pip-req-build-836q4jvj\n",
            "  Resolved https://github.com/facebookresearch/d2go.git to commit 847c60252e923365e0899eaa5681eb4d71903808\n",
            "  Preparing metadata (setup.py) ... \u001b[?25l\u001b[?25hdone\n",
            "Collecting importlib\n",
            "  Downloading importlib-1.0.4.zip (7.1 kB)\n",
            "  Preparing metadata (setup.py) ... \u001b[?25l\u001b[?25hdone\n",
            "Requirement already satisfied: numpy in /usr/local/lib/python3.9/dist-packages (from d2go==0.0.1b20230321) (1.22.4)\n",
            "Requirement already satisfied: Pillow in /usr/local/lib/python3.9/dist-packages (from d2go==0.0.1b20230321) (8.4.0)\n",
            "Collecting mock\n",
            "  Downloading mock-5.0.1-py3-none-any.whl (30 kB)\n",
            "Requirement already satisfied: torch in /usr/local/lib/python3.9/dist-packages (from d2go==0.0.1b20230321) (1.13.1+cu116)\n",
            "Collecting pytorch-lightning==1.8.6\n",
            "  Downloading pytorch_lightning-1.8.6-py3-none-any.whl (800 kB)\n",
            "\u001b[2K     \u001b[90m━━━━━━━━━━━━━━━━━━━━━━━━━━━━━━━━━━━━━━\u001b[0m \u001b[32m800.3/800.3 KB\u001b[0m \u001b[31m18.6 MB/s\u001b[0m eta \u001b[36m0:00:00\u001b[0m\n",
            "\u001b[?25hRequirement already satisfied: opencv-python in /usr/local/lib/python3.9/dist-packages (from d2go==0.0.1b20230321) (4.7.0.72)\n",
            "Collecting parameterized\n",
            "  Downloading parameterized-0.8.1-py2.py3-none-any.whl (26 kB)\n",
            "Collecting protobuf==3.20.2\n",
            "  Downloading protobuf-3.20.2-cp39-cp39-manylinux_2_5_x86_64.manylinux1_x86_64.whl (1.0 MB)\n",
            "\u001b[2K     \u001b[90m━━━━━━━━━━━━━━━━━━━━━━━━━━━━━━━━━━━━━━━━\u001b[0m \u001b[32m1.0/1.0 MB\u001b[0m \u001b[31m56.6 MB/s\u001b[0m eta \u001b[36m0:00:00\u001b[0m\n",
            "\u001b[?25hCollecting tensorboardX>=2.2\n",
            "  Downloading tensorboardX-2.6-py2.py3-none-any.whl (114 kB)\n",
            "\u001b[2K     \u001b[90m━━━━━━━━━━━━━━━━━━━━━━━━━━━━━━━━━━━━━━\u001b[0m \u001b[32m114.5/114.5 KB\u001b[0m \u001b[31m16.5 MB/s\u001b[0m eta \u001b[36m0:00:00\u001b[0m\n",
            "\u001b[?25hRequirement already satisfied: fsspec[http]>2021.06.0 in /usr/local/lib/python3.9/dist-packages (from pytorch-lightning==1.8.6->d2go==0.0.1b20230321) (2023.3.0)\n",
            "Requirement already satisfied: packaging>=17.0 in /usr/local/lib/python3.9/dist-packages (from pytorch-lightning==1.8.6->d2go==0.0.1b20230321) (23.0)\n",
            "Requirement already satisfied: tqdm>=4.57.0 in /usr/local/lib/python3.9/dist-packages (from pytorch-lightning==1.8.6->d2go==0.0.1b20230321) (4.65.0)\n",
            "Requirement already satisfied: typing-extensions>=4.0.0 in /usr/local/lib/python3.9/dist-packages (from pytorch-lightning==1.8.6->d2go==0.0.1b20230321) (4.5.0)\n",
            "Collecting torchmetrics>=0.7.0\n",
            "  Downloading torchmetrics-0.11.4-py3-none-any.whl (519 kB)\n",
            "\u001b[2K     \u001b[90m━━━━━━━━━━━━━━━━━━━━━━━━━━━━━━━━━━━━━━\u001b[0m \u001b[32m519.2/519.2 KB\u001b[0m \u001b[31m47.9 MB/s\u001b[0m eta \u001b[36m0:00:00\u001b[0m\n",
            "\u001b[?25hCollecting lightning-utilities!=0.4.0,>=0.3.0\n",
            "  Downloading lightning_utilities-0.8.0-py3-none-any.whl (20 kB)\n",
            "Requirement already satisfied: PyYAML>=5.4 in /usr/local/lib/python3.9/dist-packages (from pytorch-lightning==1.8.6->d2go==0.0.1b20230321) (6.0)\n",
            "Requirement already satisfied: requests in /usr/local/lib/python3.9/dist-packages (from fsspec[http]>2021.06.0->pytorch-lightning==1.8.6->d2go==0.0.1b20230321) (2.27.1)\n",
            "Collecting aiohttp!=4.0.0a0,!=4.0.0a1\n",
            "  Downloading aiohttp-3.8.4-cp39-cp39-manylinux_2_17_x86_64.manylinux2014_x86_64.whl (1.0 MB)\n",
            "\u001b[2K     \u001b[90m━━━━━━━━━━━━━━━━━━━━━━━━━━━━━━━━━━━━━━━━\u001b[0m \u001b[32m1.0/1.0 MB\u001b[0m \u001b[31m63.7 MB/s\u001b[0m eta \u001b[36m0:00:00\u001b[0m\n",
            "\u001b[?25hCollecting aiosignal>=1.1.2\n",
            "  Downloading aiosignal-1.3.1-py3-none-any.whl (7.6 kB)\n",
            "Requirement already satisfied: attrs>=17.3.0 in /usr/local/lib/python3.9/dist-packages (from aiohttp!=4.0.0a0,!=4.0.0a1->fsspec[http]>2021.06.0->pytorch-lightning==1.8.6->d2go==0.0.1b20230321) (22.2.0)\n",
            "Collecting frozenlist>=1.1.1\n",
            "  Downloading frozenlist-1.3.3-cp39-cp39-manylinux_2_5_x86_64.manylinux1_x86_64.manylinux_2_17_x86_64.manylinux2014_x86_64.whl (158 kB)\n",
            "\u001b[2K     \u001b[90m━━━━━━━━━━━━━━━━━━━━━━━━━━━━━━━━━━━━━━\u001b[0m \u001b[32m158.8/158.8 KB\u001b[0m \u001b[31m18.5 MB/s\u001b[0m eta \u001b[36m0:00:00\u001b[0m\n",
            "\u001b[?25hCollecting async-timeout<5.0,>=4.0.0a3\n",
            "  Downloading async_timeout-4.0.2-py3-none-any.whl (5.8 kB)\n",
            "Collecting yarl<2.0,>=1.0\n",
            "  Downloading yarl-1.8.2-cp39-cp39-manylinux_2_17_x86_64.manylinux2014_x86_64.whl (264 kB)\n",
            "\u001b[2K     \u001b[90m━━━━━━━━━━━━━━━━━━━━━━━━━━━━━━━━━━━━━━\u001b[0m \u001b[32m264.6/264.6 KB\u001b[0m \u001b[31m28.8 MB/s\u001b[0m eta \u001b[36m0:00:00\u001b[0m\n",
            "\u001b[?25hCollecting multidict<7.0,>=4.5\n",
            "  Downloading multidict-6.0.4-cp39-cp39-manylinux_2_17_x86_64.manylinux2014_x86_64.whl (114 kB)\n",
            "\u001b[2K     \u001b[90m━━━━━━━━━━━━━━━━━━━━━━━━━━━━━━━━━━━━━━\u001b[0m \u001b[32m114.2/114.2 KB\u001b[0m \u001b[31m13.4 MB/s\u001b[0m eta \u001b[36m0:00:00\u001b[0m\n",
            "\u001b[?25hRequirement already satisfied: charset-normalizer<4.0,>=2.0 in /usr/local/lib/python3.9/dist-packages (from aiohttp!=4.0.0a0,!=4.0.0a1->fsspec[http]>2021.06.0->pytorch-lightning==1.8.6->d2go==0.0.1b20230321) (2.0.12)\n",
            "Requirement already satisfied: certifi>=2017.4.17 in /usr/local/lib/python3.9/dist-packages (from requests->fsspec[http]>2021.06.0->pytorch-lightning==1.8.6->d2go==0.0.1b20230321) (2022.12.7)\n",
            "Requirement already satisfied: urllib3<1.27,>=1.21.1 in /usr/local/lib/python3.9/dist-packages (from requests->fsspec[http]>2021.06.0->pytorch-lightning==1.8.6->d2go==0.0.1b20230321) (1.26.15)\n",
            "Requirement already satisfied: idna<4,>=2.5 in /usr/local/lib/python3.9/dist-packages (from requests->fsspec[http]>2021.06.0->pytorch-lightning==1.8.6->d2go==0.0.1b20230321) (3.4)\n",
            "Building wheels for collected packages: d2go, importlib\n",
            "  Building wheel for d2go (setup.py) ... \u001b[?25l\u001b[?25hdone\n",
            "  Created wheel for d2go: filename=d2go-0.0.1b20230321-py3-none-any.whl size=361274 sha256=6dd94e7a56b6e78bb2d30138913e155318dc79ed4fa6ab1c0c4441f5e6096a87\n",
            "  Stored in directory: /tmp/pip-ephem-wheel-cache-26mrb4hw/wheels/e4/83/92/eca74eec661f59994b8f2568e8befd2b32bb58478a6068228d\n",
            "  Building wheel for importlib (setup.py) ... \u001b[?25l\u001b[?25hdone\n",
            "  Created wheel for importlib: filename=importlib-1.0.4-py3-none-any.whl size=5870 sha256=a867334e28c4cb33a53710aed895f903db6aace0ce4d767313336a284cf515aa\n",
            "  Stored in directory: /root/.cache/pip/wheels/66/d5/91/d3087e750eb0957b46f68e9c3d0d45a93ea344220c87ab1583\n",
            "Successfully built d2go importlib\n",
            "Installing collected packages: parameterized, importlib, protobuf, multidict, mock, lightning-utilities, frozenlist, async-timeout, yarl, torchmetrics, tensorboardX, aiosignal, aiohttp, pytorch-lightning, d2go\n",
            "  Attempting uninstall: protobuf\n",
            "    Found existing installation: protobuf 3.19.6\n",
            "    Uninstalling protobuf-3.19.6:\n",
            "      Successfully uninstalled protobuf-3.19.6\n",
            "\u001b[31mERROR: pip's dependency resolver does not currently take into account all the packages that are installed. This behaviour is the source of the following dependency conflicts.\n",
            "tensorflow 2.11.0 requires protobuf<3.20,>=3.9.2, but you have protobuf 3.20.2 which is incompatible.\u001b[0m\u001b[31m\n",
            "\u001b[0mSuccessfully installed aiohttp-3.8.4 aiosignal-1.3.1 async-timeout-4.0.2 d2go-0.0.1b20230321 frozenlist-1.3.3 importlib-1.0.4 lightning-utilities-0.8.0 mock-5.0.1 multidict-6.0.4 parameterized-0.8.1 protobuf-3.20.2 pytorch-lightning-1.8.6 tensorboardX-2.6 torchmetrics-0.11.4 yarl-1.8.2\n"
          ]
        }
      ],
      "source": [
        "!python -m pip install \"git+https://github.com/facebookresearch/d2go.git\""
      ]
    },
    {
      "cell_type": "markdown",
      "metadata": {
        "id": "MrhUJhUtzKy_"
      },
      "source": [
        "# Quick Fixes"
      ]
    },
    {
      "cell_type": "markdown",
      "metadata": {
        "id": "UldzDMxJzWtB"
      },
      "source": [
        "### configs folder"
      ]
    },
    {
      "cell_type": "code",
      "execution_count": 11,
      "metadata": {
        "colab": {
          "base_uri": "https://localhost:8080/"
        },
        "id": "zLuRs1ib4NCE",
        "outputId": "83c78391-130b-4280-a822-4cf306f9a315"
      },
      "outputs": [
        {
          "output_type": "stream",
          "name": "stdout",
          "text": [
            "d2go                          0.0.1b20230321       /usr/local/lib/python3.9/dist-packages                    pip\n"
          ]
        }
      ],
      "source": [
        "!pip list -v | grep d2go"
      ]
    },
    {
      "cell_type": "code",
      "execution_count": 12,
      "metadata": {
        "colab": {
          "base_uri": "https://localhost:8080/"
        },
        "id": "m2fSCMnKM3Ga",
        "outputId": "d9bc0ace-b295-437f-b957-7862e35036d5"
      },
      "outputs": [
        {
          "output_type": "stream",
          "name": "stdout",
          "text": [
            "checkpoint\tevaluation\tmodeling     quantization  tests\n",
            "config\t\texport\t\tmodel_zoo    registry\t   tools\n",
            "data\t\tinitializer.py\toptimizer    runner\t   trainer\n",
            "distributed.py\t__init__.py\t__pycache__  setup.py\t   utils\n"
          ]
        }
      ],
      "source": [
        "!ls /usr/local/lib/python3.9/dist-packages/d2go"
      ]
    },
    {
      "cell_type": "code",
      "execution_count": 13,
      "metadata": {
        "colab": {
          "base_uri": "https://localhost:8080/"
        },
        "id": "jDTr2wVYM1TC",
        "outputId": "69ce34fb-5ebc-4e06-e2c7-19994f30cf53"
      },
      "outputs": [
        {
          "output_type": "stream",
          "name": "stdout",
          "text": [
            "Cloning into 'd2go_repo'...\n",
            "remote: Enumerating objects: 4429, done.\u001b[K\n",
            "remote: Counting objects: 100% (291/291), done.\u001b[K\n",
            "remote: Compressing objects: 100% (117/117), done.\u001b[K\n",
            "remote: Total 4429 (delta 181), reused 269 (delta 174), pack-reused 4138\u001b[K\n",
            "Receiving objects: 100% (4429/4429), 2.95 MiB | 18.20 MiB/s, done.\n",
            "Resolving deltas: 100% (3129/3129), done.\n"
          ]
        }
      ],
      "source": [
        "!git clone https://github.com/facebookresearch/d2go.git d2go_repo"
      ]
    },
    {
      "cell_type": "code",
      "execution_count": 14,
      "metadata": {
        "id": "ulbDEjS2L43u"
      },
      "outputs": [],
      "source": [
        "d2go_dir = \"/usr/local/lib/python3.9/dist-packages/d2go\" \n",
        "configs_dir = f\"{d2go_dir}/configs\"\n",
        "import os\n",
        "os.makedirs(configs_dir, exist_ok=True)"
      ]
    },
    {
      "cell_type": "code",
      "execution_count": 15,
      "metadata": {
        "colab": {
          "base_uri": "https://localhost:8080/"
        },
        "id": "k-5NZHQkN1Vm",
        "outputId": "723bdc29-dc67-446b-f7fa-6dc2a9a8d2fa"
      },
      "outputs": [
        {
          "output_type": "stream",
          "name": "stdout",
          "text": [
            "faster_rcnn_fbnetv3a_C4_FSDP.yaml    keypoint_rcnn_fbnetv3a_dsmask_C4.yaml\n",
            "faster_rcnn_fbnetv3a_C4_LSJ.yaml     mask_rcnn_fbnetv3a_C4.yaml\n",
            "faster_rcnn_fbnetv3a_C4.yaml\t     mask_rcnn_fbnetv3a_dsmask_C4.yaml\n",
            "faster_rcnn_fbnetv3a_dsmask_C4.yaml  mask_rcnn_fbnetv3g_fpn.yaml\n",
            "faster_rcnn_fbnetv3g_fpn.yaml\t     qat_faster_rcnn_fbnetv3a_C4.yaml\n"
          ]
        }
      ],
      "source": [
        "!ls d2go_repo/configs/"
      ]
    },
    {
      "cell_type": "code",
      "execution_count": 16,
      "metadata": {
        "id": "2t4eacoUNHGt"
      },
      "outputs": [],
      "source": [
        "!cp -r d2go_repo/configs {d2go_dir}"
      ]
    },
    {
      "cell_type": "code",
      "execution_count": 17,
      "metadata": {
        "colab": {
          "base_uri": "https://localhost:8080/"
        },
        "id": "Db84CIC2L0Rl",
        "outputId": "cb3696dd-b97f-4024-a363-b404941ee804"
      },
      "outputs": [
        {
          "output_type": "stream",
          "name": "stdout",
          "text": [
            "faster_rcnn_fbnetv3a_C4_FSDP.yaml    keypoint_rcnn_fbnetv3a_dsmask_C4.yaml\n",
            "faster_rcnn_fbnetv3a_C4_LSJ.yaml     mask_rcnn_fbnetv3a_C4.yaml\n",
            "faster_rcnn_fbnetv3a_C4.yaml\t     mask_rcnn_fbnetv3a_dsmask_C4.yaml\n",
            "faster_rcnn_fbnetv3a_dsmask_C4.yaml  mask_rcnn_fbnetv3g_fpn.yaml\n",
            "faster_rcnn_fbnetv3g_fpn.yaml\t     qat_faster_rcnn_fbnetv3a_C4.yaml\n"
          ]
        }
      ],
      "source": [
        "!ls \"/usr/local/lib/python3.9/dist-packages/d2go/configs\" "
      ]
    },
    {
      "cell_type": "markdown",
      "metadata": {
        "id": "iziwjdPfzbBx"
      },
      "source": [
        "### model_zoo"
      ]
    },
    {
      "cell_type": "markdown",
      "metadata": {
        "id": "g6YZWJQmzeT5"
      },
      "source": [
        "- Step 1: Click on this link (or locate it using this directory)\n",
        "/usr/local/lib/python3.9/dist-packages/d2go/trainer/fsdp.py\n",
        "- Step 2: Change line 16: `from torch.ao.pruning import fqn_to_module` to `from torch.ao.sparsity.sparsifier.utils import fqn_to_module`\n",
        "- Step 3: Save the change"
      ]
    },
    {
      "cell_type": "markdown",
      "metadata": {
        "id": "Cv2phVkyQ7Db"
      },
      "source": [
        "## Dataset"
      ]
    },
    {
      "cell_type": "code",
      "execution_count": 18,
      "metadata": {
        "id": "2lGJC0nn3Ow-"
      },
      "outputs": [],
      "source": [
        "!wget -qq https://github.com/PacktPublishing/Hands-On-Computer-Vision-with-Detectron2/raw/main/datasets/braintumors_coco.zip\n",
        "!unzip -qq braintumors_coco.zip"
      ]
    },
    {
      "cell_type": "code",
      "execution_count": 19,
      "metadata": {
        "id": "1XM7bJXBi8yJ"
      },
      "outputs": [],
      "source": [
        "from detectron2.utils.logger import setup_logger\n",
        "logger = setup_logger()\n",
        "from detectron2.data.datasets import register_coco_instances"
      ]
    },
    {
      "cell_type": "code",
      "execution_count": 20,
      "metadata": {
        "id": "tPwzbXCHi9aA"
      },
      "outputs": [],
      "source": [
        "# Some configurations\n",
        "name_ds = \"braintumors_coco\"\n",
        "name_ds_train = name_ds + \"_train\"\n",
        "name_ds_test = name_ds + \"_test\"\n",
        "image_root_train = name_ds + \"/train\"\n",
        "image_root_test = name_ds + \"/test\"\n",
        "af = \"_annotations.coco.json\"\n",
        "json_file_train = name_ds + \"/train/\" + af\n",
        "json_file_test = name_ds + \"/test/\" + af\n",
        "\n",
        "# Register datasets\n",
        "## train dataset\n",
        "register_coco_instances(\n",
        "    name = name_ds_train,\n",
        "    metadata = {},\n",
        "    json_file = json_file_train,\n",
        "    image_root = image_root_train\n",
        "    )\n",
        "## test dataset\n",
        "register_coco_instances(\n",
        "    name = name_ds_test,\n",
        "    metadata = {},\n",
        "    json_file = json_file_test,\n",
        "    image_root = image_root_test\n",
        "    )"
      ]
    },
    {
      "cell_type": "markdown",
      "metadata": {
        "id": "YdSnaK5sjW9Q"
      },
      "source": [
        "## Training"
      ]
    },
    {
      "cell_type": "code",
      "execution_count": 21,
      "metadata": {
        "id": "v2q0-MxnjAMH"
      },
      "outputs": [],
      "source": [
        "from d2go.model_zoo import model_zoo\n",
        "from d2go.runner import GeneralizedRCNNRunner\n",
        "selected_model = \"faster_rcnn_fbnetv3a_C4.yaml\"\n",
        "nc = 2\n",
        "output_dir = './output'\n",
        "model_url = selected_model\n",
        "runner = GeneralizedRCNNRunner()\n",
        "\n",
        "cfg = runner.get_default_cfg()\n",
        "cfg.merge_from_file(model_zoo.get_config_file(model_url))\n",
        "cfg.MODEL_EMA.ENABLED = False\n",
        "cfg.DATASETS.TRAIN = (name_ds_train,)\n",
        "cfg.DATASETS.TEST = (name_ds_test,)\n",
        "cfg.DATALOADER.NUM_WORKERS = 2\n",
        "cfg.MODEL.WEIGHTS = model_zoo.get_checkpoint_url(model_url)\n",
        "cfg.MODEL.DEVICE = \"cpu\" if ('CI' in os.environ) else \"cuda\"\n",
        "cfg.SOLVER.IMS_PER_BATCH = 2\n",
        "cfg.SOLVER.BASE_LR = 0.00025 \n",
        "cfg.SOLVER.MAX_ITER = 5 if ('CI' in os.environ) else 5000\n",
        "cfg.SOLVER.STEPS = []\n",
        "cfg.MODEL.ROI_HEADS.BATCH_SIZE_PER_IMAGE = 128\n",
        "cfg.MODEL.ROI_HEADS.NUM_CLASSES = nc\n",
        "cfg.OUTPUT_DIR = output_dir\n",
        "os.makedirs(cfg.OUTPUT_DIR, exist_ok=True)"
      ]
    },
    {
      "cell_type": "code",
      "execution_count": 22,
      "metadata": {
        "colab": {
          "base_uri": "https://localhost:8080/"
        },
        "id": "hn6s72SelXaa",
        "outputId": "ab17b46e-37c6-4b0f-97fb-c35a823293e8"
      },
      "outputs": [
        {
          "output_type": "stream",
          "name": "stderr",
          "text": [
            "WARNING:mobile_cv.arch.utils.helper:Arguments ['width_divisor', 'dw_skip_bnrelu', 'zero_last_bn_gamma'] skipped for op Conv2d\n"
          ]
        },
        {
          "output_type": "stream",
          "name": "stdout",
          "text": [
            "[03/21 02:00:34 d2.checkpoint.detection_checkpoint]: [DetectionCheckpointer] Loading from https://mobile-cv.s3-us-west-2.amazonaws.com/d2go/models/268421013/model_final.pth ...\n"
          ]
        },
        {
          "output_type": "stream",
          "name": "stderr",
          "text": [
            "model_final.pth: 74.3MB [00:02, 31.0MB/s]                            \n",
            "WARNING:fvcore.common.checkpoint:Skip loading parameter 'roi_heads.box_predictor.cls_score.weight' to the model due to incompatible shapes: (81, 200) in the checkpoint but (3, 200) in the model! You might want to double check if this is expected.\n",
            "WARNING:fvcore.common.checkpoint:Skip loading parameter 'roi_heads.box_predictor.cls_score.bias' to the model due to incompatible shapes: (81,) in the checkpoint but (3,) in the model! You might want to double check if this is expected.\n",
            "WARNING:fvcore.common.checkpoint:Skip loading parameter 'roi_heads.box_predictor.bbox_pred.weight' to the model due to incompatible shapes: (320, 200) in the checkpoint but (8, 200) in the model! You might want to double check if this is expected.\n",
            "WARNING:fvcore.common.checkpoint:Skip loading parameter 'roi_heads.box_predictor.bbox_pred.bias' to the model due to incompatible shapes: (320,) in the checkpoint but (8,) in the model! You might want to double check if this is expected.\n",
            "WARNING:fvcore.common.checkpoint:Some model parameters or buffers are not found in the checkpoint:\n",
            "roi_heads.box_predictor.bbox_pred.{bias, weight}\n",
            "roi_heads.box_predictor.cls_score.{bias, weight}\n",
            "WARNING:fvcore.common.checkpoint:The checkpoint state_dict contains keys that are not used by the model:\n",
            "  roi_heads.mask_head.feature_extractor.0.fbnetv2_0_0.pw.conv.weight\n",
            "  roi_heads.mask_head.feature_extractor.0.fbnetv2_0_0.pw.bn.{bias, num_batches_tracked, running_mean, running_var, weight}\n",
            "  roi_heads.mask_head.feature_extractor.0.fbnetv2_0_0.dw.conv.weight\n",
            "  roi_heads.mask_head.feature_extractor.0.fbnetv2_0_0.pwl.conv.weight\n",
            "  roi_heads.mask_head.feature_extractor.0.fbnetv2_0_0.pwl.bn.{bias, num_batches_tracked, running_mean, running_var, weight}\n",
            "  roi_heads.mask_head.feature_extractor.0.fbnetv2_0_1.pw.conv.weight\n",
            "  roi_heads.mask_head.feature_extractor.0.fbnetv2_0_1.pw.bn.{bias, num_batches_tracked, running_mean, running_var, weight}\n",
            "  roi_heads.mask_head.feature_extractor.0.fbnetv2_0_1.dw.conv.weight\n",
            "  roi_heads.mask_head.feature_extractor.0.fbnetv2_0_1.pwl.conv.weight\n",
            "  roi_heads.mask_head.feature_extractor.0.fbnetv2_0_1.pwl.bn.{bias, num_batches_tracked, running_mean, running_var, weight}\n",
            "  roi_heads.mask_head.feature_extractor.0.fbnetv2_0_2.pw.conv.weight\n",
            "  roi_heads.mask_head.feature_extractor.0.fbnetv2_0_2.pw.bn.{bias, num_batches_tracked, running_mean, running_var, weight}\n",
            "  roi_heads.mask_head.feature_extractor.0.fbnetv2_0_2.dw.conv.weight\n",
            "  roi_heads.mask_head.feature_extractor.0.fbnetv2_0_2.pwl.conv.weight\n",
            "  roi_heads.mask_head.feature_extractor.0.fbnetv2_0_2.pwl.bn.{bias, num_batches_tracked, running_mean, running_var, weight}\n",
            "  roi_heads.mask_head.feature_extractor.0.fbnetv2_0_3.pw.conv.weight\n",
            "  roi_heads.mask_head.feature_extractor.0.fbnetv2_0_3.pw.bn.{bias, num_batches_tracked, running_mean, running_var, weight}\n",
            "  roi_heads.mask_head.feature_extractor.0.fbnetv2_0_3.dw.conv.weight\n",
            "  roi_heads.mask_head.feature_extractor.0.fbnetv2_0_3.pwl.conv.weight\n",
            "  roi_heads.mask_head.feature_extractor.0.fbnetv2_0_3.pwl.bn.{bias, num_batches_tracked, running_mean, running_var, weight}\n",
            "  roi_heads.mask_head.feature_extractor.0.fbnetv2_0_4.pw.conv.weight\n",
            "  roi_heads.mask_head.feature_extractor.0.fbnetv2_0_4.pw.bn.{bias, num_batches_tracked, running_mean, running_var, weight}\n",
            "  roi_heads.mask_head.feature_extractor.0.fbnetv2_0_4.dw.conv.weight\n",
            "  roi_heads.mask_head.feature_extractor.0.fbnetv2_0_4.pwl.conv.weight\n",
            "  roi_heads.mask_head.feature_extractor.0.fbnetv2_0_4.pwl.bn.{bias, num_batches_tracked, running_mean, running_var, weight}\n",
            "  roi_heads.mask_head.predictor.mask_fcn_logits.{bias, weight}\n"
          ]
        },
        {
          "output_type": "stream",
          "name": "stdout",
          "text": [
            "[03/21 02:00:36 d2.data.datasets.coco]: Loaded 878 images in COCO format from braintumors_coco/train/_annotations.coco.json\n",
            "[03/21 02:00:36 d2.data.build]: Removed 0 images with no usable annotations. 878 images left.\n",
            "[03/21 02:00:36 d2.data.build]: Distribution of instances among all 2 categories:\n",
            "|  category  | #instances   |  category  | #instances   |\n",
            "|:----------:|:-------------|:----------:|:-------------|\n",
            "|  negative  | 437          |  positive  | 488          |\n",
            "|            |              |            |              |\n",
            "|   total    | 925          |            |              |\n",
            "[03/21 02:00:36 d2.data.build]: Using training sampler TrainingSampler\n",
            "[03/21 02:00:36 d2.data.common]: Serializing the dataset using: <class 'mobile_cv.torch.utils_pytorch.shareables.SharedList'>\n",
            "[03/21 02:00:39 d2.engine.train_loop]: Starting training from iteration 0\n"
          ]
        },
        {
          "output_type": "stream",
          "name": "stderr",
          "text": [
            "/usr/local/lib/python3.9/dist-packages/torch/functional.py:504: UserWarning: torch.meshgrid: in an upcoming release, it will be required to pass the indexing argument. (Triggered internally at ../aten/src/ATen/native/TensorShape.cpp:3190.)\n",
            "  return _VF.meshgrid(tensors, **kwargs)  # type: ignore[attr-defined]\n"
          ]
        },
        {
          "output_type": "stream",
          "name": "stdout",
          "text": [
            "[03/21 02:00:55 d2.utils.events]:  eta: 0:08:17  iter: 19  total_loss: 1.213  loss_cls: 1.071  loss_box_reg: 0.08998  loss_rpn_cls: 0.03774  loss_rpn_loc: 0.002224    time: 0.1022  last_time: 0.0999  data_time: 0.0194  last_data_time: 0.0045   lr: 4.5417e-06  max_mem: 445M\n",
            "[03/21 02:00:57 d2.utils.events]:  eta: 0:08:15  iter: 39  total_loss: 1.176  loss_cls: 1.046  loss_box_reg: 0.07897  loss_rpn_cls: 0.03274  loss_rpn_loc: 0.002758    time: 0.1034  last_time: 0.0945  data_time: 0.0113  last_data_time: 0.0069   lr: 9.0592e-06  max_mem: 445M\n",
            "[03/21 02:00:59 d2.utils.events]:  eta: 0:08:16  iter: 59  total_loss: 1.135  loss_cls: 0.9938  loss_box_reg: 0.09222  loss_rpn_cls: 0.03609  loss_rpn_loc: 0.002605    time: 0.1049  last_time: 0.1039  data_time: 0.0136  last_data_time: 0.0114   lr: 1.3577e-05  max_mem: 445M\n",
            "[03/21 02:01:02 d2.utils.events]:  eta: 0:08:24  iter: 79  total_loss: 1.047  loss_cls: 0.9148  loss_box_reg: 0.07665  loss_rpn_cls: 0.0387  loss_rpn_loc: 0.002779    time: 0.1121  last_time: 0.1405  data_time: 0.0165  last_data_time: 0.0108   lr: 1.8094e-05  max_mem: 445M\n",
            "[03/21 02:01:05 d2.utils.events]:  eta: 0:08:34  iter: 99  total_loss: 0.9445  loss_cls: 0.8376  loss_box_reg: 0.08173  loss_rpn_cls: 0.03187  loss_rpn_loc: 0.002589    time: 0.1165  last_time: 0.0988  data_time: 0.0175  last_data_time: 0.0117   lr: 2.2612e-05  max_mem: 445M\n",
            "[03/21 02:01:07 d2.utils.events]:  eta: 0:08:22  iter: 119  total_loss: 0.912  loss_cls: 0.737  loss_box_reg: 0.1377  loss_rpn_cls: 0.02732  loss_rpn_loc: 0.00225    time: 0.1147  last_time: 0.1029  data_time: 0.0115  last_data_time: 0.0098   lr: 2.7129e-05  max_mem: 445M\n",
            "[03/21 02:01:09 d2.utils.events]:  eta: 0:08:22  iter: 139  total_loss: 0.7282  loss_cls: 0.6309  loss_box_reg: 0.08139  loss_rpn_cls: 0.01712  loss_rpn_loc: 0.002478    time: 0.1140  last_time: 0.1050  data_time: 0.0133  last_data_time: 0.0078   lr: 3.1647e-05  max_mem: 445M\n",
            "[03/21 02:01:11 d2.utils.events]:  eta: 0:08:18  iter: 159  total_loss: 0.677  loss_cls: 0.5504  loss_box_reg: 0.1078  loss_rpn_cls: 0.02095  loss_rpn_loc: 0.002339    time: 0.1130  last_time: 0.0950  data_time: 0.0139  last_data_time: 0.0077   lr: 3.6164e-05  max_mem: 445M\n",
            "[03/21 02:01:13 d2.utils.events]:  eta: 0:08:14  iter: 179  total_loss: 0.6158  loss_cls: 0.4804  loss_box_reg: 0.1111  loss_rpn_cls: 0.01668  loss_rpn_loc: 0.002466    time: 0.1116  last_time: 0.1093  data_time: 0.0069  last_data_time: 0.0172   lr: 4.0682e-05  max_mem: 445M\n",
            "[03/21 02:01:16 d2.utils.events]:  eta: 0:08:16  iter: 199  total_loss: 0.4982  loss_cls: 0.3973  loss_box_reg: 0.06994  loss_rpn_cls: 0.01528  loss_rpn_loc: 0.002107    time: 0.1129  last_time: 0.1165  data_time: 0.0118  last_data_time: 0.0121   lr: 4.52e-05  max_mem: 445M\n",
            "[03/21 02:01:18 d2.utils.events]:  eta: 0:08:21  iter: 219  total_loss: 0.4834  loss_cls: 0.3637  loss_box_reg: 0.1147  loss_rpn_cls: 0.015  loss_rpn_loc: 0.002002    time: 0.1144  last_time: 0.1032  data_time: 0.0118  last_data_time: 0.0065   lr: 4.9717e-05  max_mem: 445M\n",
            "[03/21 02:01:20 d2.utils.events]:  eta: 0:08:13  iter: 239  total_loss: 0.4478  loss_cls: 0.3209  loss_box_reg: 0.1069  loss_rpn_cls: 0.01473  loss_rpn_loc: 0.002191    time: 0.1138  last_time: 0.1230  data_time: 0.0064  last_data_time: 0.0075   lr: 5.4235e-05  max_mem: 445M\n",
            "[03/21 02:01:23 d2.utils.events]:  eta: 0:08:10  iter: 259  total_loss: 0.3535  loss_cls: 0.2676  loss_box_reg: 0.07147  loss_rpn_cls: 0.01222  loss_rpn_loc: 0.002619    time: 0.1133  last_time: 0.0967  data_time: 0.0102  last_data_time: 0.0083   lr: 5.8752e-05  max_mem: 445M\n",
            "[03/21 02:01:25 d2.utils.events]:  eta: 0:08:06  iter: 279  total_loss: 0.398  loss_cls: 0.2494  loss_box_reg: 0.1124  loss_rpn_cls: 0.01157  loss_rpn_loc: 0.001545    time: 0.1123  last_time: 0.0947  data_time: 0.0073  last_data_time: 0.0047   lr: 6.327e-05  max_mem: 445M\n",
            "[03/21 02:01:27 d2.utils.events]:  eta: 0:08:01  iter: 299  total_loss: 0.3332  loss_cls: 0.223  loss_box_reg: 0.09875  loss_rpn_cls: 0.009895  loss_rpn_loc: 0.001958    time: 0.1113  last_time: 0.0977  data_time: 0.0065  last_data_time: 0.0041   lr: 6.7787e-05  max_mem: 445M\n",
            "[03/21 02:01:29 d2.utils.events]:  eta: 0:07:59  iter: 319  total_loss: 0.3206  loss_cls: 0.1903  loss_box_reg: 0.1156  loss_rpn_cls: 0.008964  loss_rpn_loc: 0.00228    time: 0.1114  last_time: 0.1375  data_time: 0.0117  last_data_time: 0.0176   lr: 7.2305e-05  max_mem: 445M\n",
            "[03/21 02:01:32 d2.utils.events]:  eta: 0:08:00  iter: 339  total_loss: 0.3408  loss_cls: 0.1876  loss_box_reg: 0.1308  loss_rpn_cls: 0.01138  loss_rpn_loc: 0.002091    time: 0.1128  last_time: 0.1417  data_time: 0.0159  last_data_time: 0.0192   lr: 7.6822e-05  max_mem: 445M\n",
            "[03/21 02:01:34 d2.utils.events]:  eta: 0:07:57  iter: 359  total_loss: 0.3057  loss_cls: 0.1636  loss_box_reg: 0.1312  loss_rpn_cls: 0.01293  loss_rpn_loc: 0.003108    time: 0.1124  last_time: 0.0989  data_time: 0.0078  last_data_time: 0.0041   lr: 8.134e-05  max_mem: 445M\n",
            "[03/21 02:01:36 d2.utils.events]:  eta: 0:07:53  iter: 379  total_loss: 0.2599  loss_cls: 0.1467  loss_box_reg: 0.1014  loss_rpn_cls: 0.00825  loss_rpn_loc: 0.002321    time: 0.1117  last_time: 0.1177  data_time: 0.0064  last_data_time: 0.0048   lr: 8.5857e-05  max_mem: 445M\n",
            "[03/21 02:01:38 d2.utils.events]:  eta: 0:07:51  iter: 399  total_loss: 0.292  loss_cls: 0.1451  loss_box_reg: 0.137  loss_rpn_cls: 0.008908  loss_rpn_loc: 0.002258    time: 0.1112  last_time: 0.1102  data_time: 0.0062  last_data_time: 0.0052   lr: 9.0375e-05  max_mem: 445M\n",
            "[03/21 02:01:40 d2.utils.events]:  eta: 0:07:46  iter: 419  total_loss: 0.2865  loss_cls: 0.1377  loss_box_reg: 0.1396  loss_rpn_cls: 0.01141  loss_rpn_loc: 0.002245    time: 0.1106  last_time: 0.0999  data_time: 0.0062  last_data_time: 0.0064   lr: 9.4893e-05  max_mem: 445M\n",
            "[03/21 02:01:42 d2.utils.events]:  eta: 0:07:44  iter: 439  total_loss: 0.224  loss_cls: 0.1184  loss_box_reg: 0.1071  loss_rpn_cls: 0.008883  loss_rpn_loc: 0.001873    time: 0.1102  last_time: 0.1001  data_time: 0.0078  last_data_time: 0.0038   lr: 9.941e-05  max_mem: 445M\n",
            "[03/21 02:01:44 d2.utils.events]:  eta: 0:07:43  iter: 459  total_loss: 0.243  loss_cls: 0.1129  loss_box_reg: 0.09275  loss_rpn_cls: 0.009258  loss_rpn_loc: 0.002665    time: 0.1110  last_time: 0.1336  data_time: 0.0167  last_data_time: 0.0194   lr: 0.00010393  max_mem: 445M\n",
            "[03/21 02:01:47 d2.utils.events]:  eta: 0:07:42  iter: 479  total_loss: 0.2532  loss_cls: 0.1147  loss_box_reg: 0.1189  loss_rpn_cls: 0.007916  loss_rpn_loc: 0.002369    time: 0.1116  last_time: 0.0984  data_time: 0.0112  last_data_time: 0.0117   lr: 0.00010845  max_mem: 445M\n",
            "[03/21 02:01:49 d2.utils.events]:  eta: 0:07:38  iter: 499  total_loss: 0.2165  loss_cls: 0.1028  loss_box_reg: 0.1068  loss_rpn_cls: 0.006828  loss_rpn_loc: 0.002084    time: 0.1110  last_time: 0.0963  data_time: 0.0063  last_data_time: 0.0089   lr: 0.00011296  max_mem: 445M\n",
            "[03/21 02:01:51 d2.utils.events]:  eta: 0:07:35  iter: 519  total_loss: 0.2308  loss_cls: 0.09777  loss_box_reg: 0.1234  loss_rpn_cls: 0.0091  loss_rpn_loc: 0.002171    time: 0.1106  last_time: 0.0985  data_time: 0.0065  last_data_time: 0.0102   lr: 0.00011748  max_mem: 445M\n",
            "[03/21 02:01:53 d2.utils.events]:  eta: 0:07:33  iter: 539  total_loss: 0.2106  loss_cls: 0.09095  loss_box_reg: 0.1189  loss_rpn_cls: 0.006817  loss_rpn_loc: 0.001792    time: 0.1102  last_time: 0.0988  data_time: 0.0092  last_data_time: 0.0074   lr: 0.000122  max_mem: 445M\n",
            "[03/21 02:01:55 d2.utils.events]:  eta: 0:07:30  iter: 559  total_loss: 0.2089  loss_cls: 0.08564  loss_box_reg: 0.1051  loss_rpn_cls: 0.005642  loss_rpn_loc: 0.002164    time: 0.1098  last_time: 0.0983  data_time: 0.0086  last_data_time: 0.0110   lr: 0.00012652  max_mem: 445M\n",
            "[03/21 02:01:57 d2.utils.events]:  eta: 0:07:28  iter: 579  total_loss: 0.2176  loss_cls: 0.08891  loss_box_reg: 0.126  loss_rpn_cls: 0.00502  loss_rpn_loc: 0.002027    time: 0.1097  last_time: 0.1279  data_time: 0.0100  last_data_time: 0.0177   lr: 0.00013103  max_mem: 445M\n",
            "[03/21 02:02:00 d2.utils.events]:  eta: 0:07:27  iter: 599  total_loss: 0.2451  loss_cls: 0.086  loss_box_reg: 0.1506  loss_rpn_cls: 0.005406  loss_rpn_loc: 0.002046    time: 0.1105  last_time: 0.1327  data_time: 0.0143  last_data_time: 0.0044   lr: 0.00013555  max_mem: 445M\n",
            "[03/21 02:02:02 d2.utils.events]:  eta: 0:07:25  iter: 619  total_loss: 0.1853  loss_cls: 0.08478  loss_box_reg: 0.09383  loss_rpn_cls: 0.007569  loss_rpn_loc: 0.002189    time: 0.1105  last_time: 0.0987  data_time: 0.0092  last_data_time: 0.0120   lr: 0.00014007  max_mem: 445M\n",
            "[03/21 02:02:04 d2.utils.events]:  eta: 0:07:23  iter: 639  total_loss: 0.2103  loss_cls: 0.08456  loss_box_reg: 0.1202  loss_rpn_cls: 0.00625  loss_rpn_loc: 0.00194    time: 0.1102  last_time: 0.0999  data_time: 0.0078  last_data_time: 0.0042   lr: 0.00014459  max_mem: 445M\n",
            "[03/21 02:02:06 d2.utils.events]:  eta: 0:07:20  iter: 659  total_loss: 0.2101  loss_cls: 0.07776  loss_box_reg: 0.1074  loss_rpn_cls: 0.005986  loss_rpn_loc: 0.001886    time: 0.1099  last_time: 0.1067  data_time: 0.0076  last_data_time: 0.0172   lr: 0.0001491  max_mem: 445M\n",
            "[03/21 02:02:08 d2.utils.events]:  eta: 0:07:18  iter: 679  total_loss: 0.1742  loss_cls: 0.06805  loss_box_reg: 0.09277  loss_rpn_cls: 0.004948  loss_rpn_loc: 0.001643    time: 0.1096  last_time: 0.1043  data_time: 0.0068  last_data_time: 0.0088   lr: 0.00015362  max_mem: 445M\n",
            "[03/21 02:02:10 d2.utils.events]:  eta: 0:07:16  iter: 699  total_loss: 0.2246  loss_cls: 0.08421  loss_box_reg: 0.1272  loss_rpn_cls: 0.008122  loss_rpn_loc: 0.002123    time: 0.1094  last_time: 0.1031  data_time: 0.0076  last_data_time: 0.0107   lr: 0.00015814  max_mem: 445M\n",
            "[03/21 02:02:13 d2.utils.events]:  eta: 0:07:15  iter: 719  total_loss: 0.1891  loss_cls: 0.06617  loss_box_reg: 0.1174  loss_rpn_cls: 0.006472  loss_rpn_loc: 0.00212    time: 0.1099  last_time: 0.1325  data_time: 0.0162  last_data_time: 0.0177   lr: 0.00016266  max_mem: 445M\n",
            "[03/21 02:02:15 d2.utils.events]:  eta: 0:07:13  iter: 739  total_loss: 0.1795  loss_cls: 0.07645  loss_box_reg: 0.0929  loss_rpn_cls: 0.006863  loss_rpn_loc: 0.002123    time: 0.1103  last_time: 0.0995  data_time: 0.0094  last_data_time: 0.0103   lr: 0.00016717  max_mem: 445M\n",
            "[03/21 02:02:17 d2.utils.events]:  eta: 0:07:10  iter: 759  total_loss: 0.2186  loss_cls: 0.07909  loss_box_reg: 0.1325  loss_rpn_cls: 0.004943  loss_rpn_loc: 0.001928    time: 0.1100  last_time: 0.0963  data_time: 0.0057  last_data_time: 0.0038   lr: 0.00017169  max_mem: 445M\n",
            "[03/21 02:02:19 d2.utils.events]:  eta: 0:07:08  iter: 779  total_loss: 0.1834  loss_cls: 0.06342  loss_box_reg: 0.1156  loss_rpn_cls: 0.00466  loss_rpn_loc: 0.001679    time: 0.1097  last_time: 0.0981  data_time: 0.0073  last_data_time: 0.0074   lr: 0.00017621  max_mem: 445M\n",
            "[03/21 02:02:21 d2.utils.events]:  eta: 0:07:05  iter: 799  total_loss: 0.1957  loss_cls: 0.07707  loss_box_reg: 0.1203  loss_rpn_cls: 0.004117  loss_rpn_loc: 0.001599    time: 0.1094  last_time: 0.0979  data_time: 0.0067  last_data_time: 0.0100   lr: 0.00018073  max_mem: 445M\n",
            "[03/21 02:02:23 d2.utils.events]:  eta: 0:07:03  iter: 819  total_loss: 0.1743  loss_cls: 0.06204  loss_box_reg: 0.1016  loss_rpn_cls: 0.003567  loss_rpn_loc: 0.002073    time: 0.1092  last_time: 0.0953  data_time: 0.0070  last_data_time: 0.0040   lr: 0.00018524  max_mem: 445M\n",
            "[03/21 02:02:25 d2.utils.events]:  eta: 0:07:01  iter: 839  total_loss: 0.179  loss_cls: 0.06856  loss_box_reg: 0.1088  loss_rpn_cls: 0.004035  loss_rpn_loc: 0.001445    time: 0.1092  last_time: 0.1323  data_time: 0.0091  last_data_time: 0.0206   lr: 0.00018976  max_mem: 445M\n",
            "[03/21 02:02:28 d2.utils.events]:  eta: 0:07:00  iter: 859  total_loss: 0.1916  loss_cls: 0.07193  loss_box_reg: 0.1093  loss_rpn_cls: 0.003294  loss_rpn_loc: 0.001429    time: 0.1099  last_time: 0.1344  data_time: 0.0156  last_data_time: 0.0135   lr: 0.00019428  max_mem: 445M\n",
            "[03/21 02:02:30 d2.utils.events]:  eta: 0:06:58  iter: 879  total_loss: 0.1618  loss_cls: 0.06867  loss_box_reg: 0.08917  loss_rpn_cls: 0.006054  loss_rpn_loc: 0.001528    time: 0.1098  last_time: 0.0988  data_time: 0.0082  last_data_time: 0.0049   lr: 0.0001988  max_mem: 445M\n",
            "[03/21 02:02:32 d2.utils.events]:  eta: 0:06:55  iter: 899  total_loss: 0.1448  loss_cls: 0.06316  loss_box_reg: 0.07862  loss_rpn_cls: 0.003307  loss_rpn_loc: 0.001589    time: 0.1095  last_time: 0.0922  data_time: 0.0065  last_data_time: 0.0065   lr: 0.00020331  max_mem: 445M\n",
            "[03/21 02:02:34 d2.utils.events]:  eta: 0:06:53  iter: 919  total_loss: 0.1736  loss_cls: 0.07006  loss_box_reg: 0.08749  loss_rpn_cls: 0.003413  loss_rpn_loc: 0.001728    time: 0.1093  last_time: 0.1007  data_time: 0.0079  last_data_time: 0.0113   lr: 0.00020783  max_mem: 445M\n",
            "[03/21 02:02:36 d2.utils.events]:  eta: 0:06:50  iter: 939  total_loss: 0.1703  loss_cls: 0.06909  loss_box_reg: 0.09644  loss_rpn_cls: 0.003543  loss_rpn_loc: 0.001331    time: 0.1091  last_time: 0.0976  data_time: 0.0087  last_data_time: 0.0038   lr: 0.00021235  max_mem: 445M\n",
            "[03/21 02:02:38 d2.utils.events]:  eta: 0:06:48  iter: 959  total_loss: 0.1625  loss_cls: 0.07542  loss_box_reg: 0.07942  loss_rpn_cls: 0.003688  loss_rpn_loc: 0.001682    time: 0.1089  last_time: 0.1134  data_time: 0.0054  last_data_time: 0.0046   lr: 0.00021687  max_mem: 445M\n",
            "[03/21 02:02:41 d2.utils.events]:  eta: 0:06:47  iter: 979  total_loss: 0.1401  loss_cls: 0.05963  loss_box_reg: 0.08053  loss_rpn_cls: 0.00338  loss_rpn_loc: 0.001798    time: 0.1092  last_time: 0.1174  data_time: 0.0127  last_data_time: 0.0069   lr: 0.00022138  max_mem: 445M\n",
            "[03/21 02:02:43 d2.utils.events]:  eta: 0:06:45  iter: 999  total_loss: 0.1382  loss_cls: 0.05795  loss_box_reg: 0.07361  loss_rpn_cls: 0.003796  loss_rpn_loc: 0.001392    time: 0.1096  last_time: 0.0998  data_time: 0.0104  last_data_time: 0.0037   lr: 0.0002259  max_mem: 445M\n",
            "[03/21 02:02:45 d2.utils.events]:  eta: 0:06:43  iter: 1019  total_loss: 0.1442  loss_cls: 0.05598  loss_box_reg: 0.07923  loss_rpn_cls: 0.003449  loss_rpn_loc: 0.001577    time: 0.1094  last_time: 0.0984  data_time: 0.0080  last_data_time: 0.0083   lr: 0.00022524  max_mem: 445M\n",
            "[03/21 02:02:47 d2.utils.events]:  eta: 0:06:41  iter: 1039  total_loss: 0.1565  loss_cls: 0.06578  loss_box_reg: 0.08001  loss_rpn_cls: 0.002413  loss_rpn_loc: 0.001316    time: 0.1092  last_time: 0.0985  data_time: 0.0073  last_data_time: 0.0046   lr: 0.0002243  max_mem: 445M\n",
            "[03/21 02:02:49 d2.utils.events]:  eta: 0:06:38  iter: 1059  total_loss: 0.1443  loss_cls: 0.06216  loss_box_reg: 0.07975  loss_rpn_cls: 0.003491  loss_rpn_loc: 0.001739    time: 0.1090  last_time: 0.1058  data_time: 0.0063  last_data_time: 0.0036   lr: 0.00022333  max_mem: 445M\n",
            "[03/21 02:02:51 d2.utils.events]:  eta: 0:06:36  iter: 1079  total_loss: 0.1534  loss_cls: 0.06707  loss_box_reg: 0.08593  loss_rpn_cls: 0.002314  loss_rpn_loc: 0.001247    time: 0.1089  last_time: 0.0990  data_time: 0.0077  last_data_time: 0.0036   lr: 0.00022236  max_mem: 445M\n",
            "[03/21 02:02:54 d2.utils.events]:  eta: 0:06:33  iter: 1099  total_loss: 0.1215  loss_cls: 0.05848  loss_box_reg: 0.06322  loss_rpn_cls: 0.003001  loss_rpn_loc: 0.001607    time: 0.1089  last_time: 0.1412  data_time: 0.0110  last_data_time: 0.0230   lr: 0.00022136  max_mem: 445M\n",
            "[03/21 02:02:56 d2.utils.events]:  eta: 0:06:32  iter: 1119  total_loss: 0.1512  loss_cls: 0.06432  loss_box_reg: 0.08335  loss_rpn_cls: 0.003728  loss_rpn_loc: 0.001537    time: 0.1094  last_time: 0.1390  data_time: 0.0123  last_data_time: 0.0164   lr: 0.00022036  max_mem: 445M\n",
            "[03/21 02:02:58 d2.utils.events]:  eta: 0:06:29  iter: 1139  total_loss: 0.1355  loss_cls: 0.05991  loss_box_reg: 0.06257  loss_rpn_cls: 0.00276  loss_rpn_loc: 0.001635    time: 0.1093  last_time: 0.1023  data_time: 0.0085  last_data_time: 0.0037   lr: 0.00021933  max_mem: 445M\n",
            "[03/21 02:03:00 d2.utils.events]:  eta: 0:06:27  iter: 1159  total_loss: 0.1406  loss_cls: 0.06403  loss_box_reg: 0.07681  loss_rpn_cls: 0.002891  loss_rpn_loc: 0.001997    time: 0.1092  last_time: 0.0958  data_time: 0.0061  last_data_time: 0.0048   lr: 0.00021829  max_mem: 445M\n",
            "[03/21 02:03:02 d2.utils.events]:  eta: 0:06:25  iter: 1179  total_loss: 0.1494  loss_cls: 0.0589  loss_box_reg: 0.07829  loss_rpn_cls: 0.004279  loss_rpn_loc: 0.001261    time: 0.1091  last_time: 0.0973  data_time: 0.0089  last_data_time: 0.0037   lr: 0.00021724  max_mem: 445M\n",
            "[03/21 02:03:04 d2.utils.events]:  eta: 0:06:23  iter: 1199  total_loss: 0.1326  loss_cls: 0.05799  loss_box_reg: 0.06802  loss_rpn_cls: 0.003062  loss_rpn_loc: 0.001699    time: 0.1089  last_time: 0.1103  data_time: 0.0070  last_data_time: 0.0040   lr: 0.00021617  max_mem: 445M\n",
            "[03/21 02:03:06 d2.utils.events]:  eta: 0:06:19  iter: 1219  total_loss: 0.1339  loss_cls: 0.05434  loss_box_reg: 0.07596  loss_rpn_cls: 0.002978  loss_rpn_loc: 0.001509    time: 0.1087  last_time: 0.1031  data_time: 0.0079  last_data_time: 0.0040   lr: 0.00021509  max_mem: 445M\n",
            "[03/21 02:03:09 d2.utils.events]:  eta: 0:06:18  iter: 1239  total_loss: 0.1185  loss_cls: 0.05485  loss_box_reg: 0.06144  loss_rpn_cls: 0.00226  loss_rpn_loc: 0.002092    time: 0.1090  last_time: 0.1306  data_time: 0.0118  last_data_time: 0.0048   lr: 0.000214  max_mem: 445M\n",
            "[03/21 02:03:11 d2.utils.events]:  eta: 0:06:17  iter: 1259  total_loss: 0.1527  loss_cls: 0.06005  loss_box_reg: 0.07995  loss_rpn_cls: 0.002572  loss_rpn_loc: 0.00155    time: 0.1093  last_time: 0.1009  data_time: 0.0077  last_data_time: 0.0088   lr: 0.00021289  max_mem: 445M\n",
            "[03/21 02:03:13 d2.utils.events]:  eta: 0:06:15  iter: 1279  total_loss: 0.1629  loss_cls: 0.07016  loss_box_reg: 0.09066  loss_rpn_cls: 0.003399  loss_rpn_loc: 0.00133    time: 0.1091  last_time: 0.0974  data_time: 0.0070  last_data_time: 0.0042   lr: 0.00021176  max_mem: 445M\n",
            "[03/21 02:03:16 d2.utils.events]:  eta: 0:06:13  iter: 1299  total_loss: 0.143  loss_cls: 0.06116  loss_box_reg: 0.07288  loss_rpn_cls: 0.002521  loss_rpn_loc: 0.00169    time: 0.1090  last_time: 0.0957  data_time: 0.0084  last_data_time: 0.0043   lr: 0.00021063  max_mem: 445M\n",
            "[03/21 02:03:18 d2.utils.events]:  eta: 0:06:11  iter: 1319  total_loss: 0.1467  loss_cls: 0.05822  loss_box_reg: 0.07944  loss_rpn_cls: 0.001929  loss_rpn_loc: 0.00143    time: 0.1089  last_time: 0.1023  data_time: 0.0078  last_data_time: 0.0150   lr: 0.00020947  max_mem: 445M\n",
            "[03/21 02:03:20 d2.utils.events]:  eta: 0:06:08  iter: 1339  total_loss: 0.1353  loss_cls: 0.05605  loss_box_reg: 0.07471  loss_rpn_cls: 0.002274  loss_rpn_loc: 0.001413    time: 0.1087  last_time: 0.0955  data_time: 0.0067  last_data_time: 0.0050   lr: 0.00020831  max_mem: 445M\n",
            "[03/21 02:03:22 d2.utils.events]:  eta: 0:06:06  iter: 1359  total_loss: 0.1444  loss_cls: 0.05196  loss_box_reg: 0.08734  loss_rpn_cls: 0.003576  loss_rpn_loc: 0.001553    time: 0.1088  last_time: 0.1157  data_time: 0.0082  last_data_time: 0.0091   lr: 0.00020713  max_mem: 445M\n",
            "[03/21 02:03:24 d2.utils.events]:  eta: 0:06:05  iter: 1379  total_loss: 0.1341  loss_cls: 0.05083  loss_box_reg: 0.07821  loss_rpn_cls: 0.002148  loss_rpn_loc: 0.001159    time: 0.1091  last_time: 0.1339  data_time: 0.0122  last_data_time: 0.0132   lr: 0.00020594  max_mem: 445M\n",
            "[03/21 02:03:27 d2.utils.events]:  eta: 0:06:03  iter: 1399  total_loss: 0.1383  loss_cls: 0.06908  loss_box_reg: 0.07648  loss_rpn_cls: 0.002088  loss_rpn_loc: 0.001228    time: 0.1091  last_time: 0.0972  data_time: 0.0091  last_data_time: 0.0071   lr: 0.00020474  max_mem: 445M\n",
            "[03/21 02:03:29 d2.utils.events]:  eta: 0:06:01  iter: 1419  total_loss: 0.1401  loss_cls: 0.05881  loss_box_reg: 0.078  loss_rpn_cls: 0.002472  loss_rpn_loc: 0.001162    time: 0.1089  last_time: 0.0979  data_time: 0.0078  last_data_time: 0.0075   lr: 0.00020352  max_mem: 445M\n",
            "[03/21 02:03:31 d2.utils.events]:  eta: 0:05:59  iter: 1439  total_loss: 0.1368  loss_cls: 0.05812  loss_box_reg: 0.06899  loss_rpn_cls: 0.002393  loss_rpn_loc: 0.00193    time: 0.1088  last_time: 0.1016  data_time: 0.0082  last_data_time: 0.0108   lr: 0.00020229  max_mem: 445M\n",
            "[03/21 02:03:33 d2.utils.events]:  eta: 0:05:56  iter: 1459  total_loss: 0.1197  loss_cls: 0.04683  loss_box_reg: 0.06429  loss_rpn_cls: 0.001833  loss_rpn_loc: 0.001248    time: 0.1086  last_time: 0.0952  data_time: 0.0053  last_data_time: 0.0051   lr: 0.00020105  max_mem: 445M\n",
            "[03/21 02:03:35 d2.utils.events]:  eta: 0:05:53  iter: 1479  total_loss: 0.1325  loss_cls: 0.05187  loss_box_reg: 0.06869  loss_rpn_cls: 0.002508  loss_rpn_loc: 0.001628    time: 0.1085  last_time: 0.1097  data_time: 0.0068  last_data_time: 0.0043   lr: 0.0001998  max_mem: 445M\n",
            "[03/21 02:03:37 d2.utils.events]:  eta: 0:05:52  iter: 1499  total_loss: 0.1165  loss_cls: 0.05151  loss_box_reg: 0.06214  loss_rpn_cls: 0.003881  loss_rpn_loc: 0.001422    time: 0.1087  last_time: 0.1327  data_time: 0.0101  last_data_time: 0.0040   lr: 0.00019854  max_mem: 445M\n",
            "[03/21 02:03:40 d2.utils.events]:  eta: 0:05:51  iter: 1519  total_loss: 0.1335  loss_cls: 0.05797  loss_box_reg: 0.07499  loss_rpn_cls: 0.00168  loss_rpn_loc: 0.001369    time: 0.1090  last_time: 0.1041  data_time: 0.0130  last_data_time: 0.0084   lr: 0.00019726  max_mem: 445M\n",
            "[03/21 02:03:42 d2.utils.events]:  eta: 0:05:49  iter: 1539  total_loss: 0.1643  loss_cls: 0.0658  loss_box_reg: 0.07491  loss_rpn_cls: 0.002951  loss_rpn_loc: 0.001505    time: 0.1089  last_time: 0.1168  data_time: 0.0086  last_data_time: 0.0152   lr: 0.00019597  max_mem: 445M\n",
            "[03/21 02:03:44 d2.utils.events]:  eta: 0:05:48  iter: 1559  total_loss: 0.1305  loss_cls: 0.0572  loss_box_reg: 0.07679  loss_rpn_cls: 0.001671  loss_rpn_loc: 0.001284    time: 0.1088  last_time: 0.1103  data_time: 0.0094  last_data_time: 0.0157   lr: 0.00019467  max_mem: 445M\n",
            "[03/21 02:03:46 d2.utils.events]:  eta: 0:05:46  iter: 1579  total_loss: 0.1055  loss_cls: 0.04584  loss_box_reg: 0.06026  loss_rpn_cls: 0.001855  loss_rpn_loc: 0.001162    time: 0.1087  last_time: 0.1012  data_time: 0.0093  last_data_time: 0.0042   lr: 0.00019337  max_mem: 445M\n",
            "[03/21 02:03:48 d2.utils.events]:  eta: 0:05:43  iter: 1599  total_loss: 0.1098  loss_cls: 0.04774  loss_box_reg: 0.06213  loss_rpn_cls: 0.00215  loss_rpn_loc: 0.00118    time: 0.1086  last_time: 0.1071  data_time: 0.0082  last_data_time: 0.0179   lr: 0.00019204  max_mem: 445M\n",
            "[03/21 02:03:50 d2.utils.events]:  eta: 0:05:41  iter: 1619  total_loss: 0.1404  loss_cls: 0.06442  loss_box_reg: 0.0759  loss_rpn_cls: 0.002142  loss_rpn_loc: 0.00168    time: 0.1086  last_time: 0.1330  data_time: 0.0096  last_data_time: 0.0186   lr: 0.00019071  max_mem: 445M\n",
            "[03/21 02:03:53 d2.utils.events]:  eta: 0:05:40  iter: 1639  total_loss: 0.1297  loss_cls: 0.05549  loss_box_reg: 0.07365  loss_rpn_cls: 0.001916  loss_rpn_loc: 0.001448    time: 0.1089  last_time: 0.1445  data_time: 0.0143  last_data_time: 0.0216   lr: 0.00018937  max_mem: 445M\n",
            "[03/21 02:03:55 d2.utils.events]:  eta: 0:05:37  iter: 1659  total_loss: 0.1386  loss_cls: 0.06247  loss_box_reg: 0.07683  loss_rpn_cls: 0.001856  loss_rpn_loc: 0.001608    time: 0.1089  last_time: 0.0951  data_time: 0.0072  last_data_time: 0.0051   lr: 0.00018802  max_mem: 445M\n",
            "[03/21 02:03:57 d2.utils.events]:  eta: 0:05:35  iter: 1679  total_loss: 0.1236  loss_cls: 0.0465  loss_box_reg: 0.06852  loss_rpn_cls: 0.002256  loss_rpn_loc: 0.001823    time: 0.1088  last_time: 0.0950  data_time: 0.0081  last_data_time: 0.0045   lr: 0.00018666  max_mem: 445M\n",
            "[03/21 02:03:59 d2.utils.events]:  eta: 0:05:33  iter: 1699  total_loss: 0.1304  loss_cls: 0.05859  loss_box_reg: 0.06501  loss_rpn_cls: 0.001739  loss_rpn_loc: 0.001157    time: 0.1086  last_time: 0.0965  data_time: 0.0077  last_data_time: 0.0074   lr: 0.00018529  max_mem: 445M\n",
            "[03/21 02:04:01 d2.utils.events]:  eta: 0:05:30  iter: 1719  total_loss: 0.1324  loss_cls: 0.05438  loss_box_reg: 0.06968  loss_rpn_cls: 0.002144  loss_rpn_loc: 0.001599    time: 0.1085  last_time: 0.1032  data_time: 0.0093  last_data_time: 0.0157   lr: 0.00018391  max_mem: 445M\n",
            "[03/21 02:04:03 d2.utils.events]:  eta: 0:05:28  iter: 1739  total_loss: 0.1161  loss_cls: 0.05003  loss_box_reg: 0.06439  loss_rpn_cls: 0.001839  loss_rpn_loc: 0.001167    time: 0.1084  last_time: 0.0984  data_time: 0.0071  last_data_time: 0.0123   lr: 0.00018252  max_mem: 445M\n",
            "[03/21 02:04:05 d2.utils.events]:  eta: 0:05:26  iter: 1759  total_loss: 0.1376  loss_cls: 0.04771  loss_box_reg: 0.07911  loss_rpn_cls: 0.002926  loss_rpn_loc: 0.001019    time: 0.1086  last_time: 0.1335  data_time: 0.0139  last_data_time: 0.0045   lr: 0.00018112  max_mem: 445M\n",
            "[03/21 02:04:08 d2.utils.events]:  eta: 0:05:25  iter: 1779  total_loss: 0.1304  loss_cls: 0.05173  loss_box_reg: 0.07104  loss_rpn_cls: 0.00197  loss_rpn_loc: 0.0009329    time: 0.1088  last_time: 0.0973  data_time: 0.0101  last_data_time: 0.0062   lr: 0.00017971  max_mem: 445M\n",
            "[03/21 02:04:10 d2.utils.events]:  eta: 0:05:24  iter: 1799  total_loss: 0.1359  loss_cls: 0.05544  loss_box_reg: 0.07525  loss_rpn_cls: 0.001916  loss_rpn_loc: 0.001529    time: 0.1087  last_time: 0.0988  data_time: 0.0079  last_data_time: 0.0038   lr: 0.00017829  max_mem: 445M\n",
            "[03/21 02:04:12 d2.utils.events]:  eta: 0:05:22  iter: 1819  total_loss: 0.1255  loss_cls: 0.05309  loss_box_reg: 0.06571  loss_rpn_cls: 0.002402  loss_rpn_loc: 0.001158    time: 0.1087  last_time: 0.0981  data_time: 0.0083  last_data_time: 0.0063   lr: 0.00017687  max_mem: 445M\n",
            "[03/21 02:04:14 d2.utils.events]:  eta: 0:05:19  iter: 1839  total_loss: 0.1325  loss_cls: 0.05493  loss_box_reg: 0.06883  loss_rpn_cls: 0.004559  loss_rpn_loc: 0.001913    time: 0.1086  last_time: 0.0986  data_time: 0.0082  last_data_time: 0.0043   lr: 0.00017544  max_mem: 445M\n",
            "[03/21 02:04:16 d2.utils.events]:  eta: 0:05:16  iter: 1859  total_loss: 0.1486  loss_cls: 0.05985  loss_box_reg: 0.07109  loss_rpn_cls: 0.00139  loss_rpn_loc: 0.0009949    time: 0.1085  last_time: 0.0974  data_time: 0.0100  last_data_time: 0.0106   lr: 0.00017399  max_mem: 445M\n",
            "[03/21 02:04:18 d2.utils.events]:  eta: 0:05:15  iter: 1879  total_loss: 0.1479  loss_cls: 0.06086  loss_box_reg: 0.07356  loss_rpn_cls: 0.002448  loss_rpn_loc: 0.001401    time: 0.1085  last_time: 0.1262  data_time: 0.0097  last_data_time: 0.0121   lr: 0.00017255  max_mem: 445M\n",
            "[03/21 02:04:21 d2.utils.events]:  eta: 0:05:14  iter: 1899  total_loss: 0.1131  loss_cls: 0.04897  loss_box_reg: 0.05648  loss_rpn_cls: 0.001524  loss_rpn_loc: 0.001184    time: 0.1088  last_time: 0.1415  data_time: 0.0134  last_data_time: 0.0151   lr: 0.00017109  max_mem: 445M\n",
            "[03/21 02:04:23 d2.utils.events]:  eta: 0:05:12  iter: 1919  total_loss: 0.1293  loss_cls: 0.05182  loss_box_reg: 0.07546  loss_rpn_cls: 0.002173  loss_rpn_loc: 0.001405    time: 0.1088  last_time: 0.1015  data_time: 0.0093  last_data_time: 0.0038   lr: 0.00016962  max_mem: 445M\n",
            "[03/21 02:04:25 d2.utils.events]:  eta: 0:05:10  iter: 1939  total_loss: 0.1225  loss_cls: 0.05072  loss_box_reg: 0.06409  loss_rpn_cls: 0.001865  loss_rpn_loc: 0.001421    time: 0.1087  last_time: 0.0990  data_time: 0.0068  last_data_time: 0.0073   lr: 0.00016815  max_mem: 445M\n",
            "[03/21 02:04:27 d2.utils.events]:  eta: 0:05:08  iter: 1959  total_loss: 0.1401  loss_cls: 0.05118  loss_box_reg: 0.07221  loss_rpn_cls: 0.001735  loss_rpn_loc: 0.00118    time: 0.1086  last_time: 0.0994  data_time: 0.0072  last_data_time: 0.0116   lr: 0.00016668  max_mem: 445M\n",
            "[03/21 02:04:29 d2.utils.events]:  eta: 0:05:05  iter: 1979  total_loss: 0.1154  loss_cls: 0.05221  loss_box_reg: 0.0584  loss_rpn_cls: 0.001189  loss_rpn_loc: 0.00111    time: 0.1085  last_time: 0.0963  data_time: 0.0074  last_data_time: 0.0044   lr: 0.00016519  max_mem: 445M\n",
            "[03/21 02:04:31 d2.utils.events]:  eta: 0:05:02  iter: 1999  total_loss: 0.1188  loss_cls: 0.04879  loss_box_reg: 0.06162  loss_rpn_cls: 0.00221  loss_rpn_loc: 0.001388    time: 0.1084  last_time: 0.1011  data_time: 0.0071  last_data_time: 0.0051   lr: 0.0001637  max_mem: 445M\n",
            "[03/21 02:04:34 d2.utils.events]:  eta: 0:05:01  iter: 2019  total_loss: 0.1304  loss_cls: 0.06124  loss_box_reg: 0.06632  loss_rpn_cls: 0.001497  loss_rpn_loc: 0.0008713    time: 0.1086  last_time: 0.1440  data_time: 0.0150  last_data_time: 0.0179   lr: 0.00016221  max_mem: 445M\n",
            "[03/21 02:04:36 d2.utils.events]:  eta: 0:04:59  iter: 2039  total_loss: 0.1133  loss_cls: 0.049  loss_box_reg: 0.05904  loss_rpn_cls: 0.001777  loss_rpn_loc: 0.001318    time: 0.1088  last_time: 0.0967  data_time: 0.0097  last_data_time: 0.0040   lr: 0.0001607  max_mem: 445M\n",
            "[03/21 02:04:38 d2.utils.events]:  eta: 0:04:57  iter: 2059  total_loss: 0.1236  loss_cls: 0.04708  loss_box_reg: 0.06268  loss_rpn_cls: 0.001733  loss_rpn_loc: 0.001338    time: 0.1087  last_time: 0.1042  data_time: 0.0088  last_data_time: 0.0130   lr: 0.00015919  max_mem: 445M\n",
            "[03/21 02:04:40 d2.utils.events]:  eta: 0:04:56  iter: 2079  total_loss: 0.1262  loss_cls: 0.04844  loss_box_reg: 0.07053  loss_rpn_cls: 0.002756  loss_rpn_loc: 0.001365    time: 0.1086  last_time: 0.0999  data_time: 0.0067  last_data_time: 0.0073   lr: 0.00015768  max_mem: 445M\n",
            "[03/21 02:04:42 d2.utils.events]:  eta: 0:04:53  iter: 2099  total_loss: 0.1164  loss_cls: 0.04337  loss_box_reg: 0.0645  loss_rpn_cls: 0.001771  loss_rpn_loc: 0.00108    time: 0.1086  last_time: 0.1083  data_time: 0.0066  last_data_time: 0.0077   lr: 0.00015616  max_mem: 445M\n",
            "[03/21 02:04:44 d2.utils.events]:  eta: 0:04:51  iter: 2119  total_loss: 0.1196  loss_cls: 0.04522  loss_box_reg: 0.06507  loss_rpn_cls: 0.002237  loss_rpn_loc: 0.001109    time: 0.1085  last_time: 0.0981  data_time: 0.0078  last_data_time: 0.0086   lr: 0.00015464  max_mem: 445M\n",
            "[03/21 02:04:47 d2.utils.events]:  eta: 0:04:49  iter: 2139  total_loss: 0.1574  loss_cls: 0.06006  loss_box_reg: 0.07948  loss_rpn_cls: 0.002241  loss_rpn_loc: 0.001403    time: 0.1086  last_time: 0.1347  data_time: 0.0125  last_data_time: 0.0245   lr: 0.00015311  max_mem: 445M\n",
            "[03/21 02:04:50 d2.utils.events]:  eta: 0:04:48  iter: 2159  total_loss: 0.1198  loss_cls: 0.04463  loss_box_reg: 0.07052  loss_rpn_cls: 0.001969  loss_rpn_loc: 0.001312    time: 0.1089  last_time: 0.1043  data_time: 0.0145  last_data_time: 0.0126   lr: 0.00015158  max_mem: 445M\n",
            "[03/21 02:04:52 d2.utils.events]:  eta: 0:04:46  iter: 2179  total_loss: 0.1254  loss_cls: 0.05654  loss_box_reg: 0.05478  loss_rpn_cls: 0.001546  loss_rpn_loc: 0.001101    time: 0.1088  last_time: 0.1001  data_time: 0.0084  last_data_time: 0.0046   lr: 0.00015004  max_mem: 445M\n",
            "[03/21 02:04:54 d2.utils.events]:  eta: 0:04:44  iter: 2199  total_loss: 0.1224  loss_cls: 0.04472  loss_box_reg: 0.06902  loss_rpn_cls: 0.001919  loss_rpn_loc: 0.00148    time: 0.1087  last_time: 0.0984  data_time: 0.0065  last_data_time: 0.0041   lr: 0.0001485  max_mem: 445M\n",
            "[03/21 02:04:56 d2.utils.events]:  eta: 0:04:42  iter: 2219  total_loss: 0.1172  loss_cls: 0.0452  loss_box_reg: 0.06831  loss_rpn_cls: 0.001814  loss_rpn_loc: 0.001174    time: 0.1087  last_time: 0.1008  data_time: 0.0066  last_data_time: 0.0045   lr: 0.00014696  max_mem: 445M\n",
            "[03/21 02:04:58 d2.utils.events]:  eta: 0:04:39  iter: 2239  total_loss: 0.134  loss_cls: 0.05195  loss_box_reg: 0.06276  loss_rpn_cls: 0.00184  loss_rpn_loc: 0.001249    time: 0.1086  last_time: 0.1001  data_time: 0.0090  last_data_time: 0.0111   lr: 0.00014541  max_mem: 445M\n",
            "[03/21 02:05:00 d2.utils.events]:  eta: 0:04:37  iter: 2259  total_loss: 0.1232  loss_cls: 0.05449  loss_box_reg: 0.06752  loss_rpn_cls: 0.00238  loss_rpn_loc: 0.001236    time: 0.1086  last_time: 0.1401  data_time: 0.0113  last_data_time: 0.0281   lr: 0.00014386  max_mem: 445M\n",
            "[03/21 02:05:03 d2.utils.events]:  eta: 0:04:36  iter: 2279  total_loss: 0.1238  loss_cls: 0.04774  loss_box_reg: 0.06604  loss_rpn_cls: 0.002684  loss_rpn_loc: 0.001224    time: 0.1088  last_time: 0.1257  data_time: 0.0149  last_data_time: 0.0108   lr: 0.0001423  max_mem: 445M\n",
            "[03/21 02:05:05 d2.utils.events]:  eta: 0:04:34  iter: 2299  total_loss: 0.1288  loss_cls: 0.04775  loss_box_reg: 0.0716  loss_rpn_cls: 0.002313  loss_rpn_loc: 0.001209    time: 0.1089  last_time: 0.0951  data_time: 0.0063  last_data_time: 0.0035   lr: 0.00014074  max_mem: 445M\n",
            "[03/21 02:05:07 d2.utils.events]:  eta: 0:04:32  iter: 2319  total_loss: 0.1049  loss_cls: 0.04484  loss_box_reg: 0.05607  loss_rpn_cls: 0.001326  loss_rpn_loc: 0.001172    time: 0.1088  last_time: 0.1024  data_time: 0.0081  last_data_time: 0.0156   lr: 0.00013919  max_mem: 445M\n",
            "[03/21 02:05:09 d2.utils.events]:  eta: 0:04:30  iter: 2339  total_loss: 0.1245  loss_cls: 0.03703  loss_box_reg: 0.08327  loss_rpn_cls: 0.002626  loss_rpn_loc: 0.001671    time: 0.1087  last_time: 0.1032  data_time: 0.0080  last_data_time: 0.0129   lr: 0.00013762  max_mem: 445M\n",
            "[03/21 02:05:11 d2.utils.events]:  eta: 0:04:27  iter: 2359  total_loss: 0.1347  loss_cls: 0.04799  loss_box_reg: 0.07618  loss_rpn_cls: 0.002587  loss_rpn_loc: 0.00135    time: 0.1087  last_time: 0.0991  data_time: 0.0086  last_data_time: 0.0037   lr: 0.00013606  max_mem: 445M\n",
            "[03/21 02:05:13 d2.utils.events]:  eta: 0:04:25  iter: 2379  total_loss: 0.114  loss_cls: 0.05106  loss_box_reg: 0.05683  loss_rpn_cls: 0.001139  loss_rpn_loc: 0.001265    time: 0.1086  last_time: 0.1028  data_time: 0.0073  last_data_time: 0.0131   lr: 0.00013449  max_mem: 445M\n",
            "[03/21 02:05:15 d2.utils.events]:  eta: 0:04:23  iter: 2399  total_loss: 0.1274  loss_cls: 0.04866  loss_box_reg: 0.07336  loss_rpn_cls: 0.002271  loss_rpn_loc: 0.001211    time: 0.1087  last_time: 0.1244  data_time: 0.0119  last_data_time: 0.0040   lr: 0.00013293  max_mem: 445M\n",
            "[03/21 02:05:18 d2.utils.events]:  eta: 0:04:22  iter: 2419  total_loss: 0.1329  loss_cls: 0.06634  loss_box_reg: 0.06488  loss_rpn_cls: 0.002061  loss_rpn_loc: 0.0009038    time: 0.1089  last_time: 0.1019  data_time: 0.0124  last_data_time: 0.0111   lr: 0.00013136  max_mem: 445M\n",
            "[03/21 02:05:20 d2.utils.events]:  eta: 0:04:19  iter: 2439  total_loss: 0.1073  loss_cls: 0.04118  loss_box_reg: 0.05382  loss_rpn_cls: 0.001436  loss_rpn_loc: 0.001507    time: 0.1088  last_time: 0.1006  data_time: 0.0069  last_data_time: 0.0047   lr: 0.00012979  max_mem: 445M\n",
            "[03/21 02:05:22 d2.utils.events]:  eta: 0:04:18  iter: 2459  total_loss: 0.1186  loss_cls: 0.04667  loss_box_reg: 0.06809  loss_rpn_cls: 0.001623  loss_rpn_loc: 0.001154    time: 0.1088  last_time: 0.1002  data_time: 0.0076  last_data_time: 0.0063   lr: 0.00012822  max_mem: 445M\n",
            "[03/21 02:05:24 d2.utils.events]:  eta: 0:04:16  iter: 2479  total_loss: 0.1168  loss_cls: 0.0444  loss_box_reg: 0.06449  loss_rpn_cls: 0.001465  loss_rpn_loc: 0.001045    time: 0.1087  last_time: 0.1027  data_time: 0.0088  last_data_time: 0.0044   lr: 0.00012665  max_mem: 445M\n",
            "[03/21 02:05:26 d2.utils.events]:  eta: 0:04:14  iter: 2499  total_loss: 0.1163  loss_cls: 0.03982  loss_box_reg: 0.07127  loss_rpn_cls: 0.001394  loss_rpn_loc: 0.0009457    time: 0.1087  last_time: 0.0982  data_time: 0.0068  last_data_time: 0.0046   lr: 0.00012508  max_mem: 445M\n",
            "[03/21 02:05:29 d2.utils.events]:  eta: 0:04:12  iter: 2519  total_loss: 0.1268  loss_cls: 0.04361  loss_box_reg: 0.06925  loss_rpn_cls: 0.00284  loss_rpn_loc: 0.001151    time: 0.1087  last_time: 0.1329  data_time: 0.0102  last_data_time: 0.0133   lr: 0.00012351  max_mem: 445M\n",
            "[03/21 02:05:31 d2.utils.events]:  eta: 0:04:10  iter: 2539  total_loss: 0.1227  loss_cls: 0.04639  loss_box_reg: 0.06996  loss_rpn_cls: 0.001594  loss_rpn_loc: 0.001107    time: 0.1090  last_time: 0.1330  data_time: 0.0132  last_data_time: 0.0058   lr: 0.00012194  max_mem: 445M\n",
            "[03/21 02:05:34 d2.utils.events]:  eta: 0:04:08  iter: 2559  total_loss: 0.1082  loss_cls: 0.04304  loss_box_reg: 0.06098  loss_rpn_cls: 0.001667  loss_rpn_loc: 0.001193    time: 0.1090  last_time: 0.0992  data_time: 0.0098  last_data_time: 0.0068   lr: 0.00012037  max_mem: 445M\n",
            "[03/21 02:05:36 d2.utils.events]:  eta: 0:04:06  iter: 2579  total_loss: 0.09846  loss_cls: 0.04713  loss_box_reg: 0.05669  loss_rpn_cls: 0.001387  loss_rpn_loc: 0.001156    time: 0.1089  last_time: 0.1027  data_time: 0.0083  last_data_time: 0.0068   lr: 0.0001188  max_mem: 445M\n",
            "[03/21 02:05:38 d2.utils.events]:  eta: 0:04:05  iter: 2599  total_loss: 0.1139  loss_cls: 0.04071  loss_box_reg: 0.06365  loss_rpn_cls: 0.002175  loss_rpn_loc: 0.001452    time: 0.1089  last_time: 0.1047  data_time: 0.0072  last_data_time: 0.0133   lr: 0.00011723  max_mem: 445M\n",
            "[03/21 02:05:40 d2.utils.events]:  eta: 0:04:03  iter: 2619  total_loss: 0.1355  loss_cls: 0.05105  loss_box_reg: 0.07007  loss_rpn_cls: 0.001515  loss_rpn_loc: 0.001614    time: 0.1089  last_time: 0.0961  data_time: 0.0081  last_data_time: 0.0042   lr: 0.00011566  max_mem: 445M\n",
            "[03/21 02:05:42 d2.utils.events]:  eta: 0:04:00  iter: 2639  total_loss: 0.1108  loss_cls: 0.0521  loss_box_reg: 0.05256  loss_rpn_cls: 0.001589  loss_rpn_loc: 0.0009892    time: 0.1088  last_time: 0.1026  data_time: 0.0083  last_data_time: 0.0046   lr: 0.0001141  max_mem: 445M\n",
            "[03/21 02:05:45 d2.utils.events]:  eta: 0:03:59  iter: 2659  total_loss: 0.1301  loss_cls: 0.05751  loss_box_reg: 0.06637  loss_rpn_cls: 0.0016  loss_rpn_loc: 0.001512    time: 0.1091  last_time: 0.1345  data_time: 0.0162  last_data_time: 0.0051   lr: 0.00011253  max_mem: 445M\n",
            "[03/21 02:05:47 d2.utils.events]:  eta: 0:03:57  iter: 2679  total_loss: 0.1052  loss_cls: 0.039  loss_box_reg: 0.05994  loss_rpn_cls: 0.00159  loss_rpn_loc: 0.001477    time: 0.1092  last_time: 0.1058  data_time: 0.0090  last_data_time: 0.0132   lr: 0.00011097  max_mem: 445M\n",
            "[03/21 02:05:49 d2.utils.events]:  eta: 0:03:55  iter: 2699  total_loss: 0.1227  loss_cls: 0.04877  loss_box_reg: 0.06411  loss_rpn_cls: 0.002286  loss_rpn_loc: 0.001003    time: 0.1091  last_time: 0.0992  data_time: 0.0077  last_data_time: 0.0041   lr: 0.00010941  max_mem: 445M\n",
            "[03/21 02:05:51 d2.utils.events]:  eta: 0:03:53  iter: 2719  total_loss: 0.1177  loss_cls: 0.04165  loss_box_reg: 0.06819  loss_rpn_cls: 0.001417  loss_rpn_loc: 0.001101    time: 0.1091  last_time: 0.1022  data_time: 0.0064  last_data_time: 0.0112   lr: 0.00010785  max_mem: 445M\n",
            "[03/21 02:05:54 d2.utils.events]:  eta: 0:03:51  iter: 2739  total_loss: 0.1198  loss_cls: 0.04145  loss_box_reg: 0.07634  loss_rpn_cls: 0.001848  loss_rpn_loc: 0.001182    time: 0.1090  last_time: 0.0982  data_time: 0.0068  last_data_time: 0.0069   lr: 0.0001063  max_mem: 445M\n",
            "[03/21 02:05:56 d2.utils.events]:  eta: 0:03:49  iter: 2759  total_loss: 0.1172  loss_cls: 0.04974  loss_box_reg: 0.06648  loss_rpn_cls: 0.00149  loss_rpn_loc: 0.001106    time: 0.1090  last_time: 0.1050  data_time: 0.0089  last_data_time: 0.0052   lr: 0.00010475  max_mem: 445M\n",
            "[03/21 02:05:58 d2.utils.events]:  eta: 0:03:47  iter: 2779  total_loss: 0.1021  loss_cls: 0.04625  loss_box_reg: 0.05714  loss_rpn_cls: 0.001229  loss_rpn_loc: 0.0009494    time: 0.1091  last_time: 0.1275  data_time: 0.0117  last_data_time: 0.0069   lr: 0.0001032  max_mem: 445M\n",
            "[03/21 02:06:01 d2.utils.events]:  eta: 0:03:45  iter: 2799  total_loss: 0.1179  loss_cls: 0.04956  loss_box_reg: 0.0661  loss_rpn_cls: 0.001275  loss_rpn_loc: 0.001033    time: 0.1092  last_time: 0.1026  data_time: 0.0146  last_data_time: 0.0134   lr: 0.00010165  max_mem: 445M\n",
            "[03/21 02:06:03 d2.utils.events]:  eta: 0:03:43  iter: 2819  total_loss: 0.1346  loss_cls: 0.05536  loss_box_reg: 0.08181  loss_rpn_cls: 0.002001  loss_rpn_loc: 0.001227    time: 0.1092  last_time: 0.0936  data_time: 0.0088  last_data_time: 0.0082   lr: 0.00010011  max_mem: 445M\n",
            "[03/21 02:06:05 d2.utils.events]:  eta: 0:03:41  iter: 2839  total_loss: 0.1188  loss_cls: 0.04239  loss_box_reg: 0.06342  loss_rpn_cls: 0.001959  loss_rpn_loc: 0.001261    time: 0.1091  last_time: 0.0984  data_time: 0.0070  last_data_time: 0.0041   lr: 9.8576e-05  max_mem: 445M\n",
            "[03/21 02:06:07 d2.utils.events]:  eta: 0:03:39  iter: 2859  total_loss: 0.09766  loss_cls: 0.04153  loss_box_reg: 0.05598  loss_rpn_cls: 0.001325  loss_rpn_loc: 0.001215    time: 0.1091  last_time: 0.0968  data_time: 0.0088  last_data_time: 0.0070   lr: 9.7043e-05  max_mem: 445M\n",
            "[03/21 02:06:09 d2.utils.events]:  eta: 0:03:37  iter: 2879  total_loss: 0.1024  loss_cls: 0.03783  loss_box_reg: 0.05673  loss_rpn_cls: 0.001337  loss_rpn_loc: 0.00114    time: 0.1090  last_time: 0.0990  data_time: 0.0078  last_data_time: 0.0090   lr: 9.5514e-05  max_mem: 445M\n",
            "[03/21 02:06:11 d2.utils.events]:  eta: 0:03:35  iter: 2899  total_loss: 0.1089  loss_cls: 0.04288  loss_box_reg: 0.05795  loss_rpn_cls: 0.001313  loss_rpn_loc: 0.001018    time: 0.1091  last_time: 0.1444  data_time: 0.0099  last_data_time: 0.0190   lr: 9.399e-05  max_mem: 445M\n",
            "[03/21 02:06:14 d2.utils.events]:  eta: 0:03:33  iter: 2919  total_loss: 0.1055  loss_cls: 0.04219  loss_box_reg: 0.06286  loss_rpn_cls: 0.001311  loss_rpn_loc: 0.000994    time: 0.1092  last_time: 0.1498  data_time: 0.0117  last_data_time: 0.0202   lr: 9.2471e-05  max_mem: 445M\n",
            "[03/21 02:06:16 d2.utils.events]:  eta: 0:03:31  iter: 2939  total_loss: 0.1238  loss_cls: 0.04487  loss_box_reg: 0.06949  loss_rpn_cls: 0.002417  loss_rpn_loc: 0.001452    time: 0.1093  last_time: 0.1051  data_time: 0.0086  last_data_time: 0.0102   lr: 9.0957e-05  max_mem: 445M\n",
            "[03/21 02:06:18 d2.utils.events]:  eta: 0:03:29  iter: 2959  total_loss: 0.1117  loss_cls: 0.05305  loss_box_reg: 0.06253  loss_rpn_cls: 0.001639  loss_rpn_loc: 0.0009362    time: 0.1092  last_time: 0.0992  data_time: 0.0067  last_data_time: 0.0115   lr: 8.9448e-05  max_mem: 445M\n",
            "[03/21 02:06:20 d2.utils.events]:  eta: 0:03:27  iter: 2979  total_loss: 0.1071  loss_cls: 0.04346  loss_box_reg: 0.06268  loss_rpn_cls: 0.001881  loss_rpn_loc: 0.001281    time: 0.1091  last_time: 0.0998  data_time: 0.0080  last_data_time: 0.0037   lr: 8.7945e-05  max_mem: 445M\n",
            "[03/21 02:06:22 d2.utils.events]:  eta: 0:03:25  iter: 2999  total_loss: 0.09448  loss_cls: 0.03518  loss_box_reg: 0.05499  loss_rpn_cls: 0.001447  loss_rpn_loc: 0.001114    time: 0.1091  last_time: 0.0972  data_time: 0.0067  last_data_time: 0.0039   lr: 8.6448e-05  max_mem: 445M\n",
            "[03/21 02:06:24 d2.utils.events]:  eta: 0:03:23  iter: 3019  total_loss: 0.1124  loss_cls: 0.04382  loss_box_reg: 0.06503  loss_rpn_cls: 0.002105  loss_rpn_loc: 0.001286    time: 0.1090  last_time: 0.0999  data_time: 0.0076  last_data_time: 0.0117   lr: 8.4956e-05  max_mem: 445M\n",
            "[03/21 02:06:27 d2.utils.events]:  eta: 0:03:21  iter: 3039  total_loss: 0.1067  loss_cls: 0.04473  loss_box_reg: 0.05649  loss_rpn_cls: 0.001587  loss_rpn_loc: 0.001346    time: 0.1091  last_time: 0.1351  data_time: 0.0125  last_data_time: 0.0046   lr: 8.3472e-05  max_mem: 445M\n",
            "[03/21 02:06:29 d2.utils.events]:  eta: 0:03:19  iter: 3059  total_loss: 0.1089  loss_cls: 0.04076  loss_box_reg: 0.06115  loss_rpn_cls: 0.002044  loss_rpn_loc: 0.001327    time: 0.1093  last_time: 0.1037  data_time: 0.0109  last_data_time: 0.0044   lr: 8.1993e-05  max_mem: 445M\n",
            "[03/21 02:06:31 d2.utils.events]:  eta: 0:03:17  iter: 3079  total_loss: 0.1113  loss_cls: 0.03907  loss_box_reg: 0.06053  loss_rpn_cls: 0.001756  loss_rpn_loc: 0.001143    time: 0.1092  last_time: 0.0991  data_time: 0.0090  last_data_time: 0.0046   lr: 8.0522e-05  max_mem: 445M\n",
            "[03/21 02:06:33 d2.utils.events]:  eta: 0:03:15  iter: 3099  total_loss: 0.08412  loss_cls: 0.03532  loss_box_reg: 0.04591  loss_rpn_cls: 0.001791  loss_rpn_loc: 0.001142    time: 0.1091  last_time: 0.0931  data_time: 0.0080  last_data_time: 0.0043   lr: 7.9057e-05  max_mem: 445M\n",
            "[03/21 02:06:35 d2.utils.events]:  eta: 0:03:12  iter: 3119  total_loss: 0.1147  loss_cls: 0.05005  loss_box_reg: 0.0559  loss_rpn_cls: 0.002073  loss_rpn_loc: 0.001408    time: 0.1091  last_time: 0.1010  data_time: 0.0078  last_data_time: 0.0068   lr: 7.76e-05  max_mem: 445M\n",
            "[03/21 02:06:37 d2.utils.events]:  eta: 0:03:10  iter: 3139  total_loss: 0.1247  loss_cls: 0.044  loss_box_reg: 0.07232  loss_rpn_cls: 0.002085  loss_rpn_loc: 0.001261    time: 0.1090  last_time: 0.0990  data_time: 0.0078  last_data_time: 0.0065   lr: 7.6151e-05  max_mem: 445M\n",
            "[03/21 02:06:40 d2.utils.events]:  eta: 0:03:08  iter: 3159  total_loss: 0.1147  loss_cls: 0.03931  loss_box_reg: 0.06245  loss_rpn_cls: 0.001325  loss_rpn_loc: 0.001055    time: 0.1090  last_time: 0.1259  data_time: 0.0098  last_data_time: 0.0044   lr: 7.4709e-05  max_mem: 445M\n",
            "[03/21 02:06:42 d2.utils.events]:  eta: 0:03:06  iter: 3179  total_loss: 0.1022  loss_cls: 0.03894  loss_box_reg: 0.05689  loss_rpn_cls: 0.001405  loss_rpn_loc: 0.001143    time: 0.1092  last_time: 0.1279  data_time: 0.0105  last_data_time: 0.0106   lr: 7.3275e-05  max_mem: 445M\n",
            "[03/21 02:06:45 d2.utils.events]:  eta: 0:03:04  iter: 3199  total_loss: 0.08365  loss_cls: 0.03659  loss_box_reg: 0.04825  loss_rpn_cls: 0.001447  loss_rpn_loc: 0.001065    time: 0.1092  last_time: 0.0981  data_time: 0.0083  last_data_time: 0.0085   lr: 7.1849e-05  max_mem: 445M\n",
            "[03/21 02:06:47 d2.utils.events]:  eta: 0:03:02  iter: 3219  total_loss: 0.1052  loss_cls: 0.04777  loss_box_reg: 0.05556  loss_rpn_cls: 0.001235  loss_rpn_loc: 0.0008954    time: 0.1092  last_time: 0.1027  data_time: 0.0091  last_data_time: 0.0129   lr: 7.0431e-05  max_mem: 445M\n",
            "[03/21 02:06:49 d2.utils.events]:  eta: 0:03:00  iter: 3239  total_loss: 0.09689  loss_cls: 0.03754  loss_box_reg: 0.06021  loss_rpn_cls: 0.00172  loss_rpn_loc: 0.001059    time: 0.1091  last_time: 0.1012  data_time: 0.0094  last_data_time: 0.0143   lr: 6.9022e-05  max_mem: 445M\n",
            "[03/21 02:06:51 d2.utils.events]:  eta: 0:02:58  iter: 3259  total_loss: 0.09295  loss_cls: 0.03661  loss_box_reg: 0.05498  loss_rpn_cls: 0.001369  loss_rpn_loc: 0.001138    time: 0.1091  last_time: 0.1015  data_time: 0.0073  last_data_time: 0.0115   lr: 6.7622e-05  max_mem: 445M\n",
            "[03/21 02:06:53 d2.utils.events]:  eta: 0:02:56  iter: 3279  total_loss: 0.1022  loss_cls: 0.03927  loss_box_reg: 0.05983  loss_rpn_cls: 0.001212  loss_rpn_loc: 0.0012    time: 0.1091  last_time: 0.1021  data_time: 0.0109  last_data_time: 0.0122   lr: 6.6231e-05  max_mem: 445M\n",
            "[03/21 02:06:56 d2.utils.events]:  eta: 0:02:54  iter: 3299  total_loss: 0.1161  loss_cls: 0.05015  loss_box_reg: 0.06414  loss_rpn_cls: 0.001349  loss_rpn_loc: 0.001167    time: 0.1092  last_time: 0.1431  data_time: 0.0147  last_data_time: 0.0159   lr: 6.485e-05  max_mem: 445M\n",
            "[03/21 02:06:58 d2.utils.events]:  eta: 0:02:53  iter: 3319  total_loss: 0.1129  loss_cls: 0.03968  loss_box_reg: 0.06719  loss_rpn_cls: 0.001324  loss_rpn_loc: 0.001045    time: 0.1093  last_time: 0.0976  data_time: 0.0099  last_data_time: 0.0047   lr: 6.3477e-05  max_mem: 445M\n",
            "[03/21 02:07:00 d2.utils.events]:  eta: 0:02:50  iter: 3339  total_loss: 0.1004  loss_cls: 0.0431  loss_box_reg: 0.05142  loss_rpn_cls: 0.001344  loss_rpn_loc: 0.0009473    time: 0.1093  last_time: 0.0969  data_time: 0.0069  last_data_time: 0.0048   lr: 6.2115e-05  max_mem: 445M\n",
            "[03/21 02:07:02 d2.utils.events]:  eta: 0:02:48  iter: 3359  total_loss: 0.09984  loss_cls: 0.03587  loss_box_reg: 0.0516  loss_rpn_cls: 0.001196  loss_rpn_loc: 0.001026    time: 0.1092  last_time: 0.1049  data_time: 0.0057  last_data_time: 0.0066   lr: 6.0762e-05  max_mem: 445M\n",
            "[03/21 02:07:04 d2.utils.events]:  eta: 0:02:46  iter: 3379  total_loss: 0.1114  loss_cls: 0.04854  loss_box_reg: 0.05752  loss_rpn_cls: 0.002775  loss_rpn_loc: 0.001376    time: 0.1091  last_time: 0.0985  data_time: 0.0069  last_data_time: 0.0065   lr: 5.942e-05  max_mem: 445M\n",
            "[03/21 02:07:06 d2.utils.events]:  eta: 0:02:44  iter: 3399  total_loss: 0.1038  loss_cls: 0.0477  loss_box_reg: 0.0574  loss_rpn_cls: 0.001331  loss_rpn_loc: 0.001163    time: 0.1091  last_time: 0.0963  data_time: 0.0064  last_data_time: 0.0093   lr: 5.8088e-05  max_mem: 445M\n",
            "[03/21 02:07:08 d2.utils.events]:  eta: 0:02:42  iter: 3419  total_loss: 0.1161  loss_cls: 0.03943  loss_box_reg: 0.06563  loss_rpn_cls: 0.001258  loss_rpn_loc: 0.001283    time: 0.1091  last_time: 0.1502  data_time: 0.0109  last_data_time: 0.0188   lr: 5.6766e-05  max_mem: 445M\n",
            "[03/21 02:07:11 d2.utils.events]:  eta: 0:02:40  iter: 3439  total_loss: 0.1026  loss_cls: 0.03896  loss_box_reg: 0.05324  loss_rpn_cls: 0.001377  loss_rpn_loc: 0.001273    time: 0.1093  last_time: 0.1332  data_time: 0.0161  last_data_time: 0.0118   lr: 5.5456e-05  max_mem: 445M\n",
            "[03/21 02:07:13 d2.utils.events]:  eta: 0:02:38  iter: 3459  total_loss: 0.1098  loss_cls: 0.03268  loss_box_reg: 0.06158  loss_rpn_cls: 0.001039  loss_rpn_loc: 0.001464    time: 0.1093  last_time: 0.0997  data_time: 0.0095  last_data_time: 0.0039   lr: 5.4156e-05  max_mem: 445M\n",
            "[03/21 02:07:15 d2.utils.events]:  eta: 0:02:36  iter: 3479  total_loss: 0.1186  loss_cls: 0.04968  loss_box_reg: 0.07086  loss_rpn_cls: 0.001719  loss_rpn_loc: 0.001014    time: 0.1092  last_time: 0.1025  data_time: 0.0098  last_data_time: 0.0125   lr: 5.2868e-05  max_mem: 445M\n",
            "[03/21 02:07:17 d2.utils.events]:  eta: 0:02:34  iter: 3499  total_loss: 0.1172  loss_cls: 0.04327  loss_box_reg: 0.05939  loss_rpn_cls: 0.001367  loss_rpn_loc: 0.001088    time: 0.1092  last_time: 0.0996  data_time: 0.0083  last_data_time: 0.0112   lr: 5.159e-05  max_mem: 445M\n",
            "[03/21 02:07:19 d2.utils.events]:  eta: 0:02:31  iter: 3519  total_loss: 0.1078  loss_cls: 0.03908  loss_box_reg: 0.05906  loss_rpn_cls: 0.001584  loss_rpn_loc: 0.001346    time: 0.1091  last_time: 0.0982  data_time: 0.0051  last_data_time: 0.0046   lr: 5.0325e-05  max_mem: 445M\n",
            "[03/21 02:07:21 d2.utils.events]:  eta: 0:02:29  iter: 3539  total_loss: 0.1019  loss_cls: 0.04435  loss_box_reg: 0.04798  loss_rpn_cls: 0.001868  loss_rpn_loc: 0.001061    time: 0.1090  last_time: 0.0989  data_time: 0.0067  last_data_time: 0.0082   lr: 4.9071e-05  max_mem: 445M\n",
            "[03/21 02:07:24 d2.utils.events]:  eta: 0:02:27  iter: 3559  total_loss: 0.088  loss_cls: 0.03878  loss_box_reg: 0.04684  loss_rpn_cls: 0.00155  loss_rpn_loc: 0.001336    time: 0.1091  last_time: 0.1433  data_time: 0.0137  last_data_time: 0.0143   lr: 4.7829e-05  max_mem: 445M\n",
            "[03/21 02:07:26 d2.utils.events]:  eta: 0:02:25  iter: 3579  total_loss: 0.134  loss_cls: 0.05221  loss_box_reg: 0.06738  loss_rpn_cls: 0.001917  loss_rpn_loc: 0.001182    time: 0.1092  last_time: 0.0981  data_time: 0.0093  last_data_time: 0.0052   lr: 4.66e-05  max_mem: 445M\n",
            "[03/21 02:07:28 d2.utils.events]:  eta: 0:02:23  iter: 3599  total_loss: 0.12  loss_cls: 0.04679  loss_box_reg: 0.06823  loss_rpn_cls: 0.001317  loss_rpn_loc: 0.001063    time: 0.1092  last_time: 0.1018  data_time: 0.0068  last_data_time: 0.0041   lr: 4.5383e-05  max_mem: 445M\n",
            "[03/21 02:07:30 d2.utils.events]:  eta: 0:02:20  iter: 3619  total_loss: 0.1064  loss_cls: 0.04226  loss_box_reg: 0.0559  loss_rpn_cls: 0.001944  loss_rpn_loc: 0.001142    time: 0.1091  last_time: 0.1002  data_time: 0.0079  last_data_time: 0.0056   lr: 4.4178e-05  max_mem: 445M\n",
            "[03/21 02:07:32 d2.utils.events]:  eta: 0:02:18  iter: 3639  total_loss: 0.1181  loss_cls: 0.05427  loss_box_reg: 0.0581  loss_rpn_cls: 0.001639  loss_rpn_loc: 0.001133    time: 0.1091  last_time: 0.0967  data_time: 0.0060  last_data_time: 0.0063   lr: 4.2986e-05  max_mem: 445M\n",
            "[03/21 02:07:34 d2.utils.events]:  eta: 0:02:16  iter: 3659  total_loss: 0.08937  loss_cls: 0.02919  loss_box_reg: 0.04691  loss_rpn_cls: 0.001169  loss_rpn_loc: 0.001009    time: 0.1090  last_time: 0.0970  data_time: 0.0070  last_data_time: 0.0044   lr: 4.1807e-05  max_mem: 445M\n",
            "[03/21 02:07:37 d2.utils.events]:  eta: 0:02:14  iter: 3679  total_loss: 0.08995  loss_cls: 0.03806  loss_box_reg: 0.0498  loss_rpn_cls: 0.001248  loss_rpn_loc: 0.001091    time: 0.1090  last_time: 0.1272  data_time: 0.0120  last_data_time: 0.0159   lr: 4.0641e-05  max_mem: 445M\n",
            "[03/21 02:07:39 d2.utils.events]:  eta: 0:02:12  iter: 3699  total_loss: 0.09191  loss_cls: 0.04138  loss_box_reg: 0.05108  loss_rpn_cls: 0.00148  loss_rpn_loc: 0.001091    time: 0.1092  last_time: 0.1370  data_time: 0.0146  last_data_time: 0.0145   lr: 3.9489e-05  max_mem: 445M\n",
            "[03/21 02:07:41 d2.utils.events]:  eta: 0:02:10  iter: 3719  total_loss: 0.09259  loss_cls: 0.03413  loss_box_reg: 0.05711  loss_rpn_cls: 0.001462  loss_rpn_loc: 0.001136    time: 0.1091  last_time: 0.0978  data_time: 0.0078  last_data_time: 0.0039   lr: 3.835e-05  max_mem: 445M\n",
            "[03/21 02:07:43 d2.utils.events]:  eta: 0:02:08  iter: 3739  total_loss: 0.1057  loss_cls: 0.04133  loss_box_reg: 0.04581  loss_rpn_cls: 0.002118  loss_rpn_loc: 0.001318    time: 0.1091  last_time: 0.0975  data_time: 0.0075  last_data_time: 0.0038   lr: 3.7225e-05  max_mem: 445M\n",
            "[03/21 02:07:46 d2.utils.events]:  eta: 0:02:06  iter: 3759  total_loss: 0.1195  loss_cls: 0.03754  loss_box_reg: 0.07086  loss_rpn_cls: 0.002229  loss_rpn_loc: 0.001261    time: 0.1091  last_time: 0.1021  data_time: 0.0078  last_data_time: 0.0038   lr: 3.6113e-05  max_mem: 445M\n",
            "[03/21 02:07:48 d2.utils.events]:  eta: 0:02:04  iter: 3779  total_loss: 0.09341  loss_cls: 0.03574  loss_box_reg: 0.04956  loss_rpn_cls: 0.001871  loss_rpn_loc: 0.0009995    time: 0.1090  last_time: 0.0943  data_time: 0.0081  last_data_time: 0.0040   lr: 3.5016e-05  max_mem: 445M\n",
            "[03/21 02:07:50 d2.utils.events]:  eta: 0:02:01  iter: 3799  total_loss: 0.1102  loss_cls: 0.04392  loss_box_reg: 0.05864  loss_rpn_cls: 0.001327  loss_rpn_loc: 0.001188    time: 0.1090  last_time: 0.0968  data_time: 0.0096  last_data_time: 0.0042   lr: 3.3933e-05  max_mem: 445M\n",
            "[03/21 02:07:52 d2.utils.events]:  eta: 0:02:00  iter: 3819  total_loss: 0.1263  loss_cls: 0.05464  loss_box_reg: 0.06646  loss_rpn_cls: 0.001549  loss_rpn_loc: 0.001172    time: 0.1091  last_time: 0.1423  data_time: 0.0132  last_data_time: 0.0182   lr: 3.2864e-05  max_mem: 445M\n",
            "[03/21 02:07:55 d2.utils.events]:  eta: 0:01:58  iter: 3839  total_loss: 0.09828  loss_cls: 0.03737  loss_box_reg: 0.05213  loss_rpn_cls: 0.001158  loss_rpn_loc: 0.001372    time: 0.1091  last_time: 0.0978  data_time: 0.0114  last_data_time: 0.0065   lr: 3.181e-05  max_mem: 445M\n",
            "[03/21 02:07:57 d2.utils.events]:  eta: 0:01:56  iter: 3859  total_loss: 0.101  loss_cls: 0.04062  loss_box_reg: 0.05202  loss_rpn_cls: 0.001728  loss_rpn_loc: 0.001157    time: 0.1091  last_time: 0.1044  data_time: 0.0087  last_data_time: 0.0127   lr: 3.077e-05  max_mem: 445M\n",
            "[03/21 02:07:59 d2.utils.events]:  eta: 0:01:53  iter: 3879  total_loss: 0.09744  loss_cls: 0.04098  loss_box_reg: 0.05012  loss_rpn_cls: 0.001329  loss_rpn_loc: 0.001142    time: 0.1090  last_time: 0.1039  data_time: 0.0067  last_data_time: 0.0165   lr: 2.9746e-05  max_mem: 445M\n",
            "[03/21 02:08:01 d2.utils.events]:  eta: 0:01:51  iter: 3899  total_loss: 0.1071  loss_cls: 0.03759  loss_box_reg: 0.06566  loss_rpn_cls: 0.001402  loss_rpn_loc: 0.0009485    time: 0.1090  last_time: 0.1081  data_time: 0.0067  last_data_time: 0.0037   lr: 2.8736e-05  max_mem: 445M\n",
            "[03/21 02:08:03 d2.utils.events]:  eta: 0:01:49  iter: 3919  total_loss: 0.08763  loss_cls: 0.03793  loss_box_reg: 0.04865  loss_rpn_cls: 0.001233  loss_rpn_loc: 0.0009406    time: 0.1089  last_time: 0.0958  data_time: 0.0067  last_data_time: 0.0080   lr: 2.7742e-05  max_mem: 445M\n",
            "[03/21 02:08:05 d2.utils.events]:  eta: 0:01:47  iter: 3939  total_loss: 0.09317  loss_cls: 0.03371  loss_box_reg: 0.05164  loss_rpn_cls: 0.00136  loss_rpn_loc: 0.001432    time: 0.1090  last_time: 0.1256  data_time: 0.0113  last_data_time: 0.0136   lr: 2.6762e-05  max_mem: 445M\n",
            "[03/21 02:08:08 d2.utils.events]:  eta: 0:01:45  iter: 3959  total_loss: 0.109  loss_cls: 0.04275  loss_box_reg: 0.05346  loss_rpn_cls: 0.001351  loss_rpn_loc: 0.001002    time: 0.1091  last_time: 0.1491  data_time: 0.0158  last_data_time: 0.0195   lr: 2.5799e-05  max_mem: 445M\n",
            "[03/21 02:08:10 d2.utils.events]:  eta: 0:01:43  iter: 3979  total_loss: 0.107  loss_cls: 0.03948  loss_box_reg: 0.05534  loss_rpn_cls: 0.001797  loss_rpn_loc: 0.001817    time: 0.1091  last_time: 0.0990  data_time: 0.0083  last_data_time: 0.0079   lr: 2.4851e-05  max_mem: 445M\n",
            "[03/21 02:08:12 d2.utils.events]:  eta: 0:01:41  iter: 3999  total_loss: 0.08757  loss_cls: 0.04163  loss_box_reg: 0.03619  loss_rpn_cls: 0.001332  loss_rpn_loc: 0.0008513    time: 0.1090  last_time: 0.0952  data_time: 0.0075  last_data_time: 0.0049   lr: 2.3919e-05  max_mem: 445M\n",
            "[03/21 02:08:14 d2.utils.events]:  eta: 0:01:39  iter: 4019  total_loss: 0.1143  loss_cls: 0.0392  loss_box_reg: 0.0651  loss_rpn_cls: 0.002207  loss_rpn_loc: 0.001659    time: 0.1090  last_time: 0.0951  data_time: 0.0081  last_data_time: 0.0045   lr: 2.3003e-05  max_mem: 445M\n",
            "[03/21 02:08:16 d2.utils.events]:  eta: 0:01:37  iter: 4039  total_loss: 0.1037  loss_cls: 0.0386  loss_box_reg: 0.05594  loss_rpn_cls: 0.001414  loss_rpn_loc: 0.001053    time: 0.1090  last_time: 0.1003  data_time: 0.0084  last_data_time: 0.0043   lr: 2.2103e-05  max_mem: 445M\n",
            "[03/21 02:08:18 d2.utils.events]:  eta: 0:01:35  iter: 4059  total_loss: 0.09593  loss_cls: 0.03435  loss_box_reg: 0.05584  loss_rpn_cls: 0.001409  loss_rpn_loc: 0.000971    time: 0.1089  last_time: 0.1037  data_time: 0.0063  last_data_time: 0.0147   lr: 2.1219e-05  max_mem: 445M\n",
            "[03/21 02:08:21 d2.utils.events]:  eta: 0:01:33  iter: 4079  total_loss: 0.09515  loss_cls: 0.04021  loss_box_reg: 0.04953  loss_rpn_cls: 0.001197  loss_rpn_loc: 0.001241    time: 0.1090  last_time: 0.1507  data_time: 0.0157  last_data_time: 0.0184   lr: 2.0352e-05  max_mem: 445M\n",
            "[03/21 02:08:23 d2.utils.events]:  eta: 0:01:31  iter: 4099  total_loss: 0.1179  loss_cls: 0.04276  loss_box_reg: 0.05973  loss_rpn_cls: 0.001498  loss_rpn_loc: 0.001516    time: 0.1091  last_time: 0.1041  data_time: 0.0112  last_data_time: 0.0172   lr: 1.9501e-05  max_mem: 445M\n",
            "[03/21 02:08:25 d2.utils.events]:  eta: 0:01:29  iter: 4119  total_loss: 0.1016  loss_cls: 0.03488  loss_box_reg: 0.06313  loss_rpn_cls: 0.001346  loss_rpn_loc: 0.001261    time: 0.1091  last_time: 0.1043  data_time: 0.0095  last_data_time: 0.0127   lr: 1.8667e-05  max_mem: 445M\n",
            "[03/21 02:08:27 d2.utils.events]:  eta: 0:01:27  iter: 4139  total_loss: 0.08801  loss_cls: 0.03052  loss_box_reg: 0.05305  loss_rpn_cls: 0.001251  loss_rpn_loc: 0.00102    time: 0.1090  last_time: 0.0962  data_time: 0.0058  last_data_time: 0.0041   lr: 1.785e-05  max_mem: 445M\n",
            "[03/21 02:08:29 d2.utils.events]:  eta: 0:01:25  iter: 4159  total_loss: 0.09857  loss_cls: 0.03429  loss_box_reg: 0.0574  loss_rpn_cls: 0.001632  loss_rpn_loc: 0.0009902    time: 0.1090  last_time: 0.1044  data_time: 0.0089  last_data_time: 0.0133   lr: 1.7049e-05  max_mem: 445M\n",
            "[03/21 02:08:31 d2.utils.events]:  eta: 0:01:23  iter: 4179  total_loss: 0.1126  loss_cls: 0.04015  loss_box_reg: 0.05957  loss_rpn_cls: 0.001673  loss_rpn_loc: 0.001054    time: 0.1090  last_time: 0.0999  data_time: 0.0080  last_data_time: 0.0050   lr: 1.6266e-05  max_mem: 445M\n",
            "[03/21 02:08:34 d2.utils.events]:  eta: 0:01:21  iter: 4199  total_loss: 0.1081  loss_cls: 0.03844  loss_box_reg: 0.0578  loss_rpn_cls: 0.001574  loss_rpn_loc: 0.0009977    time: 0.1090  last_time: 0.1327  data_time: 0.0132  last_data_time: 0.0198   lr: 1.55e-05  max_mem: 445M\n",
            "[03/21 02:08:36 d2.utils.events]:  eta: 0:01:19  iter: 4219  total_loss: 0.1057  loss_cls: 0.03796  loss_box_reg: 0.06073  loss_rpn_cls: 0.001493  loss_rpn_loc: 0.001136    time: 0.1092  last_time: 0.0988  data_time: 0.0107  last_data_time: 0.0079   lr: 1.4751e-05  max_mem: 445M\n",
            "[03/21 02:08:38 d2.utils.events]:  eta: 0:01:17  iter: 4239  total_loss: 0.08593  loss_cls: 0.03492  loss_box_reg: 0.04986  loss_rpn_cls: 0.001431  loss_rpn_loc: 0.001031    time: 0.1091  last_time: 0.1066  data_time: 0.0069  last_data_time: 0.0046   lr: 1.4019e-05  max_mem: 445M\n",
            "[03/21 02:08:41 d2.utils.events]:  eta: 0:01:15  iter: 4259  total_loss: 0.0933  loss_cls: 0.03379  loss_box_reg: 0.05794  loss_rpn_cls: 0.00155  loss_rpn_loc: 0.001168    time: 0.1091  last_time: 0.0998  data_time: 0.0089  last_data_time: 0.0072   lr: 1.3305e-05  max_mem: 445M\n",
            "[03/21 02:08:43 d2.utils.events]:  eta: 0:01:13  iter: 4279  total_loss: 0.09898  loss_cls: 0.03676  loss_box_reg: 0.05401  loss_rpn_cls: 0.001464  loss_rpn_loc: 0.0009855    time: 0.1091  last_time: 0.0959  data_time: 0.0073  last_data_time: 0.0043   lr: 1.2609e-05  max_mem: 445M\n",
            "[03/21 02:08:45 d2.utils.events]:  eta: 0:01:11  iter: 4299  total_loss: 0.107  loss_cls: 0.04942  loss_box_reg: 0.05513  loss_rpn_cls: 0.001254  loss_rpn_loc: 0.0012    time: 0.1090  last_time: 0.0965  data_time: 0.0082  last_data_time: 0.0098   lr: 1.193e-05  max_mem: 445M\n",
            "[03/21 02:08:47 d2.utils.events]:  eta: 0:01:09  iter: 4319  total_loss: 0.1054  loss_cls: 0.03935  loss_box_reg: 0.05604  loss_rpn_cls: 0.002002  loss_rpn_loc: 0.0007827    time: 0.1090  last_time: 0.1348  data_time: 0.0110  last_data_time: 0.0202   lr: 1.1269e-05  max_mem: 445M\n",
            "[03/21 02:08:50 d2.utils.events]:  eta: 0:01:07  iter: 4339  total_loss: 0.09336  loss_cls: 0.03334  loss_box_reg: 0.0525  loss_rpn_cls: 0.002387  loss_rpn_loc: 0.001501    time: 0.1092  last_time: 0.1397  data_time: 0.0118  last_data_time: 0.0146   lr: 1.0627e-05  max_mem: 445M\n",
            "[03/21 02:08:52 d2.utils.events]:  eta: 0:01:05  iter: 4359  total_loss: 0.09964  loss_cls: 0.04263  loss_box_reg: 0.05248  loss_rpn_cls: 0.001296  loss_rpn_loc: 0.001116    time: 0.1092  last_time: 0.0961  data_time: 0.0085  last_data_time: 0.0041   lr: 1.0002e-05  max_mem: 445M\n",
            "[03/21 02:08:54 d2.utils.events]:  eta: 0:01:03  iter: 4379  total_loss: 0.09362  loss_cls: 0.03572  loss_box_reg: 0.05379  loss_rpn_cls: 0.001415  loss_rpn_loc: 0.001159    time: 0.1091  last_time: 0.0965  data_time: 0.0063  last_data_time: 0.0044   lr: 9.3952e-06  max_mem: 445M\n",
            "[03/21 02:08:56 d2.utils.events]:  eta: 0:01:01  iter: 4399  total_loss: 0.08916  loss_cls: 0.03194  loss_box_reg: 0.04948  loss_rpn_cls: 0.001736  loss_rpn_loc: 0.0009872    time: 0.1091  last_time: 0.0956  data_time: 0.0087  last_data_time: 0.0041   lr: 8.8069e-06  max_mem: 445M\n",
            "[03/21 02:08:58 d2.utils.events]:  eta: 0:00:59  iter: 4419  total_loss: 0.1015  loss_cls: 0.02834  loss_box_reg: 0.05518  loss_rpn_cls: 0.002904  loss_rpn_loc: 0.00144    time: 0.1090  last_time: 0.0959  data_time: 0.0081  last_data_time: 0.0039   lr: 8.2369e-06  max_mem: 445M\n",
            "[03/21 02:09:00 d2.utils.events]:  eta: 0:00:56  iter: 4439  total_loss: 0.1003  loss_cls: 0.04101  loss_box_reg: 0.067  loss_rpn_cls: 0.001182  loss_rpn_loc: 0.001252    time: 0.1090  last_time: 0.1013  data_time: 0.0079  last_data_time: 0.0041   lr: 7.6854e-06  max_mem: 445M\n",
            "[03/21 02:09:02 d2.utils.events]:  eta: 0:00:54  iter: 4459  total_loss: 0.09006  loss_cls: 0.02689  loss_box_reg: 0.05006  loss_rpn_cls: 0.00156  loss_rpn_loc: 0.00119    time: 0.1091  last_time: 0.1249  data_time: 0.0134  last_data_time: 0.0130   lr: 7.1523e-06  max_mem: 445M\n",
            "[03/21 02:09:05 d2.utils.events]:  eta: 0:00:53  iter: 4479  total_loss: 0.09858  loss_cls: 0.03688  loss_box_reg: 0.05435  loss_rpn_cls: 0.001275  loss_rpn_loc: 0.001251    time: 0.1092  last_time: 0.1053  data_time: 0.0123  last_data_time: 0.0168   lr: 6.6379e-06  max_mem: 445M\n",
            "[03/21 02:09:07 d2.utils.events]:  eta: 0:00:50  iter: 4499  total_loss: 0.1084  loss_cls: 0.0369  loss_box_reg: 0.06519  loss_rpn_cls: 0.00128  loss_rpn_loc: 0.001104    time: 0.1091  last_time: 0.1005  data_time: 0.0078  last_data_time: 0.0085   lr: 6.1422e-06  max_mem: 445M\n",
            "[03/21 02:09:09 d2.utils.events]:  eta: 0:00:49  iter: 4519  total_loss: 0.1191  loss_cls: 0.04506  loss_box_reg: 0.06582  loss_rpn_cls: 0.001909  loss_rpn_loc: 0.001268    time: 0.1091  last_time: 0.1034  data_time: 0.0079  last_data_time: 0.0152   lr: 5.6653e-06  max_mem: 445M\n",
            "[03/21 02:09:11 d2.utils.events]:  eta: 0:00:46  iter: 4539  total_loss: 0.09097  loss_cls: 0.03816  loss_box_reg: 0.04619  loss_rpn_cls: 0.001462  loss_rpn_loc: 0.001058    time: 0.1091  last_time: 0.0988  data_time: 0.0088  last_data_time: 0.0104   lr: 5.2072e-06  max_mem: 445M\n",
            "[03/21 02:09:13 d2.utils.events]:  eta: 0:00:44  iter: 4559  total_loss: 0.08334  loss_cls: 0.02901  loss_box_reg: 0.04713  loss_rpn_cls: 0.00123  loss_rpn_loc: 0.001139    time: 0.1090  last_time: 0.0988  data_time: 0.0073  last_data_time: 0.0068   lr: 4.768e-06  max_mem: 445M\n",
            "[03/21 02:09:15 d2.utils.events]:  eta: 0:00:42  iter: 4579  total_loss: 0.1088  loss_cls: 0.04029  loss_box_reg: 0.06279  loss_rpn_cls: 0.001188  loss_rpn_loc: 0.001025    time: 0.1090  last_time: 0.1307  data_time: 0.0087  last_data_time: 0.0176   lr: 4.3478e-06  max_mem: 445M\n",
            "[03/21 02:09:18 d2.utils.events]:  eta: 0:00:40  iter: 4599  total_loss: 0.09977  loss_cls: 0.03241  loss_box_reg: 0.06089  loss_rpn_cls: 0.00137  loss_rpn_loc: 0.001043    time: 0.1092  last_time: 0.1346  data_time: 0.0124  last_data_time: 0.0118   lr: 3.9467e-06  max_mem: 445M\n",
            "[03/21 02:09:20 d2.utils.events]:  eta: 0:00:38  iter: 4619  total_loss: 0.1133  loss_cls: 0.0394  loss_box_reg: 0.05515  loss_rpn_cls: 0.001674  loss_rpn_loc: 0.001239    time: 0.1092  last_time: 0.1004  data_time: 0.0096  last_data_time: 0.0121   lr: 3.5646e-06  max_mem: 445M\n",
            "[03/21 02:09:22 d2.utils.events]:  eta: 0:00:36  iter: 4639  total_loss: 0.087  loss_cls: 0.04153  loss_box_reg: 0.0516  loss_rpn_cls: 0.001897  loss_rpn_loc: 0.001151    time: 0.1091  last_time: 0.0991  data_time: 0.0073  last_data_time: 0.0096   lr: 3.2018e-06  max_mem: 445M\n",
            "[03/21 02:09:24 d2.utils.events]:  eta: 0:00:34  iter: 4659  total_loss: 0.1163  loss_cls: 0.0421  loss_box_reg: 0.06223  loss_rpn_cls: 0.001466  loss_rpn_loc: 0.001159    time: 0.1091  last_time: 0.0990  data_time: 0.0067  last_data_time: 0.0066   lr: 2.8582e-06  max_mem: 445M\n",
            "[03/21 02:09:26 d2.utils.events]:  eta: 0:00:32  iter: 4679  total_loss: 0.09627  loss_cls: 0.03794  loss_box_reg: 0.05238  loss_rpn_cls: 0.002038  loss_rpn_loc: 0.001206    time: 0.1090  last_time: 0.0941  data_time: 0.0064  last_data_time: 0.0042   lr: 2.5338e-06  max_mem: 445M\n",
            "[03/21 02:09:28 d2.utils.events]:  eta: 0:00:30  iter: 4699  total_loss: 0.1102  loss_cls: 0.04477  loss_box_reg: 0.07103  loss_rpn_cls: 0.001314  loss_rpn_loc: 0.001034    time: 0.1090  last_time: 0.1016  data_time: 0.0098  last_data_time: 0.0038   lr: 2.2288e-06  max_mem: 445M\n",
            "[03/21 02:09:31 d2.utils.events]:  eta: 0:00:28  iter: 4719  total_loss: 0.1022  loss_cls: 0.03393  loss_box_reg: 0.0496  loss_rpn_cls: 0.001341  loss_rpn_loc: 0.00142    time: 0.1091  last_time: 0.1384  data_time: 0.0117  last_data_time: 0.0197   lr: 1.9432e-06  max_mem: 445M\n",
            "[03/21 02:09:34 d2.utils.events]:  eta: 0:00:26  iter: 4739  total_loss: 0.09542  loss_cls: 0.04476  loss_box_reg: 0.04365  loss_rpn_cls: 0.002014  loss_rpn_loc: 0.001179    time: 0.1092  last_time: 0.0962  data_time: 0.0118  last_data_time: 0.0093   lr: 1.6771e-06  max_mem: 445M\n",
            "[03/21 02:09:36 d2.utils.events]:  eta: 0:00:24  iter: 4759  total_loss: 0.09959  loss_cls: 0.04462  loss_box_reg: 0.05716  loss_rpn_cls: 0.001193  loss_rpn_loc: 0.0009282    time: 0.1091  last_time: 0.0977  data_time: 0.0076  last_data_time: 0.0083   lr: 1.4304e-06  max_mem: 445M\n",
            "[03/21 02:09:38 d2.utils.events]:  eta: 0:00:22  iter: 4779  total_loss: 0.09665  loss_cls: 0.0385  loss_box_reg: 0.05282  loss_rpn_cls: 0.001219  loss_rpn_loc: 0.0009805    time: 0.1091  last_time: 0.0958  data_time: 0.0063  last_data_time: 0.0050   lr: 1.2032e-06  max_mem: 445M\n",
            "[03/21 02:09:40 d2.utils.events]:  eta: 0:00:20  iter: 4799  total_loss: 0.1036  loss_cls: 0.03497  loss_box_reg: 0.06378  loss_rpn_cls: 0.00157  loss_rpn_loc: 0.001098    time: 0.1090  last_time: 0.0970  data_time: 0.0068  last_data_time: 0.0051   lr: 9.9553e-07  max_mem: 445M\n",
            "[03/21 02:09:42 d2.utils.events]:  eta: 0:00:18  iter: 4819  total_loss: 0.1026  loss_cls: 0.03845  loss_box_reg: 0.0568  loss_rpn_cls: 0.001268  loss_rpn_loc: 0.001085    time: 0.1090  last_time: 0.0967  data_time: 0.0072  last_data_time: 0.0050   lr: 8.0747e-07  max_mem: 445M\n",
            "[03/21 02:09:44 d2.utils.events]:  eta: 0:00:16  iter: 4839  total_loss: 0.08293  loss_cls: 0.03722  loss_box_reg: 0.04116  loss_rpn_cls: 0.000975  loss_rpn_loc: 0.0009895    time: 0.1090  last_time: 0.1243  data_time: 0.0073  last_data_time: 0.0109   lr: 6.3903e-07  max_mem: 445M\n",
            "[03/21 02:09:46 d2.utils.events]:  eta: 0:00:14  iter: 4859  total_loss: 0.08974  loss_cls: 0.03477  loss_box_reg: 0.04983  loss_rpn_cls: 0.00118  loss_rpn_loc: 0.0009972    time: 0.1091  last_time: 0.1402  data_time: 0.0128  last_data_time: 0.0053   lr: 4.9022e-07  max_mem: 445M\n",
            "[03/21 02:09:49 d2.utils.events]:  eta: 0:00:12  iter: 4879  total_loss: 0.08407  loss_cls: 0.03523  loss_box_reg: 0.04502  loss_rpn_cls: 0.00178  loss_rpn_loc: 0.001062    time: 0.1091  last_time: 0.0946  data_time: 0.0089  last_data_time: 0.0037   lr: 3.6108e-07  max_mem: 445M\n",
            "[03/21 02:09:51 d2.utils.events]:  eta: 0:00:10  iter: 4899  total_loss: 0.09536  loss_cls: 0.03485  loss_box_reg: 0.0611  loss_rpn_cls: 0.001319  loss_rpn_loc: 0.001321    time: 0.1091  last_time: 0.0977  data_time: 0.0081  last_data_time: 0.0072   lr: 2.5162e-07  max_mem: 445M\n",
            "[03/21 02:09:53 d2.utils.events]:  eta: 0:00:08  iter: 4919  total_loss: 0.1057  loss_cls: 0.04579  loss_box_reg: 0.05842  loss_rpn_cls: 0.00125  loss_rpn_loc: 0.001217    time: 0.1090  last_time: 0.0942  data_time: 0.0072  last_data_time: 0.0040   lr: 1.6185e-07  max_mem: 445M\n",
            "[03/21 02:09:55 d2.utils.events]:  eta: 0:00:06  iter: 4939  total_loss: 0.08807  loss_cls: 0.03233  loss_box_reg: 0.05104  loss_rpn_cls: 0.001643  loss_rpn_loc: 0.001103    time: 0.1090  last_time: 0.1015  data_time: 0.0057  last_data_time: 0.0146   lr: 9.1801e-08  max_mem: 445M\n",
            "[03/21 02:09:57 d2.utils.events]:  eta: 0:00:04  iter: 4959  total_loss: 0.08704  loss_cls: 0.0316  loss_box_reg: 0.05457  loss_rpn_cls: 0.001227  loss_rpn_loc: 0.001165    time: 0.1090  last_time: 0.0965  data_time: 0.0080  last_data_time: 0.0048   lr: 4.1475e-08  max_mem: 445M\n",
            "[03/21 02:09:59 d2.utils.events]:  eta: 0:00:02  iter: 4979  total_loss: 0.1068  loss_cls: 0.04084  loss_box_reg: 0.06139  loss_rpn_cls: 0.001773  loss_rpn_loc: 0.001129    time: 0.1090  last_time: 0.1331  data_time: 0.0146  last_data_time: 0.0128   lr: 1.0881e-08  max_mem: 445M\n",
            "[03/21 02:10:02 d2.utils.events]:  eta: 0:00:00  iter: 4999  total_loss: 0.1028  loss_cls: 0.03465  loss_box_reg: 0.05769  loss_rpn_cls: 0.002242  loss_rpn_loc: 0.001468    time: 0.1091  last_time: 0.0965  data_time: 0.0128  last_data_time: 0.0040   lr: 2.4674e-11  max_mem: 445M\n",
            "[03/21 02:10:02 d2.engine.hooks]: Overall training speed: 4998 iterations in 0:09:05 (0.1091 s / it)\n",
            "[03/21 02:10:02 d2.engine.hooks]: Total training time: 0:09:09 (0:00:03 on hooks)\n"
          ]
        },
        {
          "output_type": "execute_result",
          "data": {
            "text/plain": [
              "{'model_final': CfgNode({'VERSION': 2, 'MODEL': CfgNode({'LOAD_PROPOSALS': False, 'MASK_ON': False, 'KEYPOINT_ON': False, 'DEVICE': 'cuda', 'META_ARCHITECTURE': 'GeneralizedRCNN', 'WEIGHTS': './output/model_final.pth', 'PIXEL_MEAN': [103.53, 116.28, 123.675], 'PIXEL_STD': [1.0, 1.0, 1.0], 'BACKBONE': CfgNode({'NAME': 'FBNetV2C4Backbone', 'FREEZE_AT': 2}), 'FPN': CfgNode({'IN_FEATURES': [], 'OUT_CHANNELS': 256, 'NORM': '', 'FUSE_TYPE': 'sum'}), 'PROPOSAL_GENERATOR': CfgNode({'NAME': 'RPN', 'MIN_SIZE': 0}), 'ANCHOR_GENERATOR': CfgNode({'NAME': 'DefaultAnchorGenerator', 'SIZES': [[32, 64, 96, 128, 160]], 'ASPECT_RATIOS': [[0.5, 1.0, 2.0]], 'ANGLES': [[-90, 0, 90]], 'OFFSET': 0.0}), 'RPN': CfgNode({'HEAD_NAME': 'FBNetV2RpnHead', 'IN_FEATURES': ['trunk3'], 'BOUNDARY_THRESH': -1, 'IOU_THRESHOLDS': [0.3, 0.7], 'IOU_LABELS': [0, -1, 1], 'BATCH_SIZE_PER_IMAGE': 256, 'POSITIVE_FRACTION': 0.5, 'BBOX_REG_LOSS_TYPE': 'smooth_l1', 'BBOX_REG_LOSS_WEIGHT': 1.0, 'BBOX_REG_WEIGHTS': (1.0, 1.0, 1.0, 1.0), 'SMOOTH_L1_BETA': 0.0, 'LOSS_WEIGHT': 1.0, 'PRE_NMS_TOPK_TRAIN': 2000, 'PRE_NMS_TOPK_TEST': 1000, 'POST_NMS_TOPK_TRAIN': 2000, 'POST_NMS_TOPK_TEST': 30, 'NMS_THRESH': 0.7, 'CONV_DIMS': [-1]}), 'ROI_HEADS': CfgNode({'NAME': 'StandardROIHeads', 'NUM_CLASSES': 2, 'IN_FEATURES': ['trunk3'], 'IOU_THRESHOLDS': [0.5], 'IOU_LABELS': [0, 1], 'BATCH_SIZE_PER_IMAGE': 128, 'POSITIVE_FRACTION': 0.25, 'SCORE_THRESH_TEST': 0.05, 'NMS_THRESH_TEST': 0.5, 'PROPOSAL_APPEND_GT': True}), 'ROI_BOX_HEAD': CfgNode({'NAME': 'FBNetV2RoIBoxHead', 'BBOX_REG_LOSS_TYPE': 'smooth_l1', 'BBOX_REG_LOSS_WEIGHT': 1.0, 'BBOX_REG_WEIGHTS': (10.0, 10.0, 5.0, 5.0), 'SMOOTH_L1_BETA': 0.0, 'POOLER_RESOLUTION': 6, 'POOLER_SAMPLING_RATIO': 0, 'POOLER_TYPE': 'ROIAlignV2', 'NUM_FC': 0, 'FC_DIM': 1024, 'NUM_CONV': 0, 'CONV_DIM': 256, 'NORM': 'naiveSyncBN', 'CLS_AGNOSTIC_BBOX_REG': False, 'TRAIN_ON_PRED_BOXES': False, 'USE_FED_LOSS': False, 'USE_SIGMOID_CE': False, 'FED_LOSS_FREQ_WEIGHT_POWER': 0.5, 'FED_LOSS_NUM_CLASSES': 50}), 'ROI_BOX_CASCADE_HEAD': CfgNode({'BBOX_REG_WEIGHTS': ((10.0, 10.0, 5.0, 5.0), (20.0, 20.0, 10.0, 10.0), (30.0, 30.0, 15.0, 15.0)), 'IOUS': (0.5, 0.6, 0.7)}), 'ROI_MASK_HEAD': CfgNode({'NAME': 'MaskRCNNConvUpsampleHead', 'POOLER_RESOLUTION': 14, 'POOLER_SAMPLING_RATIO': 0, 'NUM_CONV': 4, 'CONV_DIM': 256, 'NORM': '', 'CLS_AGNOSTIC_MASK': False, 'POOLER_TYPE': 'ROIAlignV2'}), 'ROI_KEYPOINT_HEAD': CfgNode({'NAME': 'KRCNNConvDeconvUpsampleHead', 'POOLER_RESOLUTION': 14, 'POOLER_SAMPLING_RATIO': 0, 'CONV_DIMS': (512, 512, 512, 512, 512, 512, 512, 512), 'NUM_KEYPOINTS': 17, 'MIN_KEYPOINTS_PER_IMAGE': 1, 'NORMALIZE_LOSS_BY_VISIBLE_KEYPOINTS': True, 'LOSS_WEIGHT': 1.0, 'POOLER_TYPE': 'ROIAlignV2'}), 'SEM_SEG_HEAD': CfgNode({'NAME': 'SemSegFPNHead', 'IN_FEATURES': ['p2', 'p3', 'p4', 'p5'], 'IGNORE_VALUE': 255, 'NUM_CLASSES': 54, 'CONVS_DIM': 128, 'COMMON_STRIDE': 4, 'NORM': 'GN', 'LOSS_WEIGHT': 1.0}), 'PANOPTIC_FPN': CfgNode({'INSTANCE_LOSS_WEIGHT': 1.0, 'COMBINE': CfgNode({'ENABLED': True, 'OVERLAP_THRESH': 0.5, 'STUFF_AREA_LIMIT': 4096, 'INSTANCES_CONFIDENCE_THRESH': 0.5})}), 'RETINANET': CfgNode({'NUM_CLASSES': 80, 'IN_FEATURES': ['p3', 'p4', 'p5', 'p6', 'p7'], 'NUM_CONVS': 4, 'IOU_THRESHOLDS': [0.4, 0.5], 'IOU_LABELS': [0, -1, 1], 'PRIOR_PROB': 0.01, 'SCORE_THRESH_TEST': 0.05, 'TOPK_CANDIDATES_TEST': 1000, 'NMS_THRESH_TEST': 0.5, 'BBOX_REG_WEIGHTS': (1.0, 1.0, 1.0, 1.0), 'FOCAL_LOSS_GAMMA': 2.0, 'FOCAL_LOSS_ALPHA': 0.25, 'SMOOTH_L1_LOSS_BETA': 0.1, 'BBOX_REG_LOSS_TYPE': 'smooth_l1', 'NORM': ''}), 'RESNETS': CfgNode({'DEPTH': 50, 'OUT_FEATURES': ['res4'], 'NUM_GROUPS': 1, 'NORM': 'FrozenBN', 'WIDTH_PER_GROUP': 64, 'STRIDE_IN_1X1': True, 'RES5_DILATION': 1, 'RES2_OUT_CHANNELS': 256, 'STEM_OUT_CHANNELS': 64, 'DEFORM_ON_PER_STAGE': [False, False, False, False], 'DEFORM_MODULATED': False, 'DEFORM_NUM_GROUPS': 1}), 'FBNET_V2': CfgNode({'ARCH': 'FBNetV3_A', 'ARCH_DEF': [], 'STEM_IN_CHANNELS': 3, 'SCALE_FACTOR': 1.0, 'WIDTH_DIVISOR': 8, 'NORM': 'naiveSyncBN', 'NORM_ARGS': []}), 'VT_FPN': CfgNode({'IN_FEATURES': ['res2', 'res3', 'res4', 'res5'], 'OUT_CHANNELS': 256, 'LAYERS': 3, 'TOKEN_LS': [16, 16, 8, 8], 'TOKEN_C': 1024, 'HEADS': 16, 'MIN_GROUP_PLANES': 64, 'NORM': 'BN', 'POS_HWS': [], 'POS_N_DOWNSAMPLE': []}), 'FROZEN_LAYER_REG_EXP': [], 'KMEANS_ANCHORS': CfgNode({'KMEANS_ANCHORS_ON': False, 'NUM_CLUSTERS': 0, 'NUM_TRAINING_IMG': 0, 'DATASETS': (), 'RNG_SEED': 3}), 'SUBCLASS': CfgNode({'SUBCLASS_ON': False, 'NUM_SUBCLASSES': 0, 'NUM_LAYERS': 1, 'SUBCLASS_ID_FETCHER': 'SubclassFetcher', 'SUBCLASS_MAPPING': []}), 'FCOS': CfgNode({'NUM_CLASSES': 80, 'IN_FEATURES': ['p3', 'p4', 'p5', 'p6', 'p7'], 'NUM_CONVS': 4, 'HEAD_NORM': 'GN', 'SCORE_THRESH_TEST': 0.04, 'TOPK_CANDIDATES_TEST': 1000, 'NMS_THRESH_TEST': 0.6, 'FOCAL_LOSS_ALPHA': 0.25, 'FOCAL_LOSS_GAMMA': 2.0}), 'DDP_FIND_UNUSED_PARAMETERS': False, 'DDP_FP16_GRAD_COMPRESS': False, 'MODELING_HOOKS': []}), 'INPUT': CfgNode({'MIN_SIZE_TRAIN': (224,), 'MIN_SIZE_TRAIN_SAMPLING': 'choice', 'MAX_SIZE_TRAIN': 320, 'MIN_SIZE_TEST': 224, 'MAX_SIZE_TEST': 320, 'RANDOM_FLIP': 'horizontal', 'CROP': CfgNode({'ENABLED': False, 'TYPE': 'relative_range', 'SIZE': [0.9, 0.9]}), 'FORMAT': 'BGR', 'MASK_FORMAT': 'polygon', 'RECOMPUTE_BOXES': False}), 'DATASETS': CfgNode({'TRAIN': ('braintumors_coco_train',), 'PROPOSAL_FILES_TRAIN': (), 'PRECOMPUTED_PROPOSAL_TOPK_TRAIN': 2000, 'TEST': ('braintumors_coco_test',), 'PROPOSAL_FILES_TEST': (), 'PRECOMPUTED_PROPOSAL_TOPK_TEST': 1000, 'TRAIN_REPEAT_FACTOR': []}), 'DATALOADER': CfgNode({'NUM_WORKERS': 2, 'ASPECT_RATIO_GROUPING': True, 'SAMPLER_TRAIN': 'TrainingSampler', 'REPEAT_THRESHOLD': 0.0, 'FILTER_EMPTY_ANNOTATIONS': True, 'RANDOM_SUBSET_RATIO': 1.0}), 'SOLVER': CfgNode({'LR_SCHEDULER_NAME': 'WarmupCosineLR', 'MAX_ITER': 5000, 'BASE_LR': 0.00025, 'BASE_LR_END': 0.0, 'MOMENTUM': 0.9, 'NESTEROV': False, 'WEIGHT_DECAY': 0.0001, 'WEIGHT_DECAY_NORM': 0.0, 'GAMMA': 0.1, 'STEPS': [], 'NUM_DECAYS': 3, 'WARMUP_FACTOR': 0.001, 'WARMUP_ITERS': 1000, 'WARMUP_METHOD': 'linear', 'RESCALE_INTERVAL': False, 'CHECKPOINT_PERIOD': 5000, 'IMS_PER_BATCH': 2, 'REFERENCE_WORLD_SIZE': 8, 'BIAS_LR_FACTOR': 1.0, 'WEIGHT_DECAY_BIAS': None, 'CLIP_GRADIENTS': CfgNode({'ENABLED': False, 'CLIP_TYPE': 'value', 'CLIP_VALUE': 1.0, 'NORM_TYPE': 2.0}), 'AMP': CfgNode({'ENABLED': False, 'PRECISION': 'float16', 'LOG_GRAD_SCALER': False}), 'AUTO_SCALING_METHODS': ['default_scale_d2_configs', 'default_scale_quantization_configs'], 'OPTIMIZER': 'sgd', 'LR_MULTIPLIER_OVERWRITE': [], 'WEIGHT_DECAY_EMBED': 0.0, 'WEIGHT_DECAY_OVERWRITE': [], 'BETAS': (0.9, 0.999), 'EPS': 1e-08, 'FUSED': False}), 'TEST': CfgNode({'EXPECTED_RESULTS': [], 'EVAL_PERIOD': 10000, 'KEYPOINT_OKS_SIGMAS': [], 'DETECTIONS_PER_IMAGE': 100, 'AUG': CfgNode({'ENABLED': False, 'MIN_SIZES': (400, 500, 600, 700, 800, 900, 1000, 1100, 1200), 'MAX_SIZE': 4000, 'FLIP': True}), 'PRECISE_BN': CfgNode({'ENABLED': False, 'NUM_ITER': 200}), 'FINAL_EVAL': True}), 'OUTPUT_DIR': './output', 'SEED': -1, 'CUDNN_BENCHMARK': False, 'VIS_PERIOD': 0, 'GLOBAL': CfgNode({'HACK': 1.0}), 'GATHER_METRIC_PERIOD': 1, 'WRITER_PERIOD': 20, 'MODEL_EMA': CfgNode({'ENABLED': False, 'DECAY': 0.9998, 'DEVICE': '', 'USE_EMA_WEIGHTS_FOR_EVAL_ONLY': False, 'USE_LERP': False, 'AFTER_BACKWARD': False}), 'D2GO_DATA': CfgNode({'DATASETS': CfgNode({'TRAIN_CATEGORIES': (), 'TEST_CATEGORIES': (), 'COCO_INJECTION': CfgNode({'NAMES': [], 'IM_DIRS': [], 'JSON_FILES': [], 'KEYPOINT_METADATA': [], 'REGISTER_FUNCTION': '_register_extended_coco'}), 'DYNAMIC_DATASETS': [], 'DISK_CACHE': CfgNode({'ENABLED': False})}), 'MAPPER': CfgNode({'NAME': 'D2GoDatasetMapper', 'BACKFILL_SIZE': False, 'RETRY': 3, 'CATCH_EXCEPTION': True}), 'AUG_OPS': CfgNode({'TRAIN': ['ResizeShortestEdgeOp', 'RandomFlipOp'], 'TEST': ['ResizeShortestEdgeOp']}), 'TEST': CfgNode({'MAX_IMAGES': 0, 'SUBSET_SAMPLING': 'frontmost'})}), 'TENSORBOARD': CfgNode({'TRAIN_LOADER_VIS_WRITE_PERIOD': 20, 'TRAIN_LOADER_VIS_MAX_IMAGES': 16, 'TRAIN_LOADER_VIS_MAX_BATCH_IMAGES': 16, 'TEST_VIS_MAX_IMAGES': 16, 'TEST_VIS_WRITE_PERIOD': 1}), 'QUANTIZATION': CfgNode({'EAGER_MODE': True, 'BACKEND': 'fbgemm', 'CUSTOM_QSCHEME': '', 'MODULES': [], 'NAME': '', 'QAT': CfgNode({'ENABLED': False, 'FAKE_QUANT_METHOD': 'default', 'BATCH_SIZE_FACTOR': 1.0, 'START_ITER': 35000, 'ENABLE_OBSERVER_ITER': 35000, 'ENABLE_LEARNABLE_OBSERVER_ITER': 36000, 'DISABLE_OBSERVER_ITER': 38000, 'FREEZE_BN_ITER': 37000, 'UPDATE_OBSERVER_STATS_PERIODICALLY': False, 'UPDATE_OBSERVER_STATS_PERIOD': 1}), 'PTQ': CfgNode({'CALIBRATION_NUM_IMAGES': 16, 'CALIBRATION_FORCE_ON_GPU': False})}), 'ABNORMAL_CHECKER': CfgNode({'ENABLED': False}), 'FCOS_PREPARE_FOR_EXPORT': 'default_fcos_prepare_for_export', 'DISTILLATION': CfgNode({'ALGORITHM': 'LabelDistillation', 'HELPER': 'BaseDistillationHelper', 'TEACHER': CfgNode({'TORCHSCRIPT_FNAME': '', 'DEVICE': '', 'TYPE': 'torchscript', 'CONFIG_FNAME': '', 'RUNNER_NAME': 'd2go.runner.GeneralizedRCNNRunner', 'OVERWRITE_OPTS': []})}), 'FSDP': CfgNode({'ALGORITHM': '', 'CPU_OFFLOAD': False, 'BACKWARD_PREFETCH': True, 'AUTO_WRAP_POLICY': 'never_wrap_policy', 'AUTO_WRAP_MIN_PARAMS': 10000, 'AUTO_WRAP_LAYER_CLS': [], 'USE_LOCAL_STATE_DICT': False, 'STATE_DICT_CPU_OFFLOAD': False, 'STATE_DICT_RANK0_ONLY': True, 'IGNORED_MODULES': None, 'FORWARD_PREFETCH_OPTION': 'no'}), 'PROFILERS': ['default_flop_counter'], 'LOAD_CKPT_TO_GPU': False, 'NUMA_BINDING': False, 'EXPORT_CAFFE2': CfgNode({'USE_HEATMAP_MAX_KEYPOINT': False}), 'RCNN_EXPORT': CfgNode({'INCLUDE_POSTPROCESS': False}), 'RCNN_PREPARE_FOR_EXPORT': 'default_rcnn_prepare_for_export', 'RCNN_PREPARE_FOR_QUANT': 'default_rcnn_prepare_for_quant'})}"
            ]
          },
          "metadata": {},
          "execution_count": 22
        }
      ],
      "source": [
        "model = runner.build_model(cfg)\n",
        "runner.do_train(cfg, model, resume=False)"
      ]
    },
    {
      "cell_type": "markdown",
      "metadata": {
        "id": "9JPgt07zqR6b"
      },
      "source": [
        "## Evaluation"
      ]
    },
    {
      "cell_type": "code",
      "execution_count": 23,
      "metadata": {
        "colab": {
          "base_uri": "https://localhost:8080/"
        },
        "id": "lN_m9vGfqTYh",
        "outputId": "d151a3ea-54a5-49ea-9cb9-29876a309c67"
      },
      "outputs": [
        {
          "output_type": "stream",
          "name": "stdout",
          "text": [
            "[03/21 02:11:14 d2.data.datasets.coco]: Loaded 223 images in COCO format from braintumors_coco/test/_annotations.coco.json\n",
            "[03/21 02:11:14 d2.data.build]: Distribution of instances among all 2 categories:\n",
            "|  category  | #instances   |  category  | #instances   |\n",
            "|:----------:|:-------------|:----------:|:-------------|\n",
            "|  negative  | 154          |  positive  | 87           |\n",
            "|            |              |            |              |\n",
            "|   total    | 241          |            |              |\n",
            "[03/21 02:11:14 d2.data.common]: Serializing the dataset using: <class 'mobile_cv.torch.utils_pytorch.shareables.SharedList'>\n",
            "[03/21 02:11:14 d2.data.datasets.coco]: Loaded 223 images in COCO format from braintumors_coco/test/_annotations.coco.json\n",
            "[03/21 02:11:14 d2.evaluation.evaluator]: Start inference on 223 batches\n",
            "[03/21 02:11:20 d2.evaluation.evaluator]: Inference done 11/223. Dataloading: 0.0074 s/iter. Inference: 0.0261 s/iter. Eval: 0.1007 s/iter. Total: 0.1341 s/iter. ETA=0:00:28\n",
            "[03/21 02:11:25 d2.evaluation.evaluator]: Inference done 174/223. Dataloading: 0.0016 s/iter. Inference: 0.0256 s/iter. Eval: 0.0072 s/iter. Total: 0.0344 s/iter. ETA=0:00:01\n",
            "[03/21 02:11:26 d2.evaluation.evaluator]: Total inference time: 0:00:07.134844 (0.032729 s / iter per device, on 1 devices)\n",
            "[03/21 02:11:26 d2.evaluation.evaluator]: Total inference pure compute time: 0:00:05 (0.025336 s / iter per device, on 1 devices)\n",
            "[03/21 02:11:26 d2.evaluation.coco_evaluation]: Preparing results for COCO format ...\n",
            "[03/21 02:11:26 d2.evaluation.coco_evaluation]: Saving results to ./output/inference/default/final/braintumors_coco_test/coco_instances_results.json\n",
            "[03/21 02:11:26 d2.evaluation.coco_evaluation]: Evaluating predictions with unofficial COCO API...\n",
            "Loading and preparing results...\n",
            "DONE (t=0.00s)\n",
            "creating index...\n",
            "index created!\n",
            "[03/21 02:11:26 d2.evaluation.fast_eval_api]: Evaluate annotation type *bbox*\n",
            "[03/21 02:11:26 d2.evaluation.fast_eval_api]: COCOeval_opt.evaluate() finished in 0.03 seconds.\n",
            "[03/21 02:11:26 d2.evaluation.fast_eval_api]: Accumulating evaluation results...\n",
            "[03/21 02:11:26 d2.evaluation.fast_eval_api]: COCOeval_opt.accumulate() finished in 0.01 seconds.\n",
            " Average Precision  (AP) @[ IoU=0.50:0.95 | area=   all | maxDets=100 ] = 0.265\n",
            " Average Precision  (AP) @[ IoU=0.50      | area=   all | maxDets=100 ] = 0.462\n",
            " Average Precision  (AP) @[ IoU=0.75      | area=   all | maxDets=100 ] = 0.291\n",
            " Average Precision  (AP) @[ IoU=0.50:0.95 | area= small | maxDets=100 ] = 0.245\n",
            " Average Precision  (AP) @[ IoU=0.50:0.95 | area=medium | maxDets=100 ] = 0.279\n",
            " Average Precision  (AP) @[ IoU=0.50:0.95 | area= large | maxDets=100 ] = 0.534\n",
            " Average Recall     (AR) @[ IoU=0.50:0.95 | area=   all | maxDets=  1 ] = 0.554\n",
            " Average Recall     (AR) @[ IoU=0.50:0.95 | area=   all | maxDets= 10 ] = 0.605\n",
            " Average Recall     (AR) @[ IoU=0.50:0.95 | area=   all | maxDets=100 ] = 0.605\n",
            " Average Recall     (AR) @[ IoU=0.50:0.95 | area= small | maxDets=100 ] = 0.445\n",
            " Average Recall     (AR) @[ IoU=0.50:0.95 | area=medium | maxDets=100 ] = 0.626\n",
            " Average Recall     (AR) @[ IoU=0.50:0.95 | area= large | maxDets=100 ] = 0.700\n",
            "[03/21 02:11:26 d2.evaluation.coco_evaluation]: Evaluation results for bbox: \n",
            "|   AP   |  AP50  |  AP75  |  APs   |  APm   |  APl   |\n",
            "|:------:|:------:|:------:|:------:|:------:|:------:|\n",
            "| 26.533 | 46.162 | 29.078 | 24.545 | 27.924 | 53.436 |\n",
            "[03/21 02:11:26 d2.evaluation.coco_evaluation]: Per-category bbox AP: \n",
            "| category   | AP     | category   | AP     |\n",
            "|:-----------|:-------|:-----------|:-------|\n",
            "| negative   | 31.800 | positive   | 21.265 |\n",
            "[03/21 02:11:26 d2.evaluation.testing]: copypaste: Task: bbox\n",
            "[03/21 02:11:26 d2.evaluation.testing]: copypaste: AP,AP50,AP75,APs,APm,APl\n",
            "[03/21 02:11:26 d2.evaluation.testing]: copypaste: 26.5327,46.1620,29.0785,24.5445,27.9242,53.4359\n",
            "OrderedDict([('default', OrderedDict([('braintumors_coco_test', OrderedDict([('bbox', {'AP': 26.532659932843856, 'AP50': 46.16198463119001, 'AP75': 29.078484353174343, 'APs': 24.544530538825015, 'APm': 27.92415331656899, 'APl': 53.43587930221594, 'AP-negative': 31.79982143576358, 'AP-positive': 21.265498429924122})]))]))])\n"
          ]
        }
      ],
      "source": [
        "metrics = runner.do_test(cfg, model)\n",
        "print(metrics)"
      ]
    },
    {
      "cell_type": "markdown",
      "metadata": {
        "id": "_kz2dgLS70qO"
      },
      "source": [
        "## data type"
      ]
    },
    {
      "cell_type": "code",
      "execution_count": 24,
      "metadata": {
        "colab": {
          "base_uri": "https://localhost:8080/"
        },
        "id": "C-SwvelL5uJF",
        "outputId": "a51268d2-7bea-4547-978b-95f3c1f663f6"
      },
      "outputs": [
        {
          "output_type": "stream",
          "name": "stdout",
          "text": [
            "backbone.body.trunk0.fbnetv2_0_0.conv.weight torch.float32\n"
          ]
        }
      ],
      "source": [
        "for name, param in model.named_parameters():\n",
        "  if param.requires_grad:\n",
        "    print(name, param.data.dtype)\n",
        "    break"
      ]
    },
    {
      "cell_type": "markdown",
      "metadata": {
        "id": "qQnXy-BEqag6"
      },
      "source": [
        "## Quantization"
      ]
    },
    {
      "cell_type": "code",
      "execution_count": 25,
      "metadata": {
        "id": "lnX4N0vRqcP5"
      },
      "outputs": [],
      "source": [
        "import copy\n",
        "from detectron2.data import build_detection_test_loader\n",
        "from d2go.export.exporter import convert_and_export_predictor\n",
        "from d2go.utils.testing.data_loader_helper import create_detection_data_loader_on_toy_dataset"
      ]
    },
    {
      "cell_type": "code",
      "execution_count": 26,
      "metadata": {
        "colab": {
          "base_uri": "https://localhost:8080/"
        },
        "id": "3xDxtXbgvJUS",
        "outputId": "fac6d2d4-7156-4416-edb9-d09d97967437"
      },
      "outputs": [
        {
          "output_type": "stream",
          "name": "stdout",
          "text": [
            "[03/21 02:11:57 d2.data.datasets.coco]: Loaded 223 images in COCO format from braintumors_coco/test/_annotations.coco.json\n",
            "[03/21 02:11:57 d2.data.common]: Serializing the dataset using: <class 'mobile_cv.torch.utils_pytorch.shareables.SharedList'>\n"
          ]
        },
        {
          "output_type": "stream",
          "name": "stderr",
          "text": [
            "WARNING:d2go.quantization.modeling:`detectron2.layers.Linear` is in expected type (torch.nn.Linear),consider removing this code `mock_quantization_type`.\n",
            "/usr/local/lib/python3.9/dist-packages/torch/ao/quantization/observer.py:214: UserWarning: Please use quant_min and quant_max to specify the range for observers.                     reduce_range will be deprecated in a future release of PyTorch.\n",
            "  warnings.warn(\n",
            "WARNING:d2go.export.torchscript:Wrap the model with TracingAdapter to handle non-flattened inputs/outputs, please be aware that the exported model will have different input/output data structure.\n",
            "/usr/local/lib/python3.9/dist-packages/detectron2/structures/image_list.py:85: TracerWarning: Converting a tensor to a Python boolean might cause the trace to be incorrect. We can't record the data flow of Python values, so this value will be treated as a constant in the future. This means that the trace might not generalize to other inputs!\n",
            "  assert t.shape[:-2] == tensors[0].shape[:-2], t.shape\n",
            "/usr/local/lib/python3.9/dist-packages/detectron2/structures/boxes.py:151: TracerWarning: Converting a tensor to a Python boolean might cause the trace to be incorrect. We can't record the data flow of Python values, so this value will be treated as a constant in the future. This means that the trace might not generalize to other inputs!\n",
            "  if tensor.numel() == 0:\n",
            "/usr/local/lib/python3.9/dist-packages/detectron2/structures/boxes.py:155: TracerWarning: Converting a tensor to a Python boolean might cause the trace to be incorrect. We can't record the data flow of Python values, so this value will be treated as a constant in the future. This means that the trace might not generalize to other inputs!\n",
            "  assert tensor.dim() == 2 and tensor.size(-1) == 4, tensor.size()\n",
            "/usr/local/lib/python3.9/dist-packages/detectron2/modeling/proposal_generator/proposal_utils.py:106: TracerWarning: Converting a tensor to a Python boolean might cause the trace to be incorrect. We can't record the data flow of Python values, so this value will be treated as a constant in the future. This means that the trace might not generalize to other inputs!\n",
            "  if not valid_mask.all():\n",
            "/usr/local/lib/python3.9/dist-packages/detectron2/structures/boxes.py:191: TracerWarning: Converting a tensor to a Python boolean might cause the trace to be incorrect. We can't record the data flow of Python values, so this value will be treated as a constant in the future. This means that the trace might not generalize to other inputs!\n",
            "  assert torch.isfinite(self.tensor).all(), \"Box tensor contains infinite or NaN!\"\n",
            "/usr/local/lib/python3.9/dist-packages/detectron2/structures/boxes.py:192: TracerWarning: Iterating over a tensor might cause the trace to be incorrect. Passing a tensor of different shape won't change the number of iterations executed (and might lead to errors or silently give incorrect results).\n",
            "  h, w = box_size\n",
            "/usr/local/lib/python3.9/dist-packages/detectron2/layers/nms.py:15: TracerWarning: Converting a tensor to a Python boolean might cause the trace to be incorrect. We can't record the data flow of Python values, so this value will be treated as a constant in the future. This means that the trace might not generalize to other inputs!\n",
            "  assert boxes.shape[-1] == 4\n",
            "/usr/local/lib/python3.9/dist-packages/torch/__init__.py:853: TracerWarning: Converting a tensor to a Python boolean might cause the trace to be incorrect. We can't record the data flow of Python values, so this value will be treated as a constant in the future. This means that the trace might not generalize to other inputs!\n",
            "  assert condition, message\n",
            "/usr/local/lib/python3.9/dist-packages/detectron2/layers/roi_align.py:55: TracerWarning: Converting a tensor to a Python boolean might cause the trace to be incorrect. We can't record the data flow of Python values, so this value will be treated as a constant in the future. This means that the trace might not generalize to other inputs!\n",
            "  assert rois.dim() == 2 and rois.size(1) == 5\n",
            "/usr/local/lib/python3.9/dist-packages/d2go/modeling/backbone/fbnet_v2.py:377: TracerWarning: Converting a tensor to a Python boolean might cause the trace to be incorrect. We can't record the data flow of Python values, so this value will be treated as a constant in the future. This means that the trace might not generalize to other inputs!\n",
            "  if len(x.shape) == 4 and (x.shape[2] > 1 or x.shape[3] > 1):\n",
            "/usr/local/lib/python3.9/dist-packages/detectron2/modeling/roi_heads/fast_rcnn.py:138: TracerWarning: Converting a tensor to a Python boolean might cause the trace to be incorrect. We can't record the data flow of Python values, so this value will be treated as a constant in the future. This means that the trace might not generalize to other inputs!\n",
            "  if not valid_mask.all():\n",
            "/usr/local/lib/python3.9/dist-packages/detectron2/structures/boxes.py:151: TracerWarning: Converting a tensor to a Python boolean might cause the trace to be incorrect. We can't record the data flow of Python values, so this value will be treated as a constant in the future. This means that the trace might not generalize to other inputs!\n",
            "  if tensor.numel() == 0:\n",
            "/usr/local/lib/python3.9/dist-packages/detectron2/structures/boxes.py:155: TracerWarning: Converting a tensor to a Python boolean might cause the trace to be incorrect. We can't record the data flow of Python values, so this value will be treated as a constant in the future. This means that the trace might not generalize to other inputs!\n",
            "  assert tensor.dim() == 2 and tensor.size(-1) == 4, tensor.size()\n",
            "/usr/local/lib/python3.9/dist-packages/detectron2/structures/boxes.py:191: TracerWarning: Converting a tensor to a Python boolean might cause the trace to be incorrect. We can't record the data flow of Python values, so this value will be treated as a constant in the future. This means that the trace might not generalize to other inputs!\n",
            "  assert torch.isfinite(self.tensor).all(), \"Box tensor contains infinite or NaN!\"\n",
            "/usr/local/lib/python3.9/dist-packages/detectron2/structures/boxes.py:192: TracerWarning: Iterating over a tensor might cause the trace to be incorrect. Passing a tensor of different shape won't change the number of iterations executed (and might lead to errors or silently give incorrect results).\n",
            "  h, w = box_size\n",
            "/usr/local/lib/python3.9/dist-packages/detectron2/modeling/roi_heads/fast_rcnn.py:155: TracerWarning: Converting a tensor to a Python boolean might cause the trace to be incorrect. We can't record the data flow of Python values, so this value will be treated as a constant in the future. This means that the trace might not generalize to other inputs!\n",
            "  if num_bbox_reg_classes == 1:\n",
            "/usr/local/lib/python3.9/dist-packages/detectron2/layers/nms.py:15: TracerWarning: Converting a tensor to a Python boolean might cause the trace to be incorrect. We can't record the data flow of Python values, so this value will be treated as a constant in the future. This means that the trace might not generalize to other inputs!\n",
            "  assert boxes.shape[-1] == 4\n",
            "/usr/local/lib/python3.9/dist-packages/detectron2/structures/image_list.py:85: TracerWarning: Converting a tensor to a Python boolean might cause the trace to be incorrect. We can't record the data flow of Python values, so this value will be treated as a constant in the future. This means that the trace might not generalize to other inputs!\n",
            "  assert t.shape[:-2] == tensors[0].shape[:-2], t.shape\n",
            "/usr/local/lib/python3.9/dist-packages/detectron2/structures/boxes.py:151: TracerWarning: Converting a tensor to a Python boolean might cause the trace to be incorrect. We can't record the data flow of Python values, so this value will be treated as a constant in the future. This means that the trace might not generalize to other inputs!\n",
            "  if tensor.numel() == 0:\n",
            "/usr/local/lib/python3.9/dist-packages/detectron2/structures/boxes.py:155: TracerWarning: Converting a tensor to a Python boolean might cause the trace to be incorrect. We can't record the data flow of Python values, so this value will be treated as a constant in the future. This means that the trace might not generalize to other inputs!\n",
            "  assert tensor.dim() == 2 and tensor.size(-1) == 4, tensor.size()\n",
            "/usr/local/lib/python3.9/dist-packages/detectron2/modeling/proposal_generator/proposal_utils.py:106: TracerWarning: Converting a tensor to a Python boolean might cause the trace to be incorrect. We can't record the data flow of Python values, so this value will be treated as a constant in the future. This means that the trace might not generalize to other inputs!\n",
            "  if not valid_mask.all():\n",
            "/usr/local/lib/python3.9/dist-packages/detectron2/structures/boxes.py:191: TracerWarning: Converting a tensor to a Python boolean might cause the trace to be incorrect. We can't record the data flow of Python values, so this value will be treated as a constant in the future. This means that the trace might not generalize to other inputs!\n",
            "  assert torch.isfinite(self.tensor).all(), \"Box tensor contains infinite or NaN!\"\n",
            "/usr/local/lib/python3.9/dist-packages/detectron2/structures/boxes.py:192: TracerWarning: Iterating over a tensor might cause the trace to be incorrect. Passing a tensor of different shape won't change the number of iterations executed (and might lead to errors or silently give incorrect results).\n",
            "  h, w = box_size\n",
            "/usr/local/lib/python3.9/dist-packages/detectron2/layers/nms.py:15: TracerWarning: Converting a tensor to a Python boolean might cause the trace to be incorrect. We can't record the data flow of Python values, so this value will be treated as a constant in the future. This means that the trace might not generalize to other inputs!\n",
            "  assert boxes.shape[-1] == 4\n",
            "/usr/local/lib/python3.9/dist-packages/torch/__init__.py:853: TracerWarning: Converting a tensor to a Python boolean might cause the trace to be incorrect. We can't record the data flow of Python values, so this value will be treated as a constant in the future. This means that the trace might not generalize to other inputs!\n",
            "  assert condition, message\n",
            "/usr/local/lib/python3.9/dist-packages/detectron2/layers/roi_align.py:55: TracerWarning: Converting a tensor to a Python boolean might cause the trace to be incorrect. We can't record the data flow of Python values, so this value will be treated as a constant in the future. This means that the trace might not generalize to other inputs!\n",
            "  assert rois.dim() == 2 and rois.size(1) == 5\n",
            "/usr/local/lib/python3.9/dist-packages/d2go/modeling/backbone/fbnet_v2.py:377: TracerWarning: Converting a tensor to a Python boolean might cause the trace to be incorrect. We can't record the data flow of Python values, so this value will be treated as a constant in the future. This means that the trace might not generalize to other inputs!\n",
            "  if len(x.shape) == 4 and (x.shape[2] > 1 or x.shape[3] > 1):\n",
            "/usr/local/lib/python3.9/dist-packages/detectron2/modeling/roi_heads/fast_rcnn.py:138: TracerWarning: Converting a tensor to a Python boolean might cause the trace to be incorrect. We can't record the data flow of Python values, so this value will be treated as a constant in the future. This means that the trace might not generalize to other inputs!\n",
            "  if not valid_mask.all():\n",
            "/usr/local/lib/python3.9/dist-packages/detectron2/structures/boxes.py:151: TracerWarning: Converting a tensor to a Python boolean might cause the trace to be incorrect. We can't record the data flow of Python values, so this value will be treated as a constant in the future. This means that the trace might not generalize to other inputs!\n",
            "  if tensor.numel() == 0:\n",
            "/usr/local/lib/python3.9/dist-packages/detectron2/structures/boxes.py:155: TracerWarning: Converting a tensor to a Python boolean might cause the trace to be incorrect. We can't record the data flow of Python values, so this value will be treated as a constant in the future. This means that the trace might not generalize to other inputs!\n",
            "  assert tensor.dim() == 2 and tensor.size(-1) == 4, tensor.size()\n",
            "/usr/local/lib/python3.9/dist-packages/detectron2/structures/boxes.py:191: TracerWarning: Converting a tensor to a Python boolean might cause the trace to be incorrect. We can't record the data flow of Python values, so this value will be treated as a constant in the future. This means that the trace might not generalize to other inputs!\n",
            "  assert torch.isfinite(self.tensor).all(), \"Box tensor contains infinite or NaN!\"\n",
            "/usr/local/lib/python3.9/dist-packages/detectron2/structures/boxes.py:192: TracerWarning: Iterating over a tensor might cause the trace to be incorrect. Passing a tensor of different shape won't change the number of iterations executed (and might lead to errors or silently give incorrect results).\n",
            "  h, w = box_size\n",
            "/usr/local/lib/python3.9/dist-packages/detectron2/modeling/roi_heads/fast_rcnn.py:155: TracerWarning: Converting a tensor to a Python boolean might cause the trace to be incorrect. We can't record the data flow of Python values, so this value will be treated as a constant in the future. This means that the trace might not generalize to other inputs!\n",
            "  if num_bbox_reg_classes == 1:\n",
            "/usr/local/lib/python3.9/dist-packages/detectron2/layers/nms.py:15: TracerWarning: Converting a tensor to a Python boolean might cause the trace to be incorrect. We can't record the data flow of Python values, so this value will be treated as a constant in the future. This means that the trace might not generalize to other inputs!\n",
            "  assert boxes.shape[-1] == 4\n"
          ]
        }
      ],
      "source": [
        "pytorch_model = model.to(\"cpu\")\n",
        "pytorch_model.eval()\n",
        "test_loader = runner.build_detection_test_loader(\n",
        "                cfg, dataset_name=name_ds_test\n",
        "            )\n",
        "predictor_path = convert_and_export_predictor(\n",
        "        cfg             = cfg,\n",
        "        pytorch_model   = copy.deepcopy(pytorch_model),\n",
        "        predictor_type  = \"torchscript_int8\",\n",
        "        output_dir      = './',\n",
        "        data_loader     = test_loader\n",
        "    )\n"
      ]
    },
    {
      "cell_type": "markdown",
      "metadata": {
        "id": "qWN4Xfb1Rqtr"
      },
      "source": [
        "## Evaluation"
      ]
    },
    {
      "cell_type": "code",
      "execution_count": 27,
      "metadata": {
        "colab": {
          "base_uri": "https://localhost:8080/"
        },
        "id": "Grwaw8BgREO8",
        "outputId": "387fd06b-314d-46d2-c0eb-ee80cdc469af"
      },
      "outputs": [
        {
          "output_type": "stream",
          "name": "stdout",
          "text": [
            "[03/21 02:13:02 d2.data.datasets.coco]: Loaded 223 images in COCO format from braintumors_coco/test/_annotations.coco.json\n",
            "[03/21 02:13:02 d2.data.common]: Serializing the dataset using: <class 'mobile_cv.torch.utils_pytorch.shareables.SharedList'>\n",
            "[03/21 02:13:02 d2.data.datasets.coco]: Loaded 223 images in COCO format from braintumors_coco/test/_annotations.coco.json\n",
            "[03/21 02:13:02 d2.evaluation.evaluator]: Start inference on 223 batches\n"
          ]
        },
        {
          "output_type": "stream",
          "name": "stderr",
          "text": [
            "WARNING:d2go.utils.flop_calculator:Failed to estimate flops using detectron2's FlopCountAnalysis. Error written to ./output/flops_str_fvcore.txt.\n"
          ]
        },
        {
          "output_type": "stream",
          "name": "stdout",
          "text": [
            "[03/21 02:13:08 d2.evaluation.evaluator]: Inference done 11/223. Dataloading: 0.0064 s/iter. Inference: 0.0372 s/iter. Eval: 0.0965 s/iter. Total: 0.1401 s/iter. ETA=0:00:29\n",
            "[03/21 02:13:13 d2.evaluation.evaluator]: Inference done 122/223. Dataloading: 0.0016 s/iter. Inference: 0.0383 s/iter. Eval: 0.0101 s/iter. Total: 0.0501 s/iter. ETA=0:00:05\n",
            "[03/21 02:13:18 d2.evaluation.evaluator]: Inference done 221/223. Dataloading: 0.0019 s/iter. Inference: 0.0429 s/iter. Eval: 0.0055 s/iter. Total: 0.0504 s/iter. ETA=0:00:00\n",
            "[03/21 02:13:19 d2.evaluation.evaluator]: Total inference time: 0:00:11.592738 (0.053178 s / iter per device, on 1 devices)\n",
            "[03/21 02:13:19 d2.evaluation.evaluator]: Total inference pure compute time: 0:00:09 (0.044465 s / iter per device, on 1 devices)\n",
            "[03/21 02:13:19 d2.evaluation.coco_evaluation]: Preparing results for COCO format ...\n",
            "[03/21 02:13:19 d2.evaluation.coco_evaluation]: Saving results to ./output/inference/default/final/braintumors_coco_test/coco_instances_results.json\n",
            "[03/21 02:13:19 d2.evaluation.coco_evaluation]: Evaluating predictions with unofficial COCO API...\n",
            "Loading and preparing results...\n",
            "DONE (t=0.00s)\n",
            "creating index...\n",
            "index created!\n",
            "[03/21 02:13:19 d2.evaluation.fast_eval_api]: Evaluate annotation type *bbox*\n",
            "[03/21 02:13:19 d2.evaluation.fast_eval_api]: COCOeval_opt.evaluate() finished in 0.05 seconds.\n",
            "[03/21 02:13:19 d2.evaluation.fast_eval_api]: Accumulating evaluation results...\n",
            "[03/21 02:13:19 d2.evaluation.fast_eval_api]: COCOeval_opt.accumulate() finished in 0.02 seconds.\n",
            " Average Precision  (AP) @[ IoU=0.50:0.95 | area=   all | maxDets=100 ] = 0.224\n",
            " Average Precision  (AP) @[ IoU=0.50      | area=   all | maxDets=100 ] = 0.415\n",
            " Average Precision  (AP) @[ IoU=0.75      | area=   all | maxDets=100 ] = 0.220\n",
            " Average Precision  (AP) @[ IoU=0.50:0.95 | area= small | maxDets=100 ] = 0.180\n",
            " Average Precision  (AP) @[ IoU=0.50:0.95 | area=medium | maxDets=100 ] = 0.233\n",
            " Average Precision  (AP) @[ IoU=0.50:0.95 | area= large | maxDets=100 ] = 0.506\n",
            " Average Recall     (AR) @[ IoU=0.50:0.95 | area=   all | maxDets=  1 ] = 0.510\n",
            " Average Recall     (AR) @[ IoU=0.50:0.95 | area=   all | maxDets= 10 ] = 0.562\n",
            " Average Recall     (AR) @[ IoU=0.50:0.95 | area=   all | maxDets=100 ] = 0.562\n",
            " Average Recall     (AR) @[ IoU=0.50:0.95 | area= small | maxDets=100 ] = 0.396\n",
            " Average Recall     (AR) @[ IoU=0.50:0.95 | area=medium | maxDets=100 ] = 0.586\n",
            " Average Recall     (AR) @[ IoU=0.50:0.95 | area= large | maxDets=100 ] = 0.733\n",
            "[03/21 02:13:19 d2.evaluation.coco_evaluation]: Evaluation results for bbox: \n",
            "|   AP   |  AP50  |  AP75  |  APs   |  APm   |  APl   |\n",
            "|:------:|:------:|:------:|:------:|:------:|:------:|\n",
            "| 22.352 | 41.486 | 22.023 | 17.973 | 23.285 | 50.614 |\n",
            "[03/21 02:13:19 d2.evaluation.coco_evaluation]: Per-category bbox AP: \n",
            "| category   | AP     | category   | AP     |\n",
            "|:-----------|:-------|:-----------|:-------|\n",
            "| negative   | 25.716 | positive   | 18.987 |\n",
            "[03/21 02:13:19 d2.evaluation.testing]: copypaste: Task: bbox\n",
            "[03/21 02:13:19 d2.evaluation.testing]: copypaste: AP,AP50,AP75,APs,APm,APl\n",
            "[03/21 02:13:19 d2.evaluation.testing]: copypaste: 22.3515,41.4857,22.0235,17.9727,23.2850,50.6139\n",
            "OrderedDict([('default', OrderedDict([('braintumors_coco_test', OrderedDict([('bbox', {'AP': 22.351512860901884, 'AP50': 41.485697083286084, 'AP75': 22.02348939189351, 'APs': 17.972735208993353, 'APm': 23.28498563593436, 'APl': 50.613861386138616, 'AP-negative': 25.715716500040042, 'AP-positive': 18.987309221763727})]))]))])\n"
          ]
        }
      ],
      "source": [
        "from mobile_cv.predictor.api import create_predictor\n",
        "int8_model = create_predictor(predictor_path)\n",
        "metrics = runner.do_test(cfg, int8_model)\n",
        "print(metrics)"
      ]
    },
    {
      "cell_type": "code",
      "execution_count": null,
      "metadata": {
        "id": "v1oLNsgY9H-W"
      },
      "outputs": [],
      "source": []
    }
  ],
  "metadata": {
    "accelerator": "GPU",
    "colab": {
      "provenance": []
    },
    "gpuClass": "standard",
    "kernelspec": {
      "display_name": "Python 3",
      "name": "python3"
    },
    "language_info": {
      "name": "python"
    }
  },
  "nbformat": 4,
  "nbformat_minor": 0
}