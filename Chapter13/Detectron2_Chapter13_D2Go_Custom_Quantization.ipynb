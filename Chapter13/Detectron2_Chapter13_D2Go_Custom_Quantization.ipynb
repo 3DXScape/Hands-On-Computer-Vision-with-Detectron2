{
  "cells": [
    {
      "cell_type": "markdown",
      "metadata": {
        "colab_type": "text",
        "id": "view-in-github"
      },
      "source": [
        "<a href=\"https://colab.research.google.com/github/PacktPublishing/Hands-On-Computer-Vision-with-Detectron2/blob/main/Chapter13/Detectron2_Chapter13_D2Go_Custom_Quantization.ipynb\" target=\"_blank\"><img src=\"https://colab.research.google.com/assets/colab-badge.svg\" alt=\"Open In Colab\"/></a>"
      ]
    },
    {
      "cell_type": "markdown",
      "metadata": {
        "id": "fykgC3oazthg"
      },
      "source": [
        "# Installation"
      ]
    },
    {
      "attachments": {},
      "cell_type": "markdown",
      "metadata": {},
      "source": [
        "**In Python3.9**: NVIDIA's apex package (for d2go model zoo)"
      ]
    },
    {
      "cell_type": "code",
      "execution_count": null,
      "metadata": {},
      "outputs": [],
      "source": [
        "!git clone https://github.com/NVIDIA/apex"
      ]
    },
    {
      "cell_type": "code",
      "execution_count": null,
      "metadata": {},
      "outputs": [],
      "source": [
        "cd apex"
      ]
    },
    {
      "cell_type": "code",
      "execution_count": null,
      "metadata": {},
      "outputs": [],
      "source": [
        "!python setup.py install"
      ]
    },
    {
      "cell_type": "code",
      "execution_count": null,
      "metadata": {},
      "outputs": [],
      "source": [
        "cd .."
      ]
    },
    {
      "cell_type": "markdown",
      "metadata": {
        "id": "4D7w9yfw08-W"
      },
      "source": [
        "detectron2"
      ]
    },
    {
      "cell_type": "code",
      "execution_count": null,
      "metadata": {
        "colab": {
          "base_uri": "https://localhost:8080/"
        },
        "id": "nb5S1Iafzvrv",
        "outputId": "6a4aa7f4-b96e-43a2-9cd4-1bcdbf910680"
      },
      "outputs": [
        {
          "name": "stdout",
          "output_type": "stream",
          "text": [
            "  Preparing metadata (setup.py) ... \u001b[?25l\u001b[?25hdone\n",
            "\u001b[2K     \u001b[90m━━━━━━━━━━━━━━━━━━━━━━━━━━━━━━━━━━━━━━━━\u001b[0m \u001b[32m50.2/50.2 KB\u001b[0m \u001b[31m6.8 MB/s\u001b[0m eta \u001b[36m0:00:00\u001b[0m\n",
            "\u001b[?25h  Preparing metadata (setup.py) ... \u001b[?25l\u001b[?25hdone\n",
            "\u001b[2K     \u001b[90m━━━━━━━━━━━━━━━━━━━━━━━━━━━━━━━━━━━━━━━━\u001b[0m \u001b[32m79.5/79.5 KB\u001b[0m \u001b[31m11.2 MB/s\u001b[0m eta \u001b[36m0:00:00\u001b[0m\n",
            "\u001b[2K     \u001b[90m━━━━━━━━━━━━━━━━━━━━━━━━━━━━━━━━━━━━━━\u001b[0m \u001b[32m154.1/154.1 KB\u001b[0m \u001b[31m23.6 MB/s\u001b[0m eta \u001b[36m0:00:00\u001b[0m\n",
            "\u001b[2K     \u001b[90m━━━━━━━━━━━━━━━━━━━━━━━━━━━━━━━━━━━━━━━━\u001b[0m \u001b[32m1.6/1.6 MB\u001b[0m \u001b[31m74.2 MB/s\u001b[0m eta \u001b[36m0:00:00\u001b[0m\n",
            "\u001b[2K     \u001b[90m━━━━━━━━━━━━━━━━━━━━━━━━━━━━━━━━━━━━━━\u001b[0m \u001b[32m117.0/117.0 KB\u001b[0m \u001b[31m19.1 MB/s\u001b[0m eta \u001b[36m0:00:00\u001b[0m\n",
            "\u001b[?25h  Preparing metadata (setup.py) ... \u001b[?25l\u001b[?25hdone\n",
            "\u001b[2K     \u001b[90m━━━━━━━━━━━━━━━━━━━━━━━━━━━━━━━━━━━━━━━━\u001b[0m \u001b[32m96.6/96.6 KB\u001b[0m \u001b[31m15.8 MB/s\u001b[0m eta \u001b[36m0:00:00\u001b[0m\n",
            "\u001b[?25h  Building wheel for detectron2 (setup.py) ... \u001b[?25l\u001b[?25hdone\n",
            "  Building wheel for fvcore (setup.py) ... \u001b[?25l\u001b[?25hdone\n",
            "  Building wheel for antlr4-python3-runtime (setup.py) ... \u001b[?25l\u001b[?25hdone\n",
            "\u001b[31mERROR: pip's dependency resolver does not currently take into account all the packages that are installed. This behaviour is the source of the following dependency conflicts.\n",
            "flask 1.1.4 requires click<8.0,>=5.1, but you have click 8.1.3 which is incompatible.\u001b[0m\u001b[31m\n",
            "\u001b[0m"
          ]
        }
      ],
      "source": [
        "!python -m pip -qq install 'git+https://github.com/facebookresearch/detectron2.git'"
      ]
    },
    {
      "cell_type": "markdown",
      "metadata": {
        "id": "TGS19l371BOf"
      },
      "source": [
        "mobile-vision"
      ]
    },
    {
      "cell_type": "code",
      "execution_count": null,
      "metadata": {
        "colab": {
          "base_uri": "https://localhost:8080/"
        },
        "id": "_sQHAovK0q-X",
        "outputId": "308a9dd2-614d-45ba-c4eb-e51c7ce7d68d"
      },
      "outputs": [
        {
          "name": "stdout",
          "output_type": "stream",
          "text": [
            "Looking in indexes: https://pypi.org/simple, https://us-python.pkg.dev/colab-wheels/public/simple/\n",
            "Collecting git+https://github.com/facebookresearch/mobile-vision.git\n",
            "  Cloning https://github.com/facebookresearch/mobile-vision.git to /tmp/pip-req-build-6afqjnek\n",
            "  Running command git clone --filter=blob:none --quiet https://github.com/facebookresearch/mobile-vision.git /tmp/pip-req-build-6afqjnek\n",
            "  Resolved https://github.com/facebookresearch/mobile-vision.git to commit e5a914e1e2176c3708fbf9a63d5b8558d12e2034\n",
            "  Preparing metadata (setup.py) ... \u001b[?25l\u001b[?25hdone\n",
            "Requirement already satisfied: iopath in /usr/local/lib/python3.8/dist-packages (from mobile-cv==0.1) (0.1.9)\n",
            "Collecting diskcache\n",
            "  Downloading diskcache-5.4.0-py3-none-any.whl (44 kB)\n",
            "\u001b[2K     \u001b[90m━━━━━━━━━━━━━━━━━━━━━━━━━━━━━━━━━━━━━━━━\u001b[0m \u001b[32m45.0/45.0 KB\u001b[0m \u001b[31m3.8 MB/s\u001b[0m eta \u001b[36m0:00:00\u001b[0m\n",
            "\u001b[?25hRequirement already satisfied: termcolor in /usr/local/lib/python3.8/dist-packages (from mobile-cv==0.1) (2.2.0)\n",
            "Requirement already satisfied: cloudpickle in /usr/local/lib/python3.8/dist-packages (from mobile-cv==0.1) (2.2.1)\n",
            "Requirement already satisfied: tabulate in /usr/local/lib/python3.8/dist-packages (from mobile-cv==0.1) (0.8.10)\n",
            "Requirement already satisfied: portalocker in /usr/local/lib/python3.8/dist-packages (from iopath->mobile-cv==0.1) (2.7.0)\n",
            "Requirement already satisfied: tqdm in /usr/local/lib/python3.8/dist-packages (from iopath->mobile-cv==0.1) (4.64.1)\n",
            "Building wheels for collected packages: mobile-cv\n",
            "  Building wheel for mobile-cv (setup.py) ... \u001b[?25l\u001b[?25hdone\n",
            "  Created wheel for mobile-cv: filename=mobile_cv-0.1-py3-none-any.whl size=259875 sha256=ddedcf34ecbeed5135eba6c2a9565d4998e9577760d63958258f60d34b482063\n",
            "  Stored in directory: /tmp/pip-ephem-wheel-cache-bjm_imk6/wheels/19/09/ed/bfbb749a2063b4a8e49915d77e0d02e4298af11e07d841c37a\n",
            "Successfully built mobile-cv\n",
            "Installing collected packages: diskcache, mobile-cv\n",
            "Successfully installed diskcache-5.4.0 mobile-cv-0.1\n"
          ]
        }
      ],
      "source": [
        "!python -m pip install 'git+https://github.com/facebookresearch/mobile-vision.git'"
      ]
    },
    {
      "cell_type": "markdown",
      "metadata": {
        "id": "5BZRIOrn1CQt"
      },
      "source": [
        "d2go"
      ]
    },
    {
      "cell_type": "code",
      "execution_count": null,
      "metadata": {
        "colab": {
          "base_uri": "https://localhost:8080/"
        },
        "id": "b5LajS3-0vvm",
        "outputId": "29c4f3c2-17f4-485e-9f34-cea753221c73"
      },
      "outputs": [
        {
          "name": "stdout",
          "output_type": "stream",
          "text": [
            "Looking in indexes: https://pypi.org/simple, https://us-python.pkg.dev/colab-wheels/public/simple/\n",
            "Collecting git+https://github.com/facebookresearch/d2go.git\n",
            "  Cloning https://github.com/facebookresearch/d2go.git to /tmp/pip-req-build-ajmcbu_6\n",
            "  Running command git clone --filter=blob:none --quiet https://github.com/facebookresearch/d2go.git /tmp/pip-req-build-ajmcbu_6\n",
            "  Resolved https://github.com/facebookresearch/d2go.git to commit 5d6bd7c2cdcdd5faa1f3f1b0395dfe40adf352f2\n",
            "  Preparing metadata (setup.py) ... \u001b[?25l\u001b[?25hdone\n",
            "Collecting importlib\n",
            "  Downloading importlib-1.0.4.zip (7.1 kB)\n",
            "  Preparing metadata (setup.py) ... \u001b[?25l\u001b[?25hdone\n",
            "Requirement already satisfied: numpy in /usr/local/lib/python3.8/dist-packages (from d2go==0.0.1b20230219) (1.21.6)\n",
            "Requirement already satisfied: Pillow in /usr/local/lib/python3.8/dist-packages (from d2go==0.0.1b20230219) (7.1.2)\n",
            "Collecting mock\n",
            "  Downloading mock-5.0.1-py3-none-any.whl (30 kB)\n",
            "Requirement already satisfied: torch in /usr/local/lib/python3.8/dist-packages (from d2go==0.0.1b20230219) (1.13.1+cu116)\n",
            "Collecting pytorch-lightning==1.8.6\n",
            "  Downloading pytorch_lightning-1.8.6-py3-none-any.whl (800 kB)\n",
            "\u001b[2K     \u001b[90m━━━━━━━━━━━━━━━━━━━━━━━━━━━━━━━━━━━━━━\u001b[0m \u001b[32m800.3/800.3 KB\u001b[0m \u001b[31m57.5 MB/s\u001b[0m eta \u001b[36m0:00:00\u001b[0m\n",
            "\u001b[?25hRequirement already satisfied: opencv-python in /usr/local/lib/python3.8/dist-packages (from d2go==0.0.1b20230219) (4.6.0.66)\n",
            "Collecting parameterized\n",
            "  Downloading parameterized-0.8.1-py2.py3-none-any.whl (26 kB)\n",
            "Collecting protobuf==3.20.2\n",
            "  Downloading protobuf-3.20.2-cp38-cp38-manylinux_2_5_x86_64.manylinux1_x86_64.whl (1.0 MB)\n",
            "\u001b[2K     \u001b[90m━━━━━━━━━━━━━━━━━━━━━━━━━━━━━━━━━━━━━━━━\u001b[0m \u001b[32m1.0/1.0 MB\u001b[0m \u001b[31m78.8 MB/s\u001b[0m eta \u001b[36m0:00:00\u001b[0m\n",
            "\u001b[?25hCollecting lightning-utilities!=0.4.0,>=0.3.0\n",
            "  Downloading lightning_utilities-0.6.0.post0-py3-none-any.whl (18 kB)\n",
            "Requirement already satisfied: typing-extensions>=4.0.0 in /usr/local/lib/python3.8/dist-packages (from pytorch-lightning==1.8.6->d2go==0.0.1b20230219) (4.5.0)\n",
            "Collecting tensorboardX>=2.2\n",
            "  Downloading tensorboardX-2.6-py2.py3-none-any.whl (114 kB)\n",
            "\u001b[2K     \u001b[90m━━━━━━━━━━━━━━━━━━━━━━━━━━━━━━━━━━━━━━━\u001b[0m \u001b[32m114.5/114.5 KB\u001b[0m \u001b[31m5.5 MB/s\u001b[0m eta \u001b[36m0:00:00\u001b[0m\n",
            "\u001b[?25hRequirement already satisfied: PyYAML>=5.4 in /usr/local/lib/python3.8/dist-packages (from pytorch-lightning==1.8.6->d2go==0.0.1b20230219) (6.0)\n",
            "Requirement already satisfied: tqdm>=4.57.0 in /usr/local/lib/python3.8/dist-packages (from pytorch-lightning==1.8.6->d2go==0.0.1b20230219) (4.64.1)\n",
            "Requirement already satisfied: packaging>=17.0 in /usr/local/lib/python3.8/dist-packages (from pytorch-lightning==1.8.6->d2go==0.0.1b20230219) (23.0)\n",
            "Requirement already satisfied: fsspec[http]>2021.06.0 in /usr/local/lib/python3.8/dist-packages (from pytorch-lightning==1.8.6->d2go==0.0.1b20230219) (2023.1.0)\n",
            "Collecting torchmetrics>=0.7.0\n",
            "  Downloading torchmetrics-0.11.1-py3-none-any.whl (517 kB)\n",
            "\u001b[2K     \u001b[90m━━━━━━━━━━━━━━━━━━━━━━━━━━━━━━━━━━━━━━\u001b[0m \u001b[32m517.2/517.2 KB\u001b[0m \u001b[31m45.6 MB/s\u001b[0m eta \u001b[36m0:00:00\u001b[0m\n",
            "\u001b[?25hRequirement already satisfied: requests in /usr/local/lib/python3.8/dist-packages (from fsspec[http]>2021.06.0->pytorch-lightning==1.8.6->d2go==0.0.1b20230219) (2.25.1)\n",
            "Requirement already satisfied: aiohttp!=4.0.0a0,!=4.0.0a1 in /usr/local/lib/python3.8/dist-packages (from fsspec[http]>2021.06.0->pytorch-lightning==1.8.6->d2go==0.0.1b20230219) (3.8.4)\n",
            "Requirement already satisfied: aiosignal>=1.1.2 in /usr/local/lib/python3.8/dist-packages (from aiohttp!=4.0.0a0,!=4.0.0a1->fsspec[http]>2021.06.0->pytorch-lightning==1.8.6->d2go==0.0.1b20230219) (1.3.1)\n",
            "Requirement already satisfied: yarl<2.0,>=1.0 in /usr/local/lib/python3.8/dist-packages (from aiohttp!=4.0.0a0,!=4.0.0a1->fsspec[http]>2021.06.0->pytorch-lightning==1.8.6->d2go==0.0.1b20230219) (1.8.2)\n",
            "Requirement already satisfied: multidict<7.0,>=4.5 in /usr/local/lib/python3.8/dist-packages (from aiohttp!=4.0.0a0,!=4.0.0a1->fsspec[http]>2021.06.0->pytorch-lightning==1.8.6->d2go==0.0.1b20230219) (6.0.4)\n",
            "Requirement already satisfied: frozenlist>=1.1.1 in /usr/local/lib/python3.8/dist-packages (from aiohttp!=4.0.0a0,!=4.0.0a1->fsspec[http]>2021.06.0->pytorch-lightning==1.8.6->d2go==0.0.1b20230219) (1.3.3)\n",
            "Requirement already satisfied: charset-normalizer<4.0,>=2.0 in /usr/local/lib/python3.8/dist-packages (from aiohttp!=4.0.0a0,!=4.0.0a1->fsspec[http]>2021.06.0->pytorch-lightning==1.8.6->d2go==0.0.1b20230219) (3.0.1)\n",
            "Requirement already satisfied: async-timeout<5.0,>=4.0.0a3 in /usr/local/lib/python3.8/dist-packages (from aiohttp!=4.0.0a0,!=4.0.0a1->fsspec[http]>2021.06.0->pytorch-lightning==1.8.6->d2go==0.0.1b20230219) (4.0.2)\n",
            "Requirement already satisfied: attrs>=17.3.0 in /usr/local/lib/python3.8/dist-packages (from aiohttp!=4.0.0a0,!=4.0.0a1->fsspec[http]>2021.06.0->pytorch-lightning==1.8.6->d2go==0.0.1b20230219) (22.2.0)\n",
            "Requirement already satisfied: certifi>=2017.4.17 in /usr/local/lib/python3.8/dist-packages (from requests->fsspec[http]>2021.06.0->pytorch-lightning==1.8.6->d2go==0.0.1b20230219) (2022.12.7)\n",
            "Requirement already satisfied: urllib3<1.27,>=1.21.1 in /usr/local/lib/python3.8/dist-packages (from requests->fsspec[http]>2021.06.0->pytorch-lightning==1.8.6->d2go==0.0.1b20230219) (1.24.3)\n",
            "Requirement already satisfied: chardet<5,>=3.0.2 in /usr/local/lib/python3.8/dist-packages (from requests->fsspec[http]>2021.06.0->pytorch-lightning==1.8.6->d2go==0.0.1b20230219) (4.0.0)\n",
            "Requirement already satisfied: idna<3,>=2.5 in /usr/local/lib/python3.8/dist-packages (from requests->fsspec[http]>2021.06.0->pytorch-lightning==1.8.6->d2go==0.0.1b20230219) (2.10)\n",
            "Building wheels for collected packages: d2go, importlib\n",
            "  Building wheel for d2go (setup.py) ... \u001b[?25l\u001b[?25hdone\n",
            "  Created wheel for d2go: filename=d2go-0.0.1b20230219-py3-none-any.whl size=358304 sha256=ffbc400323120bb5462fa8781f12ac83297f69353d48bc6682d1daa72a85aca3\n",
            "  Stored in directory: /tmp/pip-ephem-wheel-cache-688kebcu/wheels/2c/2f/9f/608870f0646f6586f2efd0cb2060f9fa5bc5c20c11deda70b2\n",
            "  Building wheel for importlib (setup.py) ... \u001b[?25l\u001b[?25hdone\n",
            "  Created wheel for importlib: filename=importlib-1.0.4-py3-none-any.whl size=5874 sha256=96f0654bf9d77a7ba0a6779ee9fa2c5c34265cd946472b738774317e9b200095\n",
            "  Stored in directory: /root/.cache/pip/wheels/bb/1e/4d/b9e2665ab36264acf947eab5715b2e1ab4fd1649adcb96785d\n",
            "Successfully built d2go importlib\n",
            "Installing collected packages: parameterized, importlib, protobuf, mock, lightning-utilities, torchmetrics, tensorboardX, pytorch-lightning, d2go\n",
            "  Attempting uninstall: protobuf\n",
            "    Found existing installation: protobuf 3.19.6\n",
            "    Uninstalling protobuf-3.19.6:\n",
            "      Successfully uninstalled protobuf-3.19.6\n",
            "\u001b[31mERROR: pip's dependency resolver does not currently take into account all the packages that are installed. This behaviour is the source of the following dependency conflicts.\n",
            "tensorflow 2.11.0 requires protobuf<3.20,>=3.9.2, but you have protobuf 3.20.2 which is incompatible.\u001b[0m\u001b[31m\n",
            "\u001b[0mSuccessfully installed d2go-0.0.1b20230219 importlib-1.0.4 lightning-utilities-0.6.0.post0 mock-5.0.1 parameterized-0.8.1 protobuf-3.20.2 pytorch-lightning-1.8.6 tensorboardX-2.6 torchmetrics-0.11.1\n"
          ]
        }
      ],
      "source": [
        "!python -m pip install \"git+https://github.com/facebookresearch/d2go.git\""
      ]
    },
    {
      "cell_type": "markdown",
      "metadata": {
        "id": "MrhUJhUtzKy_"
      },
      "source": [
        "# Quick Fixes"
      ]
    },
    {
      "cell_type": "markdown",
      "metadata": {
        "id": "UldzDMxJzWtB"
      },
      "source": [
        "### configs folder"
      ]
    },
    {
      "cell_type": "code",
      "execution_count": null,
      "metadata": {
        "colab": {
          "base_uri": "https://localhost:8080/"
        },
        "id": "zLuRs1ib4NCE",
        "outputId": "9c67f80d-5b06-4c93-b80a-626a8d8e0f30"
      },
      "outputs": [
        {
          "name": "stdout",
          "output_type": "stream",
          "text": [
            "d2go                          0.0.1b20230219         /usr/local/lib/python3.8/dist-packages pip\n"
          ]
        }
      ],
      "source": [
        "!pip list -v | grep d2go"
      ]
    },
    {
      "cell_type": "code",
      "execution_count": null,
      "metadata": {
        "colab": {
          "base_uri": "https://localhost:8080/"
        },
        "id": "m2fSCMnKM3Ga",
        "outputId": "8fa933bf-b9d3-43de-9cb6-b982f685aad9"
      },
      "outputs": [
        {
          "name": "stdout",
          "output_type": "stream",
          "text": [
            "checkpoint\tevaluation\tmodeling     quantization  tests\n",
            "config\t\texport\t\tmodel_zoo    registry\t   tools\n",
            "data\t\tinitializer.py\toptimizer    runner\t   trainer\n",
            "distributed.py\t__init__.py\t__pycache__  setup.py\t   utils\n"
          ]
        }
      ],
      "source": [
        "!ls /usr/local/lib/python3.9/dist-packages/d2go"
      ]
    },
    {
      "cell_type": "code",
      "execution_count": null,
      "metadata": {
        "colab": {
          "base_uri": "https://localhost:8080/"
        },
        "id": "jDTr2wVYM1TC",
        "outputId": "4876bb62-35f0-407f-be7e-c94c37a476d2"
      },
      "outputs": [
        {
          "name": "stdout",
          "output_type": "stream",
          "text": [
            "Cloning into 'd2go_repo'...\n",
            "remote: Enumerating objects: 4343, done.\u001b[K\n",
            "remote: Counting objects: 100% (205/205), done.\u001b[K\n",
            "remote: Compressing objects: 100% (99/99), done.\u001b[K\n",
            "remote: Total 4343 (delta 117), reused 187 (delta 106), pack-reused 4138\u001b[K\n",
            "Receiving objects: 100% (4343/4343), 2.95 MiB | 2.12 MiB/s, done.\n",
            "Resolving deltas: 100% (3047/3047), done.\n"
          ]
        }
      ],
      "source": [
        "!git clone https://github.com/facebookresearch/d2go.git d2go_repo"
      ]
    },
    {
      "cell_type": "code",
      "execution_count": null,
      "metadata": {
        "id": "ulbDEjS2L43u"
      },
      "outputs": [],
      "source": [
        "d2go_dir = \"/usr/local/lib/python3.9/dist-packages/d2go\" \n",
        "configs_dir = f\"{d2go_dir}/configs\"\n",
        "import os\n",
        "os.makedirs(configs_dir, exist_ok=True)"
      ]
    },
    {
      "cell_type": "code",
      "execution_count": null,
      "metadata": {
        "colab": {
          "base_uri": "https://localhost:8080/"
        },
        "id": "k-5NZHQkN1Vm",
        "outputId": "0be7e072-e4e8-46ba-e1ab-617210a9084d"
      },
      "outputs": [
        {
          "name": "stdout",
          "output_type": "stream",
          "text": [
            "faster_rcnn_fbnetv3a_C4_FSDP.yaml    keypoint_rcnn_fbnetv3a_dsmask_C4.yaml\n",
            "faster_rcnn_fbnetv3a_C4_LSJ.yaml     mask_rcnn_fbnetv3a_C4.yaml\n",
            "faster_rcnn_fbnetv3a_C4.yaml\t     mask_rcnn_fbnetv3a_dsmask_C4.yaml\n",
            "faster_rcnn_fbnetv3a_dsmask_C4.yaml  mask_rcnn_fbnetv3g_fpn.yaml\n",
            "faster_rcnn_fbnetv3g_fpn.yaml\t     qat_faster_rcnn_fbnetv3a_C4.yaml\n"
          ]
        }
      ],
      "source": [
        "!ls d2go_repo/configs/"
      ]
    },
    {
      "cell_type": "code",
      "execution_count": null,
      "metadata": {
        "id": "2t4eacoUNHGt"
      },
      "outputs": [],
      "source": [
        "!cp -r d2go_repo/configs {d2go_dir}"
      ]
    },
    {
      "cell_type": "code",
      "execution_count": null,
      "metadata": {
        "colab": {
          "base_uri": "https://localhost:8080/"
        },
        "id": "Db84CIC2L0Rl",
        "outputId": "f9d150bb-c52c-4afc-f235-81c68d50be29"
      },
      "outputs": [
        {
          "name": "stdout",
          "output_type": "stream",
          "text": [
            "faster_rcnn_fbnetv3a_C4_FSDP.yaml    keypoint_rcnn_fbnetv3a_dsmask_C4.yaml\n",
            "faster_rcnn_fbnetv3a_C4_LSJ.yaml     mask_rcnn_fbnetv3a_C4.yaml\n",
            "faster_rcnn_fbnetv3a_C4.yaml\t     mask_rcnn_fbnetv3a_dsmask_C4.yaml\n",
            "faster_rcnn_fbnetv3a_dsmask_C4.yaml  mask_rcnn_fbnetv3g_fpn.yaml\n",
            "faster_rcnn_fbnetv3g_fpn.yaml\t     qat_faster_rcnn_fbnetv3a_C4.yaml\n"
          ]
        }
      ],
      "source": [
        "!ls \"/usr/local/lib/python3.9/dist-packages/d2go/configs\" "
      ]
    },
    {
      "cell_type": "markdown",
      "metadata": {
        "id": "iziwjdPfzbBx"
      },
      "source": [
        "### model_zoo"
      ]
    },
    {
      "attachments": {},
      "cell_type": "markdown",
      "metadata": {
        "id": "g6YZWJQmzeT5"
      },
      "source": [
        "- Step 1: Click on this link (or locate it using this directory)\n",
        "/usr/local/lib/python3.9/dist-packages/d2go/trainer/fsdp.py\n",
        "- Step 2: Change line 16: `from torch.ao.pruning import fqn_to_module` to `from torch.ao.sparsity.sparsifier.utils import fqn_to_module`\n",
        "- Step 3: Save the change"
      ]
    },
    {
      "cell_type": "markdown",
      "metadata": {
        "id": "Cv2phVkyQ7Db"
      },
      "source": [
        "## Dataset"
      ]
    },
    {
      "cell_type": "code",
      "execution_count": null,
      "metadata": {
        "id": "2lGJC0nn3Ow-"
      },
      "outputs": [],
      "source": [
        "!wget -qq https://github.com/PacktPublishing/Hands-On-Computer-Vision-with-Detectron2/raw/main/datasets/braintumors_coco.zip\n",
        "!unzip -qq braintumors_coco.zip"
      ]
    },
    {
      "cell_type": "code",
      "execution_count": null,
      "metadata": {
        "id": "1XM7bJXBi8yJ"
      },
      "outputs": [],
      "source": [
        "from detectron2.utils.logger import setup_logger\n",
        "logger = setup_logger()\n",
        "from detectron2.data.datasets import register_coco_instances"
      ]
    },
    {
      "cell_type": "code",
      "execution_count": null,
      "metadata": {
        "id": "tPwzbXCHi9aA"
      },
      "outputs": [],
      "source": [
        "# Some configurations\n",
        "name_ds = \"braintumors_coco\"\n",
        "name_ds_train = name_ds + \"_train\"\n",
        "name_ds_test = name_ds + \"_test\"\n",
        "image_root_train = name_ds + \"/train\"\n",
        "image_root_test = name_ds + \"/test\"\n",
        "af = \"_annotations.coco.json\"\n",
        "json_file_train = name_ds + \"/train/\" + af\n",
        "json_file_test = name_ds + \"/test/\" + af\n",
        "\n",
        "# Register datasets\n",
        "## train dataset\n",
        "register_coco_instances(\n",
        "    name = name_ds_train,\n",
        "    metadata = {},\n",
        "    json_file = json_file_train,\n",
        "    image_root = image_root_train\n",
        "    )\n",
        "## test dataset\n",
        "register_coco_instances(\n",
        "    name = name_ds_test,\n",
        "    metadata = {},\n",
        "    json_file = json_file_test,\n",
        "    image_root = image_root_test\n",
        "    )"
      ]
    },
    {
      "cell_type": "markdown",
      "metadata": {
        "id": "YdSnaK5sjW9Q"
      },
      "source": [
        "## Training"
      ]
    },
    {
      "cell_type": "code",
      "execution_count": null,
      "metadata": {
        "id": "v2q0-MxnjAMH"
      },
      "outputs": [],
      "source": [
        "from d2go.model_zoo import model_zoo\n",
        "from d2go.runner import GeneralizedRCNNRunner\n",
        "selected_model = \"faster_rcnn_fbnetv3a_C4.yaml\"\n",
        "nc = 2\n",
        "output_dir = './output'\n",
        "model_url = selected_model\n",
        "runner = GeneralizedRCNNRunner()\n",
        "\n",
        "cfg = runner.get_default_cfg()\n",
        "cfg.merge_from_file(model_zoo.get_config_file(model_url))\n",
        "cfg.MODEL_EMA.ENABLED = False\n",
        "cfg.DATASETS.TRAIN = (name_ds_train,)\n",
        "cfg.DATASETS.TEST = (name_ds_test,)\n",
        "cfg.DATALOADER.NUM_WORKERS = 2\n",
        "cfg.MODEL.WEIGHTS = model_zoo.get_checkpoint_url(model_url)\n",
        "cfg.MODEL.DEVICE = \"cpu\" if ('CI' in os.environ) else \"cuda\"\n",
        "cfg.SOLVER.IMS_PER_BATCH = 2\n",
        "cfg.SOLVER.BASE_LR = 0.00025 \n",
        "cfg.SOLVER.MAX_ITER = 5 if ('CI' in os.environ) else 5000\n",
        "cfg.SOLVER.STEPS = []\n",
        "cfg.MODEL.ROI_HEADS.BATCH_SIZE_PER_IMAGE = 128\n",
        "cfg.MODEL.ROI_HEADS.NUM_CLASSES = nc\n",
        "cfg.OUTPUT_DIR = output_dir\n",
        "os.makedirs(cfg.OUTPUT_DIR, exist_ok=True)"
      ]
    },
    {
      "cell_type": "code",
      "execution_count": null,
      "metadata": {
        "colab": {
          "base_uri": "https://localhost:8080/"
        },
        "id": "hn6s72SelXaa",
        "outputId": "08e4de77-63a2-4293-d921-387175a39c76"
      },
      "outputs": [
        {
          "name": "stderr",
          "output_type": "stream",
          "text": [
            "WARNING:mobile_cv.arch.utils.helper:Arguments ['width_divisor', 'dw_skip_bnrelu', 'zero_last_bn_gamma'] skipped for op Conv2d\n"
          ]
        },
        {
          "name": "stdout",
          "output_type": "stream",
          "text": [
            "[02/19 22:56:13 d2.checkpoint.detection_checkpoint]: [DetectionCheckpointer] Loading from https://mobile-cv.s3-us-west-2.amazonaws.com/d2go/models/268421013/model_final.pth ...\n"
          ]
        },
        {
          "name": "stderr",
          "output_type": "stream",
          "text": [
            "model_final.pth: 74.3MB [00:06, 11.8MB/s]                            \n",
            "WARNING:fvcore.common.checkpoint:Skip loading parameter 'roi_heads.box_predictor.cls_score.weight' to the model due to incompatible shapes: (81, 200) in the checkpoint but (3, 200) in the model! You might want to double check if this is expected.\n",
            "WARNING:fvcore.common.checkpoint:Skip loading parameter 'roi_heads.box_predictor.cls_score.bias' to the model due to incompatible shapes: (81,) in the checkpoint but (3,) in the model! You might want to double check if this is expected.\n",
            "WARNING:fvcore.common.checkpoint:Skip loading parameter 'roi_heads.box_predictor.bbox_pred.weight' to the model due to incompatible shapes: (320, 200) in the checkpoint but (8, 200) in the model! You might want to double check if this is expected.\n",
            "WARNING:fvcore.common.checkpoint:Skip loading parameter 'roi_heads.box_predictor.bbox_pred.bias' to the model due to incompatible shapes: (320,) in the checkpoint but (8,) in the model! You might want to double check if this is expected.\n",
            "WARNING:fvcore.common.checkpoint:Some model parameters or buffers are not found in the checkpoint:\n",
            "roi_heads.box_predictor.bbox_pred.{bias, weight}\n",
            "roi_heads.box_predictor.cls_score.{bias, weight}\n",
            "WARNING:fvcore.common.checkpoint:The checkpoint state_dict contains keys that are not used by the model:\n",
            "  roi_heads.mask_head.feature_extractor.0.fbnetv2_0_0.pw.conv.weight\n",
            "  roi_heads.mask_head.feature_extractor.0.fbnetv2_0_0.pw.bn.{bias, num_batches_tracked, running_mean, running_var, weight}\n",
            "  roi_heads.mask_head.feature_extractor.0.fbnetv2_0_0.dw.conv.weight\n",
            "  roi_heads.mask_head.feature_extractor.0.fbnetv2_0_0.pwl.conv.weight\n",
            "  roi_heads.mask_head.feature_extractor.0.fbnetv2_0_0.pwl.bn.{bias, num_batches_tracked, running_mean, running_var, weight}\n",
            "  roi_heads.mask_head.feature_extractor.0.fbnetv2_0_1.pw.conv.weight\n",
            "  roi_heads.mask_head.feature_extractor.0.fbnetv2_0_1.pw.bn.{bias, num_batches_tracked, running_mean, running_var, weight}\n",
            "  roi_heads.mask_head.feature_extractor.0.fbnetv2_0_1.dw.conv.weight\n",
            "  roi_heads.mask_head.feature_extractor.0.fbnetv2_0_1.pwl.conv.weight\n",
            "  roi_heads.mask_head.feature_extractor.0.fbnetv2_0_1.pwl.bn.{bias, num_batches_tracked, running_mean, running_var, weight}\n",
            "  roi_heads.mask_head.feature_extractor.0.fbnetv2_0_2.pw.conv.weight\n",
            "  roi_heads.mask_head.feature_extractor.0.fbnetv2_0_2.pw.bn.{bias, num_batches_tracked, running_mean, running_var, weight}\n",
            "  roi_heads.mask_head.feature_extractor.0.fbnetv2_0_2.dw.conv.weight\n",
            "  roi_heads.mask_head.feature_extractor.0.fbnetv2_0_2.pwl.conv.weight\n",
            "  roi_heads.mask_head.feature_extractor.0.fbnetv2_0_2.pwl.bn.{bias, num_batches_tracked, running_mean, running_var, weight}\n",
            "  roi_heads.mask_head.feature_extractor.0.fbnetv2_0_3.pw.conv.weight\n",
            "  roi_heads.mask_head.feature_extractor.0.fbnetv2_0_3.pw.bn.{bias, num_batches_tracked, running_mean, running_var, weight}\n",
            "  roi_heads.mask_head.feature_extractor.0.fbnetv2_0_3.dw.conv.weight\n",
            "  roi_heads.mask_head.feature_extractor.0.fbnetv2_0_3.pwl.conv.weight\n",
            "  roi_heads.mask_head.feature_extractor.0.fbnetv2_0_3.pwl.bn.{bias, num_batches_tracked, running_mean, running_var, weight}\n",
            "  roi_heads.mask_head.feature_extractor.0.fbnetv2_0_4.pw.conv.weight\n",
            "  roi_heads.mask_head.feature_extractor.0.fbnetv2_0_4.pw.bn.{bias, num_batches_tracked, running_mean, running_var, weight}\n",
            "  roi_heads.mask_head.feature_extractor.0.fbnetv2_0_4.dw.conv.weight\n",
            "  roi_heads.mask_head.feature_extractor.0.fbnetv2_0_4.pwl.conv.weight\n",
            "  roi_heads.mask_head.feature_extractor.0.fbnetv2_0_4.pwl.bn.{bias, num_batches_tracked, running_mean, running_var, weight}\n",
            "  roi_heads.mask_head.predictor.mask_fcn_logits.{bias, weight}\n"
          ]
        },
        {
          "name": "stdout",
          "output_type": "stream",
          "text": [
            "[02/19 22:56:20 d2.data.datasets.coco]: Loaded 878 images in COCO format from braintumors_coco/train/_annotations.coco.json\n",
            "[02/19 22:56:20 d2.data.build]: Removed 0 images with no usable annotations. 878 images left.\n",
            "[02/19 22:56:20 d2.data.build]: Distribution of instances among all 2 categories:\n",
            "|  category  | #instances   |  category  | #instances   |\n",
            "|:----------:|:-------------|:----------:|:-------------|\n",
            "|  negative  | 437          |  positive  | 488          |\n",
            "|            |              |            |              |\n",
            "|   total    | 925          |            |              |\n",
            "[02/19 22:56:20 d2.data.build]: Using training sampler TrainingSampler\n",
            "[02/19 22:56:20 d2.data.common]: Serializing the dataset using: <class 'mobile_cv.torch.utils_pytorch.shareables.SharedList'>\n",
            "[02/19 22:56:23 d2.engine.train_loop]: Starting training from iteration 0\n"
          ]
        },
        {
          "name": "stderr",
          "output_type": "stream",
          "text": [
            "/usr/local/lib/python3.8/dist-packages/torch/functional.py:504: UserWarning: torch.meshgrid: in an upcoming release, it will be required to pass the indexing argument. (Triggered internally at ../aten/src/ATen/native/TensorShape.cpp:3190.)\n",
            "  return _VF.meshgrid(tensors, **kwargs)  # type: ignore[attr-defined]\n"
          ]
        },
        {
          "name": "stdout",
          "output_type": "stream",
          "text": [
            "[02/19 22:56:39 d2.utils.events]:  eta: 0:11:37  iter: 19  total_loss: 1.361  loss_cls: 1.21  loss_box_reg: 0.1162  loss_rpn_cls: 0.03763  loss_rpn_loc: 0.002496  time: 0.1307  last_time: 0.1072  data_time: 0.0314  last_data_time: 0.0048   lr: 4.5417e-06  max_mem: 445M\n",
            "[02/19 22:56:41 d2.utils.events]:  eta: 0:08:38  iter: 39  total_loss: 1.357  loss_cls: 1.18  loss_box_reg: 0.1335  loss_rpn_cls: 0.0435  loss_rpn_loc: 0.002261  time: 0.1174  last_time: 0.1004  data_time: 0.0128  last_data_time: 0.0047   lr: 9.0592e-06  max_mem: 445M\n",
            "[02/19 22:56:43 d2.utils.events]:  eta: 0:08:34  iter: 59  total_loss: 1.242  loss_cls: 1.121  loss_box_reg: 0.07912  loss_rpn_cls: 0.02525  loss_rpn_loc: 0.002169  time: 0.1138  last_time: 0.0982  data_time: 0.0145  last_data_time: 0.0042   lr: 1.3577e-05  max_mem: 445M\n",
            "[02/19 22:56:45 d2.utils.events]:  eta: 0:08:27  iter: 79  total_loss: 1.165  loss_cls: 1.034  loss_box_reg: 0.09915  loss_rpn_cls: 0.02946  loss_rpn_loc: 0.00252  time: 0.1116  last_time: 0.0962  data_time: 0.0109  last_data_time: 0.0047   lr: 1.8094e-05  max_mem: 445M\n",
            "[02/19 22:56:48 d2.utils.events]:  eta: 0:08:21  iter: 99  total_loss: 1.07  loss_cls: 0.9259  loss_box_reg: 0.1172  loss_rpn_cls: 0.03714  loss_rpn_loc: 0.001993  time: 0.1103  last_time: 0.0953  data_time: 0.0133  last_data_time: 0.0044   lr: 2.2612e-05  max_mem: 445M\n",
            "[02/19 22:56:50 d2.utils.events]:  eta: 0:08:23  iter: 119  total_loss: 0.9309  loss_cls: 0.8159  loss_box_reg: 0.103  loss_rpn_cls: 0.02388  loss_rpn_loc: 0.001992  time: 0.1132  last_time: 0.1377  data_time: 0.0157  last_data_time: 0.0042   lr: 2.7129e-05  max_mem: 445M\n",
            "[02/19 22:56:53 d2.utils.events]:  eta: 0:08:22  iter: 139  total_loss: 0.8365  loss_cls: 0.7007  loss_box_reg: 0.1042  loss_rpn_cls: 0.02382  loss_rpn_loc: 0.002082  time: 0.1157  last_time: 0.1006  data_time: 0.0165  last_data_time: 0.0106   lr: 3.1647e-05  max_mem: 445M\n",
            "[02/19 22:56:55 d2.utils.events]:  eta: 0:08:16  iter: 159  total_loss: 0.6814  loss_cls: 0.5977  loss_box_reg: 0.06912  loss_rpn_cls: 0.01752  loss_rpn_loc: 0.003092  time: 0.1142  last_time: 0.1004  data_time: 0.0112  last_data_time: 0.0110   lr: 3.6164e-05  max_mem: 445M\n",
            "[02/19 22:56:57 d2.utils.events]:  eta: 0:08:17  iter: 179  total_loss: 0.6491  loss_cls: 0.5108  loss_box_reg: 0.1149  loss_rpn_cls: 0.01757  loss_rpn_loc: 0.00217  time: 0.1141  last_time: 0.1034  data_time: 0.0085  last_data_time: 0.0046   lr: 4.0682e-05  max_mem: 445M\n",
            "[02/19 22:57:00 d2.utils.events]:  eta: 0:08:15  iter: 199  total_loss: 0.5701  loss_cls: 0.441  loss_box_reg: 0.1087  loss_rpn_cls: 0.01465  loss_rpn_loc: 0.002387  time: 0.1155  last_time: 0.1005  data_time: 0.0102  last_data_time: 0.0105   lr: 4.52e-05  max_mem: 445M\n",
            "[02/19 22:57:02 d2.utils.events]:  eta: 0:08:13  iter: 219  total_loss: 0.486  loss_cls: 0.3746  loss_box_reg: 0.1016  loss_rpn_cls: 0.01274  loss_rpn_loc: 0.00166  time: 0.1143  last_time: 0.0975  data_time: 0.0098  last_data_time: 0.0084   lr: 4.9717e-05  max_mem: 445M\n",
            "[02/19 22:57:04 d2.utils.events]:  eta: 0:08:12  iter: 239  total_loss: 0.4525  loss_cls: 0.3273  loss_box_reg: 0.1071  loss_rpn_cls: 0.01172  loss_rpn_loc: 0.001915  time: 0.1156  last_time: 0.1357  data_time: 0.0133  last_data_time: 0.0135   lr: 5.4235e-05  max_mem: 445M\n",
            "[02/19 22:57:07 d2.utils.events]:  eta: 0:08:12  iter: 259  total_loss: 0.3896  loss_cls: 0.282  loss_box_reg: 0.09087  loss_rpn_cls: 0.01311  loss_rpn_loc: 0.002364  time: 0.1162  last_time: 0.1027  data_time: 0.0088  last_data_time: 0.0046   lr: 5.8752e-05  max_mem: 445M\n",
            "[02/19 22:57:09 d2.utils.events]:  eta: 0:08:09  iter: 279  total_loss: 0.3872  loss_cls: 0.2539  loss_box_reg: 0.1146  loss_rpn_cls: 0.01621  loss_rpn_loc: 0.002692  time: 0.1152  last_time: 0.0943  data_time: 0.0081  last_data_time: 0.0042   lr: 6.327e-05  max_mem: 445M\n",
            "[02/19 22:57:11 d2.utils.events]:  eta: 0:08:06  iter: 299  total_loss: 0.3792  loss_cls: 0.2281  loss_box_reg: 0.1193  loss_rpn_cls: 0.009641  loss_rpn_loc: 0.002722  time: 0.1143  last_time: 0.0968  data_time: 0.0086  last_data_time: 0.0039   lr: 6.7787e-05  max_mem: 445M\n",
            "[02/19 22:57:13 d2.utils.events]:  eta: 0:08:03  iter: 319  total_loss: 0.3222  loss_cls: 0.2002  loss_box_reg: 0.1012  loss_rpn_cls: 0.01161  loss_rpn_loc: 0.00217  time: 0.1134  last_time: 0.1031  data_time: 0.0082  last_data_time: 0.0093   lr: 7.2305e-05  max_mem: 445M\n",
            "[02/19 22:57:15 d2.utils.events]:  eta: 0:08:00  iter: 339  total_loss: 0.3032  loss_cls: 0.1824  loss_box_reg: 0.1073  loss_rpn_cls: 0.01287  loss_rpn_loc: 0.002172  time: 0.1127  last_time: 0.1025  data_time: 0.0086  last_data_time: 0.0085   lr: 7.6822e-05  max_mem: 445M\n",
            "[02/19 22:57:17 d2.utils.events]:  eta: 0:07:59  iter: 359  total_loss: 0.2997  loss_cls: 0.1711  loss_box_reg: 0.1107  loss_rpn_cls: 0.008508  loss_rpn_loc: 0.001901  time: 0.1132  last_time: 0.1347  data_time: 0.0112  last_data_time: 0.0123   lr: 8.134e-05  max_mem: 445M\n",
            "[02/19 22:57:20 d2.utils.events]:  eta: 0:07:58  iter: 379  total_loss: 0.2867  loss_cls: 0.1514  loss_box_reg: 0.1173  loss_rpn_cls: 0.009415  loss_rpn_loc: 0.002212  time: 0.1142  last_time: 0.0983  data_time: 0.0096  last_data_time: 0.0065   lr: 8.5857e-05  max_mem: 445M\n",
            "[02/19 22:57:22 d2.utils.events]:  eta: 0:07:55  iter: 399  total_loss: 0.273  loss_cls: 0.1367  loss_box_reg: 0.127  loss_rpn_cls: 0.00912  loss_rpn_loc: 0.00189  time: 0.1136  last_time: 0.1024  data_time: 0.0079  last_data_time: 0.0134   lr: 9.0375e-05  max_mem: 445M\n",
            "[02/19 22:57:24 d2.utils.events]:  eta: 0:07:52  iter: 419  total_loss: 0.236  loss_cls: 0.1307  loss_box_reg: 0.08562  loss_rpn_cls: 0.009914  loss_rpn_loc: 0.002523  time: 0.1129  last_time: 0.0972  data_time: 0.0072  last_data_time: 0.0047   lr: 9.4893e-05  max_mem: 445M\n",
            "[02/19 22:57:26 d2.utils.events]:  eta: 0:07:49  iter: 439  total_loss: 0.2425  loss_cls: 0.1316  loss_box_reg: 0.1049  loss_rpn_cls: 0.009855  loss_rpn_loc: 0.002212  time: 0.1123  last_time: 0.0986  data_time: 0.0074  last_data_time: 0.0052   lr: 9.941e-05  max_mem: 445M\n",
            "[02/19 22:57:28 d2.utils.events]:  eta: 0:07:47  iter: 459  total_loss: 0.2441  loss_cls: 0.1145  loss_box_reg: 0.1126  loss_rpn_cls: 0.008101  loss_rpn_loc: 0.002004  time: 0.1117  last_time: 0.0954  data_time: 0.0057  last_data_time: 0.0041   lr: 0.00010393  max_mem: 445M\n",
            "[02/19 22:57:30 d2.utils.events]:  eta: 0:07:45  iter: 479  total_loss: 0.2453  loss_cls: 0.1155  loss_box_reg: 0.1116  loss_rpn_cls: 0.009906  loss_rpn_loc: 0.002266  time: 0.1116  last_time: 0.1163  data_time: 0.0105  last_data_time: 0.0107   lr: 0.00010845  max_mem: 445M\n",
            "[02/19 22:57:33 d2.utils.events]:  eta: 0:07:44  iter: 499  total_loss: 0.2435  loss_cls: 0.1067  loss_box_reg: 0.1234  loss_rpn_cls: 0.007079  loss_rpn_loc: 0.002267  time: 0.1126  last_time: 0.1344  data_time: 0.0133  last_data_time: 0.0117   lr: 0.00011296  max_mem: 445M\n",
            "[02/19 22:57:35 d2.utils.events]:  eta: 0:07:42  iter: 519  total_loss: 0.2519  loss_cls: 0.1075  loss_box_reg: 0.136  loss_rpn_cls: 0.006605  loss_rpn_loc: 0.002276  time: 0.1127  last_time: 0.1054  data_time: 0.0084  last_data_time: 0.0171   lr: 0.00011748  max_mem: 445M\n",
            "[02/19 22:57:38 d2.utils.events]:  eta: 0:07:40  iter: 539  total_loss: 0.2204  loss_cls: 0.09731  loss_box_reg: 0.1226  loss_rpn_cls: 0.006591  loss_rpn_loc: 0.001593  time: 0.1124  last_time: 0.0985  data_time: 0.0095  last_data_time: 0.0074   lr: 0.000122  max_mem: 445M\n",
            "[02/19 22:57:40 d2.utils.events]:  eta: 0:07:38  iter: 559  total_loss: 0.2084  loss_cls: 0.08778  loss_box_reg: 0.1109  loss_rpn_cls: 0.006773  loss_rpn_loc: 0.001939  time: 0.1121  last_time: 0.1069  data_time: 0.0073  last_data_time: 0.0047   lr: 0.00012652  max_mem: 445M\n",
            "[02/19 22:57:42 d2.utils.events]:  eta: 0:07:36  iter: 579  total_loss: 0.1948  loss_cls: 0.08368  loss_box_reg: 0.1042  loss_rpn_cls: 0.006913  loss_rpn_loc: 0.002299  time: 0.1118  last_time: 0.1012  data_time: 0.0077  last_data_time: 0.0044   lr: 0.00013103  max_mem: 445M\n",
            "[02/19 22:57:44 d2.utils.events]:  eta: 0:07:34  iter: 599  total_loss: 0.2497  loss_cls: 0.08205  loss_box_reg: 0.1345  loss_rpn_cls: 0.00496  loss_rpn_loc: 0.00141  time: 0.1116  last_time: 0.1374  data_time: 0.0092  last_data_time: 0.0110   lr: 0.00013555  max_mem: 445M\n",
            "[02/19 22:57:47 d2.utils.events]:  eta: 0:07:32  iter: 619  total_loss: 0.2066  loss_cls: 0.07881  loss_box_reg: 0.1154  loss_rpn_cls: 0.007292  loss_rpn_loc: 0.002025  time: 0.1124  last_time: 0.1455  data_time: 0.0138  last_data_time: 0.0198   lr: 0.00014007  max_mem: 445M\n",
            "[02/19 22:57:49 d2.utils.events]:  eta: 0:07:30  iter: 639  total_loss: 0.2011  loss_cls: 0.07462  loss_box_reg: 0.1199  loss_rpn_cls: 0.004346  loss_rpn_loc: 0.001596  time: 0.1125  last_time: 0.1052  data_time: 0.0095  last_data_time: 0.0151   lr: 0.00014459  max_mem: 445M\n",
            "[02/19 22:57:51 d2.utils.events]:  eta: 0:07:28  iter: 659  total_loss: 0.2632  loss_cls: 0.09531  loss_box_reg: 0.1436  loss_rpn_cls: 0.005153  loss_rpn_loc: 0.001964  time: 0.1122  last_time: 0.1069  data_time: 0.0065  last_data_time: 0.0146   lr: 0.0001491  max_mem: 445M\n",
            "[02/19 22:57:53 d2.utils.events]:  eta: 0:07:26  iter: 679  total_loss: 0.2232  loss_cls: 0.07487  loss_box_reg: 0.1281  loss_rpn_cls: 0.004545  loss_rpn_loc: 0.001607  time: 0.1120  last_time: 0.1118  data_time: 0.0079  last_data_time: 0.0211   lr: 0.00015362  max_mem: 445M\n",
            "[02/19 22:57:55 d2.utils.events]:  eta: 0:07:23  iter: 699  total_loss: 0.1979  loss_cls: 0.07405  loss_box_reg: 0.1171  loss_rpn_cls: 0.005125  loss_rpn_loc: 0.001735  time: 0.1117  last_time: 0.0972  data_time: 0.0077  last_data_time: 0.0040   lr: 0.00015814  max_mem: 445M\n",
            "[02/19 22:57:57 d2.utils.events]:  eta: 0:07:21  iter: 719  total_loss: 0.1735  loss_cls: 0.07174  loss_box_reg: 0.08873  loss_rpn_cls: 0.004999  loss_rpn_loc: 0.002515  time: 0.1114  last_time: 0.0978  data_time: 0.0071  last_data_time: 0.0053   lr: 0.00016266  max_mem: 445M\n",
            "[02/19 22:58:00 d2.utils.events]:  eta: 0:07:19  iter: 739  total_loss: 0.1619  loss_cls: 0.06618  loss_box_reg: 0.08869  loss_rpn_cls: 0.005363  loss_rpn_loc: 0.001561  time: 0.1118  last_time: 0.1443  data_time: 0.0103  last_data_time: 0.0045   lr: 0.00016717  max_mem: 445M\n",
            "[02/19 22:58:02 d2.utils.events]:  eta: 0:07:17  iter: 759  total_loss: 0.1915  loss_cls: 0.07651  loss_box_reg: 0.1111  loss_rpn_cls: 0.005272  loss_rpn_loc: 0.001903  time: 0.1122  last_time: 0.0987  data_time: 0.0098  last_data_time: 0.0098   lr: 0.00017169  max_mem: 445M\n",
            "[02/19 22:58:04 d2.utils.events]:  eta: 0:07:15  iter: 779  total_loss: 0.1625  loss_cls: 0.06218  loss_box_reg: 0.09719  loss_rpn_cls: 0.005507  loss_rpn_loc: 0.002463  time: 0.1119  last_time: 0.1063  data_time: 0.0077  last_data_time: 0.0151   lr: 0.00017621  max_mem: 445M\n",
            "[02/19 22:58:06 d2.utils.events]:  eta: 0:07:13  iter: 799  total_loss: 0.1488  loss_cls: 0.06398  loss_box_reg: 0.08813  loss_rpn_cls: 0.004447  loss_rpn_loc: 0.001419  time: 0.1117  last_time: 0.0992  data_time: 0.0107  last_data_time: 0.0097   lr: 0.00018073  max_mem: 445M\n",
            "[02/19 22:58:08 d2.utils.events]:  eta: 0:07:11  iter: 819  total_loss: 0.1619  loss_cls: 0.06148  loss_box_reg: 0.09305  loss_rpn_cls: 0.006587  loss_rpn_loc: 0.001953  time: 0.1115  last_time: 0.0987  data_time: 0.0079  last_data_time: 0.0046   lr: 0.00018524  max_mem: 445M\n",
            "[02/19 22:58:11 d2.utils.events]:  eta: 0:07:09  iter: 839  total_loss: 0.192  loss_cls: 0.07359  loss_box_reg: 0.104  loss_rpn_cls: 0.004479  loss_rpn_loc: 0.001776  time: 0.1114  last_time: 0.1104  data_time: 0.0095  last_data_time: 0.0106   lr: 0.00018976  max_mem: 445M\n",
            "[02/19 22:58:13 d2.utils.events]:  eta: 0:07:07  iter: 859  total_loss: 0.1717  loss_cls: 0.06537  loss_box_reg: 0.09601  loss_rpn_cls: 0.00463  loss_rpn_loc: 0.001747  time: 0.1118  last_time: 0.1442  data_time: 0.0128  last_data_time: 0.0216   lr: 0.00019428  max_mem: 445M\n",
            "[02/19 22:58:16 d2.utils.events]:  eta: 0:07:06  iter: 879  total_loss: 0.1678  loss_cls: 0.0617  loss_box_reg: 0.09736  loss_rpn_cls: 0.003999  loss_rpn_loc: 0.001823  time: 0.1122  last_time: 0.1032  data_time: 0.0131  last_data_time: 0.0056   lr: 0.0001988  max_mem: 445M\n",
            "[02/19 22:58:18 d2.utils.events]:  eta: 0:07:03  iter: 899  total_loss: 0.1655  loss_cls: 0.06228  loss_box_reg: 0.08437  loss_rpn_cls: 0.004115  loss_rpn_loc: 0.002521  time: 0.1120  last_time: 0.1076  data_time: 0.0066  last_data_time: 0.0109   lr: 0.00020331  max_mem: 445M\n",
            "[02/19 22:58:20 d2.utils.events]:  eta: 0:07:01  iter: 919  total_loss: 0.1577  loss_cls: 0.06483  loss_box_reg: 0.08691  loss_rpn_cls: 0.004265  loss_rpn_loc: 0.002179  time: 0.1118  last_time: 0.1039  data_time: 0.0072  last_data_time: 0.0042   lr: 0.00020783  max_mem: 445M\n",
            "[02/19 22:58:22 d2.utils.events]:  eta: 0:07:00  iter: 939  total_loss: 0.1462  loss_cls: 0.06406  loss_box_reg: 0.07985  loss_rpn_cls: 0.003541  loss_rpn_loc: 0.001952  time: 0.1117  last_time: 0.1010  data_time: 0.0079  last_data_time: 0.0085   lr: 0.00021235  max_mem: 445M\n",
            "[02/19 22:58:24 d2.utils.events]:  eta: 0:06:58  iter: 959  total_loss: 0.159  loss_cls: 0.06697  loss_box_reg: 0.08479  loss_rpn_cls: 0.004529  loss_rpn_loc: 0.001734  time: 0.1115  last_time: 0.1087  data_time: 0.0085  last_data_time: 0.0099   lr: 0.00021687  max_mem: 445M\n",
            "[02/19 22:58:27 d2.utils.events]:  eta: 0:06:56  iter: 979  total_loss: 0.1653  loss_cls: 0.06567  loss_box_reg: 0.09447  loss_rpn_cls: 0.004295  loss_rpn_loc: 0.002106  time: 0.1117  last_time: 0.1281  data_time: 0.0125  last_data_time: 0.0147   lr: 0.00022138  max_mem: 445M\n",
            "[02/19 22:58:29 d2.utils.events]:  eta: 0:06:54  iter: 999  total_loss: 0.1502  loss_cls: 0.0607  loss_box_reg: 0.08256  loss_rpn_cls: 0.002777  loss_rpn_loc: 0.001541  time: 0.1122  last_time: 0.1022  data_time: 0.0128  last_data_time: 0.0108   lr: 0.0002259  max_mem: 445M\n",
            "[02/19 22:58:31 d2.utils.events]:  eta: 0:06:52  iter: 1019  total_loss: 0.1599  loss_cls: 0.06644  loss_box_reg: 0.08909  loss_rpn_cls: 0.003365  loss_rpn_loc: 0.001699  time: 0.1121  last_time: 0.1121  data_time: 0.0091  last_data_time: 0.0071   lr: 0.00022524  max_mem: 445M\n",
            "[02/19 22:58:34 d2.utils.events]:  eta: 0:06:50  iter: 1039  total_loss: 0.1642  loss_cls: 0.06631  loss_box_reg: 0.08204  loss_rpn_cls: 0.003279  loss_rpn_loc: 0.001312  time: 0.1119  last_time: 0.1010  data_time: 0.0061  last_data_time: 0.0116   lr: 0.0002243  max_mem: 445M\n",
            "[02/19 22:58:36 d2.utils.events]:  eta: 0:06:48  iter: 1059  total_loss: 0.1464  loss_cls: 0.05932  loss_box_reg: 0.07734  loss_rpn_cls: 0.0024  loss_rpn_loc: 0.001106  time: 0.1117  last_time: 0.1038  data_time: 0.0077  last_data_time: 0.0042   lr: 0.00022333  max_mem: 445M\n",
            "[02/19 22:58:38 d2.utils.events]:  eta: 0:06:46  iter: 1079  total_loss: 0.1479  loss_cls: 0.06583  loss_box_reg: 0.0868  loss_rpn_cls: 0.00278  loss_rpn_loc: 0.00171  time: 0.1115  last_time: 0.0979  data_time: 0.0092  last_data_time: 0.0062   lr: 0.00022236  max_mem: 445M\n",
            "[02/19 22:58:40 d2.utils.events]:  eta: 0:06:44  iter: 1099  total_loss: 0.1555  loss_cls: 0.06504  loss_box_reg: 0.09594  loss_rpn_cls: 0.002975  loss_rpn_loc: 0.001337  time: 0.1116  last_time: 0.1455  data_time: 0.0097  last_data_time: 0.0184   lr: 0.00022136  max_mem: 445M\n",
            "[02/19 22:58:43 d2.utils.events]:  eta: 0:06:42  iter: 1119  total_loss: 0.1463  loss_cls: 0.0571  loss_box_reg: 0.07711  loss_rpn_cls: 0.003537  loss_rpn_loc: 0.001458  time: 0.1122  last_time: 0.1484  data_time: 0.0168  last_data_time: 0.0123   lr: 0.00022036  max_mem: 445M\n",
            "[02/19 22:58:45 d2.utils.events]:  eta: 0:06:40  iter: 1139  total_loss: 0.1306  loss_cls: 0.05676  loss_box_reg: 0.06682  loss_rpn_cls: 0.002513  loss_rpn_loc: 0.001545  time: 0.1121  last_time: 0.1068  data_time: 0.0114  last_data_time: 0.0152   lr: 0.00021933  max_mem: 445M\n",
            "[02/19 22:58:47 d2.utils.events]:  eta: 0:06:38  iter: 1159  total_loss: 0.1487  loss_cls: 0.06499  loss_box_reg: 0.08263  loss_rpn_cls: 0.002892  loss_rpn_loc: 0.001633  time: 0.1119  last_time: 0.1007  data_time: 0.0063  last_data_time: 0.0082   lr: 0.00021829  max_mem: 445M\n",
            "[02/19 22:58:49 d2.utils.events]:  eta: 0:06:36  iter: 1179  total_loss: 0.1494  loss_cls: 0.05776  loss_box_reg: 0.0857  loss_rpn_cls: 0.001963  loss_rpn_loc: 0.001422  time: 0.1118  last_time: 0.1031  data_time: 0.0085  last_data_time: 0.0118   lr: 0.00021724  max_mem: 445M\n",
            "[02/19 22:58:51 d2.utils.events]:  eta: 0:06:34  iter: 1199  total_loss: 0.1403  loss_cls: 0.05331  loss_box_reg: 0.07751  loss_rpn_cls: 0.002776  loss_rpn_loc: 0.001241  time: 0.1117  last_time: 0.1022  data_time: 0.0077  last_data_time: 0.0062   lr: 0.00021617  max_mem: 445M\n",
            "[02/19 22:58:54 d2.utils.events]:  eta: 0:06:32  iter: 1219  total_loss: 0.1263  loss_cls: 0.05512  loss_box_reg: 0.06656  loss_rpn_cls: 0.003051  loss_rpn_loc: 0.001573  time: 0.1117  last_time: 0.1331  data_time: 0.0084  last_data_time: 0.0045   lr: 0.00021509  max_mem: 445M\n",
            "[02/19 22:58:56 d2.utils.events]:  eta: 0:06:30  iter: 1239  total_loss: 0.14  loss_cls: 0.06794  loss_box_reg: 0.07172  loss_rpn_cls: 0.002892  loss_rpn_loc: 0.001115  time: 0.1121  last_time: 0.1431  data_time: 0.0132  last_data_time: 0.0128   lr: 0.000214  max_mem: 445M\n",
            "[02/19 22:58:59 d2.utils.events]:  eta: 0:06:28  iter: 1259  total_loss: 0.1261  loss_cls: 0.04943  loss_box_reg: 0.06199  loss_rpn_cls: 0.002902  loss_rpn_loc: 0.001732  time: 0.1121  last_time: 0.1041  data_time: 0.0094  last_data_time: 0.0089   lr: 0.00021289  max_mem: 445M\n",
            "[02/19 22:59:01 d2.utils.events]:  eta: 0:06:26  iter: 1279  total_loss: 0.1532  loss_cls: 0.06387  loss_box_reg: 0.08055  loss_rpn_cls: 0.003104  loss_rpn_loc: 0.001778  time: 0.1124  last_time: 0.0978  data_time: 0.0109  last_data_time: 0.0051   lr: 0.00021176  max_mem: 445M\n",
            "[02/19 22:59:03 d2.utils.events]:  eta: 0:06:25  iter: 1299  total_loss: 0.1472  loss_cls: 0.06155  loss_box_reg: 0.07865  loss_rpn_cls: 0.002226  loss_rpn_loc: 0.001495  time: 0.1123  last_time: 0.1006  data_time: 0.0067  last_data_time: 0.0086   lr: 0.00021063  max_mem: 445M\n",
            "[02/19 22:59:05 d2.utils.events]:  eta: 0:06:23  iter: 1319  total_loss: 0.1262  loss_cls: 0.05558  loss_box_reg: 0.06761  loss_rpn_cls: 0.003442  loss_rpn_loc: 0.001809  time: 0.1122  last_time: 0.0980  data_time: 0.0084  last_data_time: 0.0039   lr: 0.00020947  max_mem: 445M\n",
            "[02/19 22:59:08 d2.utils.events]:  eta: 0:06:21  iter: 1339  total_loss: 0.1301  loss_cls: 0.05405  loss_box_reg: 0.07154  loss_rpn_cls: 0.002417  loss_rpn_loc: 0.001594  time: 0.1122  last_time: 0.1484  data_time: 0.0137  last_data_time: 0.0194   lr: 0.00020831  max_mem: 445M\n",
            "[02/19 22:59:11 d2.utils.events]:  eta: 0:06:20  iter: 1359  total_loss: 0.1322  loss_cls: 0.04889  loss_box_reg: 0.06977  loss_rpn_cls: 0.002465  loss_rpn_loc: 0.001689  time: 0.1126  last_time: 0.1387  data_time: 0.0125  last_data_time: 0.0056   lr: 0.00020713  max_mem: 445M\n",
            "[02/19 22:59:13 d2.utils.events]:  eta: 0:06:17  iter: 1379  total_loss: 0.1707  loss_cls: 0.0611  loss_box_reg: 0.09452  loss_rpn_cls: 0.002354  loss_rpn_loc: 0.001249  time: 0.1125  last_time: 0.1015  data_time: 0.0093  last_data_time: 0.0079   lr: 0.00020594  max_mem: 445M\n",
            "[02/19 22:59:15 d2.utils.events]:  eta: 0:06:15  iter: 1399  total_loss: 0.1606  loss_cls: 0.07373  loss_box_reg: 0.0826  loss_rpn_cls: 0.002598  loss_rpn_loc: 0.001122  time: 0.1124  last_time: 0.1028  data_time: 0.0070  last_data_time: 0.0080   lr: 0.00020474  max_mem: 445M\n",
            "[02/19 22:59:17 d2.utils.events]:  eta: 0:06:13  iter: 1419  total_loss: 0.1534  loss_cls: 0.06272  loss_box_reg: 0.09148  loss_rpn_cls: 0.002811  loss_rpn_loc: 0.00168  time: 0.1122  last_time: 0.1021  data_time: 0.0070  last_data_time: 0.0051   lr: 0.00020352  max_mem: 445M\n",
            "[02/19 22:59:19 d2.utils.events]:  eta: 0:06:11  iter: 1439  total_loss: 0.134  loss_cls: 0.05574  loss_box_reg: 0.06509  loss_rpn_cls: 0.003597  loss_rpn_loc: 0.001998  time: 0.1121  last_time: 0.1084  data_time: 0.0056  last_data_time: 0.0044   lr: 0.00020229  max_mem: 445M\n",
            "[02/19 22:59:21 d2.utils.events]:  eta: 0:06:10  iter: 1459  total_loss: 0.1362  loss_cls: 0.06073  loss_box_reg: 0.06932  loss_rpn_cls: 0.00172  loss_rpn_loc: 0.001223  time: 0.1121  last_time: 0.1402  data_time: 0.0086  last_data_time: 0.0045   lr: 0.00020105  max_mem: 445M\n",
            "[02/19 22:59:24 d2.utils.events]:  eta: 0:06:09  iter: 1479  total_loss: 0.1197  loss_cls: 0.04752  loss_box_reg: 0.06698  loss_rpn_cls: 0.002234  loss_rpn_loc: 0.001389  time: 0.1124  last_time: 0.1564  data_time: 0.0113  last_data_time: 0.0058   lr: 0.0001998  max_mem: 445M\n",
            "[02/19 22:59:26 d2.utils.events]:  eta: 0:06:06  iter: 1499  total_loss: 0.1376  loss_cls: 0.06388  loss_box_reg: 0.07547  loss_rpn_cls: 0.001752  loss_rpn_loc: 0.001369  time: 0.1124  last_time: 0.1019  data_time: 0.0085  last_data_time: 0.0072   lr: 0.00019854  max_mem: 445M\n",
            "[02/19 22:59:28 d2.utils.events]:  eta: 0:06:03  iter: 1519  total_loss: 0.1143  loss_cls: 0.05556  loss_box_reg: 0.06782  loss_rpn_cls: 0.001883  loss_rpn_loc: 0.001159  time: 0.1123  last_time: 0.0984  data_time: 0.0062  last_data_time: 0.0090   lr: 0.00019726  max_mem: 445M\n",
            "[02/19 22:59:30 d2.utils.events]:  eta: 0:06:01  iter: 1539  total_loss: 0.1381  loss_cls: 0.05868  loss_box_reg: 0.07735  loss_rpn_cls: 0.0025  loss_rpn_loc: 0.001601  time: 0.1122  last_time: 0.0992  data_time: 0.0062  last_data_time: 0.0045   lr: 0.00019597  max_mem: 445M\n",
            "[02/19 22:59:32 d2.utils.events]:  eta: 0:05:59  iter: 1559  total_loss: 0.1359  loss_cls: 0.04954  loss_box_reg: 0.07413  loss_rpn_cls: 0.001891  loss_rpn_loc: 0.001481  time: 0.1121  last_time: 0.0976  data_time: 0.0074  last_data_time: 0.0045   lr: 0.00019467  max_mem: 445M\n",
            "[02/19 22:59:34 d2.utils.events]:  eta: 0:05:56  iter: 1579  total_loss: 0.1393  loss_cls: 0.05796  loss_box_reg: 0.07833  loss_rpn_cls: 0.00214  loss_rpn_loc: 0.001304  time: 0.1119  last_time: 0.0964  data_time: 0.0077  last_data_time: 0.0046   lr: 0.00019337  max_mem: 445M\n",
            "[02/19 22:59:37 d2.utils.events]:  eta: 0:05:55  iter: 1599  total_loss: 0.1345  loss_cls: 0.05045  loss_box_reg: 0.08269  loss_rpn_cls: 0.001888  loss_rpn_loc: 0.001676  time: 0.1123  last_time: 0.1562  data_time: 0.0132  last_data_time: 0.0278   lr: 0.00019204  max_mem: 445M\n",
            "[02/19 22:59:40 d2.utils.events]:  eta: 0:05:52  iter: 1619  total_loss: 0.1463  loss_cls: 0.05235  loss_box_reg: 0.08093  loss_rpn_cls: 0.002424  loss_rpn_loc: 0.001592  time: 0.1123  last_time: 0.0954  data_time: 0.0104  last_data_time: 0.0068   lr: 0.00019071  max_mem: 445M\n",
            "[02/19 22:59:42 d2.utils.events]:  eta: 0:05:50  iter: 1639  total_loss: 0.1207  loss_cls: 0.0609  loss_box_reg: 0.05881  loss_rpn_cls: 0.002908  loss_rpn_loc: 0.001438  time: 0.1122  last_time: 0.1064  data_time: 0.0080  last_data_time: 0.0117   lr: 0.00018937  max_mem: 445M\n",
            "[02/19 22:59:44 d2.utils.events]:  eta: 0:05:48  iter: 1659  total_loss: 0.1251  loss_cls: 0.0541  loss_box_reg: 0.0722  loss_rpn_cls: 0.001663  loss_rpn_loc: 0.001318  time: 0.1121  last_time: 0.1035  data_time: 0.0071  last_data_time: 0.0086   lr: 0.00018802  max_mem: 445M\n",
            "[02/19 22:59:46 d2.utils.events]:  eta: 0:05:46  iter: 1679  total_loss: 0.1437  loss_cls: 0.0588  loss_box_reg: 0.07286  loss_rpn_cls: 0.002927  loss_rpn_loc: 0.001412  time: 0.1120  last_time: 0.0997  data_time: 0.0062  last_data_time: 0.0042   lr: 0.00018666  max_mem: 445M\n",
            "[02/19 22:59:48 d2.utils.events]:  eta: 0:05:44  iter: 1699  total_loss: 0.1403  loss_cls: 0.04857  loss_box_reg: 0.07745  loss_rpn_cls: 0.002456  loss_rpn_loc: 0.001345  time: 0.1119  last_time: 0.1044  data_time: 0.0102  last_data_time: 0.0068   lr: 0.00018529  max_mem: 445M\n",
            "[02/19 22:59:50 d2.utils.events]:  eta: 0:05:43  iter: 1719  total_loss: 0.1378  loss_cls: 0.05271  loss_box_reg: 0.07688  loss_rpn_cls: 0.001972  loss_rpn_loc: 0.001172  time: 0.1121  last_time: 0.1268  data_time: 0.0125  last_data_time: 0.0130   lr: 0.00018391  max_mem: 445M\n",
            "[02/19 22:59:55 d2.utils.events]:  eta: 0:05:41  iter: 1739  total_loss: 0.1295  loss_cls: 0.05434  loss_box_reg: 0.07196  loss_rpn_cls: 0.001624  loss_rpn_loc: 0.001417  time: 0.1135  last_time: 0.2410  data_time: 0.0182  last_data_time: 0.0127   lr: 0.00018252  max_mem: 445M\n",
            "[02/19 22:59:59 d2.utils.events]:  eta: 0:05:40  iter: 1759  total_loss: 0.123  loss_cls: 0.04645  loss_box_reg: 0.06482  loss_rpn_cls: 0.001427  loss_rpn_loc: 0.001262  time: 0.1144  last_time: 0.1841  data_time: 0.0164  last_data_time: 0.0196   lr: 0.00018112  max_mem: 445M\n",
            "[02/19 23:00:03 d2.utils.events]:  eta: 0:05:38  iter: 1779  total_loss: 0.1267  loss_cls: 0.05373  loss_box_reg: 0.06805  loss_rpn_cls: 0.001683  loss_rpn_loc: 0.001384  time: 0.1151  last_time: 0.1549  data_time: 0.0185  last_data_time: 0.0180   lr: 0.00017971  max_mem: 445M\n",
            "[02/19 23:00:05 d2.utils.events]:  eta: 0:05:37  iter: 1799  total_loss: 0.1135  loss_cls: 0.04744  loss_box_reg: 0.0614  loss_rpn_cls: 0.001738  loss_rpn_loc: 0.000929  time: 0.1154  last_time: 0.1459  data_time: 0.0151  last_data_time: 0.0156   lr: 0.00017829  max_mem: 445M\n",
            "[02/19 23:00:08 d2.utils.events]:  eta: 0:05:35  iter: 1819  total_loss: 0.1426  loss_cls: 0.06178  loss_box_reg: 0.07344  loss_rpn_cls: 0.002584  loss_rpn_loc: 0.001615  time: 0.1154  last_time: 0.1010  data_time: 0.0081  last_data_time: 0.0074   lr: 0.00017687  max_mem: 445M\n",
            "[02/19 23:00:11 d2.utils.events]:  eta: 0:05:33  iter: 1839  total_loss: 0.1314  loss_cls: 0.05309  loss_box_reg: 0.0796  loss_rpn_cls: 0.001617  loss_rpn_loc: 0.001138  time: 0.1157  last_time: 0.1325  data_time: 0.0125  last_data_time: 0.0106   lr: 0.00017544  max_mem: 445M\n",
            "[02/19 23:00:13 d2.utils.events]:  eta: 0:05:31  iter: 1859  total_loss: 0.1106  loss_cls: 0.05106  loss_box_reg: 0.06038  loss_rpn_cls: 0.002034  loss_rpn_loc: 0.00135  time: 0.1157  last_time: 0.1030  data_time: 0.0102  last_data_time: 0.0041   lr: 0.00017399  max_mem: 445M\n",
            "[02/19 23:00:15 d2.utils.events]:  eta: 0:05:28  iter: 1879  total_loss: 0.1485  loss_cls: 0.05211  loss_box_reg: 0.08437  loss_rpn_cls: 0.001781  loss_rpn_loc: 0.001424  time: 0.1156  last_time: 0.1000  data_time: 0.0057  last_data_time: 0.0049   lr: 0.00017255  max_mem: 445M\n",
            "[02/19 23:00:17 d2.utils.events]:  eta: 0:05:26  iter: 1899  total_loss: 0.1335  loss_cls: 0.0568  loss_box_reg: 0.07599  loss_rpn_cls: 0.001871  loss_rpn_loc: 0.001381  time: 0.1156  last_time: 0.1316  data_time: 0.0099  last_data_time: 0.0174   lr: 0.00017109  max_mem: 445M\n",
            "[02/19 23:00:20 d2.utils.events]:  eta: 0:05:26  iter: 1919  total_loss: 0.1413  loss_cls: 0.06493  loss_box_reg: 0.07285  loss_rpn_cls: 0.001807  loss_rpn_loc: 0.001351  time: 0.1158  last_time: 0.1457  data_time: 0.0122  last_data_time: 0.0156   lr: 0.00016962  max_mem: 445M\n",
            "[02/19 23:00:22 d2.utils.events]:  eta: 0:05:23  iter: 1939  total_loss: 0.1068  loss_cls: 0.04827  loss_box_reg: 0.05303  loss_rpn_cls: 0.001749  loss_rpn_loc: 0.001337  time: 0.1157  last_time: 0.0967  data_time: 0.0095  last_data_time: 0.0041   lr: 0.00016815  max_mem: 445M\n",
            "[02/19 23:00:24 d2.utils.events]:  eta: 0:05:21  iter: 1959  total_loss: 0.1339  loss_cls: 0.05622  loss_box_reg: 0.0768  loss_rpn_cls: 0.002275  loss_rpn_loc: 0.001294  time: 0.1156  last_time: 0.1018  data_time: 0.0087  last_data_time: 0.0113   lr: 0.00016668  max_mem: 445M\n",
            "[02/19 23:00:26 d2.utils.events]:  eta: 0:05:18  iter: 1979  total_loss: 0.114  loss_cls: 0.04456  loss_box_reg: 0.05977  loss_rpn_cls: 0.001305  loss_rpn_loc: 0.0009754  time: 0.1155  last_time: 0.1082  data_time: 0.0095  last_data_time: 0.0171   lr: 0.00016519  max_mem: 445M\n",
            "[02/19 23:00:29 d2.utils.events]:  eta: 0:05:16  iter: 1999  total_loss: 0.1174  loss_cls: 0.05326  loss_box_reg: 0.06464  loss_rpn_cls: 0.002052  loss_rpn_loc: 0.001395  time: 0.1154  last_time: 0.0986  data_time: 0.0073  last_data_time: 0.0043   lr: 0.0001637  max_mem: 445M\n",
            "[02/19 23:00:31 d2.utils.events]:  eta: 0:05:14  iter: 2019  total_loss: 0.1176  loss_cls: 0.0414  loss_box_reg: 0.06419  loss_rpn_cls: 0.001667  loss_rpn_loc: 0.001238  time: 0.1153  last_time: 0.1354  data_time: 0.0093  last_data_time: 0.0120   lr: 0.00016221  max_mem: 445M\n",
            "[02/19 23:00:34 d2.utils.events]:  eta: 0:05:13  iter: 2039  total_loss: 0.1079  loss_cls: 0.04792  loss_box_reg: 0.06596  loss_rpn_cls: 0.001691  loss_rpn_loc: 0.00122  time: 0.1156  last_time: 0.1425  data_time: 0.0163  last_data_time: 0.0059   lr: 0.0001607  max_mem: 445M\n",
            "[02/19 23:00:36 d2.utils.events]:  eta: 0:05:11  iter: 2059  total_loss: 0.1268  loss_cls: 0.04461  loss_box_reg: 0.07422  loss_rpn_cls: 0.002681  loss_rpn_loc: 0.001759  time: 0.1155  last_time: 0.0993  data_time: 0.0082  last_data_time: 0.0048   lr: 0.00015919  max_mem: 445M\n",
            "[02/19 23:00:38 d2.utils.events]:  eta: 0:05:09  iter: 2079  total_loss: 0.1216  loss_cls: 0.04728  loss_box_reg: 0.07066  loss_rpn_cls: 0.002396  loss_rpn_loc: 0.001636  time: 0.1154  last_time: 0.1000  data_time: 0.0081  last_data_time: 0.0045   lr: 0.00015768  max_mem: 445M\n",
            "[02/19 23:00:40 d2.utils.events]:  eta: 0:05:06  iter: 2099  total_loss: 0.1108  loss_cls: 0.04564  loss_box_reg: 0.06052  loss_rpn_cls: 0.002065  loss_rpn_loc: 0.001064  time: 0.1153  last_time: 0.0979  data_time: 0.0089  last_data_time: 0.0050   lr: 0.00015616  max_mem: 445M\n",
            "[02/19 23:00:42 d2.utils.events]:  eta: 0:05:03  iter: 2119  total_loss: 0.1296  loss_cls: 0.04615  loss_box_reg: 0.07245  loss_rpn_cls: 0.001398  loss_rpn_loc: 0.001168  time: 0.1152  last_time: 0.1086  data_time: 0.0084  last_data_time: 0.0091   lr: 0.00015464  max_mem: 445M\n",
            "[02/19 23:00:44 d2.utils.events]:  eta: 0:05:01  iter: 2139  total_loss: 0.1184  loss_cls: 0.05001  loss_box_reg: 0.05313  loss_rpn_cls: 0.001279  loss_rpn_loc: 0.001174  time: 0.1151  last_time: 0.1118  data_time: 0.0084  last_data_time: 0.0040   lr: 0.00015311  max_mem: 445M\n",
            "[02/19 23:00:47 d2.utils.events]:  eta: 0:05:00  iter: 2159  total_loss: 0.1147  loss_cls: 0.04929  loss_box_reg: 0.06151  loss_rpn_cls: 0.001588  loss_rpn_loc: 0.001286  time: 0.1153  last_time: 0.1425  data_time: 0.0206  last_data_time: 0.0128   lr: 0.00015158  max_mem: 445M\n",
            "[02/19 23:00:49 d2.utils.events]:  eta: 0:04:58  iter: 2179  total_loss: 0.1209  loss_cls: 0.05734  loss_box_reg: 0.06147  loss_rpn_cls: 0.002213  loss_rpn_loc: 0.0008735  time: 0.1154  last_time: 0.1079  data_time: 0.0120  last_data_time: 0.0169   lr: 0.00015004  max_mem: 445M\n",
            "[02/19 23:00:52 d2.utils.events]:  eta: 0:04:56  iter: 2199  total_loss: 0.1327  loss_cls: 0.06413  loss_box_reg: 0.06361  loss_rpn_cls: 0.00248  loss_rpn_loc: 0.001481  time: 0.1153  last_time: 0.1056  data_time: 0.0073  last_data_time: 0.0118   lr: 0.0001485  max_mem: 445M\n",
            "[02/19 23:00:54 d2.utils.events]:  eta: 0:04:54  iter: 2219  total_loss: 0.1198  loss_cls: 0.04613  loss_box_reg: 0.06436  loss_rpn_cls: 0.001529  loss_rpn_loc: 0.001698  time: 0.1151  last_time: 0.0992  data_time: 0.0066  last_data_time: 0.0044   lr: 0.00014696  max_mem: 445M\n",
            "[02/19 23:00:56 d2.utils.events]:  eta: 0:04:51  iter: 2239  total_loss: 0.1137  loss_cls: 0.0471  loss_box_reg: 0.06807  loss_rpn_cls: 0.001895  loss_rpn_loc: 0.001143  time: 0.1150  last_time: 0.1000  data_time: 0.0076  last_data_time: 0.0045   lr: 0.00014541  max_mem: 445M\n",
            "[02/19 23:00:58 d2.utils.events]:  eta: 0:04:49  iter: 2259  total_loss: 0.1301  loss_cls: 0.05401  loss_box_reg: 0.06793  loss_rpn_cls: 0.001516  loss_rpn_loc: 0.00137  time: 0.1149  last_time: 0.1055  data_time: 0.0091  last_data_time: 0.0043   lr: 0.00014386  max_mem: 445M\n",
            "[02/19 23:01:01 d2.utils.events]:  eta: 0:04:47  iter: 2279  total_loss: 0.1009  loss_cls: 0.04227  loss_box_reg: 0.05678  loss_rpn_cls: 0.001151  loss_rpn_loc: 0.0009954  time: 0.1151  last_time: 0.1542  data_time: 0.0175  last_data_time: 0.0213   lr: 0.0001423  max_mem: 445M\n",
            "[02/19 23:01:03 d2.utils.events]:  eta: 0:04:45  iter: 2299  total_loss: 0.1187  loss_cls: 0.0577  loss_box_reg: 0.0568  loss_rpn_cls: 0.001873  loss_rpn_loc: 0.001091  time: 0.1152  last_time: 0.1053  data_time: 0.0084  last_data_time: 0.0061   lr: 0.00014074  max_mem: 445M\n",
            "[02/19 23:01:05 d2.utils.events]:  eta: 0:04:43  iter: 2319  total_loss: 0.1349  loss_cls: 0.05748  loss_box_reg: 0.07476  loss_rpn_cls: 0.001383  loss_rpn_loc: 0.00122  time: 0.1150  last_time: 0.1014  data_time: 0.0071  last_data_time: 0.0092   lr: 0.00013919  max_mem: 445M\n",
            "[02/19 23:01:07 d2.utils.events]:  eta: 0:04:40  iter: 2339  total_loss: 0.1455  loss_cls: 0.06241  loss_box_reg: 0.07622  loss_rpn_cls: 0.00177  loss_rpn_loc: 0.0009933  time: 0.1149  last_time: 0.1130  data_time: 0.0078  last_data_time: 0.0115   lr: 0.00013762  max_mem: 445M\n",
            "[02/19 23:01:09 d2.utils.events]:  eta: 0:04:38  iter: 2359  total_loss: 0.1092  loss_cls: 0.0451  loss_box_reg: 0.05878  loss_rpn_cls: 0.001561  loss_rpn_loc: 0.001093  time: 0.1148  last_time: 0.1017  data_time: 0.0074  last_data_time: 0.0053   lr: 0.00013606  max_mem: 445M\n",
            "[02/19 23:01:11 d2.utils.events]:  eta: 0:04:35  iter: 2379  total_loss: 0.1115  loss_cls: 0.04152  loss_box_reg: 0.05776  loss_rpn_cls: 0.001447  loss_rpn_loc: 0.000913  time: 0.1148  last_time: 0.1056  data_time: 0.0086  last_data_time: 0.0148   lr: 0.00013449  max_mem: 445M\n",
            "[02/19 23:01:14 d2.utils.events]:  eta: 0:04:34  iter: 2399  total_loss: 0.1092  loss_cls: 0.03177  loss_box_reg: 0.062  loss_rpn_cls: 0.002445  loss_rpn_loc: 0.001497  time: 0.1149  last_time: 0.1545  data_time: 0.0161  last_data_time: 0.0230   lr: 0.00013293  max_mem: 445M\n",
            "[02/19 23:01:16 d2.utils.events]:  eta: 0:04:32  iter: 2419  total_loss: 0.1113  loss_cls: 0.04519  loss_box_reg: 0.05672  loss_rpn_cls: 0.00152  loss_rpn_loc: 0.001315  time: 0.1150  last_time: 0.1073  data_time: 0.0104  last_data_time: 0.0134   lr: 0.00013136  max_mem: 445M\n",
            "[02/19 23:01:19 d2.utils.events]:  eta: 0:04:30  iter: 2439  total_loss: 0.1072  loss_cls: 0.04352  loss_box_reg: 0.06294  loss_rpn_cls: 0.001628  loss_rpn_loc: 0.001565  time: 0.1149  last_time: 0.1182  data_time: 0.0089  last_data_time: 0.0065   lr: 0.00012979  max_mem: 445M\n",
            "[02/19 23:01:21 d2.utils.events]:  eta: 0:04:28  iter: 2459  total_loss: 0.1015  loss_cls: 0.03815  loss_box_reg: 0.05499  loss_rpn_cls: 0.001303  loss_rpn_loc: 0.001041  time: 0.1148  last_time: 0.1150  data_time: 0.0097  last_data_time: 0.0197   lr: 0.00012822  max_mem: 445M\n",
            "[02/19 23:01:23 d2.utils.events]:  eta: 0:04:25  iter: 2479  total_loss: 0.1237  loss_cls: 0.05908  loss_box_reg: 0.05916  loss_rpn_cls: 0.001634  loss_rpn_loc: 0.001245  time: 0.1148  last_time: 0.1057  data_time: 0.0095  last_data_time: 0.0136   lr: 0.00012665  max_mem: 445M\n",
            "[02/19 23:01:25 d2.utils.events]:  eta: 0:04:23  iter: 2499  total_loss: 0.1062  loss_cls: 0.04708  loss_box_reg: 0.05565  loss_rpn_cls: 0.001668  loss_rpn_loc: 0.001136  time: 0.1147  last_time: 0.1032  data_time: 0.0099  last_data_time: 0.0104   lr: 0.00012508  max_mem: 445M\n",
            "[02/19 23:01:27 d2.utils.events]:  eta: 0:04:21  iter: 2519  total_loss: 0.1123  loss_cls: 0.04702  loss_box_reg: 0.06038  loss_rpn_cls: 0.001623  loss_rpn_loc: 0.001084  time: 0.1148  last_time: 0.1315  data_time: 0.0125  last_data_time: 0.0143   lr: 0.00012351  max_mem: 445M\n",
            "[02/19 23:01:30 d2.utils.events]:  eta: 0:04:20  iter: 2539  total_loss: 0.1274  loss_cls: 0.04561  loss_box_reg: 0.06136  loss_rpn_cls: 0.002015  loss_rpn_loc: 0.001182  time: 0.1148  last_time: 0.0998  data_time: 0.0093  last_data_time: 0.0048   lr: 0.00012194  max_mem: 445M\n",
            "[02/19 23:01:32 d2.utils.events]:  eta: 0:04:18  iter: 2559  total_loss: 0.1168  loss_cls: 0.04172  loss_box_reg: 0.06631  loss_rpn_cls: 0.00206  loss_rpn_loc: 0.001017  time: 0.1148  last_time: 0.1029  data_time: 0.0086  last_data_time: 0.0070   lr: 0.00012037  max_mem: 445M\n",
            "[02/19 23:01:34 d2.utils.events]:  eta: 0:04:16  iter: 2579  total_loss: 0.1225  loss_cls: 0.04753  loss_box_reg: 0.07139  loss_rpn_cls: 0.001507  loss_rpn_loc: 0.001371  time: 0.1147  last_time: 0.1016  data_time: 0.0080  last_data_time: 0.0105   lr: 0.0001188  max_mem: 445M\n",
            "[02/19 23:01:36 d2.utils.events]:  eta: 0:04:13  iter: 2599  total_loss: 0.1135  loss_cls: 0.04536  loss_box_reg: 0.07083  loss_rpn_cls: 0.00261  loss_rpn_loc: 0.001622  time: 0.1146  last_time: 0.1044  data_time: 0.0068  last_data_time: 0.0094   lr: 0.00011723  max_mem: 445M\n",
            "[02/19 23:01:39 d2.utils.events]:  eta: 0:04:11  iter: 2619  total_loss: 0.126  loss_cls: 0.05485  loss_box_reg: 0.06568  loss_rpn_cls: 0.001111  loss_rpn_loc: 0.001072  time: 0.1146  last_time: 0.1044  data_time: 0.0101  last_data_time: 0.0101   lr: 0.00011566  max_mem: 445M\n",
            "[02/19 23:01:41 d2.utils.events]:  eta: 0:04:09  iter: 2639  total_loss: 0.1243  loss_cls: 0.04794  loss_box_reg: 0.05928  loss_rpn_cls: 0.001326  loss_rpn_loc: 0.001158  time: 0.1147  last_time: 0.1379  data_time: 0.0121  last_data_time: 0.0218   lr: 0.0001141  max_mem: 445M\n",
            "[02/19 23:01:44 d2.utils.events]:  eta: 0:04:08  iter: 2659  total_loss: 0.1002  loss_cls: 0.04726  loss_box_reg: 0.05714  loss_rpn_cls: 0.001735  loss_rpn_loc: 0.001406  time: 0.1148  last_time: 0.1063  data_time: 0.0073  last_data_time: 0.0044   lr: 0.00011253  max_mem: 445M\n",
            "[02/19 23:01:46 d2.utils.events]:  eta: 0:04:06  iter: 2679  total_loss: 0.1083  loss_cls: 0.04136  loss_box_reg: 0.06289  loss_rpn_cls: 0.001639  loss_rpn_loc: 0.001437  time: 0.1148  last_time: 0.1055  data_time: 0.0093  last_data_time: 0.0117   lr: 0.00011097  max_mem: 445M\n",
            "[02/19 23:01:48 d2.utils.events]:  eta: 0:04:04  iter: 2699  total_loss: 0.1045  loss_cls: 0.0405  loss_box_reg: 0.05867  loss_rpn_cls: 0.001521  loss_rpn_loc: 0.001095  time: 0.1147  last_time: 0.1023  data_time: 0.0087  last_data_time: 0.0048   lr: 0.00010941  max_mem: 445M\n",
            "[02/19 23:01:50 d2.utils.events]:  eta: 0:04:01  iter: 2719  total_loss: 0.1177  loss_cls: 0.04879  loss_box_reg: 0.06348  loss_rpn_cls: 0.001443  loss_rpn_loc: 0.000994  time: 0.1146  last_time: 0.1154  data_time: 0.0092  last_data_time: 0.0168   lr: 0.00010785  max_mem: 445M\n",
            "[02/19 23:01:52 d2.utils.events]:  eta: 0:03:59  iter: 2739  total_loss: 0.1118  loss_cls: 0.0438  loss_box_reg: 0.05914  loss_rpn_cls: 0.001541  loss_rpn_loc: 0.00145  time: 0.1146  last_time: 0.1054  data_time: 0.0086  last_data_time: 0.0046   lr: 0.0001063  max_mem: 445M\n",
            "[02/19 23:01:55 d2.utils.events]:  eta: 0:03:56  iter: 2759  total_loss: 0.1011  loss_cls: 0.03952  loss_box_reg: 0.06157  loss_rpn_cls: 0.001621  loss_rpn_loc: 0.001667  time: 0.1146  last_time: 0.1404  data_time: 0.0134  last_data_time: 0.0195   lr: 0.00010475  max_mem: 445M\n",
            "[02/19 23:01:57 d2.utils.events]:  eta: 0:03:54  iter: 2779  total_loss: 0.1039  loss_cls: 0.04067  loss_box_reg: 0.05668  loss_rpn_cls: 0.001405  loss_rpn_loc: 0.001065  time: 0.1148  last_time: 0.1013  data_time: 0.0132  last_data_time: 0.0105   lr: 0.0001032  max_mem: 445M\n",
            "[02/19 23:01:59 d2.utils.events]:  eta: 0:03:51  iter: 2799  total_loss: 0.1177  loss_cls: 0.04745  loss_box_reg: 0.06803  loss_rpn_cls: 0.001752  loss_rpn_loc: 0.001169  time: 0.1147  last_time: 0.1004  data_time: 0.0080  last_data_time: 0.0051   lr: 0.00010165  max_mem: 445M\n",
            "[02/19 23:02:02 d2.utils.events]:  eta: 0:03:49  iter: 2819  total_loss: 0.1101  loss_cls: 0.04038  loss_box_reg: 0.05728  loss_rpn_cls: 0.00119  loss_rpn_loc: 0.001401  time: 0.1146  last_time: 0.1045  data_time: 0.0089  last_data_time: 0.0169   lr: 0.00010011  max_mem: 445M\n",
            "[02/19 23:02:04 d2.utils.events]:  eta: 0:03:47  iter: 2839  total_loss: 0.1172  loss_cls: 0.04338  loss_box_reg: 0.06275  loss_rpn_cls: 0.001697  loss_rpn_loc: 0.001278  time: 0.1145  last_time: 0.1018  data_time: 0.0086  last_data_time: 0.0093   lr: 9.8576e-05  max_mem: 445M\n",
            "[02/19 23:02:06 d2.utils.events]:  eta: 0:03:45  iter: 2859  total_loss: 0.1132  loss_cls: 0.04216  loss_box_reg: 0.06612  loss_rpn_cls: 0.001855  loss_rpn_loc: 0.001298  time: 0.1144  last_time: 0.1024  data_time: 0.0083  last_data_time: 0.0117   lr: 9.7043e-05  max_mem: 445M\n",
            "[02/19 23:02:08 d2.utils.events]:  eta: 0:03:43  iter: 2879  total_loss: 0.09786  loss_cls: 0.04244  loss_box_reg: 0.05258  loss_rpn_cls: 0.001584  loss_rpn_loc: 0.0008776  time: 0.1145  last_time: 0.1352  data_time: 0.0113  last_data_time: 0.0172   lr: 9.5514e-05  max_mem: 445M\n",
            "[02/19 23:02:12 d2.utils.events]:  eta: 0:03:41  iter: 2899  total_loss: 0.1161  loss_cls: 0.04398  loss_box_reg: 0.06079  loss_rpn_cls: 0.001246  loss_rpn_loc: 0.001067  time: 0.1149  last_time: 0.1024  data_time: 0.0170  last_data_time: 0.0084   lr: 9.399e-05  max_mem: 445M\n",
            "[02/19 23:02:14 d2.utils.events]:  eta: 0:03:39  iter: 2919  total_loss: 0.1173  loss_cls: 0.03867  loss_box_reg: 0.06002  loss_rpn_cls: 0.001605  loss_rpn_loc: 0.001228  time: 0.1148  last_time: 0.0985  data_time: 0.0083  last_data_time: 0.0044   lr: 9.2471e-05  max_mem: 445M\n",
            "[02/19 23:02:16 d2.utils.events]:  eta: 0:03:36  iter: 2939  total_loss: 0.09652  loss_cls: 0.04151  loss_box_reg: 0.05322  loss_rpn_cls: 0.001973  loss_rpn_loc: 0.0009962  time: 0.1147  last_time: 0.0997  data_time: 0.0068  last_data_time: 0.0066   lr: 9.0957e-05  max_mem: 445M\n",
            "[02/19 23:02:18 d2.utils.events]:  eta: 0:03:34  iter: 2959  total_loss: 0.09802  loss_cls: 0.03712  loss_box_reg: 0.06131  loss_rpn_cls: 0.001414  loss_rpn_loc: 0.0009925  time: 0.1146  last_time: 0.1012  data_time: 0.0080  last_data_time: 0.0096   lr: 8.9448e-05  max_mem: 445M\n",
            "[02/19 23:02:20 d2.utils.events]:  eta: 0:03:32  iter: 2979  total_loss: 0.102  loss_cls: 0.04464  loss_box_reg: 0.05293  loss_rpn_cls: 0.001612  loss_rpn_loc: 0.00135  time: 0.1145  last_time: 0.0990  data_time: 0.0077  last_data_time: 0.0065   lr: 8.7945e-05  max_mem: 445M\n",
            "[02/19 23:02:22 d2.utils.events]:  eta: 0:03:30  iter: 2999  total_loss: 0.102  loss_cls: 0.03863  loss_box_reg: 0.07289  loss_rpn_cls: 0.001935  loss_rpn_loc: 0.001157  time: 0.1145  last_time: 0.1439  data_time: 0.0107  last_data_time: 0.0267   lr: 8.6448e-05  max_mem: 445M\n",
            "[02/19 23:02:25 d2.utils.events]:  eta: 0:03:28  iter: 3019  total_loss: 0.108  loss_cls: 0.05615  loss_box_reg: 0.05872  loss_rpn_cls: 0.001751  loss_rpn_loc: 0.001143  time: 0.1147  last_time: 0.1446  data_time: 0.0171  last_data_time: 0.0123   lr: 8.4956e-05  max_mem: 445M\n",
            "[02/19 23:02:27 d2.utils.events]:  eta: 0:03:25  iter: 3039  total_loss: 0.1016  loss_cls: 0.04042  loss_box_reg: 0.06393  loss_rpn_cls: 0.001933  loss_rpn_loc: 0.00115  time: 0.1147  last_time: 0.1017  data_time: 0.0081  last_data_time: 0.0096   lr: 8.3472e-05  max_mem: 445M\n",
            "[02/19 23:02:29 d2.utils.events]:  eta: 0:03:23  iter: 3059  total_loss: 0.1223  loss_cls: 0.04421  loss_box_reg: 0.06774  loss_rpn_cls: 0.001763  loss_rpn_loc: 0.001252  time: 0.1146  last_time: 0.1047  data_time: 0.0076  last_data_time: 0.0081   lr: 8.1993e-05  max_mem: 445M\n",
            "[02/19 23:02:31 d2.utils.events]:  eta: 0:03:21  iter: 3079  total_loss: 0.1258  loss_cls: 0.04544  loss_box_reg: 0.06063  loss_rpn_cls: 0.001359  loss_rpn_loc: 0.001069  time: 0.1145  last_time: 0.1011  data_time: 0.0086  last_data_time: 0.0041   lr: 8.0522e-05  max_mem: 445M\n",
            "[02/19 23:02:33 d2.utils.events]:  eta: 0:03:19  iter: 3099  total_loss: 0.1194  loss_cls: 0.04677  loss_box_reg: 0.0678  loss_rpn_cls: 0.001446  loss_rpn_loc: 0.001154  time: 0.1144  last_time: 0.1005  data_time: 0.0062  last_data_time: 0.0100   lr: 7.9057e-05  max_mem: 445M\n",
            "[02/19 23:02:35 d2.utils.events]:  eta: 0:03:16  iter: 3119  total_loss: 0.1015  loss_cls: 0.04057  loss_box_reg: 0.05933  loss_rpn_cls: 0.001662  loss_rpn_loc: 0.001511  time: 0.1143  last_time: 0.1384  data_time: 0.0068  last_data_time: 0.0207   lr: 7.76e-05  max_mem: 445M\n",
            "[02/19 23:02:38 d2.utils.events]:  eta: 0:03:15  iter: 3139  total_loss: 0.1081  loss_cls: 0.04221  loss_box_reg: 0.06859  loss_rpn_cls: 0.001472  loss_rpn_loc: 0.001374  time: 0.1145  last_time: 0.1405  data_time: 0.0140  last_data_time: 0.0123   lr: 7.6151e-05  max_mem: 445M\n",
            "[02/19 23:02:40 d2.utils.events]:  eta: 0:03:12  iter: 3159  total_loss: 0.1089  loss_cls: 0.0517  loss_box_reg: 0.05774  loss_rpn_cls: 0.001648  loss_rpn_loc: 0.001019  time: 0.1145  last_time: 0.0994  data_time: 0.0085  last_data_time: 0.0058   lr: 7.4709e-05  max_mem: 445M\n",
            "[02/19 23:02:42 d2.utils.events]:  eta: 0:03:10  iter: 3179  total_loss: 0.1052  loss_cls: 0.03498  loss_box_reg: 0.05129  loss_rpn_cls: 0.001311  loss_rpn_loc: 0.001128  time: 0.1144  last_time: 0.1062  data_time: 0.0093  last_data_time: 0.0084   lr: 7.3275e-05  max_mem: 445M\n",
            "[02/19 23:02:44 d2.utils.events]:  eta: 0:03:08  iter: 3199  total_loss: 0.1001  loss_cls: 0.03899  loss_box_reg: 0.05949  loss_rpn_cls: 0.001862  loss_rpn_loc: 0.001442  time: 0.1143  last_time: 0.1039  data_time: 0.0080  last_data_time: 0.0041   lr: 7.1849e-05  max_mem: 445M\n",
            "[02/19 23:02:47 d2.utils.events]:  eta: 0:03:06  iter: 3219  total_loss: 0.1072  loss_cls: 0.03698  loss_box_reg: 0.06064  loss_rpn_cls: 0.001288  loss_rpn_loc: 0.001115  time: 0.1143  last_time: 0.1040  data_time: 0.0087  last_data_time: 0.0040   lr: 7.0431e-05  max_mem: 445M\n",
            "[02/19 23:02:49 d2.utils.events]:  eta: 0:03:04  iter: 3239  total_loss: 0.1114  loss_cls: 0.04358  loss_box_reg: 0.0569  loss_rpn_cls: 0.001191  loss_rpn_loc: 0.001187  time: 0.1142  last_time: 0.0954  data_time: 0.0091  last_data_time: 0.0040   lr: 6.9022e-05  max_mem: 445M\n",
            "[02/19 23:02:51 d2.utils.events]:  eta: 0:03:02  iter: 3259  total_loss: 0.1064  loss_cls: 0.04047  loss_box_reg: 0.0623  loss_rpn_cls: 0.0017  loss_rpn_loc: 0.001165  time: 0.1143  last_time: 0.1325  data_time: 0.0131  last_data_time: 0.0161   lr: 6.7622e-05  max_mem: 445M\n",
            "[02/19 23:02:54 d2.utils.events]:  eta: 0:03:00  iter: 3279  total_loss: 0.1081  loss_cls: 0.03945  loss_box_reg: 0.06743  loss_rpn_cls: 0.001666  loss_rpn_loc: 0.001257  time: 0.1143  last_time: 0.1046  data_time: 0.0129  last_data_time: 0.0048   lr: 6.6231e-05  max_mem: 445M\n",
            "[02/19 23:02:56 d2.utils.events]:  eta: 0:02:57  iter: 3299  total_loss: 0.1061  loss_cls: 0.04238  loss_box_reg: 0.06684  loss_rpn_cls: 0.001699  loss_rpn_loc: 0.001174  time: 0.1143  last_time: 0.1037  data_time: 0.0071  last_data_time: 0.0038   lr: 6.485e-05  max_mem: 445M\n",
            "[02/19 23:02:58 d2.utils.events]:  eta: 0:02:55  iter: 3319  total_loss: 0.1078  loss_cls: 0.04164  loss_box_reg: 0.05563  loss_rpn_cls: 0.00175  loss_rpn_loc: 0.001113  time: 0.1142  last_time: 0.1056  data_time: 0.0088  last_data_time: 0.0100   lr: 6.3477e-05  max_mem: 445M\n",
            "[02/19 23:03:00 d2.utils.events]:  eta: 0:02:53  iter: 3339  total_loss: 0.1142  loss_cls: 0.04014  loss_box_reg: 0.05879  loss_rpn_cls: 0.001342  loss_rpn_loc: 0.001123  time: 0.1141  last_time: 0.0978  data_time: 0.0078  last_data_time: 0.0047   lr: 6.2115e-05  max_mem: 445M\n",
            "[02/19 23:03:02 d2.utils.events]:  eta: 0:02:51  iter: 3359  total_loss: 0.1108  loss_cls: 0.03946  loss_box_reg: 0.05813  loss_rpn_cls: 0.002225  loss_rpn_loc: 0.001183  time: 0.1141  last_time: 0.1118  data_time: 0.0071  last_data_time: 0.0113   lr: 6.0762e-05  max_mem: 445M\n",
            "[02/19 23:03:04 d2.utils.events]:  eta: 0:02:49  iter: 3379  total_loss: 0.1233  loss_cls: 0.05147  loss_box_reg: 0.06519  loss_rpn_cls: 0.001562  loss_rpn_loc: 0.001482  time: 0.1141  last_time: 0.1250  data_time: 0.0138  last_data_time: 0.0154   lr: 5.942e-05  max_mem: 445M\n",
            "[02/19 23:03:07 d2.utils.events]:  eta: 0:02:47  iter: 3399  total_loss: 0.1009  loss_cls: 0.03453  loss_box_reg: 0.06396  loss_rpn_cls: 0.001883  loss_rpn_loc: 0.001395  time: 0.1143  last_time: 0.1618  data_time: 0.0136  last_data_time: 0.0122   lr: 5.8088e-05  max_mem: 445M\n",
            "[02/19 23:03:10 d2.utils.events]:  eta: 0:02:45  iter: 3419  total_loss: 0.09547  loss_cls: 0.03173  loss_box_reg: 0.05242  loss_rpn_cls: 0.001189  loss_rpn_loc: 0.001012  time: 0.1143  last_time: 0.1014  data_time: 0.0086  last_data_time: 0.0049   lr: 5.6766e-05  max_mem: 445M\n",
            "[02/19 23:03:12 d2.utils.events]:  eta: 0:02:43  iter: 3439  total_loss: 0.1007  loss_cls: 0.03986  loss_box_reg: 0.05713  loss_rpn_cls: 0.001429  loss_rpn_loc: 0.001311  time: 0.1142  last_time: 0.0989  data_time: 0.0057  last_data_time: 0.0050   lr: 5.5456e-05  max_mem: 445M\n",
            "[02/19 23:03:14 d2.utils.events]:  eta: 0:02:41  iter: 3459  total_loss: 0.1216  loss_cls: 0.03856  loss_box_reg: 0.06575  loss_rpn_cls: 0.00152  loss_rpn_loc: 0.001329  time: 0.1142  last_time: 0.0974  data_time: 0.0092  last_data_time: 0.0088   lr: 5.4156e-05  max_mem: 445M\n",
            "[02/19 23:03:16 d2.utils.events]:  eta: 0:02:38  iter: 3479  total_loss: 0.1072  loss_cls: 0.03965  loss_box_reg: 0.06665  loss_rpn_cls: 0.001232  loss_rpn_loc: 0.001122  time: 0.1142  last_time: 0.1102  data_time: 0.0106  last_data_time: 0.0045   lr: 5.2868e-05  max_mem: 445M\n",
            "[02/19 23:03:21 d2.utils.events]:  eta: 0:02:37  iter: 3499  total_loss: 0.1011  loss_cls: 0.03892  loss_box_reg: 0.0583  loss_rpn_cls: 0.001283  loss_rpn_loc: 0.001221  time: 0.1150  last_time: 0.1572  data_time: 0.0256  last_data_time: 0.0273   lr: 5.159e-05  max_mem: 445M\n",
            "[02/19 23:03:23 d2.utils.events]:  eta: 0:02:34  iter: 3519  total_loss: 0.1028  loss_cls: 0.04694  loss_box_reg: 0.05359  loss_rpn_cls: 0.001065  loss_rpn_loc: 0.00116  time: 0.1149  last_time: 0.1039  data_time: 0.0076  last_data_time: 0.0084   lr: 5.0325e-05  max_mem: 445M\n",
            "[02/19 23:03:25 d2.utils.events]:  eta: 0:02:32  iter: 3539  total_loss: 0.1045  loss_cls: 0.04226  loss_box_reg: 0.05857  loss_rpn_cls: 0.001353  loss_rpn_loc: 0.001399  time: 0.1149  last_time: 0.1095  data_time: 0.0077  last_data_time: 0.0041   lr: 4.9071e-05  max_mem: 445M\n",
            "[02/19 23:03:27 d2.utils.events]:  eta: 0:02:30  iter: 3559  total_loss: 0.08886  loss_cls: 0.03939  loss_box_reg: 0.0483  loss_rpn_cls: 0.001077  loss_rpn_loc: 0.0009845  time: 0.1148  last_time: 0.1090  data_time: 0.0084  last_data_time: 0.0117   lr: 4.7829e-05  max_mem: 445M\n",
            "[02/19 23:03:29 d2.utils.events]:  eta: 0:02:28  iter: 3579  total_loss: 0.09969  loss_cls: 0.03763  loss_box_reg: 0.06167  loss_rpn_cls: 0.001203  loss_rpn_loc: 0.001306  time: 0.1147  last_time: 0.1050  data_time: 0.0067  last_data_time: 0.0066   lr: 4.66e-05  max_mem: 445M\n",
            "[02/19 23:03:32 d2.utils.events]:  eta: 0:02:25  iter: 3599  total_loss: 0.09178  loss_cls: 0.02926  loss_box_reg: 0.05574  loss_rpn_cls: 0.001412  loss_rpn_loc: 0.001093  time: 0.1147  last_time: 0.1264  data_time: 0.0086  last_data_time: 0.0160   lr: 4.5383e-05  max_mem: 445M\n",
            "[02/19 23:03:34 d2.utils.events]:  eta: 0:02:24  iter: 3619  total_loss: 0.09619  loss_cls: 0.04278  loss_box_reg: 0.05301  loss_rpn_cls: 0.001448  loss_rpn_loc: 0.000872  time: 0.1148  last_time: 0.1322  data_time: 0.0138  last_data_time: 0.0048   lr: 4.4178e-05  max_mem: 445M\n",
            "[02/19 23:03:37 d2.utils.events]:  eta: 0:02:21  iter: 3639  total_loss: 0.1065  loss_cls: 0.03864  loss_box_reg: 0.05848  loss_rpn_cls: 0.00122  loss_rpn_loc: 0.001071  time: 0.1148  last_time: 0.1045  data_time: 0.0075  last_data_time: 0.0039   lr: 4.2986e-05  max_mem: 445M\n",
            "[02/19 23:03:39 d2.utils.events]:  eta: 0:02:19  iter: 3659  total_loss: 0.09446  loss_cls: 0.03307  loss_box_reg: 0.05508  loss_rpn_cls: 0.001148  loss_rpn_loc: 0.001117  time: 0.1147  last_time: 0.1013  data_time: 0.0078  last_data_time: 0.0047   lr: 4.1807e-05  max_mem: 445M\n",
            "[02/19 23:03:41 d2.utils.events]:  eta: 0:02:17  iter: 3679  total_loss: 0.1051  loss_cls: 0.03909  loss_box_reg: 0.06062  loss_rpn_cls: 0.0009868  loss_rpn_loc: 0.001149  time: 0.1146  last_time: 0.0989  data_time: 0.0086  last_data_time: 0.0047   lr: 4.0641e-05  max_mem: 445M\n",
            "[02/19 23:03:43 d2.utils.events]:  eta: 0:02:15  iter: 3699  total_loss: 0.1012  loss_cls: 0.03865  loss_box_reg: 0.05622  loss_rpn_cls: 0.00183  loss_rpn_loc: 0.0009531  time: 0.1146  last_time: 0.1017  data_time: 0.0081  last_data_time: 0.0123   lr: 3.9489e-05  max_mem: 445M\n",
            "[02/19 23:03:45 d2.utils.events]:  eta: 0:02:12  iter: 3719  total_loss: 0.1012  loss_cls: 0.03826  loss_box_reg: 0.05874  loss_rpn_cls: 0.001728  loss_rpn_loc: 0.001404  time: 0.1145  last_time: 0.1106  data_time: 0.0065  last_data_time: 0.0045   lr: 3.835e-05  max_mem: 445M\n",
            "[02/19 23:03:48 d2.utils.events]:  eta: 0:02:10  iter: 3739  total_loss: 0.1172  loss_cls: 0.0425  loss_box_reg: 0.06638  loss_rpn_cls: 0.001696  loss_rpn_loc: 0.001165  time: 0.1146  last_time: 0.1293  data_time: 0.0175  last_data_time: 0.0116   lr: 3.7225e-05  max_mem: 445M\n",
            "[02/19 23:03:50 d2.utils.events]:  eta: 0:02:08  iter: 3759  total_loss: 0.09887  loss_cls: 0.03839  loss_box_reg: 0.05012  loss_rpn_cls: 0.001384  loss_rpn_loc: 0.001267  time: 0.1146  last_time: 0.0968  data_time: 0.0108  last_data_time: 0.0041   lr: 3.6113e-05  max_mem: 445M\n",
            "[02/19 23:03:52 d2.utils.events]:  eta: 0:02:06  iter: 3779  total_loss: 0.09675  loss_cls: 0.0386  loss_box_reg: 0.04789  loss_rpn_cls: 0.001225  loss_rpn_loc: 0.00127  time: 0.1146  last_time: 0.1083  data_time: 0.0081  last_data_time: 0.0173   lr: 3.5016e-05  max_mem: 445M\n",
            "[02/19 23:03:54 d2.utils.events]:  eta: 0:02:04  iter: 3799  total_loss: 0.105  loss_cls: 0.03314  loss_box_reg: 0.06735  loss_rpn_cls: 0.001483  loss_rpn_loc: 0.001432  time: 0.1145  last_time: 0.1084  data_time: 0.0088  last_data_time: 0.0167   lr: 3.3933e-05  max_mem: 445M\n",
            "[02/19 23:03:56 d2.utils.events]:  eta: 0:02:02  iter: 3819  total_loss: 0.09095  loss_cls: 0.04135  loss_box_reg: 0.04878  loss_rpn_cls: 0.001316  loss_rpn_loc: 0.001207  time: 0.1144  last_time: 0.1058  data_time: 0.0084  last_data_time: 0.0044   lr: 3.2864e-05  max_mem: 445M\n",
            "[02/19 23:03:58 d2.utils.events]:  eta: 0:02:00  iter: 3839  total_loss: 0.09462  loss_cls: 0.03454  loss_box_reg: 0.05727  loss_rpn_cls: 0.001758  loss_rpn_loc: 0.001044  time: 0.1144  last_time: 0.0987  data_time: 0.0072  last_data_time: 0.0044   lr: 3.181e-05  max_mem: 445M\n",
            "[02/19 23:04:01 d2.utils.events]:  eta: 0:01:58  iter: 3859  total_loss: 0.09451  loss_cls: 0.03674  loss_box_reg: 0.05691  loss_rpn_cls: 0.001743  loss_rpn_loc: 0.001092  time: 0.1144  last_time: 0.1443  data_time: 0.0125  last_data_time: 0.0185   lr: 3.077e-05  max_mem: 445M\n",
            "[02/19 23:04:03 d2.utils.events]:  eta: 0:01:56  iter: 3879  total_loss: 0.1152  loss_cls: 0.03779  loss_box_reg: 0.06621  loss_rpn_cls: 0.001595  loss_rpn_loc: 0.001309  time: 0.1145  last_time: 0.1014  data_time: 0.0118  last_data_time: 0.0073   lr: 2.9746e-05  max_mem: 445M\n",
            "[02/19 23:04:05 d2.utils.events]:  eta: 0:01:54  iter: 3899  total_loss: 0.1155  loss_cls: 0.05349  loss_box_reg: 0.05791  loss_rpn_cls: 0.001475  loss_rpn_loc: 0.001156  time: 0.1144  last_time: 0.0971  data_time: 0.0058  last_data_time: 0.0041   lr: 2.8736e-05  max_mem: 445M\n",
            "[02/19 23:04:07 d2.utils.events]:  eta: 0:01:51  iter: 3919  total_loss: 0.09693  loss_cls: 0.03911  loss_box_reg: 0.05707  loss_rpn_cls: 0.001665  loss_rpn_loc: 0.001182  time: 0.1144  last_time: 0.1028  data_time: 0.0085  last_data_time: 0.0043   lr: 2.7742e-05  max_mem: 445M\n",
            "[02/19 23:04:09 d2.utils.events]:  eta: 0:01:49  iter: 3939  total_loss: 0.08516  loss_cls: 0.02976  loss_box_reg: 0.05408  loss_rpn_cls: 0.001346  loss_rpn_loc: 0.001074  time: 0.1143  last_time: 0.1039  data_time: 0.0073  last_data_time: 0.0111   lr: 2.6762e-05  max_mem: 445M\n",
            "[02/19 23:04:11 d2.utils.events]:  eta: 0:01:47  iter: 3959  total_loss: 0.1096  loss_cls: 0.0405  loss_box_reg: 0.05916  loss_rpn_cls: 0.001496  loss_rpn_loc: 0.001158  time: 0.1142  last_time: 0.0993  data_time: 0.0094  last_data_time: 0.0083   lr: 2.5799e-05  max_mem: 445M\n",
            "[02/19 23:04:14 d2.utils.events]:  eta: 0:01:45  iter: 3979  total_loss: 0.1069  loss_cls: 0.03559  loss_box_reg: 0.05526  loss_rpn_cls: 0.001483  loss_rpn_loc: 0.001257  time: 0.1143  last_time: 0.1347  data_time: 0.0129  last_data_time: 0.0196   lr: 2.4851e-05  max_mem: 445M\n",
            "[02/19 23:04:17 d2.utils.events]:  eta: 0:01:43  iter: 3999  total_loss: 0.09648  loss_cls: 0.03482  loss_box_reg: 0.05176  loss_rpn_cls: 0.001653  loss_rpn_loc: 0.001028  time: 0.1144  last_time: 0.1075  data_time: 0.0131  last_data_time: 0.0132   lr: 2.3919e-05  max_mem: 445M\n",
            "[02/19 23:04:19 d2.utils.events]:  eta: 0:01:41  iter: 4019  total_loss: 0.1037  loss_cls: 0.04016  loss_box_reg: 0.05936  loss_rpn_cls: 0.001782  loss_rpn_loc: 0.001112  time: 0.1143  last_time: 0.1060  data_time: 0.0079  last_data_time: 0.0039   lr: 2.3003e-05  max_mem: 445M\n",
            "[02/19 23:04:21 d2.utils.events]:  eta: 0:01:39  iter: 4039  total_loss: 0.1193  loss_cls: 0.03881  loss_box_reg: 0.06417  loss_rpn_cls: 0.001383  loss_rpn_loc: 0.001125  time: 0.1143  last_time: 0.1153  data_time: 0.0064  last_data_time: 0.0065   lr: 2.2103e-05  max_mem: 445M\n",
            "[02/19 23:04:23 d2.utils.events]:  eta: 0:01:37  iter: 4059  total_loss: 0.09111  loss_cls: 0.03787  loss_box_reg: 0.05223  loss_rpn_cls: 0.001034  loss_rpn_loc: 0.001082  time: 0.1142  last_time: 0.1087  data_time: 0.0077  last_data_time: 0.0120   lr: 2.1219e-05  max_mem: 445M\n",
            "[02/19 23:04:25 d2.utils.events]:  eta: 0:01:35  iter: 4079  total_loss: 0.1037  loss_cls: 0.04502  loss_box_reg: 0.05719  loss_rpn_cls: 0.001212  loss_rpn_loc: 0.001014  time: 0.1141  last_time: 0.0997  data_time: 0.0075  last_data_time: 0.0047   lr: 2.0352e-05  max_mem: 445M\n",
            "[02/19 23:04:27 d2.utils.events]:  eta: 0:01:33  iter: 4099  total_loss: 0.1002  loss_cls: 0.04216  loss_box_reg: 0.05821  loss_rpn_cls: 0.001729  loss_rpn_loc: 0.001593  time: 0.1142  last_time: 0.1418  data_time: 0.0092  last_data_time: 0.0202   lr: 1.9501e-05  max_mem: 445M\n",
            "[02/19 23:04:30 d2.utils.events]:  eta: 0:01:31  iter: 4119  total_loss: 0.08899  loss_cls: 0.03387  loss_box_reg: 0.05579  loss_rpn_cls: 0.001458  loss_rpn_loc: 0.0009541  time: 0.1143  last_time: 0.1587  data_time: 0.0156  last_data_time: 0.0250   lr: 1.8667e-05  max_mem: 445M\n",
            "[02/19 23:04:32 d2.utils.events]:  eta: 0:01:29  iter: 4139  total_loss: 0.1216  loss_cls: 0.05072  loss_box_reg: 0.06048  loss_rpn_cls: 0.001856  loss_rpn_loc: 0.001512  time: 0.1142  last_time: 0.1029  data_time: 0.0064  last_data_time: 0.0039   lr: 1.785e-05  max_mem: 445M\n",
            "[02/19 23:04:34 d2.utils.events]:  eta: 0:01:27  iter: 4159  total_loss: 0.09979  loss_cls: 0.04018  loss_box_reg: 0.05107  loss_rpn_cls: 0.002433  loss_rpn_loc: 0.001438  time: 0.1142  last_time: 0.0988  data_time: 0.0058  last_data_time: 0.0068   lr: 1.7049e-05  max_mem: 445M\n",
            "[02/19 23:04:36 d2.utils.events]:  eta: 0:01:24  iter: 4179  total_loss: 0.1088  loss_cls: 0.03445  loss_box_reg: 0.06158  loss_rpn_cls: 0.001146  loss_rpn_loc: 0.001248  time: 0.1141  last_time: 0.0979  data_time: 0.0066  last_data_time: 0.0039   lr: 1.6266e-05  max_mem: 445M\n",
            "[02/19 23:04:38 d2.utils.events]:  eta: 0:01:22  iter: 4199  total_loss: 0.09974  loss_cls: 0.04877  loss_box_reg: 0.05545  loss_rpn_cls: 0.001232  loss_rpn_loc: 0.001199  time: 0.1141  last_time: 0.0987  data_time: 0.0076  last_data_time: 0.0046   lr: 1.55e-05  max_mem: 445M\n",
            "[02/19 23:04:41 d2.utils.events]:  eta: 0:01:20  iter: 4219  total_loss: 0.102  loss_cls: 0.04232  loss_box_reg: 0.06341  loss_rpn_cls: 0.001001  loss_rpn_loc: 0.00113  time: 0.1142  last_time: 0.1483  data_time: 0.0117  last_data_time: 0.0209   lr: 1.4751e-05  max_mem: 445M\n",
            "[02/19 23:04:44 d2.utils.events]:  eta: 0:01:18  iter: 4239  total_loss: 0.1067  loss_cls: 0.04225  loss_box_reg: 0.0582  loss_rpn_cls: 0.001315  loss_rpn_loc: 0.0009701  time: 0.1143  last_time: 0.1004  data_time: 0.0145  last_data_time: 0.0106   lr: 1.4019e-05  max_mem: 445M\n",
            "[02/19 23:04:46 d2.utils.events]:  eta: 0:01:16  iter: 4259  total_loss: 0.0876  loss_cls: 0.03379  loss_box_reg: 0.05077  loss_rpn_cls: 0.001114  loss_rpn_loc: 0.0009824  time: 0.1143  last_time: 0.1264  data_time: 0.0076  last_data_time: 0.0216   lr: 1.3305e-05  max_mem: 445M\n",
            "[02/19 23:04:48 d2.utils.events]:  eta: 0:01:14  iter: 4279  total_loss: 0.1101  loss_cls: 0.03803  loss_box_reg: 0.07022  loss_rpn_cls: 0.001652  loss_rpn_loc: 0.001076  time: 0.1142  last_time: 0.0984  data_time: 0.0102  last_data_time: 0.0043   lr: 1.2609e-05  max_mem: 445M\n",
            "[02/19 23:04:50 d2.utils.events]:  eta: 0:01:12  iter: 4299  total_loss: 0.09324  loss_cls: 0.03247  loss_box_reg: 0.05531  loss_rpn_cls: 0.001563  loss_rpn_loc: 0.001425  time: 0.1142  last_time: 0.0964  data_time: 0.0065  last_data_time: 0.0045   lr: 1.193e-05  max_mem: 445M\n",
            "[02/19 23:04:52 d2.utils.events]:  eta: 0:01:10  iter: 4319  total_loss: 0.1009  loss_cls: 0.04066  loss_box_reg: 0.06007  loss_rpn_cls: 0.001488  loss_rpn_loc: 0.001059  time: 0.1141  last_time: 0.0971  data_time: 0.0078  last_data_time: 0.0067   lr: 1.1269e-05  max_mem: 445M\n",
            "[02/19 23:04:54 d2.utils.events]:  eta: 0:01:08  iter: 4339  total_loss: 0.09878  loss_cls: 0.03504  loss_box_reg: 0.05774  loss_rpn_cls: 0.001503  loss_rpn_loc: 0.001559  time: 0.1141  last_time: 0.1227  data_time: 0.0091  last_data_time: 0.0163   lr: 1.0627e-05  max_mem: 445M\n",
            "[02/19 23:04:57 d2.utils.events]:  eta: 0:01:06  iter: 4359  total_loss: 0.09664  loss_cls: 0.03718  loss_box_reg: 0.058  loss_rpn_cls: 0.001268  loss_rpn_loc: 0.001156  time: 0.1142  last_time: 0.1463  data_time: 0.0166  last_data_time: 0.0191   lr: 1.0002e-05  max_mem: 445M\n",
            "[02/19 23:04:59 d2.utils.events]:  eta: 0:01:04  iter: 4379  total_loss: 0.09208  loss_cls: 0.03322  loss_box_reg: 0.06008  loss_rpn_cls: 0.001759  loss_rpn_loc: 0.0009452  time: 0.1142  last_time: 0.1071  data_time: 0.0093  last_data_time: 0.0137   lr: 9.3952e-06  max_mem: 445M\n",
            "[02/19 23:05:01 d2.utils.events]:  eta: 0:01:02  iter: 4399  total_loss: 0.1039  loss_cls: 0.03801  loss_box_reg: 0.0557  loss_rpn_cls: 0.001365  loss_rpn_loc: 0.001253  time: 0.1141  last_time: 0.1043  data_time: 0.0083  last_data_time: 0.0116   lr: 8.8069e-06  max_mem: 445M\n",
            "[02/19 23:05:04 d2.utils.events]:  eta: 0:01:00  iter: 4419  total_loss: 0.09449  loss_cls: 0.03189  loss_box_reg: 0.05795  loss_rpn_cls: 0.001872  loss_rpn_loc: 0.001186  time: 0.1141  last_time: 0.0998  data_time: 0.0081  last_data_time: 0.0042   lr: 8.2369e-06  max_mem: 445M\n",
            "[02/19 23:05:06 d2.utils.events]:  eta: 0:00:58  iter: 4439  total_loss: 0.1026  loss_cls: 0.0302  loss_box_reg: 0.05613  loss_rpn_cls: 0.001431  loss_rpn_loc: 0.001255  time: 0.1140  last_time: 0.0993  data_time: 0.0079  last_data_time: 0.0042   lr: 7.6854e-06  max_mem: 445M\n",
            "[02/19 23:05:08 d2.utils.events]:  eta: 0:00:55  iter: 4459  total_loss: 0.1048  loss_cls: 0.03815  loss_box_reg: 0.06055  loss_rpn_cls: 0.001194  loss_rpn_loc: 0.001245  time: 0.1140  last_time: 0.0974  data_time: 0.0090  last_data_time: 0.0044   lr: 7.1523e-06  max_mem: 445M\n",
            "[02/19 23:05:10 d2.utils.events]:  eta: 0:00:53  iter: 4479  total_loss: 0.1029  loss_cls: 0.03749  loss_box_reg: 0.05886  loss_rpn_cls: 0.001303  loss_rpn_loc: 0.001057  time: 0.1141  last_time: 0.1326  data_time: 0.0146  last_data_time: 0.0133   lr: 6.6379e-06  max_mem: 445M\n",
            "[02/19 23:05:13 d2.utils.events]:  eta: 0:00:51  iter: 4499  total_loss: 0.1047  loss_cls: 0.04509  loss_box_reg: 0.04913  loss_rpn_cls: 0.001027  loss_rpn_loc: 0.001008  time: 0.1141  last_time: 0.1005  data_time: 0.0118  last_data_time: 0.0112   lr: 6.1422e-06  max_mem: 445M\n",
            "[02/19 23:05:15 d2.utils.events]:  eta: 0:00:49  iter: 4519  total_loss: 0.09926  loss_cls: 0.03067  loss_box_reg: 0.05939  loss_rpn_cls: 0.001472  loss_rpn_loc: 0.001301  time: 0.1140  last_time: 0.0982  data_time: 0.0069  last_data_time: 0.0070   lr: 5.6653e-06  max_mem: 445M\n",
            "[02/19 23:05:17 d2.utils.events]:  eta: 0:00:47  iter: 4539  total_loss: 0.07533  loss_cls: 0.02479  loss_box_reg: 0.04504  loss_rpn_cls: 0.001058  loss_rpn_loc: 0.001187  time: 0.1140  last_time: 0.0975  data_time: 0.0082  last_data_time: 0.0050   lr: 5.2072e-06  max_mem: 445M\n",
            "[02/19 23:05:19 d2.utils.events]:  eta: 0:00:45  iter: 4559  total_loss: 0.09348  loss_cls: 0.03098  loss_box_reg: 0.05578  loss_rpn_cls: 0.001964  loss_rpn_loc: 0.001481  time: 0.1139  last_time: 0.1109  data_time: 0.0074  last_data_time: 0.0145   lr: 4.768e-06  max_mem: 445M\n",
            "[02/19 23:05:21 d2.utils.events]:  eta: 0:00:43  iter: 4579  total_loss: 0.08945  loss_cls: 0.03188  loss_box_reg: 0.05809  loss_rpn_cls: 0.001452  loss_rpn_loc: 0.001317  time: 0.1139  last_time: 0.1088  data_time: 0.0070  last_data_time: 0.0107   lr: 4.3478e-06  max_mem: 445M\n",
            "[02/19 23:05:24 d2.utils.events]:  eta: 0:00:41  iter: 4599  total_loss: 0.1005  loss_cls: 0.03979  loss_box_reg: 0.05826  loss_rpn_cls: 0.001247  loss_rpn_loc: 0.001063  time: 0.1139  last_time: 0.1302  data_time: 0.0161  last_data_time: 0.0154   lr: 3.9467e-06  max_mem: 445M\n",
            "[02/19 23:05:26 d2.utils.events]:  eta: 0:00:39  iter: 4619  total_loss: 0.1045  loss_cls: 0.03986  loss_box_reg: 0.05639  loss_rpn_cls: 0.001483  loss_rpn_loc: 0.00104  time: 0.1140  last_time: 0.0987  data_time: 0.0120  last_data_time: 0.0044   lr: 3.5646e-06  max_mem: 445M\n",
            "[02/19 23:05:28 d2.utils.events]:  eta: 0:00:37  iter: 4639  total_loss: 0.0988  loss_cls: 0.03717  loss_box_reg: 0.05127  loss_rpn_cls: 0.002169  loss_rpn_loc: 0.001015  time: 0.1139  last_time: 0.0994  data_time: 0.0071  last_data_time: 0.0066   lr: 3.2018e-06  max_mem: 445M\n",
            "[02/19 23:05:30 d2.utils.events]:  eta: 0:00:35  iter: 4659  total_loss: 0.1115  loss_cls: 0.04123  loss_box_reg: 0.05633  loss_rpn_cls: 0.001158  loss_rpn_loc: 0.001015  time: 0.1139  last_time: 0.0996  data_time: 0.0075  last_data_time: 0.0097   lr: 2.8582e-06  max_mem: 445M\n",
            "[02/19 23:05:32 d2.utils.events]:  eta: 0:00:33  iter: 4679  total_loss: 0.08967  loss_cls: 0.03171  loss_box_reg: 0.05438  loss_rpn_cls: 0.001433  loss_rpn_loc: 0.001161  time: 0.1138  last_time: 0.0992  data_time: 0.0086  last_data_time: 0.0052   lr: 2.5338e-06  max_mem: 445M\n",
            "[02/19 23:05:34 d2.utils.events]:  eta: 0:00:31  iter: 4699  total_loss: 0.1019  loss_cls: 0.03211  loss_box_reg: 0.05402  loss_rpn_cls: 0.00259  loss_rpn_loc: 0.001122  time: 0.1138  last_time: 0.1054  data_time: 0.0072  last_data_time: 0.0109   lr: 2.2288e-06  max_mem: 445M\n",
            "[02/19 23:05:37 d2.utils.events]:  eta: 0:00:29  iter: 4719  total_loss: 0.101  loss_cls: 0.03839  loss_box_reg: 0.05759  loss_rpn_cls: 0.001781  loss_rpn_loc: 0.001167  time: 0.1138  last_time: 0.1278  data_time: 0.0120  last_data_time: 0.0124   lr: 1.9432e-06  max_mem: 445M\n",
            "[02/19 23:05:39 d2.utils.events]:  eta: 0:00:26  iter: 4739  total_loss: 0.09838  loss_cls: 0.03487  loss_box_reg: 0.05742  loss_rpn_cls: 0.001312  loss_rpn_loc: 0.001042  time: 0.1139  last_time: 0.1005  data_time: 0.0125  last_data_time: 0.0127   lr: 1.6771e-06  max_mem: 445M\n",
            "[02/19 23:05:41 d2.utils.events]:  eta: 0:00:24  iter: 4759  total_loss: 0.08527  loss_cls: 0.03387  loss_box_reg: 0.05252  loss_rpn_cls: 0.001508  loss_rpn_loc: 0.001181  time: 0.1138  last_time: 0.1037  data_time: 0.0079  last_data_time: 0.0167   lr: 1.4304e-06  max_mem: 445M\n",
            "[02/19 23:05:44 d2.utils.events]:  eta: 0:00:22  iter: 4779  total_loss: 0.12  loss_cls: 0.05015  loss_box_reg: 0.0597  loss_rpn_cls: 0.001553  loss_rpn_loc: 0.001025  time: 0.1138  last_time: 0.0958  data_time: 0.0072  last_data_time: 0.0043   lr: 1.2032e-06  max_mem: 445M\n",
            "[02/19 23:05:46 d2.utils.events]:  eta: 0:00:20  iter: 4799  total_loss: 0.09542  loss_cls: 0.03615  loss_box_reg: 0.05603  loss_rpn_cls: 0.00119  loss_rpn_loc: 0.001143  time: 0.1137  last_time: 0.1012  data_time: 0.0101  last_data_time: 0.0075   lr: 9.9553e-07  max_mem: 445M\n",
            "[02/19 23:05:48 d2.utils.events]:  eta: 0:00:18  iter: 4819  total_loss: 0.0999  loss_cls: 0.03807  loss_box_reg: 0.05067  loss_rpn_cls: 0.001113  loss_rpn_loc: 0.00108  time: 0.1137  last_time: 0.1046  data_time: 0.0064  last_data_time: 0.0042   lr: 8.0747e-07  max_mem: 445M\n",
            "[02/19 23:05:50 d2.utils.events]:  eta: 0:00:16  iter: 4839  total_loss: 0.1007  loss_cls: 0.02703  loss_box_reg: 0.06109  loss_rpn_cls: 0.001871  loss_rpn_loc: 0.001291  time: 0.1137  last_time: 0.1418  data_time: 0.0102  last_data_time: 0.0223   lr: 6.3903e-07  max_mem: 445M\n",
            "[02/19 23:05:53 d2.utils.events]:  eta: 0:00:14  iter: 4859  total_loss: 0.116  loss_cls: 0.04453  loss_box_reg: 0.06558  loss_rpn_cls: 0.001453  loss_rpn_loc: 0.001049  time: 0.1138  last_time: 0.1303  data_time: 0.0161  last_data_time: 0.0048   lr: 4.9022e-07  max_mem: 445M\n",
            "[02/19 23:05:55 d2.utils.events]:  eta: 0:00:12  iter: 4879  total_loss: 0.1035  loss_cls: 0.03879  loss_box_reg: 0.05631  loss_rpn_cls: 0.001441  loss_rpn_loc: 0.001342  time: 0.1138  last_time: 0.0969  data_time: 0.0092  last_data_time: 0.0044   lr: 3.6108e-07  max_mem: 445M\n",
            "[02/19 23:05:57 d2.utils.events]:  eta: 0:00:10  iter: 4899  total_loss: 0.1138  loss_cls: 0.04572  loss_box_reg: 0.06198  loss_rpn_cls: 0.001339  loss_rpn_loc: 0.001169  time: 0.1137  last_time: 0.1075  data_time: 0.0073  last_data_time: 0.0086   lr: 2.5162e-07  max_mem: 445M\n",
            "[02/19 23:05:59 d2.utils.events]:  eta: 0:00:08  iter: 4919  total_loss: 0.1099  loss_cls: 0.05144  loss_box_reg: 0.05928  loss_rpn_cls: 0.001023  loss_rpn_loc: 0.001371  time: 0.1137  last_time: 0.1078  data_time: 0.0070  last_data_time: 0.0043   lr: 1.6185e-07  max_mem: 445M\n",
            "[02/19 23:06:01 d2.utils.events]:  eta: 0:00:06  iter: 4939  total_loss: 0.0865  loss_cls: 0.03008  loss_box_reg: 0.05063  loss_rpn_cls: 0.001172  loss_rpn_loc: 0.001282  time: 0.1136  last_time: 0.1012  data_time: 0.0088  last_data_time: 0.0049   lr: 9.1801e-08  max_mem: 445M\n",
            "[02/19 23:06:03 d2.utils.events]:  eta: 0:00:04  iter: 4959  total_loss: 0.08902  loss_cls: 0.03555  loss_box_reg: 0.05437  loss_rpn_cls: 0.001423  loss_rpn_loc: 0.001144  time: 0.1136  last_time: 0.1458  data_time: 0.0075  last_data_time: 0.0244   lr: 4.1475e-08  max_mem: 445M\n",
            "[02/19 23:06:06 d2.utils.events]:  eta: 0:00:02  iter: 4979  total_loss: 0.09666  loss_cls: 0.04057  loss_box_reg: 0.05782  loss_rpn_cls: 0.00131  loss_rpn_loc: 0.001247  time: 0.1137  last_time: 0.1435  data_time: 0.0172  last_data_time: 0.0151   lr: 1.0881e-08  max_mem: 445M\n",
            "[02/19 23:06:09 d2.utils.events]:  eta: 0:00:00  iter: 4999  total_loss: 0.0997  loss_cls: 0.04567  loss_box_reg: 0.05116  loss_rpn_cls: 0.001221  loss_rpn_loc: 0.0009112  time: 0.1137  last_time: 0.1101  data_time: 0.0115  last_data_time: 0.0110   lr: 2.4674e-11  max_mem: 445M\n",
            "[02/19 23:06:09 d2.engine.hooks]: Overall training speed: 4998 iterations in 0:09:28 (0.1137 s / it)\n",
            "[02/19 23:06:09 d2.engine.hooks]: Total training time: 0:09:31 (0:00:03 on hooks)\n"
          ]
        },
        {
          "data": {
            "text/plain": [
              "{'model_final': CfgNode({'VERSION': 2, 'MODEL': CfgNode({'LOAD_PROPOSALS': False, 'MASK_ON': False, 'KEYPOINT_ON': False, 'DEVICE': 'cuda', 'META_ARCHITECTURE': 'GeneralizedRCNN', 'WEIGHTS': './output/model_final.pth', 'PIXEL_MEAN': [103.53, 116.28, 123.675], 'PIXEL_STD': [1.0, 1.0, 1.0], 'BACKBONE': CfgNode({'NAME': 'FBNetV2C4Backbone', 'FREEZE_AT': 2}), 'FPN': CfgNode({'IN_FEATURES': [], 'OUT_CHANNELS': 256, 'NORM': '', 'FUSE_TYPE': 'sum'}), 'PROPOSAL_GENERATOR': CfgNode({'NAME': 'RPN', 'MIN_SIZE': 0}), 'ANCHOR_GENERATOR': CfgNode({'NAME': 'DefaultAnchorGenerator', 'SIZES': [[32, 64, 96, 128, 160]], 'ASPECT_RATIOS': [[0.5, 1.0, 2.0]], 'ANGLES': [[-90, 0, 90]], 'OFFSET': 0.0}), 'RPN': CfgNode({'HEAD_NAME': 'FBNetV2RpnHead', 'IN_FEATURES': ['trunk3'], 'BOUNDARY_THRESH': -1, 'IOU_THRESHOLDS': [0.3, 0.7], 'IOU_LABELS': [0, -1, 1], 'BATCH_SIZE_PER_IMAGE': 256, 'POSITIVE_FRACTION': 0.5, 'BBOX_REG_LOSS_TYPE': 'smooth_l1', 'BBOX_REG_LOSS_WEIGHT': 1.0, 'BBOX_REG_WEIGHTS': (1.0, 1.0, 1.0, 1.0), 'SMOOTH_L1_BETA': 0.0, 'LOSS_WEIGHT': 1.0, 'PRE_NMS_TOPK_TRAIN': 2000, 'PRE_NMS_TOPK_TEST': 1000, 'POST_NMS_TOPK_TRAIN': 2000, 'POST_NMS_TOPK_TEST': 30, 'NMS_THRESH': 0.7, 'CONV_DIMS': [-1]}), 'ROI_HEADS': CfgNode({'NAME': 'StandardROIHeads', 'NUM_CLASSES': 2, 'IN_FEATURES': ['trunk3'], 'IOU_THRESHOLDS': [0.5], 'IOU_LABELS': [0, 1], 'BATCH_SIZE_PER_IMAGE': 128, 'POSITIVE_FRACTION': 0.25, 'SCORE_THRESH_TEST': 0.05, 'NMS_THRESH_TEST': 0.5, 'PROPOSAL_APPEND_GT': True}), 'ROI_BOX_HEAD': CfgNode({'NAME': 'FBNetV2RoIBoxHead', 'BBOX_REG_LOSS_TYPE': 'smooth_l1', 'BBOX_REG_LOSS_WEIGHT': 1.0, 'BBOX_REG_WEIGHTS': (10.0, 10.0, 5.0, 5.0), 'SMOOTH_L1_BETA': 0.0, 'POOLER_RESOLUTION': 6, 'POOLER_SAMPLING_RATIO': 0, 'POOLER_TYPE': 'ROIAlignV2', 'NUM_FC': 0, 'FC_DIM': 1024, 'NUM_CONV': 0, 'CONV_DIM': 256, 'NORM': 'naiveSyncBN', 'CLS_AGNOSTIC_BBOX_REG': False, 'TRAIN_ON_PRED_BOXES': False, 'USE_FED_LOSS': False, 'USE_SIGMOID_CE': False, 'FED_LOSS_FREQ_WEIGHT_POWER': 0.5, 'FED_LOSS_NUM_CLASSES': 50}), 'ROI_BOX_CASCADE_HEAD': CfgNode({'BBOX_REG_WEIGHTS': ((10.0, 10.0, 5.0, 5.0), (20.0, 20.0, 10.0, 10.0), (30.0, 30.0, 15.0, 15.0)), 'IOUS': (0.5, 0.6, 0.7)}), 'ROI_MASK_HEAD': CfgNode({'NAME': 'MaskRCNNConvUpsampleHead', 'POOLER_RESOLUTION': 14, 'POOLER_SAMPLING_RATIO': 0, 'NUM_CONV': 4, 'CONV_DIM': 256, 'NORM': '', 'CLS_AGNOSTIC_MASK': False, 'POOLER_TYPE': 'ROIAlignV2'}), 'ROI_KEYPOINT_HEAD': CfgNode({'NAME': 'KRCNNConvDeconvUpsampleHead', 'POOLER_RESOLUTION': 14, 'POOLER_SAMPLING_RATIO': 0, 'CONV_DIMS': (512, 512, 512, 512, 512, 512, 512, 512), 'NUM_KEYPOINTS': 17, 'MIN_KEYPOINTS_PER_IMAGE': 1, 'NORMALIZE_LOSS_BY_VISIBLE_KEYPOINTS': True, 'LOSS_WEIGHT': 1.0, 'POOLER_TYPE': 'ROIAlignV2'}), 'SEM_SEG_HEAD': CfgNode({'NAME': 'SemSegFPNHead', 'IN_FEATURES': ['p2', 'p3', 'p4', 'p5'], 'IGNORE_VALUE': 255, 'NUM_CLASSES': 54, 'CONVS_DIM': 128, 'COMMON_STRIDE': 4, 'NORM': 'GN', 'LOSS_WEIGHT': 1.0}), 'PANOPTIC_FPN': CfgNode({'INSTANCE_LOSS_WEIGHT': 1.0, 'COMBINE': CfgNode({'ENABLED': True, 'OVERLAP_THRESH': 0.5, 'STUFF_AREA_LIMIT': 4096, 'INSTANCES_CONFIDENCE_THRESH': 0.5})}), 'RETINANET': CfgNode({'NUM_CLASSES': 80, 'IN_FEATURES': ['p3', 'p4', 'p5', 'p6', 'p7'], 'NUM_CONVS': 4, 'IOU_THRESHOLDS': [0.4, 0.5], 'IOU_LABELS': [0, -1, 1], 'PRIOR_PROB': 0.01, 'SCORE_THRESH_TEST': 0.05, 'TOPK_CANDIDATES_TEST': 1000, 'NMS_THRESH_TEST': 0.5, 'BBOX_REG_WEIGHTS': (1.0, 1.0, 1.0, 1.0), 'FOCAL_LOSS_GAMMA': 2.0, 'FOCAL_LOSS_ALPHA': 0.25, 'SMOOTH_L1_LOSS_BETA': 0.1, 'BBOX_REG_LOSS_TYPE': 'smooth_l1', 'NORM': ''}), 'RESNETS': CfgNode({'DEPTH': 50, 'OUT_FEATURES': ['res4'], 'NUM_GROUPS': 1, 'NORM': 'FrozenBN', 'WIDTH_PER_GROUP': 64, 'STRIDE_IN_1X1': True, 'RES5_DILATION': 1, 'RES2_OUT_CHANNELS': 256, 'STEM_OUT_CHANNELS': 64, 'DEFORM_ON_PER_STAGE': [False, False, False, False], 'DEFORM_MODULATED': False, 'DEFORM_NUM_GROUPS': 1}), 'FBNET_V2': CfgNode({'ARCH': 'FBNetV3_A', 'ARCH_DEF': [], 'STEM_IN_CHANNELS': 3, 'SCALE_FACTOR': 1.0, 'WIDTH_DIVISOR': 8, 'NORM': 'naiveSyncBN', 'NORM_ARGS': []}), 'VT_FPN': CfgNode({'IN_FEATURES': ['res2', 'res3', 'res4', 'res5'], 'OUT_CHANNELS': 256, 'LAYERS': 3, 'TOKEN_LS': [16, 16, 8, 8], 'TOKEN_C': 1024, 'HEADS': 16, 'MIN_GROUP_PLANES': 64, 'NORM': 'BN', 'POS_HWS': [], 'POS_N_DOWNSAMPLE': []}), 'FROZEN_LAYER_REG_EXP': [], 'KMEANS_ANCHORS': CfgNode({'KMEANS_ANCHORS_ON': False, 'NUM_CLUSTERS': 0, 'NUM_TRAINING_IMG': 0, 'DATASETS': (), 'RNG_SEED': 3}), 'SUBCLASS': CfgNode({'SUBCLASS_ON': False, 'NUM_SUBCLASSES': 0, 'NUM_LAYERS': 1, 'SUBCLASS_ID_FETCHER': 'SubclassFetcher', 'SUBCLASS_MAPPING': []}), 'FCOS': CfgNode({'NUM_CLASSES': 80, 'IN_FEATURES': ['p3', 'p4', 'p5', 'p6', 'p7'], 'NUM_CONVS': 4, 'HEAD_NORM': 'GN', 'SCORE_THRESH_TEST': 0.04, 'TOPK_CANDIDATES_TEST': 1000, 'NMS_THRESH_TEST': 0.6, 'FOCAL_LOSS_ALPHA': 0.25, 'FOCAL_LOSS_GAMMA': 2.0}), 'DDP_FIND_UNUSED_PARAMETERS': False, 'DDP_FP16_GRAD_COMPRESS': False, 'MODELING_HOOKS': []}), 'INPUT': CfgNode({'MIN_SIZE_TRAIN': (224,), 'MIN_SIZE_TRAIN_SAMPLING': 'choice', 'MAX_SIZE_TRAIN': 320, 'MIN_SIZE_TEST': 224, 'MAX_SIZE_TEST': 320, 'RANDOM_FLIP': 'horizontal', 'CROP': CfgNode({'ENABLED': False, 'TYPE': 'relative_range', 'SIZE': [0.9, 0.9]}), 'FORMAT': 'BGR', 'MASK_FORMAT': 'polygon', 'RECOMPUTE_BOXES': False}), 'DATASETS': CfgNode({'TRAIN': ('braintumors_coco_train',), 'PROPOSAL_FILES_TRAIN': (), 'PRECOMPUTED_PROPOSAL_TOPK_TRAIN': 2000, 'TEST': ('braintumors_coco_test',), 'PROPOSAL_FILES_TEST': (), 'PRECOMPUTED_PROPOSAL_TOPK_TEST': 1000, 'TRAIN_REPEAT_FACTOR': []}), 'DATALOADER': CfgNode({'NUM_WORKERS': 2, 'ASPECT_RATIO_GROUPING': True, 'SAMPLER_TRAIN': 'TrainingSampler', 'REPEAT_THRESHOLD': 0.0, 'FILTER_EMPTY_ANNOTATIONS': True, 'RANDOM_SUBSET_RATIO': 1.0}), 'SOLVER': CfgNode({'LR_SCHEDULER_NAME': 'WarmupCosineLR', 'MAX_ITER': 5000, 'BASE_LR': 0.00025, 'BASE_LR_END': 0.0, 'MOMENTUM': 0.9, 'NESTEROV': False, 'WEIGHT_DECAY': 0.0001, 'WEIGHT_DECAY_NORM': 0.0, 'GAMMA': 0.1, 'STEPS': [], 'NUM_DECAYS': 3, 'WARMUP_FACTOR': 0.001, 'WARMUP_ITERS': 1000, 'WARMUP_METHOD': 'linear', 'RESCALE_INTERVAL': False, 'CHECKPOINT_PERIOD': 5000, 'IMS_PER_BATCH': 2, 'REFERENCE_WORLD_SIZE': 8, 'BIAS_LR_FACTOR': 1.0, 'WEIGHT_DECAY_BIAS': None, 'CLIP_GRADIENTS': CfgNode({'ENABLED': False, 'CLIP_TYPE': 'value', 'CLIP_VALUE': 1.0, 'NORM_TYPE': 2.0}), 'AMP': CfgNode({'ENABLED': False, 'PRECISION': 'float16'}), 'AUTO_SCALING_METHODS': ['default_scale_d2_configs', 'default_scale_quantization_configs'], 'OPTIMIZER': 'sgd', 'LR_MULTIPLIER_OVERWRITE': [], 'WEIGHT_DECAY_EMBED': 0.0, 'WEIGHT_DECAY_OVERWRITE': [], 'BETAS': (0.9, 0.999), 'EPS': 1e-08, 'FUSED': False}), 'TEST': CfgNode({'EXPECTED_RESULTS': [], 'EVAL_PERIOD': 10000, 'KEYPOINT_OKS_SIGMAS': [], 'DETECTIONS_PER_IMAGE': 100, 'AUG': CfgNode({'ENABLED': False, 'MIN_SIZES': (400, 500, 600, 700, 800, 900, 1000, 1100, 1200), 'MAX_SIZE': 4000, 'FLIP': True}), 'PRECISE_BN': CfgNode({'ENABLED': False, 'NUM_ITER': 200}), 'FINAL_EVAL': True}), 'OUTPUT_DIR': './output', 'SEED': -1, 'CUDNN_BENCHMARK': False, 'VIS_PERIOD': 0, 'GLOBAL': CfgNode({'HACK': 1.0}), 'GATHER_METRIC_PERIOD': 1, 'WRITER_PERIOD': 20, 'MODEL_EMA': CfgNode({'ENABLED': False, 'DECAY': 0.9998, 'DEVICE': '', 'USE_EMA_WEIGHTS_FOR_EVAL_ONLY': False}), 'D2GO_DATA': CfgNode({'DATASETS': CfgNode({'TRAIN_CATEGORIES': (), 'TEST_CATEGORIES': (), 'COCO_INJECTION': CfgNode({'NAMES': [], 'IM_DIRS': [], 'JSON_FILES': [], 'KEYPOINT_METADATA': [], 'REGISTER_FUNCTION': '_register_extended_coco'}), 'DYNAMIC_DATASETS': [], 'DISK_CACHE': CfgNode({'ENABLED': False})}), 'MAPPER': CfgNode({'NAME': 'D2GoDatasetMapper', 'BACKFILL_SIZE': False, 'RETRY': 3, 'CATCH_EXCEPTION': True}), 'AUG_OPS': CfgNode({'TRAIN': ['ResizeShortestEdgeOp', 'RandomFlipOp'], 'TEST': ['ResizeShortestEdgeOp']}), 'TEST': CfgNode({'MAX_IMAGES': 0, 'SUBSET_SAMPLING': 'frontmost'})}), 'TENSORBOARD': CfgNode({'TRAIN_LOADER_VIS_WRITE_PERIOD': 20, 'TRAIN_LOADER_VIS_MAX_IMAGES': 16, 'TRAIN_LOADER_VIS_MAX_BATCH_IMAGES': 16, 'TEST_VIS_MAX_IMAGES': 16, 'TEST_VIS_WRITE_PERIOD': 1}), 'QUANTIZATION': CfgNode({'EAGER_MODE': True, 'BACKEND': 'fbgemm', 'CUSTOM_QSCHEME': '', 'MODULES': [], 'NAME': '', 'QAT': CfgNode({'ENABLED': False, 'FAKE_QUANT_METHOD': 'default', 'BATCH_SIZE_FACTOR': 1.0, 'START_ITER': 35000, 'ENABLE_OBSERVER_ITER': 35000, 'ENABLE_LEARNABLE_OBSERVER_ITER': 36000, 'DISABLE_OBSERVER_ITER': 38000, 'FREEZE_BN_ITER': 37000, 'UPDATE_OBSERVER_STATS_PERIODICALLY': False, 'UPDATE_OBSERVER_STATS_PERIOD': 1}), 'PTQ': CfgNode({'CALIBRATION_NUM_IMAGES': 16, 'CALIBRATION_FORCE_ON_GPU': False})}), 'ABNORMAL_CHECKER': CfgNode({'ENABLED': False}), 'DISTILLATION': CfgNode({'ALGORITHM': 'LabelDistillation', 'HELPER': 'BaseDistillationHelper', 'TEACHER': CfgNode({'TORCHSCRIPT_FNAME': '', 'DEVICE': '', 'TYPE': 'torchscript', 'CONFIG_FNAME': '', 'RUNNER_NAME': 'd2go.runner.GeneralizedRCNNRunner', 'OVERWRITE_OPTS': []})}), 'FSDP': CfgNode({'ALGORITHM': '', 'CPU_OFFLOAD': False, 'BACKWARD_PREFETCH': True, 'AUTO_WRAP_POLICY': 'never_wrap_policy', 'AUTO_WRAP_MIN_PARAMS': 10000, 'AUTO_WRAP_LAYER_CLS': [], 'USE_LOCAL_STATE_DICT': False, 'STATE_DICT_CPU_OFFLOAD': False, 'STATE_DICT_RANK0_ONLY': True, 'IGNORED_MODULES': None}), 'PROFILERS': ['default_flop_counter'], 'LOAD_CKPT_TO_GPU': False, 'NUMA_BINDING': False, 'EXPORT_CAFFE2': CfgNode({'USE_HEATMAP_MAX_KEYPOINT': False}), 'RCNN_EXPORT': CfgNode({'INCLUDE_POSTPROCESS': False}), 'RCNN_PREPARE_FOR_EXPORT': 'default_rcnn_prepare_for_export', 'RCNN_PREPARE_FOR_QUANT': 'default_rcnn_prepare_for_quant'})}"
            ]
          },
          "execution_count": 16,
          "metadata": {},
          "output_type": "execute_result"
        }
      ],
      "source": [
        "model = runner.build_model(cfg)\n",
        "runner.do_train(cfg, model, resume=False)"
      ]
    },
    {
      "cell_type": "markdown",
      "metadata": {
        "id": "9JPgt07zqR6b"
      },
      "source": [
        "## Evaluation"
      ]
    },
    {
      "cell_type": "code",
      "execution_count": null,
      "metadata": {
        "colab": {
          "base_uri": "https://localhost:8080/"
        },
        "id": "lN_m9vGfqTYh",
        "outputId": "ce2ef09e-1293-4c5f-ccca-efec75a5a6b7"
      },
      "outputs": [
        {
          "name": "stdout",
          "output_type": "stream",
          "text": [
            "[02/19 23:06:09 d2.data.datasets.coco]: Loaded 223 images in COCO format from braintumors_coco/test/_annotations.coco.json\n",
            "[02/19 23:06:09 d2.data.build]: Distribution of instances among all 2 categories:\n",
            "|  category  | #instances   |  category  | #instances   |\n",
            "|:----------:|:-------------|:----------:|:-------------|\n",
            "|  negative  | 154          |  positive  | 87           |\n",
            "|            |              |            |              |\n",
            "|   total    | 241          |            |              |\n",
            "[02/19 23:06:09 d2.data.common]: Serializing the dataset using: <class 'mobile_cv.torch.utils_pytorch.shareables.SharedList'>\n",
            "[02/19 23:06:09 d2.data.datasets.coco]: Loaded 223 images in COCO format from braintumors_coco/test/_annotations.coco.json\n",
            "[02/19 23:06:09 d2.evaluation.evaluator]: Start inference on 223 batches\n",
            "[02/19 23:06:13 d2.evaluation.evaluator]: Inference done 11/223. Dataloading: 0.0083 s/iter. Inference: 0.0279 s/iter. Eval: 0.0964 s/iter. Total: 0.1326 s/iter. ETA=0:00:28\n",
            "[02/19 23:06:18 d2.evaluation.evaluator]: Inference done 150/223. Dataloading: 0.0032 s/iter. Inference: 0.0289 s/iter. Eval: 0.0081 s/iter. Total: 0.0402 s/iter. ETA=0:00:02\n",
            "[02/19 23:06:21 d2.evaluation.evaluator]: Total inference time: 0:00:08.910100 (0.040872 s / iter per device, on 1 devices)\n",
            "[02/19 23:06:21 d2.evaluation.evaluator]: Total inference pure compute time: 0:00:06 (0.031330 s / iter per device, on 1 devices)\n",
            "[02/19 23:06:21 d2.evaluation.coco_evaluation]: Preparing results for COCO format ...\n",
            "[02/19 23:06:21 d2.evaluation.coco_evaluation]: Saving results to ./output/inference/default/final/braintumors_coco_test/coco_instances_results.json\n",
            "[02/19 23:06:21 d2.evaluation.coco_evaluation]: Evaluating predictions with unofficial COCO API...\n",
            "Loading and preparing results...\n",
            "DONE (t=0.00s)\n",
            "creating index...\n",
            "index created!\n",
            "[02/19 23:06:21 d2.evaluation.fast_eval_api]: Evaluate annotation type *bbox*\n",
            "[02/19 23:06:21 d2.evaluation.fast_eval_api]: COCOeval_opt.evaluate() finished in 0.03 seconds.\n",
            "[02/19 23:06:21 d2.evaluation.fast_eval_api]: Accumulating evaluation results...\n",
            "[02/19 23:06:21 d2.evaluation.fast_eval_api]: COCOeval_opt.accumulate() finished in 0.01 seconds.\n",
            " Average Precision  (AP) @[ IoU=0.50:0.95 | area=   all | maxDets=100 ] = 0.245\n",
            " Average Precision  (AP) @[ IoU=0.50      | area=   all | maxDets=100 ] = 0.444\n",
            " Average Precision  (AP) @[ IoU=0.75      | area=   all | maxDets=100 ] = 0.248\n",
            " Average Precision  (AP) @[ IoU=0.50:0.95 | area= small | maxDets=100 ] = 0.181\n",
            " Average Precision  (AP) @[ IoU=0.50:0.95 | area=medium | maxDets=100 ] = 0.262\n",
            " Average Precision  (AP) @[ IoU=0.50:0.95 | area= large | maxDets=100 ] = 0.447\n",
            " Average Recall     (AR) @[ IoU=0.50:0.95 | area=   all | maxDets=  1 ] = 0.514\n",
            " Average Recall     (AR) @[ IoU=0.50:0.95 | area=   all | maxDets= 10 ] = 0.584\n",
            " Average Recall     (AR) @[ IoU=0.50:0.95 | area=   all | maxDets=100 ] = 0.584\n",
            " Average Recall     (AR) @[ IoU=0.50:0.95 | area= small | maxDets=100 ] = 0.397\n",
            " Average Recall     (AR) @[ IoU=0.50:0.95 | area=medium | maxDets=100 ] = 0.608\n",
            " Average Recall     (AR) @[ IoU=0.50:0.95 | area= large | maxDets=100 ] = 0.683\n",
            "[02/19 23:06:21 d2.evaluation.coco_evaluation]: Evaluation results for bbox: \n",
            "|   AP   |  AP50  |  AP75  |  APs   |  APm   |  APl   |\n",
            "|:------:|:------:|:------:|:------:|:------:|:------:|\n",
            "| 24.532 | 44.426 | 24.842 | 18.091 | 26.230 | 44.719 |\n",
            "[02/19 23:06:21 d2.evaluation.coco_evaluation]: Per-category bbox AP: \n",
            "| category   | AP     | category   | AP     |\n",
            "|:-----------|:-------|:-----------|:-------|\n",
            "| negative   | 28.980 | positive   | 20.085 |\n",
            "[02/19 23:06:21 d2.evaluation.testing]: copypaste: Task: bbox\n",
            "[02/19 23:06:21 d2.evaluation.testing]: copypaste: AP,AP50,AP75,APs,APm,APl\n",
            "[02/19 23:06:21 d2.evaluation.testing]: copypaste: 24.5323,44.4264,24.8419,18.0915,26.2296,44.7185\n",
            "OrderedDict([('default', OrderedDict([('braintumors_coco_test', OrderedDict([('bbox', {'AP': 24.53232232437849, 'AP50': 44.426361362198506, 'AP75': 24.841921244827905, 'APs': 18.091468054651777, 'APm': 26.229624882973617, 'APl': 44.718528995756714, 'AP-negative': 28.980084891418844, 'AP-positive': 20.084559757338138})]))]))])\n"
          ]
        }
      ],
      "source": [
        "metrics = runner.do_test(cfg, model)\n",
        "print(metrics)"
      ]
    },
    {
      "cell_type": "markdown",
      "metadata": {
        "id": "_kz2dgLS70qO"
      },
      "source": [
        "## data type"
      ]
    },
    {
      "cell_type": "code",
      "execution_count": null,
      "metadata": {
        "colab": {
          "base_uri": "https://localhost:8080/"
        },
        "id": "C-SwvelL5uJF",
        "outputId": "bba1ca4f-971a-446f-c60f-9e6b1cb5f942"
      },
      "outputs": [
        {
          "name": "stdout",
          "output_type": "stream",
          "text": [
            "backbone.body.trunk0.fbnetv2_0_0.conv.weight torch.float32\n"
          ]
        }
      ],
      "source": [
        "for name, param in model.named_parameters():\n",
        "  if param.requires_grad:\n",
        "    print(name, param.data.dtype)\n",
        "    break"
      ]
    },
    {
      "cell_type": "markdown",
      "metadata": {
        "id": "qQnXy-BEqag6"
      },
      "source": [
        "## Quantization"
      ]
    },
    {
      "cell_type": "code",
      "execution_count": null,
      "metadata": {
        "id": "lnX4N0vRqcP5"
      },
      "outputs": [],
      "source": [
        "import copy\n",
        "from detectron2.data import build_detection_test_loader\n",
        "from d2go.export.exporter import convert_and_export_predictor\n",
        "from d2go.utils.testing.data_loader_helper import create_detection_data_loader_on_toy_dataset"
      ]
    },
    {
      "cell_type": "code",
      "execution_count": null,
      "metadata": {
        "colab": {
          "base_uri": "https://localhost:8080/"
        },
        "id": "3xDxtXbgvJUS",
        "outputId": "98c8d88a-bc07-4add-cdcb-2ab0aefdd86e"
      },
      "outputs": [
        {
          "name": "stdout",
          "output_type": "stream",
          "text": [
            "[02/19 23:11:24 d2.data.datasets.coco]: Loaded 223 images in COCO format from braintumors_coco/test/_annotations.coco.json\n",
            "[02/19 23:11:24 d2.data.common]: Serializing the dataset using: <class 'mobile_cv.torch.utils_pytorch.shareables.SharedList'>\n"
          ]
        },
        {
          "name": "stderr",
          "output_type": "stream",
          "text": [
            "WARNING:d2go.quantization.modeling:`detectron2.layers.Linear` is in expected type (torch.nn.Linear),consider removing this code `mock_quantization_type`.\n",
            "/usr/local/lib/python3.8/dist-packages/torch/ao/quantization/observer.py:214: UserWarning: Please use quant_min and quant_max to specify the range for observers.                     reduce_range will be deprecated in a future release of PyTorch.\n",
            "  warnings.warn(\n",
            "WARNING:d2go.export.torchscript:Wrap the model with TracingAdapter to handle non-flattened inputs/outputs, please be aware that the exported model will have different input/output data structure.\n",
            "/usr/local/lib/python3.8/dist-packages/detectron2/structures/image_list.py:85: TracerWarning: Converting a tensor to a Python boolean might cause the trace to be incorrect. We can't record the data flow of Python values, so this value will be treated as a constant in the future. This means that the trace might not generalize to other inputs!\n",
            "  assert t.shape[:-2] == tensors[0].shape[:-2], t.shape\n",
            "/usr/local/lib/python3.8/dist-packages/detectron2/structures/boxes.py:151: TracerWarning: Converting a tensor to a Python boolean might cause the trace to be incorrect. We can't record the data flow of Python values, so this value will be treated as a constant in the future. This means that the trace might not generalize to other inputs!\n",
            "  if tensor.numel() == 0:\n",
            "/usr/local/lib/python3.8/dist-packages/detectron2/structures/boxes.py:155: TracerWarning: Converting a tensor to a Python boolean might cause the trace to be incorrect. We can't record the data flow of Python values, so this value will be treated as a constant in the future. This means that the trace might not generalize to other inputs!\n",
            "  assert tensor.dim() == 2 and tensor.size(-1) == 4, tensor.size()\n",
            "/usr/local/lib/python3.8/dist-packages/detectron2/modeling/proposal_generator/proposal_utils.py:106: TracerWarning: Converting a tensor to a Python boolean might cause the trace to be incorrect. We can't record the data flow of Python values, so this value will be treated as a constant in the future. This means that the trace might not generalize to other inputs!\n",
            "  if not valid_mask.all():\n",
            "/usr/local/lib/python3.8/dist-packages/detectron2/structures/boxes.py:191: TracerWarning: Converting a tensor to a Python boolean might cause the trace to be incorrect. We can't record the data flow of Python values, so this value will be treated as a constant in the future. This means that the trace might not generalize to other inputs!\n",
            "  assert torch.isfinite(self.tensor).all(), \"Box tensor contains infinite or NaN!\"\n",
            "/usr/local/lib/python3.8/dist-packages/detectron2/structures/boxes.py:192: TracerWarning: Iterating over a tensor might cause the trace to be incorrect. Passing a tensor of different shape won't change the number of iterations executed (and might lead to errors or silently give incorrect results).\n",
            "  h, w = box_size\n",
            "/usr/local/lib/python3.8/dist-packages/detectron2/layers/nms.py:15: TracerWarning: Converting a tensor to a Python boolean might cause the trace to be incorrect. We can't record the data flow of Python values, so this value will be treated as a constant in the future. This means that the trace might not generalize to other inputs!\n",
            "  assert boxes.shape[-1] == 4\n",
            "/usr/local/lib/python3.8/dist-packages/torch/__init__.py:853: TracerWarning: Converting a tensor to a Python boolean might cause the trace to be incorrect. We can't record the data flow of Python values, so this value will be treated as a constant in the future. This means that the trace might not generalize to other inputs!\n",
            "  assert condition, message\n",
            "/usr/local/lib/python3.8/dist-packages/detectron2/layers/roi_align.py:55: TracerWarning: Converting a tensor to a Python boolean might cause the trace to be incorrect. We can't record the data flow of Python values, so this value will be treated as a constant in the future. This means that the trace might not generalize to other inputs!\n",
            "  assert rois.dim() == 2 and rois.size(1) == 5\n",
            "/usr/local/lib/python3.8/dist-packages/d2go/modeling/backbone/fbnet_v2.py:377: TracerWarning: Converting a tensor to a Python boolean might cause the trace to be incorrect. We can't record the data flow of Python values, so this value will be treated as a constant in the future. This means that the trace might not generalize to other inputs!\n",
            "  if len(x.shape) == 4 and (x.shape[2] > 1 or x.shape[3] > 1):\n",
            "/usr/local/lib/python3.8/dist-packages/detectron2/modeling/roi_heads/fast_rcnn.py:138: TracerWarning: Converting a tensor to a Python boolean might cause the trace to be incorrect. We can't record the data flow of Python values, so this value will be treated as a constant in the future. This means that the trace might not generalize to other inputs!\n",
            "  if not valid_mask.all():\n",
            "/usr/local/lib/python3.8/dist-packages/detectron2/structures/boxes.py:151: TracerWarning: Converting a tensor to a Python boolean might cause the trace to be incorrect. We can't record the data flow of Python values, so this value will be treated as a constant in the future. This means that the trace might not generalize to other inputs!\n",
            "  if tensor.numel() == 0:\n",
            "/usr/local/lib/python3.8/dist-packages/detectron2/structures/boxes.py:155: TracerWarning: Converting a tensor to a Python boolean might cause the trace to be incorrect. We can't record the data flow of Python values, so this value will be treated as a constant in the future. This means that the trace might not generalize to other inputs!\n",
            "  assert tensor.dim() == 2 and tensor.size(-1) == 4, tensor.size()\n",
            "/usr/local/lib/python3.8/dist-packages/detectron2/structures/boxes.py:191: TracerWarning: Converting a tensor to a Python boolean might cause the trace to be incorrect. We can't record the data flow of Python values, so this value will be treated as a constant in the future. This means that the trace might not generalize to other inputs!\n",
            "  assert torch.isfinite(self.tensor).all(), \"Box tensor contains infinite or NaN!\"\n",
            "/usr/local/lib/python3.8/dist-packages/detectron2/structures/boxes.py:192: TracerWarning: Iterating over a tensor might cause the trace to be incorrect. Passing a tensor of different shape won't change the number of iterations executed (and might lead to errors or silently give incorrect results).\n",
            "  h, w = box_size\n",
            "/usr/local/lib/python3.8/dist-packages/detectron2/modeling/roi_heads/fast_rcnn.py:155: TracerWarning: Converting a tensor to a Python boolean might cause the trace to be incorrect. We can't record the data flow of Python values, so this value will be treated as a constant in the future. This means that the trace might not generalize to other inputs!\n",
            "  if num_bbox_reg_classes == 1:\n",
            "/usr/local/lib/python3.8/dist-packages/detectron2/layers/nms.py:15: TracerWarning: Converting a tensor to a Python boolean might cause the trace to be incorrect. We can't record the data flow of Python values, so this value will be treated as a constant in the future. This means that the trace might not generalize to other inputs!\n",
            "  assert boxes.shape[-1] == 4\n",
            "/usr/local/lib/python3.8/dist-packages/detectron2/structures/image_list.py:85: TracerWarning: Converting a tensor to a Python boolean might cause the trace to be incorrect. We can't record the data flow of Python values, so this value will be treated as a constant in the future. This means that the trace might not generalize to other inputs!\n",
            "  assert t.shape[:-2] == tensors[0].shape[:-2], t.shape\n",
            "/usr/local/lib/python3.8/dist-packages/detectron2/structures/boxes.py:151: TracerWarning: Converting a tensor to a Python boolean might cause the trace to be incorrect. We can't record the data flow of Python values, so this value will be treated as a constant in the future. This means that the trace might not generalize to other inputs!\n",
            "  if tensor.numel() == 0:\n",
            "/usr/local/lib/python3.8/dist-packages/detectron2/structures/boxes.py:155: TracerWarning: Converting a tensor to a Python boolean might cause the trace to be incorrect. We can't record the data flow of Python values, so this value will be treated as a constant in the future. This means that the trace might not generalize to other inputs!\n",
            "  assert tensor.dim() == 2 and tensor.size(-1) == 4, tensor.size()\n",
            "/usr/local/lib/python3.8/dist-packages/detectron2/modeling/proposal_generator/proposal_utils.py:106: TracerWarning: Converting a tensor to a Python boolean might cause the trace to be incorrect. We can't record the data flow of Python values, so this value will be treated as a constant in the future. This means that the trace might not generalize to other inputs!\n",
            "  if not valid_mask.all():\n",
            "/usr/local/lib/python3.8/dist-packages/detectron2/structures/boxes.py:191: TracerWarning: Converting a tensor to a Python boolean might cause the trace to be incorrect. We can't record the data flow of Python values, so this value will be treated as a constant in the future. This means that the trace might not generalize to other inputs!\n",
            "  assert torch.isfinite(self.tensor).all(), \"Box tensor contains infinite or NaN!\"\n",
            "/usr/local/lib/python3.8/dist-packages/detectron2/structures/boxes.py:192: TracerWarning: Iterating over a tensor might cause the trace to be incorrect. Passing a tensor of different shape won't change the number of iterations executed (and might lead to errors or silently give incorrect results).\n",
            "  h, w = box_size\n",
            "/usr/local/lib/python3.8/dist-packages/detectron2/layers/nms.py:15: TracerWarning: Converting a tensor to a Python boolean might cause the trace to be incorrect. We can't record the data flow of Python values, so this value will be treated as a constant in the future. This means that the trace might not generalize to other inputs!\n",
            "  assert boxes.shape[-1] == 4\n",
            "/usr/local/lib/python3.8/dist-packages/torch/__init__.py:853: TracerWarning: Converting a tensor to a Python boolean might cause the trace to be incorrect. We can't record the data flow of Python values, so this value will be treated as a constant in the future. This means that the trace might not generalize to other inputs!\n",
            "  assert condition, message\n",
            "/usr/local/lib/python3.8/dist-packages/detectron2/layers/roi_align.py:55: TracerWarning: Converting a tensor to a Python boolean might cause the trace to be incorrect. We can't record the data flow of Python values, so this value will be treated as a constant in the future. This means that the trace might not generalize to other inputs!\n",
            "  assert rois.dim() == 2 and rois.size(1) == 5\n",
            "/usr/local/lib/python3.8/dist-packages/d2go/modeling/backbone/fbnet_v2.py:377: TracerWarning: Converting a tensor to a Python boolean might cause the trace to be incorrect. We can't record the data flow of Python values, so this value will be treated as a constant in the future. This means that the trace might not generalize to other inputs!\n",
            "  if len(x.shape) == 4 and (x.shape[2] > 1 or x.shape[3] > 1):\n",
            "/usr/local/lib/python3.8/dist-packages/detectron2/modeling/roi_heads/fast_rcnn.py:138: TracerWarning: Converting a tensor to a Python boolean might cause the trace to be incorrect. We can't record the data flow of Python values, so this value will be treated as a constant in the future. This means that the trace might not generalize to other inputs!\n",
            "  if not valid_mask.all():\n",
            "/usr/local/lib/python3.8/dist-packages/detectron2/structures/boxes.py:151: TracerWarning: Converting a tensor to a Python boolean might cause the trace to be incorrect. We can't record the data flow of Python values, so this value will be treated as a constant in the future. This means that the trace might not generalize to other inputs!\n",
            "  if tensor.numel() == 0:\n",
            "/usr/local/lib/python3.8/dist-packages/detectron2/structures/boxes.py:155: TracerWarning: Converting a tensor to a Python boolean might cause the trace to be incorrect. We can't record the data flow of Python values, so this value will be treated as a constant in the future. This means that the trace might not generalize to other inputs!\n",
            "  assert tensor.dim() == 2 and tensor.size(-1) == 4, tensor.size()\n",
            "/usr/local/lib/python3.8/dist-packages/detectron2/structures/boxes.py:191: TracerWarning: Converting a tensor to a Python boolean might cause the trace to be incorrect. We can't record the data flow of Python values, so this value will be treated as a constant in the future. This means that the trace might not generalize to other inputs!\n",
            "  assert torch.isfinite(self.tensor).all(), \"Box tensor contains infinite or NaN!\"\n",
            "/usr/local/lib/python3.8/dist-packages/detectron2/structures/boxes.py:192: TracerWarning: Iterating over a tensor might cause the trace to be incorrect. Passing a tensor of different shape won't change the number of iterations executed (and might lead to errors or silently give incorrect results).\n",
            "  h, w = box_size\n",
            "/usr/local/lib/python3.8/dist-packages/detectron2/modeling/roi_heads/fast_rcnn.py:155: TracerWarning: Converting a tensor to a Python boolean might cause the trace to be incorrect. We can't record the data flow of Python values, so this value will be treated as a constant in the future. This means that the trace might not generalize to other inputs!\n",
            "  if num_bbox_reg_classes == 1:\n",
            "/usr/local/lib/python3.8/dist-packages/detectron2/layers/nms.py:15: TracerWarning: Converting a tensor to a Python boolean might cause the trace to be incorrect. We can't record the data flow of Python values, so this value will be treated as a constant in the future. This means that the trace might not generalize to other inputs!\n",
            "  assert boxes.shape[-1] == 4\n"
          ]
        }
      ],
      "source": [
        "pytorch_model = model.to(\"cpu\")\n",
        "pytorch_model.eval()\n",
        "test_loader = runner.build_detection_test_loader(\n",
        "                cfg, dataset_name=name_ds_test\n",
        "            )\n",
        "predictor_path = convert_and_export_predictor(\n",
        "        cfg             = cfg,\n",
        "        pytorch_model   = copy.deepcopy(pytorch_model),\n",
        "        predictor_type  = \"torchscript_int8\",\n",
        "        output_dir      = './',\n",
        "        data_loader     = test_loader\n",
        "    )\n"
      ]
    },
    {
      "cell_type": "markdown",
      "metadata": {
        "id": "qWN4Xfb1Rqtr"
      },
      "source": [
        "## Evaluation"
      ]
    },
    {
      "cell_type": "code",
      "execution_count": null,
      "metadata": {
        "colab": {
          "base_uri": "https://localhost:8080/"
        },
        "id": "Grwaw8BgREO8",
        "outputId": "06499ca4-5c10-47e1-fad7-94270958ee4a"
      },
      "outputs": [
        {
          "name": "stdout",
          "output_type": "stream",
          "text": [
            "[02/19 23:13:51 d2.data.datasets.coco]: Loaded 223 images in COCO format from braintumors_coco/test/_annotations.coco.json\n",
            "[02/19 23:13:51 d2.data.common]: Serializing the dataset using: <class 'mobile_cv.torch.utils_pytorch.shareables.SharedList'>\n",
            "[02/19 23:13:51 d2.data.datasets.coco]: Loaded 223 images in COCO format from braintumors_coco/test/_annotations.coco.json\n",
            "[02/19 23:13:51 d2.evaluation.evaluator]: Start inference on 223 batches\n"
          ]
        },
        {
          "name": "stderr",
          "output_type": "stream",
          "text": [
            "WARNING:d2go.utils.flop_calculator:Failed to estimate flops using detectron2's FlopCountAnalysis. Error written to ./output/flops_str_fvcore.txt.\n"
          ]
        },
        {
          "name": "stdout",
          "output_type": "stream",
          "text": [
            "[02/19 23:13:56 d2.evaluation.evaluator]: Inference done 11/223. Dataloading: 0.0068 s/iter. Inference: 0.0796 s/iter. Eval: 0.0939 s/iter. Total: 0.1803 s/iter. ETA=0:00:38\n",
            "[02/19 23:14:01 d2.evaluation.evaluator]: Inference done 76/223. Dataloading: 0.0054 s/iter. Inference: 0.0622 s/iter. Eval: 0.0185 s/iter. Total: 0.0862 s/iter. ETA=0:00:12\n",
            "[02/19 23:14:06 d2.evaluation.evaluator]: Inference done 194/223. Dataloading: 0.0028 s/iter. Inference: 0.0490 s/iter. Eval: 0.0071 s/iter. Total: 0.0589 s/iter. ETA=0:00:01\n",
            "[02/19 23:14:07 d2.evaluation.evaluator]: Total inference time: 0:00:12.403669 (0.056898 s / iter per device, on 1 devices)\n",
            "[02/19 23:14:07 d2.evaluation.evaluator]: Total inference pure compute time: 0:00:10 (0.047782 s / iter per device, on 1 devices)\n",
            "[02/19 23:14:07 d2.evaluation.coco_evaluation]: Preparing results for COCO format ...\n",
            "[02/19 23:14:07 d2.evaluation.coco_evaluation]: Saving results to ./output/inference/default/final/braintumors_coco_test/coco_instances_results.json\n",
            "[02/19 23:14:07 d2.evaluation.coco_evaluation]: Evaluating predictions with unofficial COCO API...\n",
            "Loading and preparing results...\n",
            "DONE (t=0.00s)\n",
            "creating index...\n",
            "index created!\n",
            "[02/19 23:14:07 d2.evaluation.fast_eval_api]: Evaluate annotation type *bbox*\n",
            "[02/19 23:14:07 d2.evaluation.fast_eval_api]: COCOeval_opt.evaluate() finished in 0.03 seconds.\n",
            "[02/19 23:14:07 d2.evaluation.fast_eval_api]: Accumulating evaluation results...\n",
            "[02/19 23:14:07 d2.evaluation.fast_eval_api]: COCOeval_opt.accumulate() finished in 0.01 seconds.\n",
            " Average Precision  (AP) @[ IoU=0.50:0.95 | area=   all | maxDets=100 ] = 0.227\n",
            " Average Precision  (AP) @[ IoU=0.50      | area=   all | maxDets=100 ] = 0.432\n",
            " Average Precision  (AP) @[ IoU=0.75      | area=   all | maxDets=100 ] = 0.223\n",
            " Average Precision  (AP) @[ IoU=0.50:0.95 | area= small | maxDets=100 ] = 0.193\n",
            " Average Precision  (AP) @[ IoU=0.50:0.95 | area=medium | maxDets=100 ] = 0.233\n",
            " Average Precision  (AP) @[ IoU=0.50:0.95 | area= large | maxDets=100 ] = 0.381\n",
            " Average Recall     (AR) @[ IoU=0.50:0.95 | area=   all | maxDets=  1 ] = 0.488\n",
            " Average Recall     (AR) @[ IoU=0.50:0.95 | area=   all | maxDets= 10 ] = 0.541\n",
            " Average Recall     (AR) @[ IoU=0.50:0.95 | area=   all | maxDets=100 ] = 0.541\n",
            " Average Recall     (AR) @[ IoU=0.50:0.95 | area= small | maxDets=100 ] = 0.352\n",
            " Average Recall     (AR) @[ IoU=0.50:0.95 | area=medium | maxDets=100 ] = 0.566\n",
            " Average Recall     (AR) @[ IoU=0.50:0.95 | area= large | maxDets=100 ] = 0.617\n",
            "[02/19 23:14:07 d2.evaluation.coco_evaluation]: Evaluation results for bbox: \n",
            "|   AP   |  AP50  |  AP75  |  APs   |  APm   |  APl   |\n",
            "|:------:|:------:|:------:|:------:|:------:|:------:|\n",
            "| 22.675 | 43.229 | 22.293 | 19.277 | 23.277 | 38.147 |\n",
            "[02/19 23:14:07 d2.evaluation.coco_evaluation]: Per-category bbox AP: \n",
            "| category   | AP     | category   | AP     |\n",
            "|:-----------|:-------|:-----------|:-------|\n",
            "| negative   | 26.900 | positive   | 18.450 |\n",
            "[02/19 23:14:07 d2.evaluation.testing]: copypaste: Task: bbox\n",
            "[02/19 23:14:07 d2.evaluation.testing]: copypaste: AP,AP50,AP75,APs,APm,APl\n",
            "[02/19 23:14:07 d2.evaluation.testing]: copypaste: 22.6752,43.2292,22.2933,19.2767,23.2769,38.1471\n",
            "OrderedDict([('default', OrderedDict([('braintumors_coco_test', OrderedDict([('bbox', {'AP': 22.675248608656805, 'AP50': 43.22920529636033, 'AP75': 22.293334588650257, 'APs': 19.276683071397375, 'APm': 23.27687698916773, 'APl': 38.14710042432815, 'AP-negative': 26.90018906262217, 'AP-positive': 18.450308154691434})]))]))])\n"
          ]
        }
      ],
      "source": [
        "from mobile_cv.predictor.api import create_predictor\n",
        "int8_model = create_predictor(predictor_path)\n",
        "metrics = runner.do_test(cfg, int8_model)\n",
        "print(metrics)"
      ]
    },
    {
      "cell_type": "code",
      "execution_count": null,
      "metadata": {
        "id": "v1oLNsgY9H-W"
      },
      "outputs": [],
      "source": []
    }
  ],
  "metadata": {
    "accelerator": "GPU",
    "colab": {
      "authorship_tag": "ABX9TyORj3iAEbjyIPQImu0caRhn",
      "include_colab_link": true,
      "provenance": []
    },
    "gpuClass": "standard",
    "kernelspec": {
      "display_name": "Python 3",
      "name": "python3"
    },
    "language_info": {
      "name": "python"
    }
  },
  "nbformat": 4,
  "nbformat_minor": 0
}
